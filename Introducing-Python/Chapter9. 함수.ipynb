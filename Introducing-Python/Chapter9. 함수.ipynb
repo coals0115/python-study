{
 "cells": [
  {
   "cell_type": "markdown",
   "id": "18964519",
   "metadata": {},
   "source": [
    "# 1. 함수 정의하기: def"
   ]
  },
  {
   "cell_type": "code",
   "execution_count": 17,
   "id": "50539bf9",
   "metadata": {},
   "outputs": [],
   "source": [
    "def do_nothing():\n",
    "    pass"
   ]
  },
  {
   "cell_type": "markdown",
   "id": "7b0ff7f1",
   "metadata": {},
   "source": [
    "# 2. 함수 호출하기: ()"
   ]
  },
  {
   "cell_type": "markdown",
   "id": "6f5e5a86",
   "metadata": {},
   "source": [
    "do_nothing()\n"
   ]
  },
  {
   "cell_type": "code",
   "execution_count": 18,
   "id": "32f7f7f4",
   "metadata": {},
   "outputs": [],
   "source": [
    "def make_a_sound():\n",
    "    print('quack')"
   ]
  },
  {
   "cell_type": "code",
   "execution_count": 19,
   "id": "d7e865e0",
   "metadata": {},
   "outputs": [
    {
     "name": "stdout",
     "output_type": "stream",
     "text": [
      "quack\n"
     ]
    }
   ],
   "source": [
    "make_a_sound()"
   ]
  },
  {
   "cell_type": "code",
   "execution_count": 20,
   "id": "1bea4b67",
   "metadata": {},
   "outputs": [],
   "source": [
    "def agree():\n",
    "    return True"
   ]
  },
  {
   "cell_type": "code",
   "execution_count": 21,
   "id": "a834787d",
   "metadata": {},
   "outputs": [
    {
     "name": "stdout",
     "output_type": "stream",
     "text": [
      "Splendid!\n"
     ]
    }
   ],
   "source": [
    "if agree():\n",
    "    print('Splendid!')\n",
    "else:\n",
    "    print('That was unexpected.')"
   ]
  },
  {
   "cell_type": "code",
   "execution_count": null,
   "id": "fa98bcc0",
   "metadata": {},
   "outputs": [],
   "source": []
  },
  {
   "cell_type": "markdown",
   "id": "f930736c",
   "metadata": {},
   "source": [
    "# 3. 인수와 매개변수"
   ]
  },
  {
   "cell_type": "code",
   "execution_count": 22,
   "id": "81c38b9b",
   "metadata": {},
   "outputs": [],
   "source": [
    "def echo(anything):\n",
    "    return anything + ' ' + anything"
   ]
  },
  {
   "cell_type": "code",
   "execution_count": 23,
   "id": "e01c6cdc",
   "metadata": {},
   "outputs": [
    {
     "data": {
      "text/plain": [
       "'Rumplestiltskin Rumplestiltskin'"
      ]
     },
     "execution_count": 23,
     "metadata": {},
     "output_type": "execute_result"
    }
   ],
   "source": [
    "echo('Rumplestiltskin')"
   ]
  },
  {
   "cell_type": "code",
   "execution_count": null,
   "id": "dfe4827e",
   "metadata": {},
   "outputs": [],
   "source": []
  },
  {
   "cell_type": "code",
   "execution_count": 28,
   "id": "c0ab5037",
   "metadata": {},
   "outputs": [
    {
     "name": "stdout",
     "output_type": "stream",
     "text": [
      "It's no thing\n"
     ]
    }
   ],
   "source": [
    "thing = None\n",
    "if thing:\n",
    "    print(\"It's some thing\")\n",
    "else:\n",
    "    print(\"It's no thing\")"
   ]
  },
  {
   "cell_type": "code",
   "execution_count": 31,
   "id": "ecc9a259",
   "metadata": {},
   "outputs": [],
   "source": [
    "def whatis(thing):\n",
    "    if thing is None:\n",
    "        print(thing, \"is None\")\n",
    "    elif thing:\n",
    "        print(thing,\" is True\")\n",
    "    else:\n",
    "        print(thing, \"is False\")"
   ]
  },
  {
   "cell_type": "code",
   "execution_count": 33,
   "id": "94c5081c",
   "metadata": {
    "scrolled": true
   },
   "outputs": [
    {
     "name": "stdout",
     "output_type": "stream",
     "text": [
      "None is None\n",
      "True  is True\n",
      "False is False\n"
     ]
    }
   ],
   "source": [
    "whatis(None)\n",
    "whatis(True)\n",
    "whatis(False)"
   ]
  },
  {
   "cell_type": "code",
   "execution_count": 41,
   "id": "0ddcc39c",
   "metadata": {},
   "outputs": [],
   "source": [
    "def menu(wine, entree,dessert):\n",
    "    return {'wine':wine,'entree':entree,'dessert':dessert}"
   ]
  },
  {
   "cell_type": "code",
   "execution_count": 42,
   "id": "506a9baa",
   "metadata": {},
   "outputs": [
    {
     "data": {
      "text/plain": [
       "{'wine': 'chardonnay', 'entree': 'chicken', 'dessert': 'cake'}"
      ]
     },
     "execution_count": 42,
     "metadata": {},
     "output_type": "execute_result"
    }
   ],
   "source": [
    "menu('chardonnay','chicken','cake')"
   ]
  },
  {
   "cell_type": "code",
   "execution_count": 43,
   "id": "7b6c1fd2",
   "metadata": {},
   "outputs": [
    {
     "data": {
      "text/plain": [
       "{'wine': 'bordeaux', 'entree': 'beef', 'dessert': 'bagel'}"
      ]
     },
     "execution_count": 43,
     "metadata": {},
     "output_type": "execute_result"
    }
   ],
   "source": [
    "menu(entree='beef', dessert='bagel', wine='bordeaux')"
   ]
  },
  {
   "cell_type": "code",
   "execution_count": 44,
   "id": "a8ab8d0b",
   "metadata": {},
   "outputs": [
    {
     "data": {
      "text/plain": [
       "{'wine': 'frontenac', 'entree': 'fish', 'dessert': 'flan'}"
      ]
     },
     "execution_count": 44,
     "metadata": {},
     "output_type": "execute_result"
    }
   ],
   "source": [
    "menu('frontenac',dessert='flan',entree='fish')"
   ]
  },
  {
   "cell_type": "code",
   "execution_count": null,
   "id": "fc09eabc",
   "metadata": {},
   "outputs": [],
   "source": []
  },
  {
   "cell_type": "code",
   "execution_count": 45,
   "id": "5ce553ef",
   "metadata": {},
   "outputs": [],
   "source": [
    "def menu(wine,entree,dessert='pudding'):\n",
    "    return {'wine':wine,'entree':entree, 'dessert':dessert}"
   ]
  },
  {
   "cell_type": "code",
   "execution_count": null,
   "id": "36279aee",
   "metadata": {},
   "outputs": [],
   "source": []
  },
  {
   "cell_type": "code",
   "execution_count": 109,
   "id": "fc5865e9",
   "metadata": {},
   "outputs": [],
   "source": [
    "def buggy(arg,result=[]):\n",
    "    test = 3;\n",
    "    result.append(arg)\n",
    "    print(result)"
   ]
  },
  {
   "cell_type": "code",
   "execution_count": 118,
   "id": "29551bdd",
   "metadata": {},
   "outputs": [
    {
     "name": "stdout",
     "output_type": "stream",
     "text": [
      "['a', 'a', 'a', 'a', 'a', 'a', 'a', 'a', 'a']\n"
     ]
    }
   ],
   "source": [
    "buggy('a')"
   ]
  },
  {
   "cell_type": "code",
   "execution_count": 100,
   "id": "4018f5c4",
   "metadata": {},
   "outputs": [],
   "source": [
    "def not_buggy(arg, result=[]):\n",
    "    if result is None:\n",
    "        result = []\n",
    "    result.append(arg)\n",
    "    print(result)"
   ]
  },
  {
   "cell_type": "code",
   "execution_count": 101,
   "id": "55b2f055",
   "metadata": {},
   "outputs": [
    {
     "name": "stdout",
     "output_type": "stream",
     "text": [
      "['a']\n"
     ]
    }
   ],
   "source": [
    "not_buggy('a')"
   ]
  },
  {
   "cell_type": "code",
   "execution_count": 102,
   "id": "0965d994",
   "metadata": {},
   "outputs": [],
   "source": [
    "def works(arg):\n",
    "    result = []\n",
    "    result.append(arg)\n",
    "    return result"
   ]
  },
  {
   "cell_type": "code",
   "execution_count": 119,
   "id": "175ffcf0",
   "metadata": {},
   "outputs": [
    {
     "data": {
      "text/plain": [
       "['a']"
      ]
     },
     "execution_count": 119,
     "metadata": {},
     "output_type": "execute_result"
    }
   ],
   "source": [
    "works('a')"
   ]
  },
  {
   "cell_type": "code",
   "execution_count": 120,
   "id": "b4a2d5d2",
   "metadata": {},
   "outputs": [],
   "source": [
    "def nonbuggy(arg, result=None):\n",
    "    if result is None:\n",
    "        result = []\n",
    "    result.append(arg)\n",
    "    print(result)"
   ]
  },
  {
   "cell_type": "code",
   "execution_count": 125,
   "id": "ab997d3d",
   "metadata": {},
   "outputs": [
    {
     "name": "stdout",
     "output_type": "stream",
     "text": [
      "['a']\n"
     ]
    }
   ],
   "source": [
    "nonbuggy('a')"
   ]
  },
  {
   "cell_type": "code",
   "execution_count": 128,
   "id": "71db1125",
   "metadata": {},
   "outputs": [
    {
     "name": "stdout",
     "output_type": "stream",
     "text": [
      "['b']\n"
     ]
    }
   ],
   "source": [
    "nonbuggy('b')"
   ]
  },
  {
   "cell_type": "code",
   "execution_count": 130,
   "id": "fbe2fc02",
   "metadata": {},
   "outputs": [],
   "source": [
    "def print_args(*args):\n",
    "    print('Positional tuple:',args)"
   ]
  },
  {
   "cell_type": "code",
   "execution_count": 132,
   "id": "d5751a2d",
   "metadata": {},
   "outputs": [
    {
     "name": "stdout",
     "output_type": "stream",
     "text": [
      "Positional tuple: ()\n"
     ]
    }
   ],
   "source": [
    "print_args()"
   ]
  },
  {
   "cell_type": "code",
   "execution_count": 134,
   "id": "1c7d9b15",
   "metadata": {},
   "outputs": [
    {
     "name": "stdout",
     "output_type": "stream",
     "text": [
      "Positional tuple: (3, 2, 1, 'wait!', 'uh...')\n"
     ]
    }
   ],
   "source": [
    "print_args(3,2,1,'wait!','uh...') #인수를 넣어서 튜플을 출력 "
   ]
  },
  {
   "cell_type": "code",
   "execution_count": null,
   "id": "d9c1c014",
   "metadata": {},
   "outputs": [],
   "source": []
  },
  {
   "cell_type": "code",
   "execution_count": 135,
   "id": "4371e8b6",
   "metadata": {},
   "outputs": [],
   "source": [
    "def print_more(required1, required2, *args):\n",
    "    print('Need this one:', required1)\n",
    "    print('Need this one. too:', required2)\n",
    "    print('All the rest',args)"
   ]
  },
  {
   "cell_type": "code",
   "execution_count": 136,
   "id": "6daeb601",
   "metadata": {},
   "outputs": [
    {
     "name": "stdout",
     "output_type": "stream",
     "text": [
      "Need this one: cap\n",
      "Need this one. too: gloves\n",
      "All the rest ('scarf', 'monocle', 'mustache wax')\n"
     ]
    }
   ],
   "source": [
    "print_more('cap','gloves','scarf','monocle','mustache wax')"
   ]
  },
  {
   "cell_type": "code",
   "execution_count": null,
   "id": "254791c9",
   "metadata": {},
   "outputs": [],
   "source": []
  },
  {
   "cell_type": "code",
   "execution_count": 138,
   "id": "484e46bd",
   "metadata": {},
   "outputs": [
    {
     "name": "stdout",
     "output_type": "stream",
     "text": [
      "Positional tuple: (2, 5, 7, 'x')\n"
     ]
    }
   ],
   "source": [
    "print_args(2, 5, 7, 'x')"
   ]
  },
  {
   "cell_type": "code",
   "execution_count": 139,
   "id": "a8dc3085",
   "metadata": {},
   "outputs": [],
   "source": [
    "args = (2, 5, 7, 'x')"
   ]
  },
  {
   "cell_type": "code",
   "execution_count": 140,
   "id": "c589623d",
   "metadata": {},
   "outputs": [
    {
     "data": {
      "text/plain": [
       "(2, 5, 7, 'x')"
      ]
     },
     "execution_count": 140,
     "metadata": {},
     "output_type": "execute_result"
    }
   ],
   "source": [
    "args"
   ]
  },
  {
   "cell_type": "code",
   "execution_count": 142,
   "id": "00030a95",
   "metadata": {},
   "outputs": [
    {
     "name": "stdout",
     "output_type": "stream",
     "text": [
      "Positional tuple: ((2, 5, 7, 'x'),)\n"
     ]
    }
   ],
   "source": [
    "print_args(args)"
   ]
  },
  {
   "cell_type": "code",
   "execution_count": 143,
   "id": "476d29e2",
   "metadata": {},
   "outputs": [
    {
     "name": "stdout",
     "output_type": "stream",
     "text": [
      "Positional tuple: (2, 5, 7, 'x')\n"
     ]
    }
   ],
   "source": [
    "print_args(*args)"
   ]
  },
  {
   "cell_type": "code",
   "execution_count": null,
   "id": "c95c8d44",
   "metadata": {},
   "outputs": [],
   "source": []
  },
  {
   "cell_type": "code",
   "execution_count": 146,
   "id": "179669f6",
   "metadata": {},
   "outputs": [],
   "source": [
    "def print_kwargs(**kwargs):\n",
    "    print('Keyword arguments: ', kwargs)"
   ]
  },
  {
   "cell_type": "code",
   "execution_count": 147,
   "id": "fda9c85a",
   "metadata": {},
   "outputs": [
    {
     "name": "stdout",
     "output_type": "stream",
     "text": [
      "Keyword arguments:  {}\n"
     ]
    }
   ],
   "source": [
    "print_kwargs()"
   ]
  },
  {
   "cell_type": "code",
   "execution_count": 148,
   "id": "00a74998",
   "metadata": {},
   "outputs": [
    {
     "name": "stdout",
     "output_type": "stream",
     "text": [
      "Keyword arguments:  {'wine': 'merlot', 'entree': 'mutton', 'dessert': 'macaroon'}\n"
     ]
    }
   ],
   "source": [
    "print_kwargs(wine='merlot',entree='mutton',dessert='macaroon')"
   ]
  },
  {
   "cell_type": "code",
   "execution_count": null,
   "id": "24f94c17",
   "metadata": {},
   "outputs": [],
   "source": []
  },
  {
   "cell_type": "code",
   "execution_count": 153,
   "id": "7ea17211",
   "metadata": {},
   "outputs": [],
   "source": [
    "def print_data(data, *, start=0, end=100):\n",
    "    for value in (data[start:end]):\n",
    "        print(value)"
   ]
  },
  {
   "cell_type": "code",
   "execution_count": 154,
   "id": "14fab420",
   "metadata": {},
   "outputs": [],
   "source": [
    "data = ['a','b','c','d','e','f']"
   ]
  },
  {
   "cell_type": "code",
   "execution_count": 158,
   "id": "692d3404",
   "metadata": {},
   "outputs": [
    {
     "name": "stdout",
     "output_type": "stream",
     "text": [
      "a\n",
      "b\n",
      "c\n",
      "d\n",
      "e\n",
      "f\n"
     ]
    }
   ],
   "source": [
    "print_data(data)"
   ]
  },
  {
   "cell_type": "code",
   "execution_count": 160,
   "id": "8268a288",
   "metadata": {},
   "outputs": [
    {
     "name": "stdout",
     "output_type": "stream",
     "text": [
      "e\n",
      "f\n"
     ]
    }
   ],
   "source": [
    "print_data(data, start=4)"
   ]
  },
  {
   "cell_type": "code",
   "execution_count": 161,
   "id": "a6259828",
   "metadata": {},
   "outputs": [
    {
     "name": "stdout",
     "output_type": "stream",
     "text": [
      "a\n",
      "b\n"
     ]
    }
   ],
   "source": [
    "print_data(data, end=2)"
   ]
  },
  {
   "cell_type": "code",
   "execution_count": 179,
   "id": "fe83b277",
   "metadata": {},
   "outputs": [],
   "source": [
    "outside =['one','fine','day']"
   ]
  },
  {
   "cell_type": "code",
   "execution_count": 180,
   "id": "ef13984a",
   "metadata": {},
   "outputs": [],
   "source": [
    "def mangle(arg):\n",
    "    arg[1] = 'terrible!'"
   ]
  },
  {
   "cell_type": "code",
   "execution_count": 181,
   "id": "ba93dc9a",
   "metadata": {},
   "outputs": [
    {
     "data": {
      "text/plain": [
       "['one', 'fine', 'day']"
      ]
     },
     "execution_count": 181,
     "metadata": {},
     "output_type": "execute_result"
    }
   ],
   "source": [
    "outside"
   ]
  },
  {
   "cell_type": "code",
   "execution_count": 182,
   "id": "7c81fd1e",
   "metadata": {},
   "outputs": [],
   "source": [
    "mangle(outside)"
   ]
  },
  {
   "cell_type": "code",
   "execution_count": 183,
   "id": "ea35a25f",
   "metadata": {},
   "outputs": [
    {
     "data": {
      "text/plain": [
       "['one', 'terrible!', 'day']"
      ]
     },
     "execution_count": 183,
     "metadata": {},
     "output_type": "execute_result"
    }
   ],
   "source": [
    "outside"
   ]
  },
  {
   "cell_type": "code",
   "execution_count": 184,
   "id": "f9282f96",
   "metadata": {},
   "outputs": [],
   "source": [
    "def echo(anything):\n",
    "    'echo returns its input argument'\n",
    "    return anything"
   ]
  },
  {
   "cell_type": "code",
   "execution_count": 186,
   "id": "a570e681",
   "metadata": {},
   "outputs": [],
   "source": [
    "def print_if_true(thing, check):\n",
    "    '''\n",
    "    Prints the first argument if a second argument is true.\n",
    "    The operation is:\n",
    "        1. Check\n",
    "        2. If it is,\n",
    "    '''\n",
    "    if check:\n",
    "        print(thing)"
   ]
  },
  {
   "cell_type": "code",
   "execution_count": 187,
   "id": "a9d2ebf4",
   "metadata": {},
   "outputs": [
    {
     "name": "stdout",
     "output_type": "stream",
     "text": [
      "Help on function echo in module __main__:\n",
      "\n",
      "echo(anything)\n",
      "    echo returns its input argument\n",
      "\n"
     ]
    }
   ],
   "source": [
    "help(echo)"
   ]
  },
  {
   "cell_type": "code",
   "execution_count": 191,
   "id": "7f68d6cd",
   "metadata": {},
   "outputs": [
    {
     "data": {
      "text/plain": [
       "'anythinig'"
      ]
     },
     "execution_count": 191,
     "metadata": {},
     "output_type": "execute_result"
    }
   ],
   "source": [
    "echo('anythinig')"
   ]
  },
  {
   "cell_type": "code",
   "execution_count": 193,
   "id": "f33a4331",
   "metadata": {},
   "outputs": [
    {
     "name": "stdout",
     "output_type": "stream",
     "text": [
      "test\n"
     ]
    }
   ],
   "source": [
    "print_if_true('test', True)"
   ]
  },
  {
   "cell_type": "code",
   "execution_count": 194,
   "id": "e7d4a47f",
   "metadata": {},
   "outputs": [
    {
     "name": "stdout",
     "output_type": "stream",
     "text": [
      "echo returns its input argument\n"
     ]
    }
   ],
   "source": [
    "print(echo.__doc__) # 서식 없는 독스트링 그대로"
   ]
  },
  {
   "cell_type": "code",
   "execution_count": null,
   "id": "282a99dd",
   "metadata": {},
   "outputs": [],
   "source": []
  },
  {
   "cell_type": "code",
   "execution_count": 200,
   "id": "6e0acce9",
   "metadata": {},
   "outputs": [],
   "source": [
    "def answer():\n",
    "    print(43)"
   ]
  },
  {
   "cell_type": "code",
   "execution_count": 196,
   "id": "9da8d71a",
   "metadata": {},
   "outputs": [
    {
     "name": "stdout",
     "output_type": "stream",
     "text": [
      "42\n"
     ]
    }
   ],
   "source": [
    "answer()"
   ]
  },
  {
   "cell_type": "code",
   "execution_count": 197,
   "id": "99669799",
   "metadata": {},
   "outputs": [],
   "source": [
    "def run_something(func):\n",
    "    func()"
   ]
  },
  {
   "cell_type": "code",
   "execution_count": 201,
   "id": "67469d3b",
   "metadata": {},
   "outputs": [
    {
     "name": "stdout",
     "output_type": "stream",
     "text": [
      "43\n"
     ]
    }
   ],
   "source": [
    "run_something(answer)"
   ]
  },
  {
   "cell_type": "code",
   "execution_count": 202,
   "id": "0a634a29",
   "metadata": {},
   "outputs": [
    {
     "data": {
      "text/plain": [
       "function"
      ]
     },
     "execution_count": 202,
     "metadata": {},
     "output_type": "execute_result"
    }
   ],
   "source": [
    "type(run_something)"
   ]
  },
  {
   "cell_type": "code",
   "execution_count": null,
   "id": "3bf816e1",
   "metadata": {},
   "outputs": [],
   "source": []
  },
  {
   "cell_type": "code",
   "execution_count": 203,
   "id": "288b8e97",
   "metadata": {},
   "outputs": [],
   "source": [
    "def add_args(arg1,arg2):\n",
    "    print(arg1+arg2)"
   ]
  },
  {
   "cell_type": "code",
   "execution_count": 204,
   "id": "9e3cae33",
   "metadata": {},
   "outputs": [],
   "source": [
    "def run_something_with_args(func,arg1,arg2):\n",
    "    func(arg1,arg2)"
   ]
  },
  {
   "cell_type": "code",
   "execution_count": 205,
   "id": "4e35fe94",
   "metadata": {},
   "outputs": [
    {
     "name": "stdout",
     "output_type": "stream",
     "text": [
      "14\n"
     ]
    }
   ],
   "source": [
    "run_something_with_args(add_args,5,9)"
   ]
  },
  {
   "cell_type": "code",
   "execution_count": null,
   "id": "d855165a",
   "metadata": {},
   "outputs": [],
   "source": []
  },
  {
   "cell_type": "code",
   "execution_count": 206,
   "id": "08729099",
   "metadata": {},
   "outputs": [],
   "source": [
    "def sum_args(*args):\n",
    "    return sum(args)"
   ]
  },
  {
   "cell_type": "code",
   "execution_count": 207,
   "id": "3d43d0f6",
   "metadata": {},
   "outputs": [],
   "source": [
    "def run_with_positional_args(func,*args):\n",
    "    return func(*args)"
   ]
  },
  {
   "cell_type": "code",
   "execution_count": 208,
   "id": "8680b074",
   "metadata": {},
   "outputs": [
    {
     "data": {
      "text/plain": [
       "10"
      ]
     },
     "execution_count": 208,
     "metadata": {},
     "output_type": "execute_result"
    }
   ],
   "source": [
    "run_with_positional_args(sum_args,1,2,3,4)"
   ]
  },
  {
   "cell_type": "code",
   "execution_count": null,
   "id": "97958a45",
   "metadata": {},
   "outputs": [],
   "source": []
  },
  {
   "cell_type": "code",
   "execution_count": 211,
   "id": "e9aa21bf",
   "metadata": {},
   "outputs": [
    {
     "data": {
      "text/plain": [
       "11"
      ]
     },
     "execution_count": 211,
     "metadata": {},
     "output_type": "execute_result"
    }
   ],
   "source": [
    "def outer(a,b):\n",
    "    def inner(c,d):\n",
    "        return c+d\n",
    "    return inner(a,b)\n",
    "outer(4,7)"
   ]
  },
  {
   "cell_type": "code",
   "execution_count": null,
   "id": "93efade7",
   "metadata": {},
   "outputs": [],
   "source": []
  },
  {
   "cell_type": "code",
   "execution_count": 212,
   "id": "2e9f1ed6",
   "metadata": {},
   "outputs": [],
   "source": [
    "def knights(saying):\n",
    "    def inner(quote):\n",
    "        return \"We are the say: '%s'\" % quote\n",
    "    return inner(saying)"
   ]
  },
  {
   "cell_type": "code",
   "execution_count": 213,
   "id": "1a769574",
   "metadata": {},
   "outputs": [
    {
     "data": {
      "text/plain": [
       "\"We are the say: 'Ni!'\""
      ]
     },
     "execution_count": 213,
     "metadata": {},
     "output_type": "execute_result"
    }
   ],
   "source": [
    "knights(\"Ni!\")"
   ]
  },
  {
   "cell_type": "code",
   "execution_count": null,
   "id": "50ea0b3d",
   "metadata": {},
   "outputs": [],
   "source": []
  },
  {
   "cell_type": "code",
   "execution_count": 214,
   "id": "4875a784",
   "metadata": {},
   "outputs": [],
   "source": [
    "def knights2(saying):\n",
    "    def inner2():\n",
    "        return \"We are the say: '%s'\" % saying\n",
    "    return inner2"
   ]
  },
  {
   "cell_type": "code",
   "execution_count": 215,
   "id": "22cedcc2",
   "metadata": {},
   "outputs": [],
   "source": [
    "a = knights2('Duck')"
   ]
  },
  {
   "cell_type": "code",
   "execution_count": 216,
   "id": "d9985eb3",
   "metadata": {},
   "outputs": [],
   "source": [
    "b = knights2('Hasenpfeffer')"
   ]
  },
  {
   "cell_type": "code",
   "execution_count": 217,
   "id": "068a595d",
   "metadata": {},
   "outputs": [
    {
     "data": {
      "text/plain": [
       "function"
      ]
     },
     "execution_count": 217,
     "metadata": {},
     "output_type": "execute_result"
    }
   ],
   "source": [
    "type(a)"
   ]
  },
  {
   "cell_type": "code",
   "execution_count": 218,
   "id": "6443fb33",
   "metadata": {},
   "outputs": [
    {
     "data": {
      "text/plain": [
       "function"
      ]
     },
     "execution_count": 218,
     "metadata": {},
     "output_type": "execute_result"
    }
   ],
   "source": [
    "type(b)"
   ]
  },
  {
   "cell_type": "code",
   "execution_count": 219,
   "id": "90d69d09",
   "metadata": {},
   "outputs": [
    {
     "data": {
      "text/plain": [
       "<function __main__.knights2.<locals>.inner2()>"
      ]
     },
     "execution_count": 219,
     "metadata": {},
     "output_type": "execute_result"
    }
   ],
   "source": [
    "a"
   ]
  },
  {
   "cell_type": "code",
   "execution_count": 220,
   "id": "488ab33a",
   "metadata": {},
   "outputs": [
    {
     "data": {
      "text/plain": [
       "<function __main__.knights2.<locals>.inner2()>"
      ]
     },
     "execution_count": 220,
     "metadata": {},
     "output_type": "execute_result"
    }
   ],
   "source": [
    "b"
   ]
  },
  {
   "cell_type": "code",
   "execution_count": 221,
   "id": "c67d1566",
   "metadata": {},
   "outputs": [
    {
     "data": {
      "text/plain": [
       "<function __main__.knights2.<locals>.inner2()>"
      ]
     },
     "execution_count": 221,
     "metadata": {},
     "output_type": "execute_result"
    }
   ],
   "source": []
  },
  {
   "cell_type": "code",
   "execution_count": 222,
   "id": "16176c9e",
   "metadata": {},
   "outputs": [
    {
     "data": {
      "text/plain": [
       "\"We are the say: 'Duck'\""
      ]
     },
     "execution_count": 222,
     "metadata": {},
     "output_type": "execute_result"
    }
   ],
   "source": [
    "a()"
   ]
  },
  {
   "cell_type": "code",
   "execution_count": 223,
   "id": "7e1f825b",
   "metadata": {},
   "outputs": [
    {
     "data": {
      "text/plain": [
       "\"We are the say: 'Hasenpfeffer'\""
      ]
     },
     "execution_count": 223,
     "metadata": {},
     "output_type": "execute_result"
    }
   ],
   "source": [
    "b()"
   ]
  },
  {
   "cell_type": "code",
   "execution_count": null,
   "id": "0b3716c4",
   "metadata": {},
   "outputs": [],
   "source": []
  },
  {
   "cell_type": "code",
   "execution_count": 225,
   "id": "c7caebde",
   "metadata": {},
   "outputs": [],
   "source": [
    "def edit_story(words, func):\n",
    "    for word in words:\n",
    "        print(func(word))"
   ]
  },
  {
   "cell_type": "code",
   "execution_count": 226,
   "id": "f488fe25",
   "metadata": {},
   "outputs": [],
   "source": [
    "stairs = ['thud','meow','thud','hiss']"
   ]
  },
  {
   "cell_type": "code",
   "execution_count": 227,
   "id": "0b7d9d46",
   "metadata": {},
   "outputs": [],
   "source": [
    "def enliven(word): # 첫글자를 대문자로 만들고 느낌표 붙이기\n",
    "    return word.capitalize() + '!'"
   ]
  },
  {
   "cell_type": "code",
   "execution_count": 229,
   "id": "361bc181",
   "metadata": {},
   "outputs": [
    {
     "name": "stdout",
     "output_type": "stream",
     "text": [
      "Thud!\n",
      "Meow!\n",
      "Thud!\n",
      "Hiss!\n"
     ]
    }
   ],
   "source": [
    "edit_story(stairs, enliven)"
   ]
  },
  {
   "cell_type": "code",
   "execution_count": 230,
   "id": "9213728e",
   "metadata": {},
   "outputs": [
    {
     "name": "stdout",
     "output_type": "stream",
     "text": [
      "Thud!\n",
      "Meow!\n",
      "Thud!\n",
      "Hiss!\n"
     ]
    }
   ],
   "source": [
    "edit_story(stairs, lambda word: word.capitalize() + '!')"
   ]
  },
  {
   "cell_type": "code",
   "execution_count": 231,
   "id": "aaacc5b2",
   "metadata": {},
   "outputs": [
    {
     "data": {
      "text/plain": [
       "5050"
      ]
     },
     "execution_count": 231,
     "metadata": {},
     "output_type": "execute_result"
    }
   ],
   "source": [
    "sum(range(1, 101))"
   ]
  },
  {
   "cell_type": "code",
   "execution_count": null,
   "id": "1aa0d430",
   "metadata": {},
   "outputs": [],
   "source": []
  },
  {
   "cell_type": "code",
   "execution_count": 239,
   "id": "6d6183d2",
   "metadata": {},
   "outputs": [],
   "source": [
    "def my_range(first=0, last=10, step=1):\n",
    "    number = first\n",
    "    while number < last:\n",
    "        yield number # return 문으로 값을 반환하지 않고 yield문으로 값을 반환한다.\n",
    "        number += step"
   ]
  },
  {
   "cell_type": "code",
   "execution_count": 240,
   "id": "1d51d4c9",
   "metadata": {},
   "outputs": [
    {
     "data": {
      "text/plain": [
       "<function __main__.my_range(first=0, last=10, step=1)>"
      ]
     },
     "execution_count": 240,
     "metadata": {},
     "output_type": "execute_result"
    }
   ],
   "source": [
    "my_range"
   ]
  },
  {
   "cell_type": "code",
   "execution_count": 241,
   "id": "c110ffe6",
   "metadata": {},
   "outputs": [],
   "source": [
    "ranger = my_range(1,5) # 제너레이터 객체 반환"
   ]
  },
  {
   "cell_type": "code",
   "execution_count": 242,
   "id": "d4cf287f",
   "metadata": {},
   "outputs": [
    {
     "data": {
      "text/plain": [
       "<generator object my_range at 0x10992f300>"
      ]
     },
     "execution_count": 242,
     "metadata": {},
     "output_type": "execute_result"
    }
   ],
   "source": [
    "ranger"
   ]
  },
  {
   "cell_type": "code",
   "execution_count": 243,
   "id": "7c2cb332",
   "metadata": {},
   "outputs": [
    {
     "name": "stdout",
     "output_type": "stream",
     "text": [
      "1\n",
      "2\n",
      "3\n",
      "4\n"
     ]
    }
   ],
   "source": [
    "for x in ranger:\n",
    "    print(x)"
   ]
  },
  {
   "cell_type": "code",
   "execution_count": 244,
   "id": "fdffb98d",
   "metadata": {},
   "outputs": [],
   "source": [
    "for try_again in ranger:\n",
    "    print(try_again)"
   ]
  },
  {
   "cell_type": "code",
   "execution_count": null,
   "id": "1138a121",
   "metadata": {},
   "outputs": [],
   "source": []
  },
  {
   "cell_type": "code",
   "execution_count": 245,
   "id": "9899159c",
   "metadata": {},
   "outputs": [],
   "source": [
    "genobj = (pair for pair in zip(['a','b'],['1','2']) )"
   ]
  },
  {
   "cell_type": "code",
   "execution_count": 246,
   "id": "64200850",
   "metadata": {},
   "outputs": [
    {
     "data": {
      "text/plain": [
       "<generator object <genexpr> at 0x10992f8b0>"
      ]
     },
     "execution_count": 246,
     "metadata": {},
     "output_type": "execute_result"
    }
   ],
   "source": [
    "genobj"
   ]
  },
  {
   "cell_type": "code",
   "execution_count": 247,
   "id": "762882ba",
   "metadata": {},
   "outputs": [
    {
     "name": "stdout",
     "output_type": "stream",
     "text": [
      "('a', '1')\n",
      "('b', '2')\n"
     ]
    }
   ],
   "source": [
    "for thing in genobj:\n",
    "    print(thing)"
   ]
  },
  {
   "cell_type": "code",
   "execution_count": null,
   "id": "c973efc3",
   "metadata": {},
   "outputs": [],
   "source": []
  }
 ],
 "metadata": {
  "kernelspec": {
   "display_name": "Python 3 (ipykernel)",
   "language": "python",
   "name": "python3"
  },
  "language_info": {
   "codemirror_mode": {
    "name": "ipython",
    "version": 3
   },
   "file_extension": ".py",
   "mimetype": "text/x-python",
   "name": "python",
   "nbconvert_exporter": "python",
   "pygments_lexer": "ipython3",
   "version": "3.10.9"
  }
 },
 "nbformat": 4,
 "nbformat_minor": 5
}
