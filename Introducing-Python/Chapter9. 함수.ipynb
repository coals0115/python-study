{
 "cells": [
  {
   "cell_type": "markdown",
   "id": "18964519",
   "metadata": {},
   "source": [
    "# 1. 함수 정의하기: def"
   ]
  },
  {
   "cell_type": "code",
   "execution_count": 17,
   "id": "50539bf9",
   "metadata": {},
   "outputs": [],
   "source": [
    "def do_nothing():\n",
    "    pass"
   ]
  },
  {
   "cell_type": "markdown",
   "id": "7b0ff7f1",
   "metadata": {},
   "source": [
    "# 2. 함수 호출하기: ()"
   ]
  },
  {
   "cell_type": "markdown",
   "id": "6f5e5a86",
   "metadata": {},
   "source": [
    "do_nothing()\n"
   ]
  },
  {
   "cell_type": "code",
   "execution_count": 18,
   "id": "32f7f7f4",
   "metadata": {},
   "outputs": [],
   "source": [
    "def make_a_sound():\n",
    "    print('quack')"
   ]
  },
  {
   "cell_type": "code",
   "execution_count": 19,
   "id": "d7e865e0",
   "metadata": {},
   "outputs": [
    {
     "name": "stdout",
     "output_type": "stream",
     "text": [
      "quack\n"
     ]
    }
   ],
   "source": [
    "make_a_sound()"
   ]
  },
  {
   "cell_type": "code",
   "execution_count": 20,
   "id": "1bea4b67",
   "metadata": {},
   "outputs": [],
   "source": [
    "def agree():\n",
    "    return True"
   ]
  },
  {
   "cell_type": "code",
   "execution_count": 21,
   "id": "a834787d",
   "metadata": {},
   "outputs": [
    {
     "name": "stdout",
     "output_type": "stream",
     "text": [
      "Splendid!\n"
     ]
    }
   ],
   "source": [
    "if agree():\n",
    "    print('Splendid!')\n",
    "else:\n",
    "    print('That was unexpected.')"
   ]
  },
  {
   "cell_type": "code",
   "execution_count": null,
   "id": "fa98bcc0",
   "metadata": {},
   "outputs": [],
   "source": []
  },
  {
   "cell_type": "markdown",
   "id": "f930736c",
   "metadata": {},
   "source": [
    "# 3. 인수와 매개변수"
   ]
  },
  {
   "cell_type": "code",
   "execution_count": 22,
   "id": "81c38b9b",
   "metadata": {},
   "outputs": [],
   "source": [
    "def echo(anything):\n",
    "    return anything + ' ' + anything"
   ]
  },
  {
   "cell_type": "code",
   "execution_count": 23,
   "id": "e01c6cdc",
   "metadata": {},
   "outputs": [
    {
     "data": {
      "text/plain": [
       "'Rumplestiltskin Rumplestiltskin'"
      ]
     },
     "execution_count": 23,
     "metadata": {},
     "output_type": "execute_result"
    }
   ],
   "source": [
    "echo('Rumplestiltskin')"
   ]
  },
  {
   "cell_type": "code",
   "execution_count": null,
   "id": "dfe4827e",
   "metadata": {},
   "outputs": [],
   "source": []
  },
  {
   "cell_type": "code",
   "execution_count": 28,
   "id": "c0ab5037",
   "metadata": {},
   "outputs": [
    {
     "name": "stdout",
     "output_type": "stream",
     "text": [
      "It's no thing\n"
     ]
    }
   ],
   "source": [
    "thing = None\n",
    "if thing:\n",
    "    print(\"It's some thing\")\n",
    "else:\n",
    "    print(\"It's no thing\")"
   ]
  },
  {
   "cell_type": "code",
   "execution_count": 31,
   "id": "ecc9a259",
   "metadata": {},
   "outputs": [],
   "source": [
    "def whatis(thing):\n",
    "    if thing is None:\n",
    "        print(thing, \"is None\")\n",
    "    elif thing:\n",
    "        print(thing,\" is True\")\n",
    "    else:\n",
    "        print(thing, \"is False\")"
   ]
  },
  {
   "cell_type": "code",
   "execution_count": 33,
   "id": "94c5081c",
   "metadata": {
    "scrolled": true
   },
   "outputs": [
    {
     "name": "stdout",
     "output_type": "stream",
     "text": [
      "None is None\n",
      "True  is True\n",
      "False is False\n"
     ]
    }
   ],
   "source": [
    "whatis(None)\n",
    "whatis(True)\n",
    "whatis(False)"
   ]
  },
  {
   "cell_type": "code",
   "execution_count": 41,
   "id": "0ddcc39c",
   "metadata": {},
   "outputs": [],
   "source": [
    "def menu(wine, entree,dessert):\n",
    "    return {'wine':wine,'entree':entree,'dessert':dessert}"
   ]
  },
  {
   "cell_type": "code",
   "execution_count": 42,
   "id": "506a9baa",
   "metadata": {},
   "outputs": [
    {
     "data": {
      "text/plain": [
       "{'wine': 'chardonnay', 'entree': 'chicken', 'dessert': 'cake'}"
      ]
     },
     "execution_count": 42,
     "metadata": {},
     "output_type": "execute_result"
    }
   ],
   "source": [
    "menu('chardonnay','chicken','cake')"
   ]
  },
  {
   "cell_type": "code",
   "execution_count": 43,
   "id": "7b6c1fd2",
   "metadata": {},
   "outputs": [
    {
     "data": {
      "text/plain": [
       "{'wine': 'bordeaux', 'entree': 'beef', 'dessert': 'bagel'}"
      ]
     },
     "execution_count": 43,
     "metadata": {},
     "output_type": "execute_result"
    }
   ],
   "source": [
    "menu(entree='beef', dessert='bagel', wine='bordeaux')"
   ]
  },
  {
   "cell_type": "code",
   "execution_count": 44,
   "id": "a8ab8d0b",
   "metadata": {},
   "outputs": [
    {
     "data": {
      "text/plain": [
       "{'wine': 'frontenac', 'entree': 'fish', 'dessert': 'flan'}"
      ]
     },
     "execution_count": 44,
     "metadata": {},
     "output_type": "execute_result"
    }
   ],
   "source": [
    "menu('frontenac',dessert='flan',entree='fish')"
   ]
  },
  {
   "cell_type": "code",
   "execution_count": null,
   "id": "fc09eabc",
   "metadata": {},
   "outputs": [],
   "source": []
  },
  {
   "cell_type": "code",
   "execution_count": 45,
   "id": "5ce553ef",
   "metadata": {},
   "outputs": [],
   "source": [
    "def menu(wine,entree,dessert='pudding'):\n",
    "    return {'wine':wine,'entree':entree, 'dessert':dessert}"
   ]
  },
  {
   "cell_type": "code",
   "execution_count": null,
   "id": "36279aee",
   "metadata": {},
   "outputs": [],
   "source": []
  },
  {
   "cell_type": "code",
   "execution_count": 109,
   "id": "fc5865e9",
   "metadata": {},
   "outputs": [],
   "source": [
    "def buggy(arg,result=[]):\n",
    "    test = 3;\n",
    "    result.append(arg)\n",
    "    print(result)"
   ]
  },
  {
   "cell_type": "code",
   "execution_count": 118,
   "id": "29551bdd",
   "metadata": {},
   "outputs": [
    {
     "name": "stdout",
     "output_type": "stream",
     "text": [
      "['a', 'a', 'a', 'a', 'a', 'a', 'a', 'a', 'a']\n"
     ]
    }
   ],
   "source": [
    "buggy('a')"
   ]
  },
  {
   "cell_type": "code",
   "execution_count": 100,
   "id": "4018f5c4",
   "metadata": {},
   "outputs": [],
   "source": [
    "def not_buggy(arg, result=[]):\n",
    "    if result is None:\n",
    "        result = []\n",
    "    result.append(arg)\n",
    "    print(result)"
   ]
  },
  {
   "cell_type": "code",
   "execution_count": 101,
   "id": "55b2f055",
   "metadata": {},
   "outputs": [
    {
     "name": "stdout",
     "output_type": "stream",
     "text": [
      "['a']\n"
     ]
    }
   ],
   "source": [
    "not_buggy('a')"
   ]
  },
  {
   "cell_type": "code",
   "execution_count": 102,
   "id": "0965d994",
   "metadata": {},
   "outputs": [],
   "source": [
    "def works(arg):\n",
    "    result = []\n",
    "    result.append(arg)\n",
    "    return result"
   ]
  },
  {
   "cell_type": "code",
   "execution_count": 119,
   "id": "175ffcf0",
   "metadata": {},
   "outputs": [
    {
     "data": {
      "text/plain": [
       "['a']"
      ]
     },
     "execution_count": 119,
     "metadata": {},
     "output_type": "execute_result"
    }
   ],
   "source": [
    "works('a')"
   ]
  },
  {
   "cell_type": "code",
   "execution_count": 120,
   "id": "b4a2d5d2",
   "metadata": {},
   "outputs": [],
   "source": [
    "def nonbuggy(arg, result=None):\n",
    "    if result is None:\n",
    "        result = []\n",
    "    result.append(arg)\n",
    "    print(result)"
   ]
  },
  {
   "cell_type": "code",
   "execution_count": 125,
   "id": "ab997d3d",
   "metadata": {},
   "outputs": [
    {
     "name": "stdout",
     "output_type": "stream",
     "text": [
      "['a']\n"
     ]
    }
   ],
   "source": [
    "nonbuggy('a')"
   ]
  },
  {
   "cell_type": "code",
   "execution_count": 128,
   "id": "71db1125",
   "metadata": {},
   "outputs": [
    {
     "name": "stdout",
     "output_type": "stream",
     "text": [
      "['b']\n"
     ]
    }
   ],
   "source": [
    "nonbuggy('b')"
   ]
  },
  {
   "cell_type": "code",
   "execution_count": 130,
   "id": "fbe2fc02",
   "metadata": {},
   "outputs": [],
   "source": [
    "def print_args(*args):\n",
    "    print('Positional tuple:',args)"
   ]
  },
  {
   "cell_type": "code",
   "execution_count": 132,
   "id": "d5751a2d",
   "metadata": {},
   "outputs": [
    {
     "name": "stdout",
     "output_type": "stream",
     "text": [
      "Positional tuple: ()\n"
     ]
    }
   ],
   "source": [
    "print_args()"
   ]
  },
  {
   "cell_type": "code",
   "execution_count": 134,
   "id": "1c7d9b15",
   "metadata": {},
   "outputs": [
    {
     "name": "stdout",
     "output_type": "stream",
     "text": [
      "Positional tuple: (3, 2, 1, 'wait!', 'uh...')\n"
     ]
    }
   ],
   "source": [
    "print_args(3,2,1,'wait!','uh...') #인수를 넣어서 튜플을 출력 "
   ]
  },
  {
   "cell_type": "code",
   "execution_count": null,
   "id": "d9c1c014",
   "metadata": {},
   "outputs": [],
   "source": []
  },
  {
   "cell_type": "code",
   "execution_count": 135,
   "id": "4371e8b6",
   "metadata": {},
   "outputs": [],
   "source": [
    "def print_more(required1, required2, *args):\n",
    "    print('Need this one:', required1)\n",
    "    print('Need this one. too:', required2)\n",
    "    print('All the rest',args)"
   ]
  },
  {
   "cell_type": "code",
   "execution_count": 136,
   "id": "6daeb601",
   "metadata": {},
   "outputs": [
    {
     "name": "stdout",
     "output_type": "stream",
     "text": [
      "Need this one: cap\n",
      "Need this one. too: gloves\n",
      "All the rest ('scarf', 'monocle', 'mustache wax')\n"
     ]
    }
   ],
   "source": [
    "print_more('cap','gloves','scarf','monocle','mustache wax')"
   ]
  },
  {
   "cell_type": "code",
   "execution_count": null,
   "id": "254791c9",
   "metadata": {},
   "outputs": [],
   "source": []
  },
  {
   "cell_type": "code",
   "execution_count": 138,
   "id": "484e46bd",
   "metadata": {},
   "outputs": [
    {
     "name": "stdout",
     "output_type": "stream",
     "text": [
      "Positional tuple: (2, 5, 7, 'x')\n"
     ]
    }
   ],
   "source": [
    "print_args(2, 5, 7, 'x')"
   ]
  },
  {
   "cell_type": "code",
   "execution_count": 139,
   "id": "a8dc3085",
   "metadata": {},
   "outputs": [],
   "source": [
    "args = (2, 5, 7, 'x')"
   ]
  },
  {
   "cell_type": "code",
   "execution_count": 140,
   "id": "c589623d",
   "metadata": {},
   "outputs": [
    {
     "data": {
      "text/plain": [
       "(2, 5, 7, 'x')"
      ]
     },
     "execution_count": 140,
     "metadata": {},
     "output_type": "execute_result"
    }
   ],
   "source": [
    "args"
   ]
  },
  {
   "cell_type": "code",
   "execution_count": 142,
   "id": "00030a95",
   "metadata": {},
   "outputs": [
    {
     "name": "stdout",
     "output_type": "stream",
     "text": [
      "Positional tuple: ((2, 5, 7, 'x'),)\n"
     ]
    }
   ],
   "source": [
    "print_args(args)"
   ]
  },
  {
   "cell_type": "code",
   "execution_count": 143,
   "id": "476d29e2",
   "metadata": {},
   "outputs": [
    {
     "name": "stdout",
     "output_type": "stream",
     "text": [
      "Positional tuple: (2, 5, 7, 'x')\n"
     ]
    }
   ],
   "source": [
    "print_args(*args)"
   ]
  },
  {
   "cell_type": "code",
   "execution_count": null,
   "id": "c95c8d44",
   "metadata": {},
   "outputs": [],
   "source": []
  },
  {
   "cell_type": "code",
   "execution_count": 146,
   "id": "179669f6",
   "metadata": {},
   "outputs": [],
   "source": [
    "def print_kwargs(**kwargs):\n",
    "    print('Keyword arguments: ', kwargs)"
   ]
  },
  {
   "cell_type": "code",
   "execution_count": 147,
   "id": "fda9c85a",
   "metadata": {},
   "outputs": [
    {
     "name": "stdout",
     "output_type": "stream",
     "text": [
      "Keyword arguments:  {}\n"
     ]
    }
   ],
   "source": [
    "print_kwargs()"
   ]
  },
  {
   "cell_type": "code",
   "execution_count": 148,
   "id": "00a74998",
   "metadata": {},
   "outputs": [
    {
     "name": "stdout",
     "output_type": "stream",
     "text": [
      "Keyword arguments:  {'wine': 'merlot', 'entree': 'mutton', 'dessert': 'macaroon'}\n"
     ]
    }
   ],
   "source": [
    "print_kwargs(wine='merlot',entree='mutton',dessert='macaroon')"
   ]
  },
  {
   "cell_type": "code",
   "execution_count": null,
   "id": "24f94c17",
   "metadata": {},
   "outputs": [],
   "source": []
  },
  {
   "cell_type": "code",
   "execution_count": 153,
   "id": "7ea17211",
   "metadata": {},
   "outputs": [],
   "source": [
    "def print_data(data, *, start=0, end=100):\n",
    "    for value in (data[start:end]):\n",
    "        print(value)"
   ]
  },
  {
   "cell_type": "code",
   "execution_count": 154,
   "id": "14fab420",
   "metadata": {},
   "outputs": [],
   "source": [
    "data = ['a','b','c','d','e','f']"
   ]
  },
  {
   "cell_type": "code",
   "execution_count": 158,
   "id": "692d3404",
   "metadata": {},
   "outputs": [
    {
     "name": "stdout",
     "output_type": "stream",
     "text": [
      "a\n",
      "b\n",
      "c\n",
      "d\n",
      "e\n",
      "f\n"
     ]
    }
   ],
   "source": [
    "print_data(data)"
   ]
  },
  {
   "cell_type": "code",
   "execution_count": 160,
   "id": "8268a288",
   "metadata": {},
   "outputs": [
    {
     "name": "stdout",
     "output_type": "stream",
     "text": [
      "e\n",
      "f\n"
     ]
    }
   ],
   "source": [
    "print_data(data, start=4)"
   ]
  },
  {
   "cell_type": "code",
   "execution_count": 161,
   "id": "a6259828",
   "metadata": {},
   "outputs": [
    {
     "name": "stdout",
     "output_type": "stream",
     "text": [
      "a\n",
      "b\n"
     ]
    }
   ],
   "source": [
    "print_data(data, end=2)"
   ]
  },
  {
   "cell_type": "code",
   "execution_count": 179,
   "id": "fe83b277",
   "metadata": {},
   "outputs": [],
   "source": [
    "outside =['one','fine','day']"
   ]
  },
  {
   "cell_type": "code",
   "execution_count": 180,
   "id": "ef13984a",
   "metadata": {},
   "outputs": [],
   "source": [
    "def mangle(arg):\n",
    "    arg[1] = 'terrible!'"
   ]
  },
  {
   "cell_type": "code",
   "execution_count": 181,
   "id": "ba93dc9a",
   "metadata": {},
   "outputs": [
    {
     "data": {
      "text/plain": [
       "['one', 'fine', 'day']"
      ]
     },
     "execution_count": 181,
     "metadata": {},
     "output_type": "execute_result"
    }
   ],
   "source": [
    "outside"
   ]
  },
  {
   "cell_type": "code",
   "execution_count": 182,
   "id": "7c81fd1e",
   "metadata": {},
   "outputs": [],
   "source": [
    "mangle(outside)"
   ]
  },
  {
   "cell_type": "code",
   "execution_count": 183,
   "id": "ea35a25f",
   "metadata": {},
   "outputs": [
    {
     "data": {
      "text/plain": [
       "['one', 'terrible!', 'day']"
      ]
     },
     "execution_count": 183,
     "metadata": {},
     "output_type": "execute_result"
    }
   ],
   "source": [
    "outside"
   ]
  },
  {
   "cell_type": "code",
   "execution_count": 184,
   "id": "f9282f96",
   "metadata": {},
   "outputs": [],
   "source": [
    "def echo(anything):\n",
    "    'echo returns its input argument'\n",
    "    return anything"
   ]
  },
  {
   "cell_type": "code",
   "execution_count": 186,
   "id": "a570e681",
   "metadata": {},
   "outputs": [],
   "source": [
    "def print_if_true(thing, check):\n",
    "    '''\n",
    "    Prints the first argument if a second argument is true.\n",
    "    The operation is:\n",
    "        1. Check\n",
    "        2. If it is,\n",
    "    '''\n",
    "    if check:\n",
    "        print(thing)"
   ]
  },
  {
   "cell_type": "code",
   "execution_count": 187,
   "id": "a9d2ebf4",
   "metadata": {},
   "outputs": [
    {
     "name": "stdout",
     "output_type": "stream",
     "text": [
      "Help on function echo in module __main__:\n",
      "\n",
      "echo(anything)\n",
      "    echo returns its input argument\n",
      "\n"
     ]
    }
   ],
   "source": [
    "help(echo)"
   ]
  },
  {
   "cell_type": "code",
   "execution_count": 191,
   "id": "7f68d6cd",
   "metadata": {},
   "outputs": [
    {
     "data": {
      "text/plain": [
       "'anythinig'"
      ]
     },
     "execution_count": 191,
     "metadata": {},
     "output_type": "execute_result"
    }
   ],
   "source": [
    "echo('anythinig')"
   ]
  },
  {
   "cell_type": "code",
   "execution_count": 193,
   "id": "f33a4331",
   "metadata": {},
   "outputs": [
    {
     "name": "stdout",
     "output_type": "stream",
     "text": [
      "test\n"
     ]
    }
   ],
   "source": [
    "print_if_true('test', True)"
   ]
  },
  {
   "cell_type": "code",
   "execution_count": 194,
   "id": "e7d4a47f",
   "metadata": {},
   "outputs": [
    {
     "name": "stdout",
     "output_type": "stream",
     "text": [
      "echo returns its input argument\n"
     ]
    }
   ],
   "source": [
    "print(echo.__doc__) # 서식 없는 독스트링 그대로"
   ]
  },
  {
   "cell_type": "code",
   "execution_count": null,
   "id": "282a99dd",
   "metadata": {},
   "outputs": [],
   "source": []
  },
  {
   "cell_type": "code",
   "execution_count": 200,
   "id": "6e0acce9",
   "metadata": {},
   "outputs": [],
   "source": [
    "def answer():\n",
    "    print(43)"
   ]
  },
  {
   "cell_type": "code",
   "execution_count": 196,
   "id": "9da8d71a",
   "metadata": {},
   "outputs": [
    {
     "name": "stdout",
     "output_type": "stream",
     "text": [
      "42\n"
     ]
    }
   ],
   "source": [
    "answer()"
   ]
  },
  {
   "cell_type": "code",
   "execution_count": 197,
   "id": "99669799",
   "metadata": {},
   "outputs": [],
   "source": [
    "def run_something(func):\n",
    "    func()"
   ]
  },
  {
   "cell_type": "code",
   "execution_count": 201,
   "id": "67469d3b",
   "metadata": {},
   "outputs": [
    {
     "name": "stdout",
     "output_type": "stream",
     "text": [
      "43\n"
     ]
    }
   ],
   "source": [
    "run_something(answer)"
   ]
  },
  {
   "cell_type": "code",
   "execution_count": 202,
   "id": "0a634a29",
   "metadata": {},
   "outputs": [
    {
     "data": {
      "text/plain": [
       "function"
      ]
     },
     "execution_count": 202,
     "metadata": {},
     "output_type": "execute_result"
    }
   ],
   "source": [
    "type(run_something)"
   ]
  },
  {
   "cell_type": "code",
   "execution_count": null,
   "id": "3bf816e1",
   "metadata": {},
   "outputs": [],
   "source": []
  },
  {
   "cell_type": "code",
   "execution_count": 203,
   "id": "288b8e97",
   "metadata": {},
   "outputs": [],
   "source": [
    "def add_args(arg1,arg2):\n",
    "    print(arg1+arg2)"
   ]
  },
  {
   "cell_type": "code",
   "execution_count": 204,
   "id": "9e3cae33",
   "metadata": {},
   "outputs": [],
   "source": [
    "def run_something_with_args(func,arg1,arg2):\n",
    "    func(arg1,arg2)"
   ]
  },
  {
   "cell_type": "code",
   "execution_count": 205,
   "id": "4e35fe94",
   "metadata": {},
   "outputs": [
    {
     "name": "stdout",
     "output_type": "stream",
     "text": [
      "14\n"
     ]
    }
   ],
   "source": [
    "run_something_with_args(add_args,5,9)"
   ]
  },
  {
   "cell_type": "code",
   "execution_count": null,
   "id": "d855165a",
   "metadata": {},
   "outputs": [],
   "source": []
  },
  {
   "cell_type": "code",
   "execution_count": 206,
   "id": "08729099",
   "metadata": {},
   "outputs": [],
   "source": [
    "def sum_args(*args):\n",
    "    return sum(args)"
   ]
  },
  {
   "cell_type": "code",
   "execution_count": 207,
   "id": "3d43d0f6",
   "metadata": {},
   "outputs": [],
   "source": [
    "def run_with_positional_args(func,*args):\n",
    "    return func(*args)"
   ]
  },
  {
   "cell_type": "code",
   "execution_count": 208,
   "id": "8680b074",
   "metadata": {},
   "outputs": [
    {
     "data": {
      "text/plain": [
       "10"
      ]
     },
     "execution_count": 208,
     "metadata": {},
     "output_type": "execute_result"
    }
   ],
   "source": [
    "run_with_positional_args(sum_args,1,2,3,4)"
   ]
  },
  {
   "cell_type": "code",
   "execution_count": null,
   "id": "97958a45",
   "metadata": {},
   "outputs": [],
   "source": []
  },
  {
   "cell_type": "code",
   "execution_count": 211,
   "id": "e9aa21bf",
   "metadata": {},
   "outputs": [
    {
     "data": {
      "text/plain": [
       "11"
      ]
     },
     "execution_count": 211,
     "metadata": {},
     "output_type": "execute_result"
    }
   ],
   "source": [
    "def outer(a,b):\n",
    "    def inner(c,d):\n",
    "        return c+d\n",
    "    return inner(a,b)\n",
    "outer(4,7)"
   ]
  },
  {
   "cell_type": "code",
   "execution_count": null,
   "id": "93efade7",
   "metadata": {},
   "outputs": [],
   "source": []
  },
  {
   "cell_type": "code",
   "execution_count": 212,
   "id": "2e9f1ed6",
   "metadata": {},
   "outputs": [],
   "source": [
    "def knights(saying):\n",
    "    def inner(quote):\n",
    "        return \"We are the say: '%s'\" % quote\n",
    "    return inner(saying)"
   ]
  },
  {
   "cell_type": "code",
   "execution_count": 213,
   "id": "1a769574",
   "metadata": {},
   "outputs": [
    {
     "data": {
      "text/plain": [
       "\"We are the say: 'Ni!'\""
      ]
     },
     "execution_count": 213,
     "metadata": {},
     "output_type": "execute_result"
    }
   ],
   "source": [
    "knights(\"Ni!\")"
   ]
  },
  {
   "cell_type": "code",
   "execution_count": null,
   "id": "50ea0b3d",
   "metadata": {},
   "outputs": [],
   "source": []
  },
  {
   "cell_type": "code",
   "execution_count": 214,
   "id": "4875a784",
   "metadata": {},
   "outputs": [],
   "source": [
    "def knights2(saying):\n",
    "    def inner2():\n",
    "        return \"We are the say: '%s'\" % saying\n",
    "    return inner2"
   ]
  },
  {
   "cell_type": "code",
   "execution_count": 215,
   "id": "22cedcc2",
   "metadata": {},
   "outputs": [],
   "source": [
    "a = knights2('Duck')"
   ]
  },
  {
   "cell_type": "code",
   "execution_count": 216,
   "id": "d9985eb3",
   "metadata": {},
   "outputs": [],
   "source": [
    "b = knights2('Hasenpfeffer')"
   ]
  },
  {
   "cell_type": "code",
   "execution_count": 217,
   "id": "068a595d",
   "metadata": {},
   "outputs": [
    {
     "data": {
      "text/plain": [
       "function"
      ]
     },
     "execution_count": 217,
     "metadata": {},
     "output_type": "execute_result"
    }
   ],
   "source": [
    "type(a)"
   ]
  },
  {
   "cell_type": "code",
   "execution_count": 218,
   "id": "6443fb33",
   "metadata": {},
   "outputs": [
    {
     "data": {
      "text/plain": [
       "function"
      ]
     },
     "execution_count": 218,
     "metadata": {},
     "output_type": "execute_result"
    }
   ],
   "source": [
    "type(b)"
   ]
  },
  {
   "cell_type": "code",
   "execution_count": 219,
   "id": "90d69d09",
   "metadata": {},
   "outputs": [
    {
     "data": {
      "text/plain": [
       "<function __main__.knights2.<locals>.inner2()>"
      ]
     },
     "execution_count": 219,
     "metadata": {},
     "output_type": "execute_result"
    }
   ],
   "source": [
    "a"
   ]
  },
  {
   "cell_type": "code",
   "execution_count": 220,
   "id": "488ab33a",
   "metadata": {},
   "outputs": [
    {
     "data": {
      "text/plain": [
       "<function __main__.knights2.<locals>.inner2()>"
      ]
     },
     "execution_count": 220,
     "metadata": {},
     "output_type": "execute_result"
    }
   ],
   "source": [
    "b"
   ]
  },
  {
   "cell_type": "code",
   "execution_count": 221,
   "id": "c67d1566",
   "metadata": {},
   "outputs": [
    {
     "data": {
      "text/plain": [
       "<function __main__.knights2.<locals>.inner2()>"
      ]
     },
     "execution_count": 221,
     "metadata": {},
     "output_type": "execute_result"
    }
   ],
   "source": []
  },
  {
   "cell_type": "code",
   "execution_count": 222,
   "id": "16176c9e",
   "metadata": {},
   "outputs": [
    {
     "data": {
      "text/plain": [
       "\"We are the say: 'Duck'\""
      ]
     },
     "execution_count": 222,
     "metadata": {},
     "output_type": "execute_result"
    }
   ],
   "source": [
    "a()"
   ]
  },
  {
   "cell_type": "code",
   "execution_count": 223,
   "id": "7e1f825b",
   "metadata": {},
   "outputs": [
    {
     "data": {
      "text/plain": [
       "\"We are the say: 'Hasenpfeffer'\""
      ]
     },
     "execution_count": 223,
     "metadata": {},
     "output_type": "execute_result"
    }
   ],
   "source": [
    "b()"
   ]
  },
  {
   "cell_type": "code",
   "execution_count": null,
   "id": "0b3716c4",
   "metadata": {},
   "outputs": [],
   "source": []
  },
  {
   "cell_type": "code",
   "execution_count": 225,
   "id": "c7caebde",
   "metadata": {},
   "outputs": [],
   "source": [
    "def edit_story(words, func):\n",
    "    for word in words:\n",
    "        print(func(word))"
   ]
  },
  {
   "cell_type": "code",
   "execution_count": 226,
   "id": "f488fe25",
   "metadata": {},
   "outputs": [],
   "source": [
    "stairs = ['thud','meow','thud','hiss']"
   ]
  },
  {
   "cell_type": "code",
   "execution_count": 227,
   "id": "0b7d9d46",
   "metadata": {},
   "outputs": [],
   "source": [
    "def enliven(word): # 첫글자를 대문자로 만들고 느낌표 붙이기\n",
    "    return word.capitalize() + '!'"
   ]
  },
  {
   "cell_type": "code",
   "execution_count": 229,
   "id": "361bc181",
   "metadata": {},
   "outputs": [
    {
     "name": "stdout",
     "output_type": "stream",
     "text": [
      "Thud!\n",
      "Meow!\n",
      "Thud!\n",
      "Hiss!\n"
     ]
    }
   ],
   "source": [
    "edit_story(stairs, enliven)"
   ]
  },
  {
   "cell_type": "code",
   "execution_count": 230,
   "id": "9213728e",
   "metadata": {},
   "outputs": [
    {
     "name": "stdout",
     "output_type": "stream",
     "text": [
      "Thud!\n",
      "Meow!\n",
      "Thud!\n",
      "Hiss!\n"
     ]
    }
   ],
   "source": [
    "edit_story(stairs, lambda word: word.capitalize() + '!')"
   ]
  },
  {
   "cell_type": "code",
   "execution_count": 231,
   "id": "aaacc5b2",
   "metadata": {},
   "outputs": [
    {
     "data": {
      "text/plain": [
       "5050"
      ]
     },
     "execution_count": 231,
     "metadata": {},
     "output_type": "execute_result"
    }
   ],
   "source": [
    "sum(range(1, 101))"
   ]
  },
  {
   "cell_type": "code",
   "execution_count": null,
   "id": "1aa0d430",
   "metadata": {},
   "outputs": [],
   "source": []
  },
  {
   "cell_type": "code",
   "execution_count": 239,
   "id": "6d6183d2",
   "metadata": {},
   "outputs": [],
   "source": [
    "def my_range(first=0, last=10, step=1):\n",
    "    number = first\n",
    "    while number < last:\n",
    "        yield number # return 문으로 값을 반환하지 않고 yield문으로 값을 반환한다.\n",
    "        number += step"
   ]
  },
  {
   "cell_type": "code",
   "execution_count": 240,
   "id": "1d51d4c9",
   "metadata": {},
   "outputs": [
    {
     "data": {
      "text/plain": [
       "<function __main__.my_range(first=0, last=10, step=1)>"
      ]
     },
     "execution_count": 240,
     "metadata": {},
     "output_type": "execute_result"
    }
   ],
   "source": [
    "my_range"
   ]
  },
  {
   "cell_type": "code",
   "execution_count": 241,
   "id": "c110ffe6",
   "metadata": {},
   "outputs": [],
   "source": [
    "ranger = my_range(1,5) # 제너레이터 객체 반환"
   ]
  },
  {
   "cell_type": "code",
   "execution_count": 242,
   "id": "d4cf287f",
   "metadata": {},
   "outputs": [
    {
     "data": {
      "text/plain": [
       "<generator object my_range at 0x10992f300>"
      ]
     },
     "execution_count": 242,
     "metadata": {},
     "output_type": "execute_result"
    }
   ],
   "source": [
    "ranger"
   ]
  },
  {
   "cell_type": "code",
   "execution_count": 243,
   "id": "7c2cb332",
   "metadata": {},
   "outputs": [
    {
     "name": "stdout",
     "output_type": "stream",
     "text": [
      "1\n",
      "2\n",
      "3\n",
      "4\n"
     ]
    }
   ],
   "source": [
    "for x in ranger:\n",
    "    print(x)"
   ]
  },
  {
   "cell_type": "code",
   "execution_count": 244,
   "id": "fdffb98d",
   "metadata": {},
   "outputs": [],
   "source": [
    "for try_again in ranger:\n",
    "    print(try_again)"
   ]
  },
  {
   "cell_type": "code",
   "execution_count": null,
   "id": "1138a121",
   "metadata": {},
   "outputs": [],
   "source": []
  },
  {
   "cell_type": "code",
   "execution_count": 245,
   "id": "9899159c",
   "metadata": {},
   "outputs": [],
   "source": [
    "genobj = (pair for pair in zip(['a','b'],['1','2']) )"
   ]
  },
  {
   "cell_type": "code",
   "execution_count": 246,
   "id": "64200850",
   "metadata": {},
   "outputs": [
    {
     "data": {
      "text/plain": [
       "<generator object <genexpr> at 0x10992f8b0>"
      ]
     },
     "execution_count": 246,
     "metadata": {},
     "output_type": "execute_result"
    }
   ],
   "source": [
    "genobj"
   ]
  },
  {
   "cell_type": "code",
   "execution_count": 247,
   "id": "762882ba",
   "metadata": {},
   "outputs": [
    {
     "name": "stdout",
     "output_type": "stream",
     "text": [
      "('a', '1')\n",
      "('b', '2')\n"
     ]
    }
   ],
   "source": [
    "for thing in genobj:\n",
    "    print(thing)"
   ]
  },
  {
   "cell_type": "code",
   "execution_count": null,
   "id": "c973efc3",
   "metadata": {},
   "outputs": [],
   "source": []
  },
  {
   "cell_type": "code",
   "execution_count": 21,
   "id": "d27f6027",
   "metadata": {},
   "outputs": [],
   "source": [
    "def document_it(func):\n",
    "    def new_function(*args, **kwargs):\n",
    "        print('Running function:',func.__name__)\n",
    "        print('Positional arguments:',args)\n",
    "        print('Keyword arguments:',kwargs)\n",
    "        result = func(*args, **kwargs)\n",
    "        print('Result:',result)\n",
    "        return result\n",
    "    return new_function"
   ]
  },
  {
   "cell_type": "code",
   "execution_count": null,
   "id": "2d2a18d1",
   "metadata": {},
   "outputs": [],
   "source": []
  },
  {
   "cell_type": "code",
   "execution_count": 22,
   "id": "1b3593cd",
   "metadata": {},
   "outputs": [],
   "source": [
    "def add_ints(a,b):\n",
    "    return a+b"
   ]
  },
  {
   "cell_type": "code",
   "execution_count": 23,
   "id": "e62198e2",
   "metadata": {},
   "outputs": [
    {
     "data": {
      "text/plain": [
       "6"
      ]
     },
     "execution_count": 23,
     "metadata": {},
     "output_type": "execute_result"
    }
   ],
   "source": [
    "add_ints(1,5)"
   ]
  },
  {
   "cell_type": "code",
   "execution_count": 24,
   "id": "ecd64691",
   "metadata": {},
   "outputs": [],
   "source": [
    "cooler_add_inits = document_it(add_ints) # 데커레이터 수동 할당"
   ]
  },
  {
   "cell_type": "code",
   "execution_count": 25,
   "id": "76c4170e",
   "metadata": {},
   "outputs": [
    {
     "name": "stdout",
     "output_type": "stream",
     "text": [
      "Running function: add_ints\n",
      "Positional arguments: (3, 5)\n",
      "Keyword arguments: {}\n",
      "Result: 8\n"
     ]
    },
    {
     "data": {
      "text/plain": [
       "8"
      ]
     },
     "execution_count": 25,
     "metadata": {},
     "output_type": "execute_result"
    }
   ],
   "source": [
    "cooler_add_inits(3, 5)"
   ]
  },
  {
   "cell_type": "code",
   "execution_count": null,
   "id": "d14f77e4",
   "metadata": {},
   "outputs": [],
   "source": []
  },
  {
   "cell_type": "code",
   "execution_count": 27,
   "id": "7b170c74",
   "metadata": {},
   "outputs": [],
   "source": [
    "@document_it # 데코레이터를 사용하고 싶은 함수에 그냥 ''@데코레이터_이름' 추가\n",
    "def add_ints(a, b):\n",
    "    return a + b"
   ]
  },
  {
   "cell_type": "code",
   "execution_count": 28,
   "id": "301aea62",
   "metadata": {
    "scrolled": true
   },
   "outputs": [
    {
     "name": "stdout",
     "output_type": "stream",
     "text": [
      "Running function: add_ints\n",
      "Positional arguments: (3, 5)\n",
      "Keyword arguments: {}\n",
      "Result: 8\n"
     ]
    },
    {
     "data": {
      "text/plain": [
       "8"
      ]
     },
     "execution_count": 28,
     "metadata": {},
     "output_type": "execute_result"
    }
   ],
   "source": [
    "add_ints(3, 5)"
   ]
  },
  {
   "cell_type": "code",
   "execution_count": null,
   "id": "bfe8ed0c",
   "metadata": {},
   "outputs": [],
   "source": []
  },
  {
   "cell_type": "code",
   "execution_count": 35,
   "id": "79ba33a1",
   "metadata": {},
   "outputs": [],
   "source": [
    "def square_it(func):\n",
    "    def new_function(*args, **kwargs):\n",
    "        result = func(*args, **kwargs)\n",
    "        return result * result\n",
    "    return new_function"
   ]
  },
  {
   "cell_type": "code",
   "execution_count": null,
   "id": "5f2070a5",
   "metadata": {},
   "outputs": [],
   "source": []
  },
  {
   "cell_type": "code",
   "execution_count": 38,
   "id": "3be7f5d6",
   "metadata": {},
   "outputs": [],
   "source": [
    "@square_it\n",
    "@document_it\n",
    "def add_ints(a,b):\n",
    "    return a + b"
   ]
  },
  {
   "cell_type": "code",
   "execution_count": 39,
   "id": "1623d9b9",
   "metadata": {},
   "outputs": [
    {
     "name": "stdout",
     "output_type": "stream",
     "text": [
      "Running function: add_ints\n",
      "Positional arguments: (3, 5)\n",
      "Keyword arguments: {}\n",
      "Result: 8\n"
     ]
    },
    {
     "data": {
      "text/plain": [
       "64"
      ]
     },
     "execution_count": 39,
     "metadata": {},
     "output_type": "execute_result"
    }
   ],
   "source": [
    "add_ints(3,5)"
   ]
  },
  {
   "cell_type": "code",
   "execution_count": null,
   "id": "fbafa97e",
   "metadata": {},
   "outputs": [],
   "source": []
  },
  {
   "cell_type": "code",
   "execution_count": 40,
   "id": "d38acf33",
   "metadata": {},
   "outputs": [],
   "source": [
    "animal = 'fruitbat'"
   ]
  },
  {
   "cell_type": "code",
   "execution_count": 41,
   "id": "fba05397",
   "metadata": {},
   "outputs": [],
   "source": [
    "def print_global():\n",
    "    print('inside print_global:',animal)\n",
    "# 다음 함수에서 전역 변수 값을 얻을 수 있다."
   ]
  },
  {
   "cell_type": "code",
   "execution_count": 42,
   "id": "9f39acb8",
   "metadata": {},
   "outputs": [
    {
     "name": "stdout",
     "output_type": "stream",
     "text": [
      "at the top level:  fruitbat\n"
     ]
    }
   ],
   "source": [
    "print('at the top level: ',animal)"
   ]
  },
  {
   "cell_type": "code",
   "execution_count": 53,
   "id": "dd90c692",
   "metadata": {},
   "outputs": [
    {
     "ename": "UnboundLocalError",
     "evalue": "local variable 'animal' referenced before assignment",
     "output_type": "error",
     "traceback": [
      "\u001b[0;31m---------------------------------------------------------------------------\u001b[0m",
      "\u001b[0;31mUnboundLocalError\u001b[0m                         Traceback (most recent call last)",
      "Cell \u001b[0;32mIn[53], line 6\u001b[0m\n\u001b[1;32m      4\u001b[0m     animal \u001b[38;5;241m=\u001b[39m \u001b[38;5;124m'\u001b[39m\u001b[38;5;124mwombat\u001b[39m\u001b[38;5;124m'\u001b[39m \u001b[38;5;66;03m# 함수 내부에 값 할당 시 파이썬은 이 변수를 지역변수로 간주함.\u001b[39;00m\n\u001b[1;32m      5\u001b[0m     \u001b[38;5;28mprint\u001b[39m(\u001b[38;5;124m'\u001b[39m\u001b[38;5;124mafter the change:\u001b[39m\u001b[38;5;124m'\u001b[39m,animal)\n\u001b[0;32m----> 6\u001b[0m \u001b[43mchange_add_print_global\u001b[49m\u001b[43m(\u001b[49m\u001b[43m)\u001b[49m\n",
      "Cell \u001b[0;32mIn[53], line 3\u001b[0m, in \u001b[0;36mchange_add_print_global\u001b[0;34m()\u001b[0m\n\u001b[1;32m      2\u001b[0m \u001b[38;5;28;01mdef\u001b[39;00m \u001b[38;5;21mchange_add_print_global\u001b[39m():\n\u001b[0;32m----> 3\u001b[0m     \u001b[38;5;28mprint\u001b[39m(\u001b[38;5;124m'\u001b[39m\u001b[38;5;124minside change\u001b[39m\u001b[38;5;124m'\u001b[39m,\u001b[43manimal\u001b[49m)\n\u001b[1;32m      4\u001b[0m     animal \u001b[38;5;241m=\u001b[39m \u001b[38;5;124m'\u001b[39m\u001b[38;5;124mwombat\u001b[39m\u001b[38;5;124m'\u001b[39m \u001b[38;5;66;03m# 함수 내부에 값 할당 시 파이썬은 이 변수를 지역변수로 간주함.\u001b[39;00m\n\u001b[1;32m      5\u001b[0m     \u001b[38;5;28mprint\u001b[39m(\u001b[38;5;124m'\u001b[39m\u001b[38;5;124mafter the change:\u001b[39m\u001b[38;5;124m'\u001b[39m,animal)\n",
      "\u001b[0;31mUnboundLocalError\u001b[0m: local variable 'animal' referenced before assignment"
     ]
    }
   ],
   "source": [
    "# 함수에서 전역 변수의 값을 얻어서 바꾸려 하면 에러가 발생할 것이다.\n",
    "def change_add_print_global():\n",
    "    print('inside change',animal)\n",
    "    animal = 'wombat' # 함수 내부에 값 할당 시 파이썬은 이 변수를 지역변수로 간주함.\n",
    "    print('after the change:',animal)\n",
    "change_add_print_global()"
   ]
  },
  {
   "cell_type": "code",
   "execution_count": 52,
   "id": "ca8c1f21",
   "metadata": {},
   "outputs": [
    {
     "data": {
      "text/plain": [
       "'fruitbat'"
      ]
     },
     "execution_count": 52,
     "metadata": {},
     "output_type": "execute_result"
    }
   ],
   "source": [
    "animal"
   ]
  },
  {
   "cell_type": "code",
   "execution_count": null,
   "id": "1a9a19cd",
   "metadata": {},
   "outputs": [],
   "source": []
  },
  {
   "cell_type": "code",
   "execution_count": 54,
   "id": "f2b038e8",
   "metadata": {},
   "outputs": [],
   "source": [
    "def change_local():\n",
    "    animal = 'wombat'\n",
    "    print('inside',animal,id(animal))"
   ]
  },
  {
   "cell_type": "code",
   "execution_count": 55,
   "id": "42b7a16f",
   "metadata": {},
   "outputs": [
    {
     "name": "stdout",
     "output_type": "stream",
     "text": [
      "inside wombat 4641086896\n"
     ]
    }
   ],
   "source": [
    "change_local()"
   ]
  },
  {
   "cell_type": "code",
   "execution_count": 56,
   "id": "a405424e",
   "metadata": {},
   "outputs": [
    {
     "data": {
      "text/plain": [
       "'fruitbat'"
      ]
     },
     "execution_count": 56,
     "metadata": {},
     "output_type": "execute_result"
    }
   ],
   "source": [
    "animal"
   ]
  },
  {
   "cell_type": "code",
   "execution_count": 57,
   "id": "b7c3edb9",
   "metadata": {},
   "outputs": [
    {
     "data": {
      "text/plain": [
       "4639504432"
      ]
     },
     "execution_count": 57,
     "metadata": {},
     "output_type": "execute_result"
    }
   ],
   "source": [
    "id(animal)"
   ]
  },
  {
   "cell_type": "code",
   "execution_count": null,
   "id": "6e54bc48",
   "metadata": {},
   "outputs": [],
   "source": []
  },
  {
   "cell_type": "code",
   "execution_count": 58,
   "id": "27ca7184",
   "metadata": {},
   "outputs": [],
   "source": [
    "animal = 'fruitbat'\n",
    "def change_and_print_global():\n",
    "    global animal\n",
    "    animal = 'wombat'\n",
    "    print('after',animal)"
   ]
  },
  {
   "cell_type": "code",
   "execution_count": 59,
   "id": "40da53e8",
   "metadata": {},
   "outputs": [
    {
     "data": {
      "text/plain": [
       "'fruitbat'"
      ]
     },
     "execution_count": 59,
     "metadata": {},
     "output_type": "execute_result"
    }
   ],
   "source": [
    "animal"
   ]
  },
  {
   "cell_type": "code",
   "execution_count": 61,
   "id": "09676889",
   "metadata": {},
   "outputs": [
    {
     "name": "stdout",
     "output_type": "stream",
     "text": [
      "after wombat\n"
     ]
    }
   ],
   "source": [
    "change_and_print_global()"
   ]
  },
  {
   "cell_type": "code",
   "execution_count": 62,
   "id": "fead987e",
   "metadata": {},
   "outputs": [
    {
     "data": {
      "text/plain": [
       "'wombat'"
      ]
     },
     "execution_count": 62,
     "metadata": {},
     "output_type": "execute_result"
    }
   ],
   "source": [
    "animal"
   ]
  },
  {
   "cell_type": "code",
   "execution_count": null,
   "id": "f6fc8b58",
   "metadata": {},
   "outputs": [],
   "source": []
  },
  {
   "cell_type": "code",
   "execution_count": 68,
   "id": "62a19178",
   "metadata": {},
   "outputs": [],
   "source": [
    "animal = 'fruitbat' # 전역변수"
   ]
  },
  {
   "cell_type": "code",
   "execution_count": 69,
   "id": "bf9434dc",
   "metadata": {},
   "outputs": [],
   "source": [
    "def change_local():\n",
    "    animal = 'wombat' # 지역변수\n",
    "    print('locals', locals())"
   ]
  },
  {
   "cell_type": "code",
   "execution_count": 70,
   "id": "4b8f436f",
   "metadata": {},
   "outputs": [
    {
     "data": {
      "text/plain": [
       "'fruitbat'"
      ]
     },
     "execution_count": 70,
     "metadata": {},
     "output_type": "execute_result"
    }
   ],
   "source": [
    "animal"
   ]
  },
  {
   "cell_type": "code",
   "execution_count": 71,
   "id": "15ffb774",
   "metadata": {},
   "outputs": [
    {
     "name": "stdout",
     "output_type": "stream",
     "text": [
      "locals {'animal': 'wombat'}\n"
     ]
    }
   ],
   "source": [
    "change_local()"
   ]
  },
  {
   "cell_type": "code",
   "execution_count": 72,
   "id": "0a96ebb3",
   "metadata": {},
   "outputs": [
    {
     "name": "stdout",
     "output_type": "stream",
     "text": [
      "globals:  {'__name__': '__main__', '__doc__': 'Automatically created module for IPython interactive environment', '__package__': None, '__loader__': None, '__spec__': None, '__builtin__': <module 'builtins' (built-in)>, '__builtins__': <module 'builtins' (built-in)>, '_ih': ['', \"def document_it(func):\\n    def new_function(*args,**kwargs):\\n        print('Running function:',func.__name__)\\n        print('Positional arguments:',args)\\n        print('Keyword arguments:',kwargs)\\n        result = func(*args, **kwargs)\\n        print('Result:',result)\\n        return result\\n    return new_function\", 'def add_ints(a,b):\\n    return a+b\\nadd_ints(3,5)', 'add_ints(3,5)', 'cooler_add_inits = document_it(add_inits) # 데커레이터 수동 할당', 'def add_ints(a,b):\\n    return a+b', 'add_ints(3,5)', 'cooler_add_inits = document_it(add_ints) # 데커레이터 수동 할당', 'cooler_add_inits(3, 5)', \"def document_it(func):\\n    def new_function(*args, **kwargs):\\n        print('Running function:',func.__name__)\\n        print('Positional arguments:',args)\\n        print('Keyword arguments:',kwargs)\\n        result = func(*args, **kwargs)\\n        print('Result:',result)\\n        return result\\n    return new_function\", 'def add_ints(a,b):\\n    return a+b', 'cooler_add_inits = document_it(add_ints) # 데커레이터 수동 할당', 'cooler_add_inits(3, 5)', 'add_ints(1,5)', 'cooler_add_inits = document_it(add_ints) # 데커레이터 수동 할당', 'cooler_add_inits(3, 5)', 'cooler_add_inits = document_it(add_ints) # 데커레이터 수동 할당', 'cooler_add_inits(3, 5)', \"def document_it(func):\\n    def new_function(*args, **kwargs):\\n        print('Running function:',func.__name__)\\n        print('Positional arguments:',args)\\n        print('Keyword arguments:',kwargs)\\n        result = func(*args, **kwargs)\\n        print('Result:',result)\\n        return result\\n    return new_function\", 'def add_ints(a,b):\\n    return a+b', 'cooler_add_inits = document_it(add_ints) # 데커레이터 수동 할당', \"def document_it(func):\\n    def new_function(*args, **kwargs):\\n        print('Running function:',func.__name__)\\n        print('Positional arguments:',args)\\n        print('Keyword arguments:',kwargs)\\n        result = func(*args, **kwargs)\\n        print('Result:',result)\\n        return result\\n    return new_function\", 'def add_ints(a,b):\\n    return a+b', 'add_ints(1,5)', 'cooler_add_inits = document_it(add_ints) # 데커레이터 수동 할당', 'cooler_add_inits(3, 5)', '@document_it\\ndef add_ints(a, b):\\n    return a + b', \"@document_it # 데코레이터를 사용하고 싶은 함수에 그냥 ''@데코레이터_이름' 추가\\ndef add_ints(a, b):\\n    return a + b\", 'add_ints(3, 5)', 'def square_it(funt):\\n    def new_function(*args, **kargs):\\n        result = func(*args, **kwargs)\\n        return result * result\\n    return new_function', '@document_it\\n@square_it\\ndef add_ints(a,b):\\n    return a + b', 'add_ints(3,5)', 'def square_it(funt):\\n    def new_function(*args, **kargs):\\n        result = func(*args, **kwargs)\\n        return result * result\\n    return new_function', '@document_it\\n@square_it\\ndef add_ints(a,b):\\n    return a + b', 'add_ints(3,5)', 'def square_it(func):\\n    def new_function(*args,**kwargs):\\n        result = func(*args,**kwargs)\\n        return result * result\\n    return new_function', '@document_it\\n@square_it\\ndef add_ints(a,b):\\n    return a + b', 'add_ints(3,5)', '@square_it\\n@document_it\\ndef add_ints(a,b):\\n    return a + b', 'add_ints(3,5)', \"animal = 'fruitbat'\", \"def print_global():\\n    print('inside print_global:',animal)\\n# 다음 함수에서 전역 변수 값을 얻을 수 있다.\", \"print('at the top level: ',animal)\", \"# 함수에서 전역 변수의 값을 얻어서 바꾸려 하면 에러가 발생할 것이다.\\ndef change_add_print_global():\\n    print('inside change',animal)\\n    animal = 'wombat'\\n    print('after the change:',animal)\\nchange_add_print_global()\", \"# 함수에서 전역 변수의 값을 얻어서 바꾸려 하면 에러가 발생할 것이다.\\ndef change_add_print_global():\\n    print('inside change',animal)\\n    //animal = 'wombat'\\n    print('after the change:',animal)\\nchange_add_print_global()\", \"# 함수에서 전역 변수의 값을 얻어서 바꾸려 하면 에러가 발생할 것이다.\\ndef change_add_print_global():\\n    print('inside change',animal)\\n    # animal = 'wombat'\\n    print('after the change:',animal)\\nchange_add_print_global()\", \"# 함수에서 전역 변수의 값을 얻어서 바꾸려 하면 에러가 발생할 것이다.\\ndef change_add_print_global():\\n    print('inside change',animal)\\n    animal = 'wombat'\\n    print('after the change:',animal)\\nchange_add_print_global()\", \"# 함수에서 전역 변수의 값을 얻어서 바꾸려 하면 에러가 발생할 것이다.\\ndef change_add_print_global():\\n    print('inside change',animal)\\n    animal = 'wombat'\\n    print('after the change:',animal)\\nchange_add_print_global()\", \"# 함수에서 전역 변수의 값을 얻어서 바꾸려 하면 에러가 발생할 것이다.\\ndef change_add_print_global():\\n    print('inside change',animal)\\n    animal = 'wombat'\\n    print('after the change:',animal)\\nchange_add_print_global()\", \"# 함수에서 전역 변수의 값을 얻어서 바꾸려 하면 에러가 발생할 것이다.\\ndef change_add_print_global():\\n#     print('inside change',animal)\\n    animal = 'wombat'\\n    print('after the change:',animal)\\nchange_add_print_global()\", \"# 함수에서 전역 변수의 값을 얻어서 바꾸려 하면 에러가 발생할 것이다.\\ndef change_add_print_global():\\n    print('inside change',animal)#\\n    animal = 'wombat' # 함수 내부에 값 할당 시 파이썬은 이 변수를 지역변수로 간주함.\\n    print('after the change:',animal)\\nchange_add_print_global()\", \"# 함수에서 전역 변수의 값을 얻어서 바꾸려 하면 에러가 발생할 것이다.\\ndef change_add_print_global():\\n#     print('inside change',animal)\\n    animal = 'wombat' # 함수 내부에 값 할당 시 파이썬은 이 변수를 지역변수로 간주함.\\n    print('after the change:',animal)\\nchange_add_print_global()\", 'animal', \"# 함수에서 전역 변수의 값을 얻어서 바꾸려 하면 에러가 발생할 것이다.\\ndef change_add_print_global():\\n    print('inside change',animal)\\n    animal = 'wombat' # 함수 내부에 값 할당 시 파이썬은 이 변수를 지역변수로 간주함.\\n    print('after the change:',animal)\\nchange_add_print_global()\", \"def change_local():\\n    animal = 'wombat'\\n    print('inside',animal,id(animal))\", 'change_local()', 'animal', 'id(animal)', \"animal = 'fruitbat'\\ndef change_and_print_global():\\n    global animal\\n    animal = 'wombat'\\n    print('after',animal)\", 'animal', 'change_add_print_global()', 'change_and_print_global()', 'animal', \"animal = 'fruitbat' # 전역변수\", \"def change_local():\\n    animal = 'wombat' # 지역변수\", \"def change_local():\\n    animal = 'wombat' # 지역변수\\n    print('locals', locals())\", 'animals', 'animal', \"animal = 'fruitbat' # 전역변수\", \"def change_local():\\n    animal = 'wombat' # 지역변수\\n    print('locals', locals())\", 'animal', 'change_local()', \"print('globals: ', globals())\"], '_oh': {2: 8, 3: 8, 6: 8, 8: 8, 12: 8, 13: 6, 15: 8, 17: 8, 23: 6, 25: 8, 28: 8, 37: 64, 39: 64, 52: 'fruitbat', 56: 'fruitbat', 57: 4639504432, 59: 'fruitbat', 62: 'wombat', 67: 'fruitbat', 70: 'fruitbat'}, '_dh': [PosixPath('/Users/coals0115/study/python/python-study/Introducing-Python')], 'In': ['', \"def document_it(func):\\n    def new_function(*args,**kwargs):\\n        print('Running function:',func.__name__)\\n        print('Positional arguments:',args)\\n        print('Keyword arguments:',kwargs)\\n        result = func(*args, **kwargs)\\n        print('Result:',result)\\n        return result\\n    return new_function\", 'def add_ints(a,b):\\n    return a+b\\nadd_ints(3,5)', 'add_ints(3,5)', 'cooler_add_inits = document_it(add_inits) # 데커레이터 수동 할당', 'def add_ints(a,b):\\n    return a+b', 'add_ints(3,5)', 'cooler_add_inits = document_it(add_ints) # 데커레이터 수동 할당', 'cooler_add_inits(3, 5)', \"def document_it(func):\\n    def new_function(*args, **kwargs):\\n        print('Running function:',func.__name__)\\n        print('Positional arguments:',args)\\n        print('Keyword arguments:',kwargs)\\n        result = func(*args, **kwargs)\\n        print('Result:',result)\\n        return result\\n    return new_function\", 'def add_ints(a,b):\\n    return a+b', 'cooler_add_inits = document_it(add_ints) # 데커레이터 수동 할당', 'cooler_add_inits(3, 5)', 'add_ints(1,5)', 'cooler_add_inits = document_it(add_ints) # 데커레이터 수동 할당', 'cooler_add_inits(3, 5)', 'cooler_add_inits = document_it(add_ints) # 데커레이터 수동 할당', 'cooler_add_inits(3, 5)', \"def document_it(func):\\n    def new_function(*args, **kwargs):\\n        print('Running function:',func.__name__)\\n        print('Positional arguments:',args)\\n        print('Keyword arguments:',kwargs)\\n        result = func(*args, **kwargs)\\n        print('Result:',result)\\n        return result\\n    return new_function\", 'def add_ints(a,b):\\n    return a+b', 'cooler_add_inits = document_it(add_ints) # 데커레이터 수동 할당', \"def document_it(func):\\n    def new_function(*args, **kwargs):\\n        print('Running function:',func.__name__)\\n        print('Positional arguments:',args)\\n        print('Keyword arguments:',kwargs)\\n        result = func(*args, **kwargs)\\n        print('Result:',result)\\n        return result\\n    return new_function\", 'def add_ints(a,b):\\n    return a+b', 'add_ints(1,5)', 'cooler_add_inits = document_it(add_ints) # 데커레이터 수동 할당', 'cooler_add_inits(3, 5)', '@document_it\\ndef add_ints(a, b):\\n    return a + b', \"@document_it # 데코레이터를 사용하고 싶은 함수에 그냥 ''@데코레이터_이름' 추가\\ndef add_ints(a, b):\\n    return a + b\", 'add_ints(3, 5)', 'def square_it(funt):\\n    def new_function(*args, **kargs):\\n        result = func(*args, **kwargs)\\n        return result * result\\n    return new_function', '@document_it\\n@square_it\\ndef add_ints(a,b):\\n    return a + b', 'add_ints(3,5)', 'def square_it(funt):\\n    def new_function(*args, **kargs):\\n        result = func(*args, **kwargs)\\n        return result * result\\n    return new_function', '@document_it\\n@square_it\\ndef add_ints(a,b):\\n    return a + b', 'add_ints(3,5)', 'def square_it(func):\\n    def new_function(*args,**kwargs):\\n        result = func(*args,**kwargs)\\n        return result * result\\n    return new_function', '@document_it\\n@square_it\\ndef add_ints(a,b):\\n    return a + b', 'add_ints(3,5)', '@square_it\\n@document_it\\ndef add_ints(a,b):\\n    return a + b', 'add_ints(3,5)', \"animal = 'fruitbat'\", \"def print_global():\\n    print('inside print_global:',animal)\\n# 다음 함수에서 전역 변수 값을 얻을 수 있다.\", \"print('at the top level: ',animal)\", \"# 함수에서 전역 변수의 값을 얻어서 바꾸려 하면 에러가 발생할 것이다.\\ndef change_add_print_global():\\n    print('inside change',animal)\\n    animal = 'wombat'\\n    print('after the change:',animal)\\nchange_add_print_global()\", \"# 함수에서 전역 변수의 값을 얻어서 바꾸려 하면 에러가 발생할 것이다.\\ndef change_add_print_global():\\n    print('inside change',animal)\\n    //animal = 'wombat'\\n    print('after the change:',animal)\\nchange_add_print_global()\", \"# 함수에서 전역 변수의 값을 얻어서 바꾸려 하면 에러가 발생할 것이다.\\ndef change_add_print_global():\\n    print('inside change',animal)\\n    # animal = 'wombat'\\n    print('after the change:',animal)\\nchange_add_print_global()\", \"# 함수에서 전역 변수의 값을 얻어서 바꾸려 하면 에러가 발생할 것이다.\\ndef change_add_print_global():\\n    print('inside change',animal)\\n    animal = 'wombat'\\n    print('after the change:',animal)\\nchange_add_print_global()\", \"# 함수에서 전역 변수의 값을 얻어서 바꾸려 하면 에러가 발생할 것이다.\\ndef change_add_print_global():\\n    print('inside change',animal)\\n    animal = 'wombat'\\n    print('after the change:',animal)\\nchange_add_print_global()\", \"# 함수에서 전역 변수의 값을 얻어서 바꾸려 하면 에러가 발생할 것이다.\\ndef change_add_print_global():\\n    print('inside change',animal)\\n    animal = 'wombat'\\n    print('after the change:',animal)\\nchange_add_print_global()\", \"# 함수에서 전역 변수의 값을 얻어서 바꾸려 하면 에러가 발생할 것이다.\\ndef change_add_print_global():\\n#     print('inside change',animal)\\n    animal = 'wombat'\\n    print('after the change:',animal)\\nchange_add_print_global()\", \"# 함수에서 전역 변수의 값을 얻어서 바꾸려 하면 에러가 발생할 것이다.\\ndef change_add_print_global():\\n    print('inside change',animal)#\\n    animal = 'wombat' # 함수 내부에 값 할당 시 파이썬은 이 변수를 지역변수로 간주함.\\n    print('after the change:',animal)\\nchange_add_print_global()\", \"# 함수에서 전역 변수의 값을 얻어서 바꾸려 하면 에러가 발생할 것이다.\\ndef change_add_print_global():\\n#     print('inside change',animal)\\n    animal = 'wombat' # 함수 내부에 값 할당 시 파이썬은 이 변수를 지역변수로 간주함.\\n    print('after the change:',animal)\\nchange_add_print_global()\", 'animal', \"# 함수에서 전역 변수의 값을 얻어서 바꾸려 하면 에러가 발생할 것이다.\\ndef change_add_print_global():\\n    print('inside change',animal)\\n    animal = 'wombat' # 함수 내부에 값 할당 시 파이썬은 이 변수를 지역변수로 간주함.\\n    print('after the change:',animal)\\nchange_add_print_global()\", \"def change_local():\\n    animal = 'wombat'\\n    print('inside',animal,id(animal))\", 'change_local()', 'animal', 'id(animal)', \"animal = 'fruitbat'\\ndef change_and_print_global():\\n    global animal\\n    animal = 'wombat'\\n    print('after',animal)\", 'animal', 'change_add_print_global()', 'change_and_print_global()', 'animal', \"animal = 'fruitbat' # 전역변수\", \"def change_local():\\n    animal = 'wombat' # 지역변수\", \"def change_local():\\n    animal = 'wombat' # 지역변수\\n    print('locals', locals())\", 'animals', 'animal', \"animal = 'fruitbat' # 전역변수\", \"def change_local():\\n    animal = 'wombat' # 지역변수\\n    print('locals', locals())\", 'animal', 'change_local()', \"print('globals: ', globals())\"], 'Out': {2: 8, 3: 8, 6: 8, 8: 8, 12: 8, 13: 6, 15: 8, 17: 8, 23: 6, 25: 8, 28: 8, 37: 64, 39: 64, 52: 'fruitbat', 56: 'fruitbat', 57: 4639504432, 59: 'fruitbat', 62: 'wombat', 67: 'fruitbat', 70: 'fruitbat'}, 'get_ipython': <bound method InteractiveShell.get_ipython of <ipykernel.zmqshell.ZMQInteractiveShell object at 0x1122d9b40>>, 'exit': <IPython.core.autocall.ZMQExitAutocall object at 0x1122d9240>, 'quit': <IPython.core.autocall.ZMQExitAutocall object at 0x1122d9240>, 'open': <function open at 0x110f32290>, '_': 'fruitbat', '__': 'fruitbat', '___': 'wombat', '_i': 'change_local()', '_ii': 'animal', '_iii': \"def change_local():\\n    animal = 'wombat' # 지역변수\\n    print('locals', locals())\", '_i1': \"def document_it(func):\\n    def new_function(*args,**kwargs):\\n        print('Running function:',func.__name__)\\n        print('Positional arguments:',args)\\n        print('Keyword arguments:',kwargs)\\n        result = func(*args, **kwargs)\\n        print('Result:',result)\\n        return result\\n    return new_function\", 'document_it': <function document_it at 0x114662440>, '_i2': 'def add_ints(a,b):\\n    return a+b\\nadd_ints(3,5)', 'add_ints': <function square_it.<locals>.new_function at 0x1148e8dc0>, '_2': 8, '_i3': 'add_ints(3,5)', '_3': 8, '_i4': 'cooler_add_inits = document_it(add_inits) # 데커레이터 수동 할당', '_i5': 'def add_ints(a,b):\\n    return a+b', '_i6': 'add_ints(3,5)', '_6': 8, '_i7': 'cooler_add_inits = document_it(add_ints) # 데커레이터 수동 할당', 'cooler_add_inits': <function document_it.<locals>.new_function at 0x1146632e0>, '_i8': 'cooler_add_inits(3, 5)', '_8': 8, '_i9': \"def document_it(func):\\n    def new_function(*args, **kwargs):\\n        print('Running function:',func.__name__)\\n        print('Positional arguments:',args)\\n        print('Keyword arguments:',kwargs)\\n        result = func(*args, **kwargs)\\n        print('Result:',result)\\n        return result\\n    return new_function\", '_i10': 'def add_ints(a,b):\\n    return a+b', '_i11': 'cooler_add_inits = document_it(add_ints) # 데커레이터 수동 할당', '_i12': 'cooler_add_inits(3, 5)', '_12': 8, '_i13': 'add_ints(1,5)', '_13': 6, '_i14': 'cooler_add_inits = document_it(add_ints) # 데커레이터 수동 할당', '_i15': 'cooler_add_inits(3, 5)', '_15': 8, '_i16': 'cooler_add_inits = document_it(add_ints) # 데커레이터 수동 할당', '_i17': 'cooler_add_inits(3, 5)', '_17': 8, '_i18': \"def document_it(func):\\n    def new_function(*args, **kwargs):\\n        print('Running function:',func.__name__)\\n        print('Positional arguments:',args)\\n        print('Keyword arguments:',kwargs)\\n        result = func(*args, **kwargs)\\n        print('Result:',result)\\n        return result\\n    return new_function\", '_i19': 'def add_ints(a,b):\\n    return a+b', '_i20': 'cooler_add_inits = document_it(add_ints) # 데커레이터 수동 할당', '_i21': \"def document_it(func):\\n    def new_function(*args, **kwargs):\\n        print('Running function:',func.__name__)\\n        print('Positional arguments:',args)\\n        print('Keyword arguments:',kwargs)\\n        result = func(*args, **kwargs)\\n        print('Result:',result)\\n        return result\\n    return new_function\", '_i22': 'def add_ints(a,b):\\n    return a+b', '_i23': 'add_ints(1,5)', '_23': 6, '_i24': 'cooler_add_inits = document_it(add_ints) # 데커레이터 수동 할당', '_i25': 'cooler_add_inits(3, 5)', '_25': 8, '_i26': '@document_it\\ndef add_ints(a, b):\\n    return a + b', '_i27': \"@document_it # 데코레이터를 사용하고 싶은 함수에 그냥 ''@데코레이터_이름' 추가\\ndef add_ints(a, b):\\n    return a + b\", '_i28': 'add_ints(3, 5)', '_28': 8, '_i29': 'def square_it(funt):\\n    def new_function(*args, **kargs):\\n        result = func(*args, **kwargs)\\n        return result * result\\n    return new_function', 'square_it': <function square_it at 0x1148ea0e0>, '_i30': '@document_it\\n@square_it\\ndef add_ints(a,b):\\n    return a + b', '_i31': 'add_ints(3,5)', '_i32': 'def square_it(funt):\\n    def new_function(*args, **kargs):\\n        result = func(*args, **kwargs)\\n        return result * result\\n    return new_function', '_i33': '@document_it\\n@square_it\\ndef add_ints(a,b):\\n    return a + b', '_i34': 'add_ints(3,5)', '_i35': 'def square_it(func):\\n    def new_function(*args,**kwargs):\\n        result = func(*args,**kwargs)\\n        return result * result\\n    return new_function', '_i36': '@document_it\\n@square_it\\ndef add_ints(a,b):\\n    return a + b', '_i37': 'add_ints(3,5)', '_37': 64, '_i38': '@square_it\\n@document_it\\ndef add_ints(a,b):\\n    return a + b', '_i39': 'add_ints(3,5)', '_39': 64, '_i40': \"animal = 'fruitbat'\", 'animal': 'fruitbat', '_i41': \"def print_global():\\n    print('inside print_global:',animal)\\n# 다음 함수에서 전역 변수 값을 얻을 수 있다.\", 'print_global': <function print_global at 0x1148eab90>, '_i42': \"print('at the top level: ',animal)\", '_i43': \"# 함수에서 전역 변수의 값을 얻어서 바꾸려 하면 에러가 발생할 것이다.\\ndef change_add_print_global():\\n    print('inside change',animal)\\n    animal = 'wombat'\\n    print('after the change:',animal)\\nchange_add_print_global()\", 'change_add_print_global': <function change_add_print_global at 0x114a83e20>, '_i44': \"# 함수에서 전역 변수의 값을 얻어서 바꾸려 하면 에러가 발생할 것이다.\\ndef change_add_print_global():\\n    print('inside change',animal)\\n    //animal = 'wombat'\\n    print('after the change:',animal)\\nchange_add_print_global()\", '_i45': \"# 함수에서 전역 변수의 값을 얻어서 바꾸려 하면 에러가 발생할 것이다.\\ndef change_add_print_global():\\n    print('inside change',animal)\\n    # animal = 'wombat'\\n    print('after the change:',animal)\\nchange_add_print_global()\", '_i46': \"# 함수에서 전역 변수의 값을 얻어서 바꾸려 하면 에러가 발생할 것이다.\\ndef change_add_print_global():\\n    print('inside change',animal)\\n    animal = 'wombat'\\n    print('after the change:',animal)\\nchange_add_print_global()\", '_i47': \"# 함수에서 전역 변수의 값을 얻어서 바꾸려 하면 에러가 발생할 것이다.\\ndef change_add_print_global():\\n    print('inside change',animal)\\n    animal = 'wombat'\\n    print('after the change:',animal)\\nchange_add_print_global()\", '_i48': \"# 함수에서 전역 변수의 값을 얻어서 바꾸려 하면 에러가 발생할 것이다.\\ndef change_add_print_global():\\n    print('inside change',animal)\\n    animal = 'wombat'\\n    print('after the change:',animal)\\nchange_add_print_global()\", '_i49': \"# 함수에서 전역 변수의 값을 얻어서 바꾸려 하면 에러가 발생할 것이다.\\ndef change_add_print_global():\\n#     print('inside change',animal)\\n    animal = 'wombat'\\n    print('after the change:',animal)\\nchange_add_print_global()\", '_i50': \"# 함수에서 전역 변수의 값을 얻어서 바꾸려 하면 에러가 발생할 것이다.\\ndef change_add_print_global():\\n    print('inside change',animal)#\\n    animal = 'wombat' # 함수 내부에 값 할당 시 파이썬은 이 변수를 지역변수로 간주함.\\n    print('after the change:',animal)\\nchange_add_print_global()\", '_i51': \"# 함수에서 전역 변수의 값을 얻어서 바꾸려 하면 에러가 발생할 것이다.\\ndef change_add_print_global():\\n#     print('inside change',animal)\\n    animal = 'wombat' # 함수 내부에 값 할당 시 파이썬은 이 변수를 지역변수로 간주함.\\n    print('after the change:',animal)\\nchange_add_print_global()\", '_i52': 'animal', '_52': 'fruitbat', '_i53': \"# 함수에서 전역 변수의 값을 얻어서 바꾸려 하면 에러가 발생할 것이다.\\ndef change_add_print_global():\\n    print('inside change',animal)\\n    animal = 'wombat' # 함수 내부에 값 할당 시 파이썬은 이 변수를 지역변수로 간주함.\\n    print('after the change:',animal)\\nchange_add_print_global()\", '_i54': \"def change_local():\\n    animal = 'wombat'\\n    print('inside',animal,id(animal))\", 'change_local': <function change_local at 0x114aecca0>, '_i55': 'change_local()', '_i56': 'animal', '_56': 'fruitbat', '_i57': 'id(animal)', '_57': 4639504432, '_i58': \"animal = 'fruitbat'\\ndef change_and_print_global():\\n    global animal\\n    animal = 'wombat'\\n    print('after',animal)\", 'change_and_print_global': <function change_and_print_global at 0x114a832e0>, '_i59': 'animal', '_59': 'fruitbat', '_i60': 'change_add_print_global()', '_i61': 'change_and_print_global()', '_i62': 'animal', '_62': 'wombat', '_i63': \"animal = 'fruitbat' # 전역변수\", '_i64': \"def change_local():\\n    animal = 'wombat' # 지역변수\", '_i65': \"def change_local():\\n    animal = 'wombat' # 지역변수\\n    print('locals', locals())\", '_i66': 'animals', '_i67': 'animal', '_67': 'fruitbat', '_i68': \"animal = 'fruitbat' # 전역변수\", '_i69': \"def change_local():\\n    animal = 'wombat' # 지역변수\\n    print('locals', locals())\", '_i70': 'animal', '_70': 'fruitbat', '_i71': 'change_local()', '_i72': \"print('globals: ', globals())\"}\n"
     ]
    }
   ],
   "source": [
    "print('globals: ', globals())"
   ]
  },
  {
   "cell_type": "code",
   "execution_count": 73,
   "id": "23c39cd0",
   "metadata": {},
   "outputs": [
    {
     "data": {
      "text/plain": [
       "'fruitbat'"
      ]
     },
     "execution_count": 73,
     "metadata": {},
     "output_type": "execute_result"
    }
   ],
   "source": [
    "animal"
   ]
  },
  {
   "cell_type": "code",
   "execution_count": null,
   "id": "bcb832db",
   "metadata": {},
   "outputs": [],
   "source": []
  },
  {
   "cell_type": "code",
   "execution_count": 74,
   "id": "babd5438",
   "metadata": {},
   "outputs": [],
   "source": [
    "def amazing():\n",
    "    '''This is the amazing function.\n",
    "    Want to see it again?'''\n",
    "    print('This function is named:', amazing.__name__)\n",
    "    print('And its docstring is', amazing.__doc__)"
   ]
  },
  {
   "cell_type": "code",
   "execution_count": 75,
   "id": "6fa792bb",
   "metadata": {},
   "outputs": [
    {
     "name": "stdout",
     "output_type": "stream",
     "text": [
      "This function is named: amazing\n",
      "And its docstring is This is the amazing function.\n",
      "    Want to see it again?\n"
     ]
    }
   ],
   "source": [
    "amazing()"
   ]
  },
  {
   "cell_type": "code",
   "execution_count": null,
   "id": "e1378a79",
   "metadata": {},
   "outputs": [],
   "source": []
  },
  {
   "cell_type": "code",
   "execution_count": 76,
   "id": "c1f76573",
   "metadata": {},
   "outputs": [],
   "source": [
    "def dive():\n",
    "    return dive()"
   ]
  },
  {
   "cell_type": "code",
   "execution_count": 77,
   "id": "6fde5fbb",
   "metadata": {},
   "outputs": [
    {
     "ename": "RecursionError",
     "evalue": "maximum recursion depth exceeded",
     "output_type": "error",
     "traceback": [
      "\u001b[0;31m---------------------------------------------------------------------------\u001b[0m",
      "\u001b[0;31mRecursionError\u001b[0m                            Traceback (most recent call last)",
      "Cell \u001b[0;32mIn[77], line 1\u001b[0m\n\u001b[0;32m----> 1\u001b[0m \u001b[43mdive\u001b[49m\u001b[43m(\u001b[49m\u001b[43m)\u001b[49m\n",
      "Cell \u001b[0;32mIn[76], line 2\u001b[0m, in \u001b[0;36mdive\u001b[0;34m()\u001b[0m\n\u001b[1;32m      1\u001b[0m \u001b[38;5;28;01mdef\u001b[39;00m \u001b[38;5;21mdive\u001b[39m():\n\u001b[0;32m----> 2\u001b[0m     \u001b[38;5;28;01mreturn\u001b[39;00m \u001b[43mdive\u001b[49m\u001b[43m(\u001b[49m\u001b[43m)\u001b[49m\n",
      "Cell \u001b[0;32mIn[76], line 2\u001b[0m, in \u001b[0;36mdive\u001b[0;34m()\u001b[0m\n\u001b[1;32m      1\u001b[0m \u001b[38;5;28;01mdef\u001b[39;00m \u001b[38;5;21mdive\u001b[39m():\n\u001b[0;32m----> 2\u001b[0m     \u001b[38;5;28;01mreturn\u001b[39;00m \u001b[43mdive\u001b[49m\u001b[43m(\u001b[49m\u001b[43m)\u001b[49m\n",
      "    \u001b[0;31m[... skipping similar frames: dive at line 2 (2970 times)]\u001b[0m\n",
      "Cell \u001b[0;32mIn[76], line 2\u001b[0m, in \u001b[0;36mdive\u001b[0;34m()\u001b[0m\n\u001b[1;32m      1\u001b[0m \u001b[38;5;28;01mdef\u001b[39;00m \u001b[38;5;21mdive\u001b[39m():\n\u001b[0;32m----> 2\u001b[0m     \u001b[38;5;28;01mreturn\u001b[39;00m \u001b[43mdive\u001b[49m\u001b[43m(\u001b[49m\u001b[43m)\u001b[49m\n",
      "\u001b[0;31mRecursionError\u001b[0m: maximum recursion depth exceeded"
     ]
    }
   ],
   "source": [
    "dive()"
   ]
  },
  {
   "cell_type": "code",
   "execution_count": 78,
   "id": "8f7727f1",
   "metadata": {},
   "outputs": [],
   "source": [
    "import sys"
   ]
  },
  {
   "cell_type": "code",
   "execution_count": 80,
   "id": "d647c007",
   "metadata": {},
   "outputs": [
    {
     "data": {
      "text/plain": [
       "3000"
      ]
     },
     "execution_count": 80,
     "metadata": {},
     "output_type": "execute_result"
    }
   ],
   "source": [
    "sys.getrecursionlimit() # 제귀 제한 얻기"
   ]
  },
  {
   "cell_type": "code",
   "execution_count": 81,
   "id": "26a2d618",
   "metadata": {},
   "outputs": [
    {
     "ename": "AttributeError",
     "evalue": "module 'sys' has no attribute 'setrecursionlimite'",
     "output_type": "error",
     "traceback": [
      "\u001b[0;31m---------------------------------------------------------------------------\u001b[0m",
      "\u001b[0;31mAttributeError\u001b[0m                            Traceback (most recent call last)",
      "Cell \u001b[0;32mIn[81], line 1\u001b[0m\n\u001b[0;32m----> 1\u001b[0m \u001b[43msys\u001b[49m\u001b[38;5;241;43m.\u001b[39;49m\u001b[43msetrecursionlimite\u001b[49m(\u001b[38;5;241m1500\u001b[39m)\n",
      "\u001b[0;31mAttributeError\u001b[0m: module 'sys' has no attribute 'setrecursionlimite'"
     ]
    }
   ],
   "source": [
    "sys.setrecursionlimite(1500) # 재귀 함수 제한 설정하기"
   ]
  },
  {
   "cell_type": "code",
   "execution_count": null,
   "id": "ee5cb7ff",
   "metadata": {},
   "outputs": [],
   "source": []
  },
  {
   "cell_type": "code",
   "execution_count": 96,
   "id": "58555455",
   "metadata": {},
   "outputs": [],
   "source": [
    "def flatten(lol):\n",
    "        for item in lol:\n",
    "            if isinstance(item, list):\n",
    "                for subitem in flatten(item):\n",
    "                    yield subitem\n",
    "            else:\n",
    "                yield item"
   ]
  },
  {
   "cell_type": "code",
   "execution_count": 93,
   "id": "61446be8",
   "metadata": {},
   "outputs": [],
   "source": [
    "lol = [1,2,[3,4,5],[6,[7,8,9],[]]]"
   ]
  },
  {
   "cell_type": "code",
   "execution_count": 94,
   "id": "a0fef984",
   "metadata": {},
   "outputs": [
    {
     "data": {
      "text/plain": [
       "<generator object flatten at 0x1148a2500>"
      ]
     },
     "execution_count": 94,
     "metadata": {},
     "output_type": "execute_result"
    }
   ],
   "source": [
    "flatten(lol)"
   ]
  },
  {
   "cell_type": "code",
   "execution_count": 95,
   "id": "54d8fb7f",
   "metadata": {},
   "outputs": [
    {
     "name": "stdout",
     "output_type": "stream",
     "text": [
      "item:  [3, 4, 5]\n",
      "flatten(item):  <generator object flatten at 0x1148a2ea0>\n",
      "subitem:  3\n",
      "item:  [3, 4, 5]\n",
      "flatten(item):  <generator object flatten at 0x1148a2ea0>\n",
      "subitem:  4\n",
      "item:  [3, 4, 5]\n",
      "flatten(item):  <generator object flatten at 0x1148a2ea0>\n",
      "subitem:  5\n",
      "item:  [6, [7, 8, 9], []]\n",
      "flatten(item):  <generator object flatten at 0x1148a2ea0>\n",
      "subitem:  6\n",
      "item:  [7, 8, 9]\n",
      "flatten(item):  <generator object flatten at 0x1148a3370>\n",
      "subitem:  7\n",
      "item:  [6, [7, 8, 9], []]\n",
      "flatten(item):  <generator object flatten at 0x1148a3370>\n",
      "subitem:  7\n",
      "item:  [7, 8, 9]\n",
      "flatten(item):  <generator object flatten at 0x1148a3370>\n",
      "subitem:  8\n",
      "item:  [6, [7, 8, 9], []]\n",
      "flatten(item):  <generator object flatten at 0x1148a3370>\n",
      "subitem:  8\n",
      "item:  [7, 8, 9]\n",
      "flatten(item):  <generator object flatten at 0x1148a3370>\n",
      "subitem:  9\n",
      "item:  [6, [7, 8, 9], []]\n",
      "flatten(item):  <generator object flatten at 0x1148a3370>\n",
      "subitem:  9\n"
     ]
    },
    {
     "data": {
      "text/plain": [
       "[1, 2, 3, 4, 5, 6, 7, 8, 9]"
      ]
     },
     "execution_count": 95,
     "metadata": {},
     "output_type": "execute_result"
    }
   ],
   "source": [
    "list(flatten(lol))"
   ]
  },
  {
   "cell_type": "code",
   "execution_count": 98,
   "id": "ed230d77",
   "metadata": {},
   "outputs": [],
   "source": [
    "def flatten(lol):\n",
    "        for item in lol:\n",
    "            if isinstance(item, list):\n",
    "                yield from flatten(item)\n",
    "            else:\n",
    "                yield item"
   ]
  },
  {
   "cell_type": "code",
   "execution_count": 99,
   "id": "5153194e",
   "metadata": {},
   "outputs": [],
   "source": [
    "lol = [1,2,[3,4,5],[6,[7,8,9],[]]]"
   ]
  },
  {
   "cell_type": "code",
   "execution_count": 101,
   "id": "c2653f78",
   "metadata": {},
   "outputs": [
    {
     "data": {
      "text/plain": [
       "[1, 2, 3, 4, 5, 6, 7, 8, 9]"
      ]
     },
     "execution_count": 101,
     "metadata": {},
     "output_type": "execute_result"
    }
   ],
   "source": [
    "list(flatten(lol))"
   ]
  },
  {
   "cell_type": "code",
   "execution_count": 102,
   "id": "46eadd12",
   "metadata": {},
   "outputs": [
    {
     "name": "stdout",
     "output_type": "stream",
     "text": [
      "Need 0 and 2  but got 5\n"
     ]
    }
   ],
   "source": [
    "short_list=[1,2,3]\n",
    "position = 5\n",
    "try:\n",
    "    short_list[position]\n",
    "except:\n",
    "    print(\"Need 0 and\",len(short_list)-1, ' but got',position)"
   ]
  },
  {
   "cell_type": "code",
   "execution_count": null,
   "id": "35e694b3",
   "metadata": {},
   "outputs": [],
   "source": []
  },
  {
   "cell_type": "code",
   "execution_count": 103,
   "id": "972183a5",
   "metadata": {},
   "outputs": [
    {
     "name": "stdout",
     "output_type": "stream",
     "text": [
      "Position [q to quit]? 1\n",
      "2\n",
      "Position [q to quit]? 0\n",
      "1\n",
      "Position [q to quit]? 2\n",
      "3\n",
      "Position [q to quit]? 3\n",
      "Bad index: 3\n",
      "Position [q to quit]? 2\n",
      "3\n",
      "Position [q to quit]? two\n",
      "Something else broke invalid literal for int() with base 10: 'two'\n",
      "Position [q to quit]? q\n"
     ]
    }
   ],
   "source": [
    "short_list=[1, 2, 3]\n",
    "while True:\n",
    "    value = input('Position [q to quit]? ')\n",
    "    if value == 'q':\n",
    "        break\n",
    "    try:\n",
    "        position = int(value)\n",
    "        print(short_list[position])\n",
    "    except IndexError as err:\n",
    "        print('Bad index:', position)\n",
    "    except Exception as other:\n",
    "        print('Something else broke', other)"
   ]
  },
  {
   "cell_type": "code",
   "execution_count": 104,
   "id": "6b63f627",
   "metadata": {},
   "outputs": [],
   "source": [
    "class UppercaseException(Exception):\n",
    "    pass"
   ]
  },
  {
   "cell_type": "code",
   "execution_count": 105,
   "id": "cfcba297",
   "metadata": {},
   "outputs": [],
   "source": [
    "words=['eenie', 'meenie', 'miny', 'MO']"
   ]
  },
  {
   "cell_type": "code",
   "execution_count": 106,
   "id": "5845e3b2",
   "metadata": {},
   "outputs": [
    {
     "ename": "UppercaseException",
     "evalue": "MO",
     "output_type": "error",
     "traceback": [
      "\u001b[0;31m---------------------------------------------------------------------------\u001b[0m",
      "\u001b[0;31mUppercaseException\u001b[0m                        Traceback (most recent call last)",
      "Cell \u001b[0;32mIn[106], line 3\u001b[0m\n\u001b[1;32m      1\u001b[0m \u001b[38;5;28;01mfor\u001b[39;00m word \u001b[38;5;129;01min\u001b[39;00m words:\n\u001b[1;32m      2\u001b[0m     \u001b[38;5;28;01mif\u001b[39;00m word\u001b[38;5;241m.\u001b[39misupper():\n\u001b[0;32m----> 3\u001b[0m         \u001b[38;5;28;01mraise\u001b[39;00m UppercaseException(word)\n",
      "\u001b[0;31mUppercaseException\u001b[0m: MO"
     ]
    }
   ],
   "source": [
    "for word in words:\n",
    "    if word.isupper():\n",
    "        raise UppercaseException(word)"
   ]
  },
  {
   "cell_type": "code",
   "execution_count": null,
   "id": "19edf1a1",
   "metadata": {},
   "outputs": [],
   "source": []
  },
  {
   "cell_type": "code",
   "execution_count": 107,
   "id": "933124dc",
   "metadata": {},
   "outputs": [
    {
     "name": "stdout",
     "output_type": "stream",
     "text": [
      "panic\n"
     ]
    }
   ],
   "source": [
    "try:\n",
    "    raise UppercaseException('panic')\n",
    "except UppercaseException as exc:\n",
    "    print(exc)"
   ]
  },
  {
   "cell_type": "code",
   "execution_count": null,
   "id": "295f843f",
   "metadata": {},
   "outputs": [],
   "source": []
  },
  {
   "cell_type": "code",
   "execution_count": 108,
   "id": "d86741ca",
   "metadata": {},
   "outputs": [
    {
     "name": "stdout",
     "output_type": "stream",
     "text": [
      "test\n"
     ]
    }
   ],
   "source": [
    "print('test')"
   ]
  },
  {
   "cell_type": "code",
   "execution_count": null,
   "id": "55a9370e",
   "metadata": {},
   "outputs": [],
   "source": []
  },
  {
   "cell_type": "markdown",
   "id": "8874eddd",
   "metadata": {},
   "source": [
    "# 연습문제"
   ]
  },
  {
   "cell_type": "markdown",
   "id": "5edd07bf",
   "metadata": {},
   "source": [
    "## 1번) [’Harry’, ‘Ron’, ‘Hermione’] 리스트를 반환하는 good() 함수를 정의해보자."
   ]
  },
  {
   "cell_type": "code",
   "execution_count": 111,
   "id": "33a90ddf",
   "metadata": {},
   "outputs": [],
   "source": [
    "def good():\n",
    "    list_tmp = ['Harry', 'Ron', 'Hermione']\n",
    "    return list_tmp"
   ]
  },
  {
   "cell_type": "code",
   "execution_count": 113,
   "id": "aaa52c94",
   "metadata": {},
   "outputs": [],
   "source": [
    "test_list = good()"
   ]
  },
  {
   "cell_type": "code",
   "execution_count": 114,
   "id": "567014ac",
   "metadata": {},
   "outputs": [
    {
     "name": "stdout",
     "output_type": "stream",
     "text": [
      "['Harry', 'Ron', 'Hermione']\n"
     ]
    }
   ],
   "source": [
    "print(test_list)"
   ]
  },
  {
   "cell_type": "code",
   "execution_count": null,
   "id": "5598ad70",
   "metadata": {},
   "outputs": [],
   "source": []
  },
  {
   "cell_type": "markdown",
   "id": "10e1d029",
   "metadata": {},
   "source": [
    "## 2번) 2. range(10)의 홀수를 반환하는 get_odds 제너레티어 함수를 정의해보자. for문으로 반환된 세 번째 홀수를 찾아서 출력한다."
   ]
  },
  {
   "cell_type": "markdown",
   "id": "6f155f20",
   "metadata": {},
   "source": [
    "→ get_odds 함수는 range(10)의 홀수만을 반환하는 역할을 하는 건가?\n",
    "\n",
    "for문으로 반환된 세 번째 홀수를 찾아서 출력하는 건 어디서 하라는겨?\n",
    "\n",
    "일단 1번 요구사항부터 만들어보자.\n",
    "\n",
    "1. range(10) 반환하는 코드\n",
    "2. range(10) 중에서도 홀수를 반환하는 코드\n",
    "3. 2번에서 홀수만 모여있는 list를 반환했을 거 아님 그 list에서 세 번째 홀수를 반환."
   ]
  },
  {
   "cell_type": "code",
   "execution_count": 139,
   "id": "017de142",
   "metadata": {},
   "outputs": [],
   "source": [
    "def get_odds():\n",
    "    returnList = []\n",
    "    for num in range(10):\n",
    "        if num % 2 == 1:\n",
    "            returnList.append(num)\n",
    "    \n",
    "    return returnList"
   ]
  },
  {
   "cell_type": "code",
   "execution_count": 135,
   "id": "2fcd3ae1",
   "metadata": {},
   "outputs": [],
   "source": [
    "testList = get_odds()"
   ]
  },
  {
   "cell_type": "code",
   "execution_count": 138,
   "id": "e7cf89bf",
   "metadata": {},
   "outputs": [
    {
     "data": {
      "text/plain": [
       "5"
      ]
     },
     "execution_count": 138,
     "metadata": {},
     "output_type": "execute_result"
    }
   ],
   "source": [
    "testList[2]"
   ]
  },
  {
   "cell_type": "code",
   "execution_count": null,
   "id": "941cd4f4",
   "metadata": {},
   "outputs": [],
   "source": []
  },
  {
   "cell_type": "markdown",
   "id": "dc8ec117",
   "metadata": {},
   "source": [
    "## 3번) 어떤 함수가 호출되면 ‘start’를, 끝나면 ‘end’를 출력하는 test 데코레이터를 정의해보자."
   ]
  },
  {
   "cell_type": "markdown",
   "id": "0426ae92",
   "metadata": {},
   "source": [
    "데코레이터가 뭐덜아.... \n",
    "\n",
    "코드를 바꾸지 않고, 사용하고 있는 함수를 수정하고 싶을 때. \n",
    "\n",
    "데코레이터 : 하나의 함수를 취해서 또 다른 함수를 반환하는 함수.\n",
    "\n",
    "1. 1번 코드 작성하고\n",
    "2. 그 뒤에 test 데코레이터"
   ]
  },
  {
   "cell_type": "code",
   "execution_count": 188,
   "id": "afe314b8",
   "metadata": {},
   "outputs": [],
   "source": [
    "def test_it(func):\n",
    "    def new_function(*args, **kwargs):\n",
    "        print(\"start\")\n",
    "        print(args)\n",
    "        result = func(*args, **kwargs)\n",
    "        print(\"end\")\n",
    "        return result\n",
    "    return new_function"
   ]
  },
  {
   "cell_type": "code",
   "execution_count": 189,
   "id": "40888941",
   "metadata": {},
   "outputs": [],
   "source": [
    "@test_it\n",
    "def decoratorTest(a, b):\n",
    "    print(a)\n",
    "    print(b)\n",
    "    return a + b"
   ]
  },
  {
   "cell_type": "code",
   "execution_count": 190,
   "id": "1a4e091b",
   "metadata": {},
   "outputs": [
    {
     "name": "stdout",
     "output_type": "stream",
     "text": [
      "start\n",
      "(3, 4)\n",
      "3\n",
      "4\n",
      "end\n"
     ]
    }
   ],
   "source": [
    "num = decoratorTest(3, 4)"
   ]
  },
  {
   "cell_type": "code",
   "execution_count": 191,
   "id": "6e4c5292",
   "metadata": {},
   "outputs": [
    {
     "name": "stdout",
     "output_type": "stream",
     "text": [
      "7\n"
     ]
    }
   ],
   "source": [
    "print(num)"
   ]
  },
  {
   "cell_type": "code",
   "execution_count": null,
   "id": "bdc4ee77",
   "metadata": {},
   "outputs": [],
   "source": []
  },
  {
   "cell_type": "markdown",
   "id": "0c4e9c18",
   "metadata": {},
   "source": [
    "## 4번) OopsException 예외를 정의해보자. 이 예외를 발생시켜보자. 그리고 이 예외를 잡아서 ‘Caught an oops’를 출력하는 코드를 작성해보자."
   ]
  },
  {
   "cell_type": "code",
   "execution_count": 192,
   "id": "8782458c",
   "metadata": {},
   "outputs": [],
   "source": [
    "class OopsException(Exception):\n",
    "    pass"
   ]
  },
  {
   "cell_type": "code",
   "execution_count": 196,
   "id": "b70e07a9",
   "metadata": {},
   "outputs": [],
   "source": [
    "def exceptionTest():\n",
    "    try:\n",
    "        raise OopsException('사용자 정의 예외임')\n",
    "    except OopsException as oops:\n",
    "        print('Caught an oops')\n",
    "    \n",
    "        "
   ]
  },
  {
   "cell_type": "code",
   "execution_count": null,
   "id": "8a37f6e6",
   "metadata": {},
   "outputs": [],
   "source": []
  }
 ],
 "metadata": {
  "kernelspec": {
   "display_name": "Python 3 (ipykernel)",
   "language": "python",
   "name": "python3"
  },
  "language_info": {
   "codemirror_mode": {
    "name": "ipython",
    "version": 3
   },
   "file_extension": ".py",
   "mimetype": "text/x-python",
   "name": "python",
   "nbconvert_exporter": "python",
   "pygments_lexer": "ipython3",
   "version": "3.10.9"
  }
 },
 "nbformat": 4,
 "nbformat_minor": 5
}
