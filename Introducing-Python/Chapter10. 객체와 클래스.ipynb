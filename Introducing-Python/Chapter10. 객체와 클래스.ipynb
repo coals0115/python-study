{
 "cells": [
  {
   "cell_type": "markdown",
   "id": "7818567c",
   "metadata": {},
   "source": [
    "# 간단한 객체"
   ]
  },
  {
   "cell_type": "code",
   "execution_count": 1,
   "id": "7db169d9",
   "metadata": {},
   "outputs": [],
   "source": [
    "class Cat():\n",
    "    pass"
   ]
  },
  {
   "cell_type": "code",
   "execution_count": 2,
   "id": "5df72158",
   "metadata": {},
   "outputs": [],
   "source": [
    "class Cat: # 이것도 가능\n",
    "    pass"
   ]
  },
  {
   "cell_type": "code",
   "execution_count": 3,
   "id": "37073491",
   "metadata": {},
   "outputs": [],
   "source": [
    "a_cat = Cat()\n",
    "another_cat = Cat()"
   ]
  },
  {
   "cell_type": "code",
   "execution_count": 6,
   "id": "895aa4e5",
   "metadata": {},
   "outputs": [
    {
     "data": {
      "text/plain": [
       "4432841168"
      ]
     },
     "execution_count": 6,
     "metadata": {},
     "output_type": "execute_result"
    }
   ],
   "source": [
    "id(a_cat)"
   ]
  },
  {
   "cell_type": "code",
   "execution_count": 7,
   "id": "c59f15ae",
   "metadata": {},
   "outputs": [
    {
     "data": {
      "text/plain": [
       "4432839920"
      ]
     },
     "execution_count": 7,
     "metadata": {},
     "output_type": "execute_result"
    }
   ],
   "source": [
    "id(another_cat)"
   ]
  },
  {
   "cell_type": "code",
   "execution_count": 8,
   "id": "19d3cf9a",
   "metadata": {},
   "outputs": [
    {
     "data": {
      "text/plain": [
       "<__main__.Cat at 0x10837c9d0>"
      ]
     },
     "execution_count": 8,
     "metadata": {},
     "output_type": "execute_result"
    }
   ],
   "source": [
    "a_cat"
   ]
  },
  {
   "cell_type": "code",
   "execution_count": 9,
   "id": "f39fae6a",
   "metadata": {},
   "outputs": [
    {
     "data": {
      "text/plain": [
       "<__main__.Cat at 0x10837c4f0>"
      ]
     },
     "execution_count": 9,
     "metadata": {},
     "output_type": "execute_result"
    }
   ],
   "source": [
    "another_cat"
   ]
  },
  {
   "cell_type": "code",
   "execution_count": 10,
   "id": "4fba422c",
   "metadata": {},
   "outputs": [],
   "source": [
    "a_cat.age = 3"
   ]
  },
  {
   "cell_type": "code",
   "execution_count": 11,
   "id": "44f9f9ce",
   "metadata": {},
   "outputs": [],
   "source": [
    "a_cat.name = 'Mr Fuzzybuttons'"
   ]
  },
  {
   "cell_type": "code",
   "execution_count": 12,
   "id": "c6f9d1e4",
   "metadata": {},
   "outputs": [
    {
     "data": {
      "text/plain": [
       "3"
      ]
     },
     "execution_count": 12,
     "metadata": {},
     "output_type": "execute_result"
    }
   ],
   "source": [
    "a_cat.age"
   ]
  },
  {
   "cell_type": "code",
   "execution_count": 13,
   "id": "37b17195",
   "metadata": {},
   "outputs": [
    {
     "data": {
      "text/plain": [
       "'Mr Fuzzybuttons'"
      ]
     },
     "execution_count": 13,
     "metadata": {},
     "output_type": "execute_result"
    }
   ],
   "source": [
    "a_cat.name"
   ]
  },
  {
   "cell_type": "code",
   "execution_count": 16,
   "id": "af4dd0d4",
   "metadata": {},
   "outputs": [],
   "source": [
    "a_cat.nemesis = another_cat"
   ]
  },
  {
   "cell_type": "code",
   "execution_count": 17,
   "id": "1049f27d",
   "metadata": {},
   "outputs": [
    {
     "data": {
      "text/plain": [
       "<__main__.Cat at 0x10837c4f0>"
      ]
     },
     "execution_count": 17,
     "metadata": {},
     "output_type": "execute_result"
    }
   ],
   "source": [
    "a_cat.nemesis"
   ]
  },
  {
   "cell_type": "code",
   "execution_count": null,
   "id": "c5163938",
   "metadata": {},
   "outputs": [],
   "source": []
  },
  {
   "cell_type": "code",
   "execution_count": null,
   "id": "97a33d13",
   "metadata": {},
   "outputs": [],
   "source": []
  },
  {
   "cell_type": "markdown",
   "id": "38a9d292",
   "metadata": {},
   "source": [
    "## 초기화"
   ]
  },
  {
   "cell_type": "markdown",
   "id": "044d524a",
   "metadata": {},
   "source": [
    "__init__() = Java의 생성자(iv 초기화 메서드)\n",
    "\n",
    "self\n",
    " - Java의 this(객체 자기 자신)\n",
    " - __init()__ 정의 시 첫 번째 매개변수 이름은 self여야 함(self가 예약어는 아닌데 일반적인 규칙임)\n",
    " \n",
    "💡더블 언더바 = 던더(dunder)"
   ]
  },
  {
   "cell_type": "code",
   "execution_count": 19,
   "id": "49aee1d8",
   "metadata": {},
   "outputs": [],
   "source": [
    "class Cat:\n",
    "    def __init__(self):\n",
    "        pass"
   ]
  },
  {
   "cell_type": "code",
   "execution_count": 20,
   "id": "155e6ae4",
   "metadata": {},
   "outputs": [],
   "source": [
    "class Cat():\n",
    "    def __init__(self, name): # self = 생성된 객체를 self에 전달. | name = 인수 Groumpy 전달\n",
    "        self.name = name # this.name "
   ]
  },
  {
   "cell_type": "code",
   "execution_count": 21,
   "id": "0bbfefb4",
   "metadata": {},
   "outputs": [],
   "source": [
    "furball = Cat('Grumpy') # Cat furball = new Cat('Grumpy')"
   ]
  },
  {
   "cell_type": "code",
   "execution_count": 22,
   "id": "24ed3049",
   "metadata": {},
   "outputs": [
    {
     "data": {
      "text/plain": [
       "<__main__.Cat at 0x109c96950>"
      ]
     },
     "execution_count": 22,
     "metadata": {},
     "output_type": "execute_result"
    }
   ],
   "source": []
  },
  {
   "cell_type": "code",
   "execution_count": null,
   "id": "c652ca72",
   "metadata": {},
   "outputs": [],
   "source": []
  },
  {
   "cell_type": "markdown",
   "id": "9b919e74",
   "metadata": {},
   "source": [
    "# 상속"
   ]
  },
  {
   "cell_type": "code",
   "execution_count": 23,
   "id": "757f4fcb",
   "metadata": {},
   "outputs": [],
   "source": [
    "class Car():\n",
    "    pass"
   ]
  },
  {
   "cell_type": "code",
   "execution_count": 24,
   "id": "c94e7bc3",
   "metadata": {},
   "outputs": [],
   "source": [
    "class Yugo(Car): # Car 상속받기\n",
    "    pass"
   ]
  },
  {
   "cell_type": "code",
   "execution_count": 27,
   "id": "b616a30b",
   "metadata": {},
   "outputs": [
    {
     "data": {
      "text/plain": [
       "True"
      ]
     },
     "execution_count": 27,
     "metadata": {},
     "output_type": "execute_result"
    }
   ],
   "source": [
    "issubclass(Yugo, Car) # instanceof 느낌? Yugo는 Car의 자손, is-a 관계"
   ]
  },
  {
   "cell_type": "code",
   "execution_count": null,
   "id": "59963073",
   "metadata": {},
   "outputs": [],
   "source": []
  },
  {
   "cell_type": "markdown",
   "id": "79feb02d",
   "metadata": {},
   "source": [
    "## 메서드 오버라이딩"
   ]
  },
  {
   "cell_type": "markdown",
   "id": "b541bedf",
   "metadata": {},
   "source": []
  },
  {
   "cell_type": "code",
   "execution_count": 28,
   "id": "c0f6824d",
   "metadata": {},
   "outputs": [],
   "source": [
    "class Car():\n",
    "    def exclaim(self):\n",
    "        print(\"I'm a Car!\")"
   ]
  },
  {
   "cell_type": "code",
   "execution_count": 32,
   "id": "153dc505",
   "metadata": {},
   "outputs": [],
   "source": [
    "class Yugo(Car):\n",
    "    def exclaim(self): # 오버라이딩 | 뭐 여기는 어노테이션 같은 거 없음?\n",
    "        print(\"I'm a Yugo adfadadfsfd\")"
   ]
  },
  {
   "cell_type": "code",
   "execution_count": 33,
   "id": "d9642c6a",
   "metadata": {},
   "outputs": [],
   "source": [
    "give_me_a_car = Car()"
   ]
  },
  {
   "cell_type": "code",
   "execution_count": 34,
   "id": "a8b69e39",
   "metadata": {},
   "outputs": [],
   "source": [
    "give_me_a_yugo = Yugo()"
   ]
  },
  {
   "cell_type": "code",
   "execution_count": 36,
   "id": "7f5d1c62",
   "metadata": {},
   "outputs": [
    {
     "name": "stdout",
     "output_type": "stream",
     "text": [
      "I'm a Car!\n"
     ]
    }
   ],
   "source": [
    "give_me_a_car.exclaim()"
   ]
  },
  {
   "cell_type": "code",
   "execution_count": 37,
   "id": "d6ccacff",
   "metadata": {},
   "outputs": [
    {
     "name": "stdout",
     "output_type": "stream",
     "text": [
      "I'm a Yugo adfadadfsfd\n"
     ]
    }
   ],
   "source": [
    "give_me_a_yugo.exclaim()"
   ]
  },
  {
   "cell_type": "code",
   "execution_count": null,
   "id": "d76d4905",
   "metadata": {},
   "outputs": [],
   "source": []
  },
  {
   "cell_type": "code",
   "execution_count": 38,
   "id": "815c7d24",
   "metadata": {},
   "outputs": [],
   "source": [
    "class Person():\n",
    "    def __init__(self,name):\n",
    "        self.name = name\n",
    "class MDPerson(Person):\n",
    "    def __init__(self,name):\n",
    "        self.name = \"Doctor \"+name"
   ]
  },
  {
   "cell_type": "code",
   "execution_count": 39,
   "id": "549b0e6f",
   "metadata": {},
   "outputs": [],
   "source": [
    "class JDPerson(Person):\n",
    "    def __init__(self,name):\n",
    "        self.name = name +\", Esquire\""
   ]
  },
  {
   "cell_type": "code",
   "execution_count": 41,
   "id": "d0658766",
   "metadata": {},
   "outputs": [],
   "source": [
    "person = Person('Fudd')\n",
    "doctor = MDPerson('Fudd')\n",
    "lawyer = JDPerson('Fudd')"
   ]
  },
  {
   "cell_type": "code",
   "execution_count": 42,
   "id": "a0d9cc87",
   "metadata": {},
   "outputs": [
    {
     "name": "stdout",
     "output_type": "stream",
     "text": [
      "Fudd\n"
     ]
    }
   ],
   "source": [
    "print(person.name)"
   ]
  },
  {
   "cell_type": "code",
   "execution_count": 43,
   "id": "151781bd",
   "metadata": {},
   "outputs": [
    {
     "name": "stdout",
     "output_type": "stream",
     "text": [
      "Doctor Fudd\n"
     ]
    }
   ],
   "source": [
    "print(doctor.name)"
   ]
  },
  {
   "cell_type": "code",
   "execution_count": 44,
   "id": "5217c60e",
   "metadata": {},
   "outputs": [
    {
     "name": "stdout",
     "output_type": "stream",
     "text": [
      "Fudd, Esquire\n"
     ]
    }
   ],
   "source": [
    "print(lawyer.name)"
   ]
  },
  {
   "cell_type": "code",
   "execution_count": null,
   "id": "262d8e74",
   "metadata": {},
   "outputs": [],
   "source": []
  },
  {
   "cell_type": "markdown",
   "id": "e1145798",
   "metadata": {},
   "source": [
    "## super()"
   ]
  },
  {
   "cell_type": "code",
   "execution_count": 47,
   "id": "d3093ee3",
   "metadata": {},
   "outputs": [],
   "source": [
    "class Person():\n",
    "    def __init__(self, name):\n",
    "        self.name = name"
   ]
  },
  {
   "cell_type": "code",
   "execution_count": 48,
   "id": "485958cf",
   "metadata": {},
   "outputs": [],
   "source": [
    "class EmailPerson(Person):\n",
    "    def __init__(self, name, email):\n",
    "        super().__init__(name) # 부모의 생성자 호출\n",
    "        self.email = email"
   ]
  },
  {
   "cell_type": "code",
   "execution_count": 49,
   "id": "fd51b36e",
   "metadata": {},
   "outputs": [],
   "source": [
    "bob = EmailPerson('Bob Frapples','bob@frapples.com')"
   ]
  },
  {
   "cell_type": "code",
   "execution_count": 50,
   "id": "903f8cf4",
   "metadata": {},
   "outputs": [
    {
     "data": {
      "text/plain": [
       "'Bob Frapples'"
      ]
     },
     "execution_count": 50,
     "metadata": {},
     "output_type": "execute_result"
    }
   ],
   "source": [
    "bob.name"
   ]
  },
  {
   "cell_type": "code",
   "execution_count": 51,
   "id": "270f51e7",
   "metadata": {},
   "outputs": [
    {
     "data": {
      "text/plain": [
       "'bob@frapples.com'"
      ]
     },
     "execution_count": 51,
     "metadata": {},
     "output_type": "execute_result"
    }
   ],
   "source": [
    "bob.email"
   ]
  },
  {
   "cell_type": "code",
   "execution_count": null,
   "id": "d7f11ee7",
   "metadata": {},
   "outputs": [],
   "source": []
  },
  {
   "cell_type": "markdown",
   "id": "b4de7c48",
   "metadata": {},
   "source": [
    "## 다중 상속"
   ]
  },
  {
   "cell_type": "markdown",
   "id": "71df3de7",
   "metadata": {},
   "source": [
    "Mule 클래스에서 메서드나 속성을 찾을 때 순서\n",
    "\n",
    "1. 객체 자신(Mule타입)\n",
    "2. 객체의 클래스(Mule)\n",
    "3. 클래스의 첫 번째 부모 클래스\n",
    "4. 클래스의 두 번째 부모 클래스\n",
    "5. 부모의 부모 클래스\n",
    "\n",
    "`mro()` : 클래스의 메서드 해석 순서(Method Resolution Order)를 나타내는 리스트를 반환하는 함수. 다중 상속이 있는 경우 클래스에서 메서드를 찾는 순서를 결정"
   ]
  },
  {
   "cell_type": "code",
   "execution_count": 153,
   "id": "f3a3891f",
   "metadata": {},
   "outputs": [],
   "source": [
    "class Animal:\n",
    "    def says(self):\n",
    "        return 'I speak!'\n",
    "    \n",
    "class Horse(Animal):\n",
    "    def says(self):\n",
    "        return 'Neigh!'\n",
    "    \n",
    "class Donkey(Animal):\n",
    "    def says(self):\n",
    "        return 'Hee-haw!'\n",
    "    \n",
    "class Mule(Donkey,Horse):\n",
    "    pass\n",
    "\n",
    "class Hinny(Horse,Donkey):\n",
    "    pass"
   ]
  },
  {
   "cell_type": "code",
   "execution_count": 154,
   "id": "48fe721c",
   "metadata": {},
   "outputs": [
    {
     "data": {
      "text/plain": [
       "[__main__.Mule, __main__.Donkey, __main__.Horse, __main__.Animal, object]"
      ]
     },
     "execution_count": 154,
     "metadata": {},
     "output_type": "execute_result"
    }
   ],
   "source": [
    "Mule.mro()"
   ]
  },
  {
   "cell_type": "code",
   "execution_count": 155,
   "id": "148ed5ee",
   "metadata": {},
   "outputs": [
    {
     "data": {
      "text/plain": [
       "[__main__.Hinny, __main__.Horse, __main__.Donkey, __main__.Animal, object]"
      ]
     },
     "execution_count": 155,
     "metadata": {},
     "output_type": "execute_result"
    }
   ],
   "source": [
    "Hinny.mro()"
   ]
  },
  {
   "cell_type": "code",
   "execution_count": 156,
   "id": "783c14a7",
   "metadata": {},
   "outputs": [],
   "source": [
    "Mule = Mule()\n",
    "hinny = Hinny()"
   ]
  },
  {
   "cell_type": "code",
   "execution_count": 66,
   "id": "25c4d759",
   "metadata": {},
   "outputs": [
    {
     "data": {
      "text/plain": [
       "'Hee-haw!'"
      ]
     },
     "execution_count": 66,
     "metadata": {},
     "output_type": "execute_result"
    }
   ],
   "source": [
    "Mule.says()"
   ]
  },
  {
   "cell_type": "code",
   "execution_count": 67,
   "id": "8ceb4e81",
   "metadata": {},
   "outputs": [
    {
     "data": {
      "text/plain": [
       "'Neigh!'"
      ]
     },
     "execution_count": 67,
     "metadata": {},
     "output_type": "execute_result"
    }
   ],
   "source": [
    "hinny.says()"
   ]
  },
  {
   "cell_type": "code",
   "execution_count": null,
   "id": "617ab0c5",
   "metadata": {},
   "outputs": [],
   "source": []
  },
  {
   "cell_type": "markdown",
   "id": "69c64936",
   "metadata": {},
   "source": [
    "## 믹스인"
   ]
  },
  {
   "cell_type": "markdown",
   "id": "13d4577e",
   "metadata": {},
   "source": [
    "- 특정 기능을 클래스에 추가하기 위해 사용되는 클래스\n",
    "- 일반적으로 스스로는 인스턴스화되지 않으며, 다른 클래스에 기능을 추가하기 위해 상속\n",
    "- 코드 재사용성 향상, 다중 상속의 복잡성을 줄여준다.\n",
    "\n",
    "굳이 왜 믹스인이라는 용어가 생긴 건지 이해가 안 되네.. 상속받는게 다 저런목적 아닌가 다른 클래스를 상속받지 않는다는 게 포인트?"
   ]
  },
  {
   "cell_type": "code",
   "execution_count": 68,
   "id": "42f1e8bb",
   "metadata": {},
   "outputs": [],
   "source": [
    "class PrettyMixin(): # 믹스인 클래스\n",
    "    def dump(self):\n",
    "        import pprint\n",
    "        pprint.pprint(vars(self))"
   ]
  },
  {
   "cell_type": "code",
   "execution_count": 69,
   "id": "78440301",
   "metadata": {},
   "outputs": [],
   "source": [
    "class Thing(PrettyMixin): \n",
    "    pass"
   ]
  },
  {
   "cell_type": "code",
   "execution_count": 70,
   "id": "d01b805e",
   "metadata": {},
   "outputs": [],
   "source": [
    "t = Thing()"
   ]
  },
  {
   "cell_type": "code",
   "execution_count": 71,
   "id": "4d45fefe",
   "metadata": {},
   "outputs": [],
   "source": [
    "t.name = \"Nyarlathotep\"\n",
    "t.feature = \"ichor\"\n",
    "t.age = \"eldritch\""
   ]
  },
  {
   "cell_type": "code",
   "execution_count": 72,
   "id": "4563580b",
   "metadata": {},
   "outputs": [
    {
     "name": "stdout",
     "output_type": "stream",
     "text": [
      "{'age': 'eldritch', 'feature': 'ichor', 'name': 'Nyarlathotep'}\n"
     ]
    }
   ],
   "source": [
    "t.dump()"
   ]
  },
  {
   "cell_type": "code",
   "execution_count": null,
   "id": "9e0e9c4e",
   "metadata": {},
   "outputs": [],
   "source": []
  },
  {
   "cell_type": "markdown",
   "id": "9af618b2",
   "metadata": {},
   "source": [
    "# 자신: self"
   ]
  },
  {
   "cell_type": "markdown",
   "id": "037ab977",
   "metadata": {},
   "source": [
    "- a_car 객체의 Car 클래스를 찾는다.\n",
    "- a_car 객체를 Car 클래스 exclaimO 메서드의 self 매개변수에 전달한다."
   ]
  },
  {
   "cell_type": "code",
   "execution_count": 73,
   "id": "846836a0",
   "metadata": {},
   "outputs": [],
   "source": [
    "a_car = Car()"
   ]
  },
  {
   "cell_type": "code",
   "execution_count": 74,
   "id": "e645675c",
   "metadata": {},
   "outputs": [
    {
     "name": "stdout",
     "output_type": "stream",
     "text": [
      "I'm a Car!\n"
     ]
    }
   ],
   "source": [
    "a_car.exclaim()"
   ]
  },
  {
   "cell_type": "code",
   "execution_count": 75,
   "id": "68377b87",
   "metadata": {},
   "outputs": [
    {
     "name": "stdout",
     "output_type": "stream",
     "text": [
      "I'm a Car!\n"
     ]
    }
   ],
   "source": [
    "Car.exclaim(a_car)"
   ]
  },
  {
   "cell_type": "code",
   "execution_count": 76,
   "id": "dc7dbad1",
   "metadata": {},
   "outputs": [
    {
     "data": {
      "text/plain": [
       "__main__.Car"
      ]
     },
     "execution_count": 76,
     "metadata": {},
     "output_type": "execute_result"
    }
   ],
   "source": [
    "Car"
   ]
  },
  {
   "cell_type": "code",
   "execution_count": null,
   "id": "fa29fd70",
   "metadata": {},
   "outputs": [],
   "source": []
  },
  {
   "cell_type": "markdown",
   "id": "c0240a6b",
   "metadata": {},
   "source": [
    "# 속성 접근"
   ]
  },
  {
   "cell_type": "code",
   "execution_count": 80,
   "id": "5b479552",
   "metadata": {},
   "outputs": [],
   "source": [
    "class Duck:\n",
    "    def __init__(self, input_name):\n",
    "        self.name = input_name"
   ]
  },
  {
   "cell_type": "code",
   "execution_count": 81,
   "id": "33f06545",
   "metadata": {},
   "outputs": [],
   "source": [
    "fowl = Duck('Daffy')"
   ]
  },
  {
   "cell_type": "code",
   "execution_count": 82,
   "id": "ec56341d",
   "metadata": {},
   "outputs": [
    {
     "data": {
      "text/plain": [
       "'Daffy'"
      ]
     },
     "execution_count": 82,
     "metadata": {},
     "output_type": "execute_result"
    }
   ],
   "source": [
    "fowl.name"
   ]
  },
  {
   "cell_type": "code",
   "execution_count": null,
   "id": "487a7a22",
   "metadata": {},
   "outputs": [],
   "source": []
  },
  {
   "cell_type": "markdown",
   "id": "367bec67",
   "metadata": {},
   "source": [
    "## Getter/Setter 메서드\n",
    "\n",
    "- 파이썬에는 private 속성이 없음\n",
    "- Getter/Setter 메서드를 사용할 수 있으나 프로퍼티를 사용하는 것을 권장."
   ]
  },
  {
   "cell_type": "code",
   "execution_count": 83,
   "id": "5baba8ed",
   "metadata": {},
   "outputs": [],
   "source": [
    "class Duck():\n",
    "    def __init__(self, input_name):\n",
    "        self.hidden_name = input_name\n",
    "    def get_name(self): # getter\n",
    "        print('inside the getter')\n",
    "        return self.hidden_name\n",
    "    def set_name(self, input_name): # setter\n",
    "        print('inside the setter')\n",
    "        self.hidden_name = input_name"
   ]
  },
  {
   "cell_type": "code",
   "execution_count": 85,
   "id": "c233c256",
   "metadata": {},
   "outputs": [
    {
     "name": "stdout",
     "output_type": "stream",
     "text": [
      "inside the getter\n",
      "inside the setter\n",
      "inside the getter\n"
     ]
    },
    {
     "data": {
      "text/plain": [
       "'Donna'"
      ]
     },
     "execution_count": 85,
     "metadata": {},
     "output_type": "execute_result"
    }
   ],
   "source": [
    "don = Duck('Donald')\n",
    "don.get_name()\n",
    "don.set_name('Donna')\n",
    "don.get_name()"
   ]
  },
  {
   "cell_type": "code",
   "execution_count": null,
   "id": "9c48b592",
   "metadata": {},
   "outputs": [],
   "source": []
  },
  {
   "cell_type": "markdown",
   "id": "c483f131",
   "metadata": {},
   "source": [
    "## 속성 접근을 위한 프로퍼티"
   ]
  },
  {
   "cell_type": "markdown",
   "id": "6ec31d1e",
   "metadata": {},
   "source": [
    "### 첫 번째 방법\n",
    "- name = property(get_name, set_name) 구문을 마지막 줄에 추가"
   ]
  },
  {
   "cell_type": "code",
   "execution_count": 91,
   "id": "b325a64d",
   "metadata": {},
   "outputs": [],
   "source": [
    "class Duck():\n",
    "    def __init__(self, input_name):\n",
    "        self.hidden_name = input_name\n",
    "        \n",
    "    def get_name(self):\n",
    "        print('inside the getter')\n",
    "        return self.hidden_name\n",
    "    \n",
    "    def set_name(self, input_name):\n",
    "        print('inside the setter')\n",
    "        self.hidden_name = input_name\n",
    "        \n",
    "    name = property(get_name, set_name)"
   ]
  },
  {
   "cell_type": "code",
   "execution_count": null,
   "id": "a2c81719",
   "metadata": {},
   "outputs": [],
   "source": []
  },
  {
   "cell_type": "code",
   "execution_count": 92,
   "id": "79ac886f",
   "metadata": {},
   "outputs": [],
   "source": [
    "don = Duck('Donald')"
   ]
  },
  {
   "cell_type": "code",
   "execution_count": 93,
   "id": "5cecc403",
   "metadata": {},
   "outputs": [
    {
     "name": "stdout",
     "output_type": "stream",
     "text": [
      "inside the getter\n"
     ]
    },
    {
     "data": {
      "text/plain": [
       "'Donald'"
      ]
     },
     "execution_count": 93,
     "metadata": {},
     "output_type": "execute_result"
    }
   ],
   "source": [
    "don.get_name()"
   ]
  },
  {
   "cell_type": "code",
   "execution_count": 94,
   "id": "692a931d",
   "metadata": {},
   "outputs": [
    {
     "name": "stdout",
     "output_type": "stream",
     "text": [
      "inside the setter\n"
     ]
    }
   ],
   "source": [
    "don.set_name('Donna')"
   ]
  },
  {
   "cell_type": "code",
   "execution_count": 95,
   "id": "d70a8dcf",
   "metadata": {},
   "outputs": [
    {
     "name": "stdout",
     "output_type": "stream",
     "text": [
      "inside the getter\n"
     ]
    },
    {
     "data": {
      "text/plain": [
       "'Donna'"
      ]
     },
     "execution_count": 95,
     "metadata": {},
     "output_type": "execute_result"
    }
   ],
   "source": [
    "don.get_name()"
   ]
  },
  {
   "cell_type": "code",
   "execution_count": null,
   "id": "5ded7ac3",
   "metadata": {},
   "outputs": [],
   "source": []
  },
  {
   "cell_type": "markdown",
   "id": "d4a1dcef",
   "metadata": {},
   "source": [
    "속성 이름 사용해 hidden_name 속성 가져오기 ㄱㄴ"
   ]
  },
  {
   "cell_type": "code",
   "execution_count": 96,
   "id": "67a6ad44",
   "metadata": {},
   "outputs": [],
   "source": [
    "don= Duck('Donald')"
   ]
  },
  {
   "cell_type": "code",
   "execution_count": 97,
   "id": "7eff2ac1",
   "metadata": {},
   "outputs": [
    {
     "name": "stdout",
     "output_type": "stream",
     "text": [
      "inside the getter\n"
     ]
    },
    {
     "data": {
      "text/plain": [
       "'Donald'"
      ]
     },
     "execution_count": 97,
     "metadata": {},
     "output_type": "execute_result"
    }
   ],
   "source": [
    "don.name"
   ]
  },
  {
   "cell_type": "code",
   "execution_count": 99,
   "id": "b360d3c7",
   "metadata": {},
   "outputs": [
    {
     "name": "stdout",
     "output_type": "stream",
     "text": [
      "inside the setter\n"
     ]
    }
   ],
   "source": [
    "don.name = 'Donna'"
   ]
  },
  {
   "cell_type": "code",
   "execution_count": 100,
   "id": "0a8ecd8c",
   "metadata": {},
   "outputs": [
    {
     "name": "stdout",
     "output_type": "stream",
     "text": [
      "inside the getter\n"
     ]
    },
    {
     "data": {
      "text/plain": [
       "'Donna'"
      ]
     },
     "execution_count": 100,
     "metadata": {},
     "output_type": "execute_result"
    }
   ],
   "source": [
    "don.name"
   ]
  },
  {
   "cell_type": "code",
   "execution_count": null,
   "id": "e4b1e7a5",
   "metadata": {},
   "outputs": [],
   "source": []
  },
  {
   "cell_type": "markdown",
   "id": "050f7f34",
   "metadata": {},
   "source": [
    "### 두 번째 방법\n",
    "데코레이터 추가, 두 메서드 이름(get_name, set_name)을 name으로 변경\n",
    "- @property = getter\n",
    "- @name.setter = setter"
   ]
  },
  {
   "cell_type": "code",
   "execution_count": 103,
   "id": "973daff3",
   "metadata": {},
   "outputs": [],
   "source": [
    "class Duck():\n",
    "    def __init__(self, input_name):\n",
    "        self.hidden_name = input_name\n",
    "        \n",
    "    @property\n",
    "    def name(self):\n",
    "        print('inside the getter')\n",
    "        return self.hidden_name\n",
    "    \n",
    "    @name.setter\n",
    "    def name(self, input_name):\n",
    "        print('inside the setter')\n",
    "        self.hidden_name = input_name"
   ]
  },
  {
   "cell_type": "code",
   "execution_count": 104,
   "id": "ca5b35c7",
   "metadata": {},
   "outputs": [],
   "source": [
    "fowl = Duck('Howard')"
   ]
  },
  {
   "cell_type": "code",
   "execution_count": 105,
   "id": "c6482fa6",
   "metadata": {},
   "outputs": [
    {
     "name": "stdout",
     "output_type": "stream",
     "text": [
      "inside the getter\n"
     ]
    },
    {
     "data": {
      "text/plain": [
       "'Howard'"
      ]
     },
     "execution_count": 105,
     "metadata": {},
     "output_type": "execute_result"
    }
   ],
   "source": [
    "fowl.name"
   ]
  },
  {
   "cell_type": "code",
   "execution_count": 106,
   "id": "4f23b5e8",
   "metadata": {},
   "outputs": [
    {
     "name": "stdout",
     "output_type": "stream",
     "text": [
      "inside the setter\n"
     ]
    }
   ],
   "source": [
    "fowl.name = 'Donald'"
   ]
  },
  {
   "cell_type": "code",
   "execution_count": 107,
   "id": "c62e3be0",
   "metadata": {},
   "outputs": [
    {
     "name": "stdout",
     "output_type": "stream",
     "text": [
      "inside the getter\n"
     ]
    },
    {
     "data": {
      "text/plain": [
       "'Donald'"
      ]
     },
     "execution_count": 107,
     "metadata": {},
     "output_type": "execute_result"
    }
   ],
   "source": [
    "fowl.name"
   ]
  },
  {
   "cell_type": "code",
   "execution_count": null,
   "id": "00f43367",
   "metadata": {},
   "outputs": [],
   "source": []
  },
  {
   "cell_type": "markdown",
   "id": "1e5b82ac",
   "metadata": {},
   "source": [
    "## 계산된 값의 프로퍼티"
   ]
  },
  {
   "cell_type": "code",
   "execution_count": 109,
   "id": "75303a7f",
   "metadata": {},
   "outputs": [],
   "source": [
    "class Circle():\n",
    "    def __init__(self, radius):\n",
    "        self.radius = radius\n",
    "    \n",
    "    @property\n",
    "    def diameter(self):\n",
    "        return 2 * self.radius"
   ]
  },
  {
   "cell_type": "code",
   "execution_count": 110,
   "id": "899278e2",
   "metadata": {},
   "outputs": [],
   "source": [
    "c = Circle(5)"
   ]
  },
  {
   "cell_type": "code",
   "execution_count": 111,
   "id": "28dbff6c",
   "metadata": {},
   "outputs": [
    {
     "data": {
      "text/plain": [
       "5"
      ]
     },
     "execution_count": 111,
     "metadata": {},
     "output_type": "execute_result"
    }
   ],
   "source": [
    "c.radius"
   ]
  },
  {
   "cell_type": "code",
   "execution_count": 112,
   "id": "ca9caa8b",
   "metadata": {},
   "outputs": [
    {
     "data": {
      "text/plain": [
       "10"
      ]
     },
     "execution_count": 112,
     "metadata": {},
     "output_type": "execute_result"
    }
   ],
   "source": [
    "c.diameter"
   ]
  },
  {
   "cell_type": "code",
   "execution_count": 114,
   "id": "c1e807c9",
   "metadata": {},
   "outputs": [
    {
     "ename": "AttributeError",
     "evalue": "can't set attribute 'diameter'",
     "output_type": "error",
     "traceback": [
      "\u001b[0;31m---------------------------------------------------------------------------\u001b[0m",
      "\u001b[0;31mAttributeError\u001b[0m                            Traceback (most recent call last)",
      "Cell \u001b[0;32mIn[114], line 1\u001b[0m\n\u001b[0;32m----> 1\u001b[0m c\u001b[38;5;241m.\u001b[39mdiameter \u001b[38;5;241m=\u001b[39m \u001b[38;5;241m20\u001b[39m\n",
      "\u001b[0;31mAttributeError\u001b[0m: can't set attribute 'diameter'"
     ]
    }
   ],
   "source": [
    "c.diameter = 20 # setter 정의가 안 되어 있어서 불가"
   ]
  },
  {
   "cell_type": "code",
   "execution_count": null,
   "id": "bdeaca9d",
   "metadata": {},
   "outputs": [],
   "source": []
  },
  {
   "cell_type": "markdown",
   "id": "484e3a4e",
   "metadata": {},
   "source": [
    "## 💡 프라이버시를 위한 네임 맹글링\n",
    "- 더블 언더스코어(__) 속성: 속성을 외부에서 직접적으로 접근하는 것을 방지하는 네이밍 규칙\n",
    "- 네임 맹글링으로 속성이 숨겨지긴 하지만 이름을 알고 있다면(_Duck__name) 여전히 외부에서 접근할 수 있음.(의도적인 직접 접근을 어렵게 만드는 정도)\n",
    "- 네임 맹글링의 동작 방식: 파이썬에서 __로 시작하는 속성의 이름은 내부적으로 클래스 이름과 결합되어 변경됩니다. 예를 들어, Duck 클래스의 __name 속성은 실제로는 _Duck__name으로 처리됩니다. 이는 속성의 이름을 변경하여 외부에서의 직접적인 접근을 어렵게 만듭니다.\n",
    "\n",
    "hidden_name을 __name으로 바꿔보자"
   ]
  },
  {
   "cell_type": "markdown",
   "id": "33125828",
   "metadata": {},
   "source": [
    "hi"
   ]
  },
  {
   "cell_type": "code",
   "execution_count": 130,
   "id": "8a2e29bd",
   "metadata": {},
   "outputs": [],
   "source": [
    "class Duck():\n",
    "    def __init__(self, input_name):\n",
    "        self.__name = input_name\n",
    "        \n",
    "    @property\n",
    "    def name(self):\n",
    "        print('inside the getter')\n",
    "        return self.__name\n",
    "    \n",
    "    @name.setter\n",
    "    def name(self, input_name):\n",
    "        print('inside the setter')\n",
    "        self.__name = input_name"
   ]
  },
  {
   "cell_type": "code",
   "execution_count": 131,
   "id": "ba5056e6",
   "metadata": {},
   "outputs": [],
   "source": [
    "fowl = Duck('Howard')"
   ]
  },
  {
   "cell_type": "code",
   "execution_count": 132,
   "id": "c0bd2841",
   "metadata": {},
   "outputs": [
    {
     "name": "stdout",
     "output_type": "stream",
     "text": [
      "inside the getter\n"
     ]
    },
    {
     "data": {
      "text/plain": [
       "'Howard'"
      ]
     },
     "execution_count": 132,
     "metadata": {},
     "output_type": "execute_result"
    }
   ],
   "source": [
    "fowl.name"
   ]
  },
  {
   "cell_type": "code",
   "execution_count": 133,
   "id": "e380e030",
   "metadata": {},
   "outputs": [
    {
     "name": "stdout",
     "output_type": "stream",
     "text": [
      "inside the setter\n"
     ]
    }
   ],
   "source": [
    "fowl.name = 'Donald'"
   ]
  },
  {
   "cell_type": "code",
   "execution_count": 134,
   "id": "57652594",
   "metadata": {},
   "outputs": [
    {
     "name": "stdout",
     "output_type": "stream",
     "text": [
      "inside the getter\n"
     ]
    },
    {
     "data": {
      "text/plain": [
       "'Donald'"
      ]
     },
     "execution_count": 134,
     "metadata": {},
     "output_type": "execute_result"
    }
   ],
   "source": [
    "fowl.name"
   ]
  },
  {
   "cell_type": "code",
   "execution_count": 135,
   "id": "5f87760c",
   "metadata": {},
   "outputs": [
    {
     "ename": "AttributeError",
     "evalue": "'Duck' object has no attribute '__name2'",
     "output_type": "error",
     "traceback": [
      "\u001b[0;31m---------------------------------------------------------------------------\u001b[0m",
      "\u001b[0;31mAttributeError\u001b[0m                            Traceback (most recent call last)",
      "Cell \u001b[0;32mIn[135], line 1\u001b[0m\n\u001b[0;32m----> 1\u001b[0m \u001b[43mfowl\u001b[49m\u001b[38;5;241;43m.\u001b[39;49m\u001b[43m__name2\u001b[49m\n",
      "\u001b[0;31mAttributeError\u001b[0m: 'Duck' object has no attribute '__name2'"
     ]
    }
   ],
   "source": [
    "fowl.__name2 # name 속성에 바로 접근 불가"
   ]
  },
  {
   "cell_type": "code",
   "execution_count": 139,
   "id": "a1093ea8",
   "metadata": {},
   "outputs": [
    {
     "data": {
      "text/plain": [
       "'Donald'"
      ]
     },
     "execution_count": 139,
     "metadata": {},
     "output_type": "execute_result"
    }
   ],
   "source": [
    "# 사실 fowl._Duck__name과 같이 접근할 수 있으나 맹글링은 의도적인 직접 접근을 어렵게 만든다.\n",
    "# getter 출력 안 함\n",
    "fowl._Duck__name"
   ]
  },
  {
   "cell_type": "code",
   "execution_count": null,
   "id": "5e988e9e",
   "metadata": {},
   "outputs": [],
   "source": []
  },
  {
   "cell_type": "markdown",
   "id": "4b295361",
   "metadata": {},
   "source": [
    "## 클래스와 객체 속성"
   ]
  },
  {
   "cell_type": "code",
   "execution_count": 149,
   "id": "af7afa91",
   "metadata": {},
   "outputs": [],
   "source": [
    "class Fruit:\n",
    "    color = 'red'"
   ]
  },
  {
   "cell_type": "code",
   "execution_count": 142,
   "id": "1ded92b2",
   "metadata": {},
   "outputs": [],
   "source": [
    "blueberry = Fruit()"
   ]
  },
  {
   "cell_type": "code",
   "execution_count": 145,
   "id": "1f0cd8a8",
   "metadata": {},
   "outputs": [
    {
     "data": {
      "text/plain": [
       "'red'"
      ]
     },
     "execution_count": 145,
     "metadata": {},
     "output_type": "execute_result"
    }
   ],
   "source": [
    "# 클래스 속성\n",
    "Fruit.color # ❓객체 생성이 안 됐는데 이게 된다는게 신기.. static 변수같은 느낌인가?"
   ]
  },
  {
   "cell_type": "code",
   "execution_count": 148,
   "id": "924843b0",
   "metadata": {},
   "outputs": [
    {
     "data": {
      "text/plain": [
       "'blue'"
      ]
     },
     "execution_count": 148,
     "metadata": {},
     "output_type": "execute_result"
    }
   ],
   "source": [
    "# 객체 속성\n",
    "blueberry.color"
   ]
  },
  {
   "cell_type": "code",
   "execution_count": 146,
   "id": "59346dd7",
   "metadata": {},
   "outputs": [
    {
     "data": {
      "text/plain": [
       "'blue'"
      ]
     },
     "execution_count": 146,
     "metadata": {},
     "output_type": "execute_result"
    }
   ],
   "source": [
    "blueberry.color = 'blue'\n",
    "blueberry.color"
   ]
  },
  {
   "cell_type": "code",
   "execution_count": 147,
   "id": "7504e83c",
   "metadata": {},
   "outputs": [
    {
     "data": {
      "text/plain": [
       "'red'"
      ]
     },
     "execution_count": 147,
     "metadata": {},
     "output_type": "execute_result"
    }
   ],
   "source": [
    "Fruit.color"
   ]
  },
  {
   "cell_type": "code",
   "execution_count": null,
   "id": "5dbefd7b",
   "metadata": {},
   "outputs": [],
   "source": []
  },
  {
   "cell_type": "markdown",
   "id": "8c602577",
   "metadata": {},
   "source": [
    "아니요, 파이썬에도 자바처럼 인스턴스 변수와 클래스(정적) 변수가 있습니다. 두 변수 유형의 주요 차이점은 다음과 같습니다:\n",
    "\n",
    "1. **클래스 변수 (Static/Class Variables)**: \n",
    "    - 클래스 변수는 클래스 정의 내에서 선언되며, 클래스의 모든 인스턴스 간에 공유됩니다.\n",
    "    - 이 변수들은 클래스 자체에 속하며, 클래스 이름을 통해 접근할 수 있습니다.\n",
    "    - 자바의 static 변수와 유사합니다.\n",
    "\n",
    "2. **인스턴스 변수 (Instance Variables)**:\n",
    "    - 인스턴스 변수는 각 객체 인스턴스에 속하며, 각 인스턴스마다 별도로 존재합니다.\n",
    "    - 이 변수들은 클래스의 생성자 또는 다른 메서드에서 `self` 키워드를 사용하여 정의됩니다.\n",
    "    - 인스턴스 변수는 해당 객체 인스턴스를 통해서만 접근 가능합니다.\n",
    "\n",
    "예를 들어, 파이썬에서 클래스와 인스턴스 변수를 다음과 같이 정의할 수 있습니다:\n",
    "\n",
    "```python\n",
    "class MyClass:\n",
    "    class_variable = 0  # 클래스 변수\n",
    "\n",
    "    def __init__(self, value):\n",
    "        self.instance_variable = value  # 인스턴스 변수\n",
    "```\n",
    "\n",
    "여기서 `class_variable`은 `MyClass`의 모든 인스턴스에서 공유되는 클래스 변수이며, `instance_variable`은 각 `MyClass` 인스턴스마다 고유한 인스턴스 변수입니다.\n",
    "\n",
    "따라서 파이썬에서는 자바와 마찬가지로 클래스 변수와 인스턴스 변수를 구분하여 사용할 수 있습니다."
   ]
  },
  {
   "cell_type": "code",
   "execution_count": 151,
   "id": "885e63c6",
   "metadata": {},
   "outputs": [],
   "source": []
  },
  {
   "cell_type": "markdown",
   "id": "2e58a651",
   "metadata": {},
   "source": [
    "# 메서드 타입"
   ]
  },
  {
   "cell_type": "markdown",
   "id": "146cca8f",
   "metadata": {},
   "source": [
    "| 종류            | 데코레이터        | 첫 번째 인수             | 설명                              | 비고                                  |\n",
    "|-----------------|-------------------|----------------------|-----------------------------------|---------------------------------------|\n",
    "| 인스턴스 메서드 | (데코레이터 없음) | `self`               | 객체 자기 자신을 참조             | 클래스의 변화는 모든 객체에 영향을 미친다.           |\n",
    "| 클래스 메서드   | `@classmethod`    | `cls`                | 클래스 자체를 참조                |  |\n",
    "| static 메서드   | `@staticmethod`   | (특정 인수 없음)     | 자신의 객체나 클래스를 참조하지 않음 | 클래스나 객체에 영향X 클래스의 상태와 관련 없는 독립적인 작업을 수행할 때 사용 |\n"
   ]
  },
  {
   "cell_type": "markdown",
   "id": "0b9f3b11",
   "metadata": {},
   "source": [
    "## 6.1 인스턴스 메서드"
   ]
  },
  {
   "cell_type": "code",
   "execution_count": null,
   "id": "dc4bbbcb",
   "metadata": {},
   "outputs": [],
   "source": []
  },
  {
   "cell_type": "markdown",
   "id": "d60d5460",
   "metadata": {},
   "source": [
    "## 6.2 클래스 메서드 \n",
    "- 클래스의 변화는 모든 객체에 영향을 미친다.\n",
    "- 첫 번째 매개변수 = 클래스 자신. 보통 이름을 cls로 한다. \n",
    "\n",
    "A 클래스에서 객체 인스턴스가 몇 개 만들어졌는지 알아보는 클래스 메서드를 정의해보자."
   ]
  },
  {
   "cell_type": "code",
   "execution_count": 169,
   "id": "46f83282",
   "metadata": {},
   "outputs": [],
   "source": [
    "class A():\n",
    "    count = 0 # 인스턴스 개수 세기 위한 변수\n",
    "    \n",
    "    def __init__(self):\n",
    "        A.count += 1 # 인스턴스가 생성될 때마다 count++\n",
    "        \n",
    "    def exclaim(self):\n",
    "        print(\"I'm an A!\")\n",
    "        \n",
    "    @classmethod\n",
    "    def kids(cls):\n",
    "        print(\"A has\", cls.count, \"little objects.\")"
   ]
  },
  {
   "cell_type": "code",
   "execution_count": 170,
   "id": "75b744d8",
   "metadata": {},
   "outputs": [],
   "source": [
    "easy_a = A()\n",
    "breezy_a = A()\n",
    "wheezy_a = A()"
   ]
  },
  {
   "cell_type": "code",
   "execution_count": 171,
   "id": "2d8def46",
   "metadata": {},
   "outputs": [
    {
     "name": "stdout",
     "output_type": "stream",
     "text": [
      "A has 3 little objects.\n"
     ]
    }
   ],
   "source": [
    "A.kids()"
   ]
  },
  {
   "cell_type": "code",
   "execution_count": null,
   "id": "b47d107c",
   "metadata": {},
   "outputs": [],
   "source": []
  },
  {
   "cell_type": "markdown",
   "id": "826b1697",
   "metadata": {},
   "source": [
    "## 6.3 static 메서드"
   ]
  },
  {
   "cell_type": "code",
   "execution_count": 172,
   "id": "563ebb2e",
   "metadata": {},
   "outputs": [],
   "source": [
    "class CoyoteWeapon():\n",
    "    @staticmethod\n",
    "    def commercial():\n",
    "        print('This CoyoteWeapon has been brought to you by Acme')"
   ]
  },
  {
   "cell_type": "code",
   "execution_count": 175,
   "id": "3a0b3423",
   "metadata": {},
   "outputs": [
    {
     "name": "stdout",
     "output_type": "stream",
     "text": [
      "This CoyoteWeapon has been brought to you by Acme\n"
     ]
    }
   ],
   "source": [
    "CoyoteWeapon.commercial()"
   ]
  },
  {
   "cell_type": "code",
   "execution_count": null,
   "id": "253e5556",
   "metadata": {},
   "outputs": [],
   "source": []
  },
  {
   "cell_type": "markdown",
   "id": "fa8b2070",
   "metadata": {},
   "source": [
    "# 덕 타이핑\n",
    "\n",
    "덕 타이핑(Duck Typing)은 파이썬 프로그래밍에서 널리 사용되는 타입 시스템의 한 형태입니다. \"만약 어떤 새가 오리처럼 걷고, 오리처럼 꽥꽥거린다면, 그 새를 오리라고 부를 수 있다\"는 데에서 이름이 유래했습니다. 파이썬에서는 객체의 타입보다는 객체가 어떤 행동(메서드나 속성)을 하는지에 더 많은 중점을 둡니다.\n",
    "\n",
    "덕 타이핑의 핵심은 객체의 실제 타입을 확인하는 대신, 객체가 필요한 행동(메서드나 속성)을 제공하는지를 확인하는 데 있습니다. 이를 통해 코드는 더 유연해지고 재사용성이 높아집니다."
   ]
  },
  {
   "cell_type": "code",
   "execution_count": 4,
   "id": "ceb53085",
   "metadata": {},
   "outputs": [],
   "source": [
    "class Quote():\n",
    "    def __init__(self, person, words):\n",
    "        self.person = person\n",
    "        self.words = words\n",
    "        \n",
    "    def who(self):\n",
    "        return self.person\n",
    "    \n",
    "    def says(self):\n",
    "        return self.words + '.'"
   ]
  },
  {
   "cell_type": "markdown",
   "id": "79d2a5ec",
   "metadata": {},
   "source": [
    "아래 두 클래스는 __init__() 메서드가 없음. 자동으로 부모 클래스 Quote의 __init__() 메서드를 호출해서 인스턴스 변수 person과 words를 저장함\n",
    "\n",
    "💡Java랑 똑같은듯? 클래스에 생성자가 없으면 컴파일러가 기본 생성자 자동으로 추가해주고, 생성자의 첫 줄에는 다른 생성자를 꼭 호출해야 하는데 없으면 super() 자동 삽입"
   ]
  },
  {
   "cell_type": "code",
   "execution_count": 27,
   "id": "e6aec874",
   "metadata": {},
   "outputs": [],
   "source": [
    "class QuestionQuote(Quote):\n",
    "    def says(self): # 오버라이딩\n",
    "        return self.words + '?'"
   ]
  },
  {
   "cell_type": "code",
   "execution_count": 28,
   "id": "783ee4ed",
   "metadata": {},
   "outputs": [],
   "source": [
    "class ExclamationQuote(Quote):\n",
    "    def says(self): # 오버라이딩\n",
    "        return self.words + '!'"
   ]
  },
  {
   "cell_type": "code",
   "execution_count": 24,
   "id": "b3d30f15",
   "metadata": {},
   "outputs": [
    {
     "name": "stdout",
     "output_type": "stream",
     "text": [
      "Elmer Fudd says: I'm hunting wabbits.\n"
     ]
    }
   ],
   "source": [
    "hunter = Quote('Elmer Fudd', \"I'm hunting wabbits\")\n",
    "print(hunter.who(), 'says:', hunter.says())"
   ]
  },
  {
   "cell_type": "code",
   "execution_count": 25,
   "id": "cc4505ab",
   "metadata": {},
   "outputs": [
    {
     "name": "stdout",
     "output_type": "stream",
     "text": [
      "Bugs Bunny says What's up, doc?\n"
     ]
    }
   ],
   "source": [
    "hunted1 = QuestionQuote('Bugs Bunny', \"What's up, doc\")\n",
    "print(hunted1.who(), 'says', hunted1.says())"
   ]
  },
  {
   "cell_type": "code",
   "execution_count": 26,
   "id": "2a2c9868",
   "metadata": {},
   "outputs": [
    {
     "name": "stdout",
     "output_type": "stream",
     "text": [
      "Daffy Duck says It's rabbit season!\n"
     ]
    }
   ],
   "source": [
    "hunted2 =  ExclamationQuote('Daffy Duck', \"It's rabbit season\")\n",
    "print(hunted2.who(), 'says', hunted2.says())"
   ]
  },
  {
   "cell_type": "code",
   "execution_count": null,
   "id": "7ad848fc",
   "metadata": {},
   "outputs": [],
   "source": []
  },
  {
   "cell_type": "code",
   "execution_count": 30,
   "id": "591bac45",
   "metadata": {},
   "outputs": [],
   "source": [
    "class BabblingBrook():\n",
    "    def who(self):\n",
    "        return 'Brook'\n",
    "    \n",
    "    def says(self):\n",
    "        return 'Babble'"
   ]
  },
  {
   "cell_type": "code",
   "execution_count": 31,
   "id": "74a46f89",
   "metadata": {},
   "outputs": [],
   "source": [
    "brook = BabblingBrook()"
   ]
  },
  {
   "cell_type": "markdown",
   "id": "3863115e",
   "metadata": {},
   "source": [
    "여기서 who_says는 who()와 says() 메서드를 가지고 있는지만 확인한다. obj 객체가 어떤 타입의 인스턴스인지 신경 X\n",
    "\n",
    "```python\n",
    "def who_says(obj): # Java였으면 who_says(Quote obj)여서 brook은 불가\n",
    "    print(obj.who(), 'says', obj.says())\n",
    "```"
   ]
  },
  {
   "cell_type": "code",
   "execution_count": 39,
   "id": "46a52542",
   "metadata": {},
   "outputs": [
    {
     "name": "stdout",
     "output_type": "stream",
     "text": [
      "Elmer Fudd says I'm hunting wabbits.\n",
      "Bugs Bunny says What's up, doc?\n",
      "Daffy Duck says It's rabbit season!\n",
      "Brook says Babble\n"
     ]
    }
   ],
   "source": [
    "who_says(hunter)\n",
    "who_says(hunted1)\n",
    "who_says(hunted2)\n",
    "who_says(brook)"
   ]
  },
  {
   "cell_type": "code",
   "execution_count": null,
   "id": "89a098cd",
   "metadata": {},
   "outputs": [],
   "source": []
  },
  {
   "cell_type": "markdown",
   "id": "133e4479",
   "metadata": {},
   "source": [
    "# 매직 메서드 \n",
    "\n",
    "매직 메서드(magic methods), 또는 스페셜 메서드(special methods)는 파이썬의 객체 지향 프로그래밍에서 중요한 역할을 하는 특별한 메서드입니다. 이 메서드들은 두 개의 밑줄(__)로 시작하고 끝나는 이름을 가지며, 파이썬의 기본 연산자에 대한 구현을 제공하거나, 특정 내장 기능을 오버라이드(재정의)할 때 사용됩니다.\n",
    "\n",
    "매직 메서드는 파이썬이 '백그라운드'에서 여러 작업을 수행할 때 자동으로 호출됩니다. 예를 들어, + 연산자를 사용하면 파이썬은 자동으로 __add__ 매직 메서드를 호출하고, 객체를 print() 함수로 출력할 때는 __str__ 또는 __repr__ 메서드가 호출됩니다."
   ]
  },
  {
   "cell_type": "code",
   "execution_count": 64,
   "id": "dd4a1d57",
   "metadata": {},
   "outputs": [],
   "source": [
    "class Word():\n",
    "    def __init__(self, text):\n",
    "        self.text = text\n",
    "    \n",
    "    # 문자열을 소문자로 바꿔서 비교하는 equals() 메서드\n",
    "    def equals(self, word2):\n",
    "        # Java 처럼 String은 같은 문자일 경유 같은 곳 바라봐서 주소값 비교인데도 true?\n",
    "        return self.text.lower() == word2.text.lower() # 소문자로 변환임?"
   ]
  },
  {
   "cell_type": "code",
   "execution_count": 65,
   "id": "7fc508a7",
   "metadata": {},
   "outputs": [],
   "source": [
    "first = Word('ha')\n",
    "second = Word('Ha')\n",
    "third = Word('eh')"
   ]
  },
  {
   "cell_type": "code",
   "execution_count": 66,
   "id": "82b4e48e",
   "metadata": {},
   "outputs": [
    {
     "data": {
      "text/plain": [
       "True"
      ]
     },
     "execution_count": 66,
     "metadata": {},
     "output_type": "execute_result"
    }
   ],
   "source": [
    "first.equals(second)"
   ]
  },
  {
   "cell_type": "code",
   "execution_count": 67,
   "id": "0e6b6ea9",
   "metadata": {},
   "outputs": [
    {
     "data": {
      "text/plain": [
       "False"
      ]
     },
     "execution_count": 67,
     "metadata": {},
     "output_type": "execute_result"
    }
   ],
   "source": [
    "first.equals(third)"
   ]
  },
  {
   "cell_type": "code",
   "execution_count": null,
   "id": "efde56da",
   "metadata": {},
   "outputs": [],
   "source": []
  },
  {
   "cell_type": "code",
   "execution_count": 68,
   "id": "0b49ef56",
   "metadata": {},
   "outputs": [],
   "source": [
    "class Word():\n",
    "    def __init__(self, text):\n",
    "        self.text = text\n",
    "    \n",
    "    def __eq__(self, word2):\n",
    "        return self.text.lower() == word2.text.lower()"
   ]
  },
  {
   "cell_type": "code",
   "execution_count": 69,
   "id": "392383ed",
   "metadata": {},
   "outputs": [],
   "source": [
    "first = Word('ha')\n",
    "second = Word('Ha')\n",
    "third = Word('eh')"
   ]
  },
  {
   "cell_type": "code",
   "execution_count": 70,
   "id": "f4a6b568",
   "metadata": {},
   "outputs": [
    {
     "data": {
      "text/plain": [
       "True"
      ]
     },
     "execution_count": 70,
     "metadata": {},
     "output_type": "execute_result"
    }
   ],
   "source": [
    "first == second"
   ]
  },
  {
   "cell_type": "code",
   "execution_count": 71,
   "id": "c5287bfe",
   "metadata": {},
   "outputs": [
    {
     "data": {
      "text/plain": [
       "False"
      ]
     },
     "execution_count": 71,
     "metadata": {},
     "output_type": "execute_result"
    }
   ],
   "source": [
    "first == third"
   ]
  },
  {
   "cell_type": "code",
   "execution_count": 73,
   "id": "f79263f7",
   "metadata": {},
   "outputs": [
    {
     "name": "stdout",
     "output_type": "stream",
     "text": [
      "<__main__.Word object at 0x10421a7d0>\n",
      "<__main__.Word object at 0x10411beb0>\n",
      "<__main__.Word object at 0x10411be80>\n"
     ]
    }
   ],
   "source": [
    "print(first)\n",
    "print(second)\n",
    "print(third)"
   ]
  },
  {
   "cell_type": "markdown",
   "id": "4eef5d93",
   "metadata": {},
   "source": [
    "### 비교 연산을 위한 매직 메서드\n",
    "| 메서드               | 연산             | 설명                |\n",
    "|---------------------|------------------|---------------------|\n",
    "| `__eq__(self, other)` | `self == other` | 동등성 비교         |\n",
    "| `__ne__(self, other)` | `self != other` | 부등성 비교         |\n",
    "| `__lt__(self, other)` | `self < other`  | '작다' 비교          |\n",
    "| `__gt__(self, other)` | `self > other`  | '크다' 비교          |\n",
    "| `__le__(self, other)` | `self <= other` | '작거나 같다' 비교   |\n",
    "| `__ge__(self, other)` | `self >= other` | '크거나 같다' 비교   |\n",
    "\n",
    "\n",
    "### 산술 연산을 위한 매직 메서드\n",
    "| 메서드               | 연산             | 설명                |\n",
    "|---------------------|------------------|---------------------|\n",
    "| `__add__(self, other)` | `self + other`  | 덧셈                |\n",
    "| `__sub__(self, other)` | `self - other`  | 뺄셈                |\n",
    "| `__mul__(self, other)` | `self * other`  | 곱셈                |\n",
    "| `__truediv__(self, other)` | `self / other` | 나눗셈 (진짜 나눗셈) |\n",
    "| `__floordiv__(self, other)` | `self // other` | 나눗셈 (버림 나눗셈) |\n",
    "| `__mod__(self, other)` | `self % other`  | 나머지 연산          |\n",
    "| `__pow__(self, other)` | `self ** other` | 지수 연산            |\n",
    "\n",
    "\n",
    "### 기타 매직 메서드\n",
    "| 메서드                 | 설명                             |\n",
    "|-----------------------|----------------------------------|\n",
    "| `__str__(self)`        | 객체를 문자열로 표현할 때 사용   |\n",
    "| `__repr__(self)`       | 객체를 공식적인 문자열로 표현할 때 사용(toString) |\n",
    "| `__len__(self)`        | 객체의 길이를 반환할 때 사용     |\n",
    "| `__getitem__(self, key)` | 객체에서 특정 키의 항목을 가져올 때 사용 |\n",
    "| `__setitem__(self, key, value)` | 객체의 특정 키에 값을 설정할 때 사용 |\n",
    "| `__delitem__(self, key)` | 객체의 특정 키의 항목을 삭제할 때 사용 |\n",
    "| `__iter__(self)`       | 객체를 이터레이터로 사용할 때 사용 |\n",
    "| `__next__(self)`       | 이터레이터의 다음 항목을 반환할 때 사용 |\n"
   ]
  },
  {
   "cell_type": "code",
   "execution_count": null,
   "id": "3b93d415",
   "metadata": {},
   "outputs": [],
   "source": []
  },
  {
   "cell_type": "code",
   "execution_count": 75,
   "id": "5b46b2f4",
   "metadata": {},
   "outputs": [],
   "source": [
    "class Word():\n",
    "    def __init__(self, text):\n",
    "        self.text = text\n",
    "    \n",
    "    def __eq__(self, word2):\n",
    "        return self.text.lower() == word2.text.lower()\n",
    "    \n",
    "    def __str__(self):\n",
    "        return self.text\n",
    "    \n",
    "    def __repr__(self): # java의 toString\n",
    "        return 'Word(\"' + self.text + '\")'"
   ]
  },
  {
   "cell_type": "code",
   "execution_count": 76,
   "id": "8f4fb48f",
   "metadata": {},
   "outputs": [],
   "source": [
    "first = Word('ha')"
   ]
  },
  {
   "cell_type": "code",
   "execution_count": 78,
   "id": "d91682a7",
   "metadata": {},
   "outputs": [
    {
     "data": {
      "text/plain": [
       "Word(\"ha\")"
      ]
     },
     "execution_count": 78,
     "metadata": {},
     "output_type": "execute_result"
    }
   ],
   "source": [
    "first # __repr__() 호출"
   ]
  },
  {
   "cell_type": "code",
   "execution_count": 81,
   "id": "dd203298",
   "metadata": {},
   "outputs": [
    {
     "name": "stdout",
     "output_type": "stream",
     "text": [
      "ha\n"
     ]
    }
   ],
   "source": [
    "print(first) # __str__() 호출"
   ]
  },
  {
   "cell_type": "markdown",
   "id": "a647e7c6",
   "metadata": {},
   "source": [
    "__str__는 객체를 인간이 읽기 쉬운 형태로 표현하는 데 사용되며, 주로 사용자 친화적인 출력에 적합합니다. 반면, __repr__는 객체의 공식적인 문자열 표현을 제공하며, 주로 개발자가 디버깅을 위해 사용합니다."
   ]
  },
  {
   "cell_type": "markdown",
   "id": "d35c37df",
   "metadata": {},
   "source": [
    "파이썬에서 `__str__`과 `__repr__`은 두 매직 메서드 모두 객체의 문자열 표현을 제공하지만, 사용 목적과 상황에 따라 차이가 있습니다.\n",
    "\n",
    "`__str__`\n",
    "- `__str__` 메서드는 객체를 '인간이 읽을 수 있는' 형태로 문자열로 표현합니다.\n",
    "- 주로 사용자가 이해하기 쉬운 형태로 객체를 표현할 때 사용됩니다.\n",
    "- 이 메서드는 `print()` 함수를 통해 객체를 출력하거나, `str()` 함수가 호출될 때 사용됩니다.\n",
    "- `__str__`의 반환 값은 보통 좀 더 '비공식적'이며, '읽기 쉬운' 형태를 지향합니다.\n",
    "\n",
    " `__repr__`\n",
    "- `__repr__` 메서드는 객체의 '공식적인' 문자열 표현을 제공합니다.\n",
    "- 주로 개발자가 디버깅 목적으로 객체의 상세 정보를 확인할 때 사용됩니다.\n",
    "- 이 메서드는 `repr()` 함수가 호출될 때 사용되며, `__str__` 메서드가 정의되어 있지 않을 때 `print()` 함수에 의해 묵시적으로 사용될 수도 있습니다.\n",
    "- `__repr__`의 반환 값은 보통 좀 더 '공식적'이고, 객체를 가능한 한 명확하게 표현하려는 데 중점을 둡니다. 이상적으로는 `__repr__`의 결과는 해당 객체를 재생성하는 데 사용될 수 있는 파이썬 표현이 되어야 합니다. 즉, `eval(repr(obj))`를 호출하면 원래 객체를 복제할 수 있어야 합니다.\n",
    "\n",
    "예시\n",
    "\n",
    "```python\n",
    "class Point:\n",
    "    def __init__(self, x, y):\n",
    "        self.x, self.y = x, y\n",
    "\n",
    "    def __repr__(self):\n",
    "        return f\"Point({self.x}, {self.y})\"\n",
    "\n",
    "    def __str__(self):\n",
    "        return f\"({self.x}, {self.y})\"\n",
    "```\n",
    "\n",
    "이 클래스에 대해 `repr()`을 호출하면 `\"Point(1, 2)\"`와 같은 형태로 객체를 공식적으로 표현하고, `str()`을 호출하면 `\"1, 2\"`와 같은 형태로 보다 친숙하고 읽기 쉬운 형태로 객체를 표현합니다."
   ]
  },
  {
   "cell_type": "code",
   "execution_count": null,
   "id": "86e9921d",
   "metadata": {},
   "outputs": [],
   "source": []
  },
  {
   "cell_type": "markdown",
   "id": "6194221b",
   "metadata": {},
   "source": [
    "# aggregation과 composition \n",
    "- 집합 (Aggregation) : 생명주기 같이 X ex. 장바구니 안의 상품\n",
    "- 구성 (Composition) : 생명주기 같이 O ex. 자동차에서 바퀴나 엔진"
   ]
  },
  {
   "cell_type": "code",
   "execution_count": 4,
   "id": "bd2e1413",
   "metadata": {},
   "outputs": [],
   "source": [
    "class Bill(): # 부리\n",
    "    def __init__(self, description):\n",
    "        self.description = description"
   ]
  },
  {
   "cell_type": "code",
   "execution_count": 5,
   "id": "041072b5",
   "metadata": {},
   "outputs": [],
   "source": [
    "class Tail(): # 꼬리\n",
    "    def __init__(self, length):\n",
    "        self.length = length"
   ]
  },
  {
   "cell_type": "code",
   "execution_count": 6,
   "id": "531ea331",
   "metadata": {},
   "outputs": [],
   "source": [
    "class Duck(): # 오리\n",
    "    def __init__(self, bill, tail):\n",
    "        self.bill = bill\n",
    "        self.tail = tail\n",
    "        \n",
    "    def about(self):\n",
    "        print('THis duck has a', self.bill.description, 'bill and a', self.tail.length, 'tail')"
   ]
  },
  {
   "cell_type": "code",
   "execution_count": null,
   "id": "070d9769",
   "metadata": {},
   "outputs": [],
   "source": []
  },
  {
   "cell_type": "code",
   "execution_count": 7,
   "id": "af9b4de4",
   "metadata": {},
   "outputs": [],
   "source": [
    "# 꼬리랑 부리 생성해서 오리에게 주기"
   ]
  },
  {
   "cell_type": "code",
   "execution_count": 8,
   "id": "c47b0a4f",
   "metadata": {},
   "outputs": [],
   "source": [
    "a_tail = Tail('long')"
   ]
  },
  {
   "cell_type": "code",
   "execution_count": 9,
   "id": "8b078e06",
   "metadata": {},
   "outputs": [],
   "source": [
    "a_bill = Bill('wide orange')"
   ]
  },
  {
   "cell_type": "code",
   "execution_count": 10,
   "id": "1f26e2c5",
   "metadata": {},
   "outputs": [],
   "source": [
    "duck = Duck(a_bill, a_tail)"
   ]
  },
  {
   "cell_type": "code",
   "execution_count": 11,
   "id": "9bb6c3da",
   "metadata": {},
   "outputs": [
    {
     "name": "stdout",
     "output_type": "stream",
     "text": [
      "THis duck has a wide orange bill and a long tail\n"
     ]
    }
   ],
   "source": [
    "duck.about()"
   ]
  },
  {
   "cell_type": "code",
   "execution_count": 12,
   "id": "24df3c57",
   "metadata": {},
   "outputs": [
    {
     "name": "stdout",
     "output_type": "stream",
     "text": [
      "a\n"
     ]
    }
   ],
   "source": []
  },
  {
   "cell_type": "code",
   "execution_count": null,
   "id": "a81bfc3b",
   "metadata": {},
   "outputs": [],
   "source": []
  },
  {
   "cell_type": "markdown",
   "id": "7ec9b9c1",
   "metadata": {},
   "source": [
    "# 객체는 언제 사용할까?\n",
    "- 비슷한 행동（메서드）을 하지만 내부 상태（속성）가 다른 개별 인스턴스가 필요할 때, 객체는 매우 유용 하다\n",
    "- 클래스는 상속을 지원하지만，모듈은 상속을 지원하지 않는다.\n",
    "- 어떤 한 가지 일만 수행한다면 모듈이 가장 좋은 선택일 것이다. 프로그램에서 파이썬 모듈이 참조된 횟수에 상관없이 단 하나의 복사본만 불러온다(자바와 C++ 개발자는 파이썬 모듈을 싱글톤처럼 쓸 수 있다）.\n",
    "- 여러 함수에 인수로 전달하는 여러 변수가 있다면，클래스를 정의하는 것이 더 좋다. 예를 들어 화상 이미지를 나타내기 위해 Size나 color를 딕셔너리의 키로 사용한다고 가정해보자. 프로그램에서 각 이미지에 대한 딕셔너리를 생성하고, scale）과 transform） 같은 함수에 인수를 전달할수 있다. 키와 함수를 추가하면 코드가 지저분해질 수도 있다. size와 color를 속성으로 하고 scale()과 transform()을 메서드로 하는 이미지 클래스를 정의하는 것이 더 일관성이 있다. 색상 이미지에 대한 모든 데이터와 메서드를 한 곳에 정의할 수 있기 때문이다.\n",
    "- 가장 간단한 문제 해결법을 사용한다. 딕셔너리，리스드 튜플은 모듈보다 더 작고 간단하며 빠르다. 그리고 일반적으로 모듈은 클래스보다 더 간단하다."
   ]
  },
  {
   "cell_type": "code",
   "execution_count": null,
   "id": "184dc90a",
   "metadata": {},
   "outputs": [],
   "source": []
  },
  {
   "cell_type": "markdown",
   "id": "9645c486",
   "metadata": {},
   "source": [
    "# 네임드 튜플\n",
    "- 불변 객체처럼 행동한다.\n",
    "- 객체보다 공간 효율성과 시간 효율성이 더 좋다.\n",
    "- 딕셔너리 형식의 대괄호([]) 대신, 온점(.)표기법으로 속성을 접근할 수 있다.\n",
    "- 네임드 튜플을 딕셔너리의 키처럼 쓸 수 있다."
   ]
  },
  {
   "cell_type": "markdown",
   "id": "5131a809",
   "metadata": {},
   "source": [
    "- collections 모듈의 namedtuple() 함수를 통해 사용할 수 있는 튜플의 확장된 버전\n",
    "- 일반 튜플처럼 불변이지만, 각 요소에 이름을 지정하여 인덱스 대신 이름으로 접근할 수 있는 기능을 제공한다."
   ]
  },
  {
   "cell_type": "markdown",
   "id": "e74dfe13",
   "metadata": {},
   "source": [
    "네임드 튜플의 장점\n",
    "- 가독성: 필드 이름을 사용하여 튜플의 각 요소에 접근할 수 있어 코드의 가독성이 향상됩니다.\n",
    "- 불변성: 튜플과 마찬가지로 네임드 튜플도 불변 객체입니다. 이는 데이터의 안정성을 보장합니다.\n",
    "- 메모리 효율성: 일반 클래스에 비해 메모리 사용이 적고, 빠르게 실행됩니다.\n",
    "- 간편한 사용: 일반 튜플과 동일하게 인덱스 접근과 언패킹이 가능합니다."
   ]
  },
  {
   "cell_type": "code",
   "execution_count": 15,
   "id": "426092f2",
   "metadata": {},
   "outputs": [],
   "source": [
    "from collections import namedtuple # 모듈\n",
    "\n",
    "# 네임드 튜플 타입 정의\n",
    "Duck = namedtuple('Duck', 'bill tail')\n",
    "\n",
    "# 네임드 튜플 생성\n",
    "duck = Duck('wide orange', 'long')"
   ]
  },
  {
   "cell_type": "code",
   "execution_count": 16,
   "id": "98b44e8f",
   "metadata": {},
   "outputs": [
    {
     "data": {
      "text/plain": [
       "Duck(bill='wide orange', tail='long')"
      ]
     },
     "execution_count": 16,
     "metadata": {},
     "output_type": "execute_result"
    }
   ],
   "source": [
    "duck"
   ]
  },
  {
   "cell_type": "code",
   "execution_count": 17,
   "id": "a4b6d212",
   "metadata": {},
   "outputs": [
    {
     "data": {
      "text/plain": [
       "'wide orange'"
      ]
     },
     "execution_count": 17,
     "metadata": {},
     "output_type": "execute_result"
    }
   ],
   "source": [
    "duck.bill"
   ]
  },
  {
   "cell_type": "code",
   "execution_count": 19,
   "id": "6065fc95",
   "metadata": {},
   "outputs": [
    {
     "data": {
      "text/plain": [
       "'long'"
      ]
     },
     "execution_count": 19,
     "metadata": {},
     "output_type": "execute_result"
    }
   ],
   "source": [
    "duck.tail"
   ]
  },
  {
   "cell_type": "code",
   "execution_count": null,
   "id": "ddefc2ce",
   "metadata": {},
   "outputs": [],
   "source": []
  },
  {
   "cell_type": "markdown",
   "id": "6591ae1a",
   "metadata": {},
   "source": [
    "딕셔너리에서도 네임드 튜플을 만들 수 있다."
   ]
  },
  {
   "cell_type": "code",
   "execution_count": 26,
   "id": "e37f3582",
   "metadata": {},
   "outputs": [],
   "source": [
    "parts = {'bill': 'wide orange', 'tail': 'long'}\n",
    "duck2 = Duck(**parts) # 키워드 인수\n",
    "# duck2 = Duck(bill = 'wide orange', tail = 'long') # 위와 같음"
   ]
  },
  {
   "cell_type": "code",
   "execution_count": 27,
   "id": "b0e067c5",
   "metadata": {},
   "outputs": [
    {
     "data": {
      "text/plain": [
       "Duck(bill='wide orange', tail='long')"
      ]
     },
     "execution_count": 27,
     "metadata": {},
     "output_type": "execute_result"
    }
   ],
   "source": [
    "duck2"
   ]
  },
  {
   "cell_type": "code",
   "execution_count": null,
   "id": "59d780e6",
   "metadata": {},
   "outputs": [],
   "source": []
  },
  {
   "cell_type": "markdown",
   "id": "88c870aa",
   "metadata": {},
   "source": [
    "네임드 튜플은 불변이다. 하지만 필드를 바꿔서 또 다른 네임드 튜플을 반환할 수 있다."
   ]
  },
  {
   "cell_type": "code",
   "execution_count": 33,
   "id": "aca5adaa",
   "metadata": {},
   "outputs": [],
   "source": [
    "duck3 = duck2._replace(tail='magnificent', bill='crushing')\n",
    "# _replace 뭐지.."
   ]
  },
  {
   "cell_type": "code",
   "execution_count": 34,
   "id": "0e1ed96c",
   "metadata": {},
   "outputs": [
    {
     "data": {
      "text/plain": [
       "Duck(bill='crushing', tail='magnificent')"
      ]
     },
     "execution_count": 34,
     "metadata": {},
     "output_type": "execute_result"
    }
   ],
   "source": [
    "duck3"
   ]
  },
  {
   "cell_type": "code",
   "execution_count": null,
   "id": "5acda80f",
   "metadata": {},
   "outputs": [],
   "source": []
  },
  {
   "cell_type": "code",
   "execution_count": 43,
   "id": "27411649",
   "metadata": {},
   "outputs": [],
   "source": [
    "# duck을 딕셔너리로 정의\n",
    "duck_dict = {'bill': 'wide orange', 'tail': 'long'}"
   ]
  },
  {
   "cell_type": "code",
   "execution_count": 44,
   "id": "097b2f00",
   "metadata": {},
   "outputs": [
    {
     "data": {
      "text/plain": [
       "{'bill': 'wide orange', 'tail': 'long'}"
      ]
     },
     "execution_count": 44,
     "metadata": {},
     "output_type": "execute_result"
    }
   ],
   "source": [
    "duck_dict"
   ]
  },
  {
   "cell_type": "code",
   "execution_count": 45,
   "id": "40613abb",
   "metadata": {},
   "outputs": [],
   "source": [
    "duck_dict['color'] = 'green' # 딕셔너리에 필드를 추가한다."
   ]
  },
  {
   "cell_type": "code",
   "execution_count": 46,
   "id": "0c005b32",
   "metadata": {},
   "outputs": [
    {
     "data": {
      "text/plain": [
       "{'bill': 'wide orange', 'tail': 'long', 'color': 'green'}"
      ]
     },
     "execution_count": 46,
     "metadata": {},
     "output_type": "execute_result"
    }
   ],
   "source": [
    "duck_dict"
   ]
  },
  {
   "cell_type": "code",
   "execution_count": 47,
   "id": "ad2b6186",
   "metadata": {},
   "outputs": [
    {
     "ename": "AttributeError",
     "evalue": "'Duck' object has no attribute 'color'",
     "output_type": "error",
     "traceback": [
      "\u001b[0;31m---------------------------------------------------------------------------\u001b[0m",
      "\u001b[0;31mAttributeError\u001b[0m                            Traceback (most recent call last)",
      "Cell \u001b[0;32mIn[47], line 1\u001b[0m\n\u001b[0;32m----> 1\u001b[0m duck\u001b[38;5;241m.\u001b[39mcolor \u001b[38;5;241m=\u001b[39m \u001b[38;5;124m'\u001b[39m\u001b[38;5;124mgreen\u001b[39m\u001b[38;5;124m'\u001b[39m\n",
      "\u001b[0;31mAttributeError\u001b[0m: 'Duck' object has no attribute 'color'"
     ]
    }
   ],
   "source": [
    "duck.color = 'green'  #딕셔너리는 네임드 튜플이 아니다."
   ]
  },
  {
   "cell_type": "code",
   "execution_count": null,
   "id": "f8862493",
   "metadata": {},
   "outputs": [],
   "source": []
  },
  {
   "cell_type": "markdown",
   "id": "23669c3a",
   "metadata": {},
   "source": [
    "# 데이터 클래스\n",
    "- 주로 데이터를 저장하는 데 사용되는 클래스의 작성을 단순화하기 위해 도입\n",
    "- 데이터 클래스를 사용하면 반복적인 메서드(예: __init__, __repr__, __eq__ 등)의 작성을 줄일 수 있어, 클래스의 정의를 간결하게 만들 수 있다.\n",
    "- dataclasses 모듈에서 제공. Python 3.7 이상에서 사용 가능."
   ]
  },
  {
   "cell_type": "markdown",
   "id": "b2bac56a",
   "metadata": {},
   "source": [
    "**<사용 방법>**\n",
    "- `@dataclass` 데코레이터를 클래스 선언 위에 추가\n",
    "- `name: type`(이름: 타입) ex. `color: str` 또는 `color: str=\"red\"`"
   ]
  },
  {
   "cell_type": "markdown",
   "id": "67a48ffb",
   "metadata": {},
   "source": [
    "**<데이터 클래스의 장점>**\n",
    "1. 코드 간결성: 자주 사용되는 메서드를 자동으로 생성해주어, 클래스 정의를 간결하게 만들 수 있습니다.\n",
    "2. 기본적인 비교 메서드 지원: __eq__ (동등성 비교)와 같은 비교 메서드들이 자동으로 구현되어, 객체 간 비교가 용이합니다.\n",
    "3. 불변 옵션 지원: frozen=True 옵션을 사용하여 불변 데이터 클래스를 생성할 수 있습니다.\n",
    "4. 기본값과 타입 힌트 지원: 필드에 대한 기본값을 설정할 수 있으며, 타입 힌트를 통해 코드의 가독성과 유지보수성을 향상시킬 수 있습니다.\n",
    "\n",
    "데이터 클래스는 주로 단순 데이터 객체를 다룰 때 유용하며, 복잡한 로직이나 상태 관리가 필요한 경우에는 일반 클래스를 사용하는 것이 더 적합할 수 있습니다."
   ]
  },
  {
   "cell_type": "raw",
   "id": "a603aae9",
   "metadata": {},
   "source": [
    "class TeenyClass():\n",
    "    def __init__(self, name):\n",
    "        self.name = name"
   ]
  },
  {
   "cell_type": "code",
   "execution_count": 51,
   "id": "adf0f31e",
   "metadata": {},
   "outputs": [],
   "source": [
    "teeny = TeenyClass('itsy')"
   ]
  },
  {
   "cell_type": "code",
   "execution_count": 52,
   "id": "fa56038f",
   "metadata": {},
   "outputs": [
    {
     "data": {
      "text/plain": [
       "'itsy'"
      ]
     },
     "execution_count": 52,
     "metadata": {},
     "output_type": "execute_result"
    }
   ],
   "source": [
    "teeny.name"
   ]
  },
  {
   "cell_type": "code",
   "execution_count": null,
   "id": "aed2244c",
   "metadata": {},
   "outputs": [],
   "source": []
  },
  {
   "cell_type": "code",
   "execution_count": 67,
   "id": "84a51155",
   "metadata": {},
   "outputs": [],
   "source": [
    "# 데이터 클래스 사용\n",
    "from dataclasses import dataclass\n",
    "\n",
    "# teenyDataClass 클래스에 대한 __init__, __repr__, __eq__ 메서드를 자동으로 생성\n",
    "@dataclass\n",
    "class teenyDataClass:\n",
    "    name: str    "
   ]
  },
  {
   "cell_type": "code",
   "execution_count": 54,
   "id": "2409b728",
   "metadata": {},
   "outputs": [],
   "source": [
    "teeny = teenyDataClass('bitsy')"
   ]
  },
  {
   "cell_type": "code",
   "execution_count": 68,
   "id": "184eb49e",
   "metadata": {},
   "outputs": [
    {
     "data": {
      "text/plain": [
       "teenyDataClass(name='bitsy')"
      ]
     },
     "execution_count": 68,
     "metadata": {},
     "output_type": "execute_result"
    }
   ],
   "source": [
    "teeny"
   ]
  },
  {
   "cell_type": "code",
   "execution_count": 55,
   "id": "1d2f72c3",
   "metadata": {},
   "outputs": [
    {
     "data": {
      "text/plain": [
       "'bitsy'"
      ]
     },
     "execution_count": 55,
     "metadata": {},
     "output_type": "execute_result"
    }
   ],
   "source": [
    "teeny.name"
   ]
  },
  {
   "cell_type": "code",
   "execution_count": null,
   "id": "63f01cc6",
   "metadata": {},
   "outputs": [],
   "source": []
  },
  {
   "cell_type": "code",
   "execution_count": 56,
   "id": "89b1648e",
   "metadata": {},
   "outputs": [],
   "source": [
    "from dataclasses import dataclass\n",
    "\n",
    "@dataclass\n",
    "class AnimalClass:\n",
    "    name: str\n",
    "    habitat: str\n",
    "    teeth: int = 0"
   ]
  },
  {
   "cell_type": "code",
   "execution_count": 60,
   "id": "f264f87b",
   "metadata": {},
   "outputs": [],
   "source": [
    "snowman = AnimalClass('yeti', 'Himalayas',46)\n",
    "duck = AnimalClass(habitat='lake', name='duck')"
   ]
  },
  {
   "cell_type": "code",
   "execution_count": 61,
   "id": "ca843b7b",
   "metadata": {},
   "outputs": [
    {
     "data": {
      "text/plain": [
       "AnimalClass(name='yeti', habitat='Himalayas', teeth=46)"
      ]
     },
     "execution_count": 61,
     "metadata": {},
     "output_type": "execute_result"
    }
   ],
   "source": [
    "snowman"
   ]
  },
  {
   "cell_type": "code",
   "execution_count": 62,
   "id": "67eb6c42",
   "metadata": {},
   "outputs": [
    {
     "data": {
      "text/plain": [
       "AnimalClass(name='duck', habitat='lake', teeth=0)"
      ]
     },
     "execution_count": 62,
     "metadata": {},
     "output_type": "execute_result"
    }
   ],
   "source": [
    "duck"
   ]
  },
  {
   "cell_type": "code",
   "execution_count": 63,
   "id": "eef2c8c8",
   "metadata": {},
   "outputs": [
    {
     "data": {
      "text/plain": [
       "'lake'"
      ]
     },
     "execution_count": 63,
     "metadata": {},
     "output_type": "execute_result"
    }
   ],
   "source": [
    "duck.habitat"
   ]
  },
  {
   "cell_type": "code",
   "execution_count": 64,
   "id": "b447b0ff",
   "metadata": {},
   "outputs": [
    {
     "data": {
      "text/plain": [
       "46"
      ]
     },
     "execution_count": 64,
     "metadata": {},
     "output_type": "execute_result"
    }
   ],
   "source": [
    "snowman.teeth"
   ]
  },
  {
   "cell_type": "code",
   "execution_count": null,
   "id": "0fee8d3c",
   "metadata": {},
   "outputs": [],
   "source": []
  },
  {
   "cell_type": "markdown",
   "id": "5564486c",
   "metadata": {},
   "source": [
    "데이터 클래스에 대해서 더 알고 싶다면 아래 참고\n",
    "\n",
    "https://realpython.com/python-data-classes/\n",
    "\n",
    "https://peps.python.org/pep-0557/"
   ]
  },
  {
   "cell_type": "code",
   "execution_count": null,
   "id": "f4aa1935",
   "metadata": {},
   "outputs": [],
   "source": []
  },
  {
   "cell_type": "markdown",
   "id": "ca5b3a9a",
   "metadata": {},
   "source": [
    "# attrs"
   ]
  },
  {
   "cell_type": "markdown",
   "id": "7fff0b65",
   "metadata": {},
   "source": [
    "## 클래스 vs. 네임드 튜플 vs. 데이터 클래스"
   ]
  },
  {
   "cell_type": "markdown",
   "id": "ea6952d8",
   "metadata": {},
   "source": [
    "아래 비교 글 읽어보기\n",
    "https://glyph.twistedmatrix.com/2016/08/attrs.html\n"
   ]
  },
  {
   "cell_type": "markdown",
   "id": "9d543cdd",
   "metadata": {},
   "source": [
    "attrs https://www.attrs.org/en/stable/"
   ]
  },
  {
   "cell_type": "code",
   "execution_count": null,
   "id": "1eca6951",
   "metadata": {},
   "outputs": [],
   "source": []
  }
 ],
 "metadata": {
  "kernelspec": {
   "display_name": "Python 3 (ipykernel)",
   "language": "python",
   "name": "python3"
  },
  "language_info": {
   "codemirror_mode": {
    "name": "ipython",
    "version": 3
   },
   "file_extension": ".py",
   "mimetype": "text/x-python",
   "name": "python",
   "nbconvert_exporter": "python",
   "pygments_lexer": "ipython3",
   "version": "3.10.13"
  },
  "toc": {
   "base_numbering": 1,
   "nav_menu": {},
   "number_sections": true,
   "sideBar": true,
   "skip_h1_title": false,
   "title_cell": "Table of Contents",
   "title_sidebar": "Contents",
   "toc_cell": false,
   "toc_position": {},
   "toc_section_display": true,
   "toc_window_display": true
  }
 },
 "nbformat": 4,
 "nbformat_minor": 5
}
