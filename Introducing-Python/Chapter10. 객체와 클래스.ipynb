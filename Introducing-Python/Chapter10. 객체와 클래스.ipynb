{
 "cells": [
  {
   "cell_type": "markdown",
   "id": "adbe8d1c",
   "metadata": {},
   "source": [
    "# 2. 간단한 객체"
   ]
  },
  {
   "cell_type": "code",
   "execution_count": 1,
   "id": "1d939144",
   "metadata": {},
   "outputs": [],
   "source": [
    "class Cat():\n",
    "    pass"
   ]
  },
  {
   "cell_type": "code",
   "execution_count": 2,
   "id": "ac71d1a5",
   "metadata": {},
   "outputs": [],
   "source": [
    "class Cat: # 이것도 가능\n",
    "    pass"
   ]
  },
  {
   "cell_type": "code",
   "execution_count": 3,
   "id": "0f823f74",
   "metadata": {},
   "outputs": [],
   "source": [
    "a_cat = Cat()\n",
    "another_cat = Cat()"
   ]
  },
  {
   "cell_type": "code",
   "execution_count": 6,
   "id": "fb81533b",
   "metadata": {},
   "outputs": [
    {
     "data": {
      "text/plain": [
       "4432841168"
      ]
     },
     "execution_count": 6,
     "metadata": {},
     "output_type": "execute_result"
    }
   ],
   "source": [
    "id(a_cat)"
   ]
  },
  {
   "cell_type": "code",
   "execution_count": 7,
   "id": "f880b11f",
   "metadata": {},
   "outputs": [
    {
     "data": {
      "text/plain": [
       "4432839920"
      ]
     },
     "execution_count": 7,
     "metadata": {},
     "output_type": "execute_result"
    }
   ],
   "source": [
    "id(another_cat)"
   ]
  },
  {
   "cell_type": "code",
   "execution_count": 8,
   "id": "ba2552bb",
   "metadata": {},
   "outputs": [
    {
     "data": {
      "text/plain": [
       "<__main__.Cat at 0x10837c9d0>"
      ]
     },
     "execution_count": 8,
     "metadata": {},
     "output_type": "execute_result"
    }
   ],
   "source": [
    "a_cat"
   ]
  },
  {
   "cell_type": "code",
   "execution_count": 9,
   "id": "5fa4a0ed",
   "metadata": {},
   "outputs": [
    {
     "data": {
      "text/plain": [
       "<__main__.Cat at 0x10837c4f0>"
      ]
     },
     "execution_count": 9,
     "metadata": {},
     "output_type": "execute_result"
    }
   ],
   "source": [
    "another_cat"
   ]
  },
  {
   "cell_type": "code",
   "execution_count": 10,
   "id": "b7de0c34",
   "metadata": {},
   "outputs": [],
   "source": [
    "a_cat.age = 3"
   ]
  },
  {
   "cell_type": "code",
   "execution_count": 11,
   "id": "95db6197",
   "metadata": {},
   "outputs": [],
   "source": [
    "a_cat.name = 'Mr Fuzzybuttons'"
   ]
  },
  {
   "cell_type": "code",
   "execution_count": 12,
   "id": "4dc87e3b",
   "metadata": {},
   "outputs": [
    {
     "data": {
      "text/plain": [
       "3"
      ]
     },
     "execution_count": 12,
     "metadata": {},
     "output_type": "execute_result"
    }
   ],
   "source": [
    "a_cat.age"
   ]
  },
  {
   "cell_type": "code",
   "execution_count": 13,
   "id": "3a8137c4",
   "metadata": {},
   "outputs": [
    {
     "data": {
      "text/plain": [
       "'Mr Fuzzybuttons'"
      ]
     },
     "execution_count": 13,
     "metadata": {},
     "output_type": "execute_result"
    }
   ],
   "source": [
    "a_cat.name"
   ]
  },
  {
   "cell_type": "code",
   "execution_count": 16,
   "id": "64ba61a2",
   "metadata": {},
   "outputs": [],
   "source": [
    "a_cat.nemesis = another_cat"
   ]
  },
  {
   "cell_type": "code",
   "execution_count": 17,
   "id": "86c362d2",
   "metadata": {},
   "outputs": [
    {
     "data": {
      "text/plain": [
       "<__main__.Cat at 0x10837c4f0>"
      ]
     },
     "execution_count": 17,
     "metadata": {},
     "output_type": "execute_result"
    }
   ],
   "source": [
    "a_cat.nemesis"
   ]
  },
  {
   "cell_type": "code",
   "execution_count": null,
   "id": "f74c7652",
   "metadata": {},
   "outputs": [],
   "source": []
  },
  {
   "cell_type": "code",
   "execution_count": null,
   "id": "723a8ef2",
   "metadata": {},
   "outputs": [],
   "source": []
  },
  {
   "cell_type": "markdown",
   "id": "285ef661",
   "metadata": {},
   "source": [
    "## 초기화"
   ]
  },
  {
   "cell_type": "markdown",
   "id": "5a703aa6",
   "metadata": {},
   "source": [
    "__init__() = Java의 생성자(iv 초기화 메서드)\n",
    "\n",
    "self\n",
    " - Java의 this(객체 자기 자신)\n",
    " - __init()__ 정의 시 첫 번째 매개변수 이름은 self여야 함(self가 예약어는 아닌데 일반적인 규칙임)\n",
    " \n",
    "💡더블 언더바 = 던더(dunder)"
   ]
  },
  {
   "cell_type": "code",
   "execution_count": 19,
   "id": "8f24437d",
   "metadata": {},
   "outputs": [],
   "source": [
    "class Cat:\n",
    "    def __init__(self):\n",
    "        pass"
   ]
  },
  {
   "cell_type": "code",
   "execution_count": 20,
   "id": "97478334",
   "metadata": {},
   "outputs": [],
   "source": [
    "class Cat():\n",
    "    def __init__(self, name): # self = 생성된 객체를 self에 전달. | name = 인수 Groumpy 전달\n",
    "        self.name = name # this.name "
   ]
  },
  {
   "cell_type": "code",
   "execution_count": 21,
   "id": "07bb026c",
   "metadata": {},
   "outputs": [],
   "source": [
    "furball = Cat('Grumpy') # Cat furball = new Cat('Grumpy')"
   ]
  },
  {
   "cell_type": "code",
   "execution_count": 22,
   "id": "76a8636e",
   "metadata": {},
   "outputs": [
    {
     "data": {
      "text/plain": [
       "<__main__.Cat at 0x109c96950>"
      ]
     },
     "execution_count": 22,
     "metadata": {},
     "output_type": "execute_result"
    }
   ],
   "source": []
  },
  {
   "cell_type": "code",
   "execution_count": null,
   "id": "5bc66c70",
   "metadata": {},
   "outputs": [],
   "source": []
  },
  {
   "cell_type": "markdown",
   "id": "f320f350",
   "metadata": {},
   "source": [
    "# 3. 상속"
   ]
  },
  {
   "cell_type": "code",
   "execution_count": 23,
   "id": "c16a9cfa",
   "metadata": {},
   "outputs": [],
   "source": [
    "class Car():\n",
    "    pass"
   ]
  },
  {
   "cell_type": "code",
   "execution_count": 24,
   "id": "74822be2",
   "metadata": {},
   "outputs": [],
   "source": [
    "class Yugo(Car): # Car 상속받기\n",
    "    pass"
   ]
  },
  {
   "cell_type": "code",
   "execution_count": 27,
   "id": "173fd626",
   "metadata": {},
   "outputs": [
    {
     "data": {
      "text/plain": [
       "True"
      ]
     },
     "execution_count": 27,
     "metadata": {},
     "output_type": "execute_result"
    }
   ],
   "source": [
    "issubclass(Yugo, Car) # instanceof 느낌? Yugo는 Car의 자손, is-a 관계"
   ]
  },
  {
   "cell_type": "code",
   "execution_count": null,
   "id": "237e7635",
   "metadata": {},
   "outputs": [],
   "source": []
  },
  {
   "cell_type": "markdown",
   "id": "2845a746",
   "metadata": {},
   "source": [
    "## 메서드 오버라이딩"
   ]
  },
  {
   "cell_type": "markdown",
   "id": "bb5be1d2",
   "metadata": {},
   "source": []
  },
  {
   "cell_type": "code",
   "execution_count": 28,
   "id": "3c9ffe59",
   "metadata": {},
   "outputs": [],
   "source": [
    "class Car():\n",
    "    def exclaim(self):\n",
    "        print(\"I'm a Car!\")"
   ]
  },
  {
   "cell_type": "code",
   "execution_count": 32,
   "id": "b839dffe",
   "metadata": {},
   "outputs": [],
   "source": [
    "class Yugo(Car):\n",
    "    def exclaim(self): # 오버라이딩 | 뭐 여기는 어노테이션 같은 거 없음?\n",
    "        print(\"I'm a Yugo adfadadfsfd\")"
   ]
  },
  {
   "cell_type": "code",
   "execution_count": 33,
   "id": "28254f9e",
   "metadata": {},
   "outputs": [],
   "source": [
    "give_me_a_car = Car()"
   ]
  },
  {
   "cell_type": "code",
   "execution_count": 34,
   "id": "3d5baca6",
   "metadata": {},
   "outputs": [],
   "source": [
    "give_me_a_yugo = Yugo()"
   ]
  },
  {
   "cell_type": "code",
   "execution_count": 36,
   "id": "56e659e0",
   "metadata": {},
   "outputs": [
    {
     "name": "stdout",
     "output_type": "stream",
     "text": [
      "I'm a Car!\n"
     ]
    }
   ],
   "source": [
    "give_me_a_car.exclaim()"
   ]
  },
  {
   "cell_type": "code",
   "execution_count": 37,
   "id": "9b5572e9",
   "metadata": {},
   "outputs": [
    {
     "name": "stdout",
     "output_type": "stream",
     "text": [
      "I'm a Yugo adfadadfsfd\n"
     ]
    }
   ],
   "source": [
    "give_me_a_yugo.exclaim()"
   ]
  },
  {
   "cell_type": "code",
   "execution_count": null,
   "id": "46c45ddd",
   "metadata": {},
   "outputs": [],
   "source": []
  },
  {
   "cell_type": "code",
   "execution_count": 38,
   "id": "450938b1",
   "metadata": {},
   "outputs": [],
   "source": [
    "class Person():\n",
    "    def __init__(self,name):\n",
    "        self.name = name\n",
    "class MDPerson(Person):\n",
    "    def __init__(self,name):\n",
    "        self.name = \"Doctor \"+name"
   ]
  },
  {
   "cell_type": "code",
   "execution_count": 39,
   "id": "0d77295f",
   "metadata": {},
   "outputs": [],
   "source": [
    "class JDPerson(Person):\n",
    "    def __init__(self,name):\n",
    "        self.name = name +\", Esquire\""
   ]
  },
  {
   "cell_type": "code",
   "execution_count": 41,
   "id": "73d5ebbe",
   "metadata": {},
   "outputs": [],
   "source": [
    "person = Person('Fudd')\n",
    "doctor = MDPerson('Fudd')\n",
    "lawyer = JDPerson('Fudd')"
   ]
  },
  {
   "cell_type": "code",
   "execution_count": 42,
   "id": "edf80dba",
   "metadata": {},
   "outputs": [
    {
     "name": "stdout",
     "output_type": "stream",
     "text": [
      "Fudd\n"
     ]
    }
   ],
   "source": [
    "print(person.name)"
   ]
  },
  {
   "cell_type": "code",
   "execution_count": 43,
   "id": "31afc559",
   "metadata": {},
   "outputs": [
    {
     "name": "stdout",
     "output_type": "stream",
     "text": [
      "Doctor Fudd\n"
     ]
    }
   ],
   "source": [
    "print(doctor.name)"
   ]
  },
  {
   "cell_type": "code",
   "execution_count": 44,
   "id": "adf3049b",
   "metadata": {},
   "outputs": [
    {
     "name": "stdout",
     "output_type": "stream",
     "text": [
      "Fudd, Esquire\n"
     ]
    }
   ],
   "source": [
    "print(lawyer.name)"
   ]
  },
  {
   "cell_type": "code",
   "execution_count": null,
   "id": "ab31edc6",
   "metadata": {},
   "outputs": [],
   "source": []
  },
  {
   "cell_type": "markdown",
   "id": "0abd4de8",
   "metadata": {},
   "source": [
    "## super()"
   ]
  },
  {
   "cell_type": "code",
   "execution_count": 47,
   "id": "5d0b79c3",
   "metadata": {},
   "outputs": [],
   "source": [
    "class Person():\n",
    "    def __init__(self, name):\n",
    "        self.name = name"
   ]
  },
  {
   "cell_type": "code",
   "execution_count": 48,
   "id": "1fd3285c",
   "metadata": {},
   "outputs": [],
   "source": [
    "class EmailPerson(Person):\n",
    "    def __init__(self, name, email):\n",
    "        super().__init__(name) # 부모의 생성자 호출\n",
    "        self.email = email"
   ]
  },
  {
   "cell_type": "code",
   "execution_count": 49,
   "id": "a8a5caf8",
   "metadata": {},
   "outputs": [],
   "source": [
    "bob = EmailPerson('Bob Frapples','bob@frapples.com')"
   ]
  },
  {
   "cell_type": "code",
   "execution_count": 50,
   "id": "1dde19bc",
   "metadata": {},
   "outputs": [
    {
     "data": {
      "text/plain": [
       "'Bob Frapples'"
      ]
     },
     "execution_count": 50,
     "metadata": {},
     "output_type": "execute_result"
    }
   ],
   "source": [
    "bob.name"
   ]
  },
  {
   "cell_type": "code",
   "execution_count": 51,
   "id": "4e890884",
   "metadata": {},
   "outputs": [
    {
     "data": {
      "text/plain": [
       "'bob@frapples.com'"
      ]
     },
     "execution_count": 51,
     "metadata": {},
     "output_type": "execute_result"
    }
   ],
   "source": [
    "bob.email"
   ]
  },
  {
   "cell_type": "code",
   "execution_count": null,
   "id": "e32c9a9e",
   "metadata": {},
   "outputs": [],
   "source": []
  },
  {
   "cell_type": "markdown",
   "id": "bd233cb1",
   "metadata": {},
   "source": [
    "## 다중 상속"
   ]
  },
  {
   "cell_type": "markdown",
   "id": "7c7b607c",
   "metadata": {},
   "source": [
    "Mule 클래스에서 메서드나 속성을 찾을 때 순서\n",
    "\n",
    "1. 객체 자신(Mule타입)\n",
    "2. 객체의 클래스(Mule)\n",
    "3. 클래스의 첫 번째 부모 클래스\n",
    "4. 클래스의 두 번째 부모 클래스\n",
    "5. 부모의 부모 클래스"
   ]
  },
  {
   "cell_type": "code",
   "execution_count": 62,
   "id": "44b4e614",
   "metadata": {},
   "outputs": [],
   "source": [
    "class Animal:\n",
    "    def says(self):\n",
    "        return 'I speak!'\n",
    "    \n",
    "class Horse(Animal):\n",
    "    def says(self):\n",
    "        return 'Neigh!'\n",
    "    \n",
    "class Donkey(Animal):\n",
    "    def says(self):\n",
    "        return 'Hee-haw!'\n",
    "    \n",
    "class Mule(Donkey,Horse):\n",
    "    pass\n",
    "\n",
    "class Hinny(Horse,Donkey):\n",
    "    pass"
   ]
  },
  {
   "cell_type": "code",
   "execution_count": 63,
   "id": "a09568ed",
   "metadata": {},
   "outputs": [
    {
     "data": {
      "text/plain": [
       "[__main__.Mule, __main__.Donkey, __main__.Horse, __main__.Animal, object]"
      ]
     },
     "execution_count": 63,
     "metadata": {},
     "output_type": "execute_result"
    }
   ],
   "source": [
    "Mule.mro()"
   ]
  },
  {
   "cell_type": "code",
   "execution_count": 64,
   "id": "53974c4b",
   "metadata": {},
   "outputs": [
    {
     "data": {
      "text/plain": [
       "[__main__.Hinny, __main__.Horse, __main__.Donkey, __main__.Animal, object]"
      ]
     },
     "execution_count": 64,
     "metadata": {},
     "output_type": "execute_result"
    }
   ],
   "source": [
    "Hinny.mro()"
   ]
  },
  {
   "cell_type": "code",
   "execution_count": 65,
   "id": "25beb32d",
   "metadata": {},
   "outputs": [],
   "source": [
    "Mule = Mule()\n",
    "hinny = Hinny()"
   ]
  },
  {
   "cell_type": "code",
   "execution_count": 66,
   "id": "32cd1cb9",
   "metadata": {},
   "outputs": [
    {
     "data": {
      "text/plain": [
       "'Hee-haw!'"
      ]
     },
     "execution_count": 66,
     "metadata": {},
     "output_type": "execute_result"
    }
   ],
   "source": [
    "Mule.says()"
   ]
  },
  {
   "cell_type": "code",
   "execution_count": 67,
   "id": "0f1240a2",
   "metadata": {},
   "outputs": [
    {
     "data": {
      "text/plain": [
       "'Neigh!'"
      ]
     },
     "execution_count": 67,
     "metadata": {},
     "output_type": "execute_result"
    }
   ],
   "source": [
    "hinny.says()"
   ]
  },
  {
   "cell_type": "code",
   "execution_count": null,
   "id": "1eb6fa28",
   "metadata": {},
   "outputs": [],
   "source": []
  },
  {
   "cell_type": "markdown",
   "id": "21533477",
   "metadata": {},
   "source": [
    "## 믹스인"
   ]
  },
  {
   "cell_type": "markdown",
   "id": "f69b6306",
   "metadata": {},
   "source": [
    "- 특정 기능을 클래스에 추가하기 위해 사용되는 클래스\n",
    "- 일반적으로 스스로는 인스턴스화되지 않으며, 다른 클래스에 기능을 추가하기 위해 상속\n",
    "- 코드 재사용성 향상, 다중 상속의 복잡성을 줄여준다.\n",
    "\n",
    "굳이 왜 믹스인이라는 용어가 생긴 건지 이해가 안 되네.. 상속받는게 다 저런목적 아닌가 다른 클래스를 상속받지 않는다는 게 포인트?"
   ]
  },
  {
   "cell_type": "code",
   "execution_count": 68,
   "id": "ce7a5e9c",
   "metadata": {},
   "outputs": [],
   "source": [
    "class PrettyMixin(): # 믹스인 클래스\n",
    "    def dump(self):\n",
    "        import pprint\n",
    "        pprint.pprint(vars(self))"
   ]
  },
  {
   "cell_type": "code",
   "execution_count": 69,
   "id": "828b79db",
   "metadata": {},
   "outputs": [],
   "source": [
    "class Thing(PrettyMixin): \n",
    "    pass"
   ]
  },
  {
   "cell_type": "code",
   "execution_count": 70,
   "id": "67c9cbb0",
   "metadata": {},
   "outputs": [],
   "source": [
    "t = Thing()"
   ]
  },
  {
   "cell_type": "code",
   "execution_count": 71,
   "id": "681f4b84",
   "metadata": {},
   "outputs": [],
   "source": [
    "t.name = \"Nyarlathotep\"\n",
    "t.feature = \"ichor\"\n",
    "t.age = \"eldritch\""
   ]
  },
  {
   "cell_type": "code",
   "execution_count": 72,
   "id": "55f83d99",
   "metadata": {},
   "outputs": [
    {
     "name": "stdout",
     "output_type": "stream",
     "text": [
      "{'age': 'eldritch', 'feature': 'ichor', 'name': 'Nyarlathotep'}\n"
     ]
    }
   ],
   "source": [
    "t.dump()"
   ]
  },
  {
   "cell_type": "code",
   "execution_count": null,
   "id": "2091a08e",
   "metadata": {},
   "outputs": [],
   "source": []
  },
  {
   "cell_type": "markdown",
   "id": "6fdf3ed7",
   "metadata": {},
   "source": [
    "# 4. 자신: self"
   ]
  },
  {
   "cell_type": "markdown",
   "id": "1583d6ca",
   "metadata": {},
   "source": [
    "- a_car 객체의 Car 클래스를 찾는다.\n",
    "- a_car 객체를 Car 클래스 exclaimO 메서드의 self 매개변수에 전달한다."
   ]
  },
  {
   "cell_type": "code",
   "execution_count": 73,
   "id": "55be0802",
   "metadata": {},
   "outputs": [],
   "source": [
    "a_car = Car()"
   ]
  },
  {
   "cell_type": "code",
   "execution_count": 74,
   "id": "a34b23f7",
   "metadata": {},
   "outputs": [
    {
     "name": "stdout",
     "output_type": "stream",
     "text": [
      "I'm a Car!\n"
     ]
    }
   ],
   "source": [
    "a_car.exclaim()"
   ]
  },
  {
   "cell_type": "code",
   "execution_count": 75,
   "id": "34d12a06",
   "metadata": {},
   "outputs": [
    {
     "name": "stdout",
     "output_type": "stream",
     "text": [
      "I'm a Car!\n"
     ]
    }
   ],
   "source": [
    "Car.exclaim(a_car)"
   ]
  },
  {
   "cell_type": "code",
   "execution_count": 76,
   "id": "51ac3bd7",
   "metadata": {},
   "outputs": [
    {
     "data": {
      "text/plain": [
       "__main__.Car"
      ]
     },
     "execution_count": 76,
     "metadata": {},
     "output_type": "execute_result"
    }
   ],
   "source": [
    "Car"
   ]
  },
  {
   "cell_type": "code",
   "execution_count": null,
   "id": "59b0918d",
   "metadata": {},
   "outputs": [],
   "source": []
  },
  {
   "cell_type": "markdown",
   "id": "2ed2366b",
   "metadata": {},
   "source": [
    "# 5. 속성 접근"
   ]
  },
  {
   "cell_type": "code",
   "execution_count": 80,
   "id": "e55a3bc1",
   "metadata": {},
   "outputs": [],
   "source": [
    "class Duck:\n",
    "    def __init__(self, input_name):\n",
    "        self.name = input_name"
   ]
  },
  {
   "cell_type": "code",
   "execution_count": 81,
   "id": "d75fa4bb",
   "metadata": {},
   "outputs": [],
   "source": [
    "fowl = Duck('Daffy')"
   ]
  },
  {
   "cell_type": "code",
   "execution_count": 82,
   "id": "7427fa39",
   "metadata": {},
   "outputs": [
    {
     "data": {
      "text/plain": [
       "'Daffy'"
      ]
     },
     "execution_count": 82,
     "metadata": {},
     "output_type": "execute_result"
    }
   ],
   "source": [
    "fowl.name"
   ]
  },
  {
   "cell_type": "code",
   "execution_count": null,
   "id": "63544b0d",
   "metadata": {},
   "outputs": [],
   "source": []
  },
  {
   "cell_type": "markdown",
   "id": "d86e5fc0",
   "metadata": {},
   "source": [
    "## Getter/Setter 메서드\n",
    "\n",
    "- 파이썬에는 private 속성이 없음\n",
    "- Getter/Setter 메서드를 사용할 수 있으나 프로퍼티를 사용하는 것을 권장."
   ]
  },
  {
   "cell_type": "code",
   "execution_count": 83,
   "id": "391c63d1",
   "metadata": {},
   "outputs": [],
   "source": [
    "class Duck():\n",
    "    def __init__(self, input_name):\n",
    "        self.hidden_name = input_name\n",
    "    def get_name(self): # getter\n",
    "        print('inside the getter')\n",
    "        return self.hidden_name\n",
    "    def set_name(self, input_name): # setter\n",
    "        print('inside the setter')\n",
    "        self.hidden_name = input_name"
   ]
  },
  {
   "cell_type": "code",
   "execution_count": 85,
   "id": "56a2c070",
   "metadata": {},
   "outputs": [
    {
     "name": "stdout",
     "output_type": "stream",
     "text": [
      "inside the getter\n",
      "inside the setter\n",
      "inside the getter\n"
     ]
    },
    {
     "data": {
      "text/plain": [
       "'Donna'"
      ]
     },
     "execution_count": 85,
     "metadata": {},
     "output_type": "execute_result"
    }
   ],
   "source": [
    "don = Duck('Donald')\n",
    "don.get_name()\n",
    "don.set_name('Donna')\n",
    "don.get_name()"
   ]
  },
  {
   "cell_type": "code",
   "execution_count": null,
   "id": "3192ba67",
   "metadata": {},
   "outputs": [],
   "source": []
  },
  {
   "cell_type": "markdown",
   "id": "298249ab",
   "metadata": {},
   "source": [
    "## 속성 접근을 위한 프로퍼티"
   ]
  },
  {
   "cell_type": "markdown",
   "id": "7b70505a",
   "metadata": {},
   "source": [
    "### 첫 번째 방법\n",
    "- name = property(get_name, set_name) 구문을 마지막 줄에 추가"
   ]
  },
  {
   "cell_type": "code",
   "execution_count": 91,
   "id": "99fbf998",
   "metadata": {},
   "outputs": [],
   "source": [
    "class Duck():\n",
    "    def __init__(self, input_name):\n",
    "        self.hidden_name = input_name\n",
    "        \n",
    "    def get_name(self):\n",
    "        print('inside the getter')\n",
    "        return self.hidden_name\n",
    "    \n",
    "    def set_name(self, input_name):\n",
    "        print('inside the setter')\n",
    "        self.hidden_name = input_name\n",
    "        \n",
    "    name = property(get_name, set_name)"
   ]
  },
  {
   "cell_type": "code",
   "execution_count": null,
   "id": "81f18995",
   "metadata": {},
   "outputs": [],
   "source": []
  },
  {
   "cell_type": "code",
   "execution_count": 92,
   "id": "fc7f4528",
   "metadata": {},
   "outputs": [],
   "source": [
    "don = Duck('Donald')"
   ]
  },
  {
   "cell_type": "code",
   "execution_count": 93,
   "id": "3a8654b1",
   "metadata": {},
   "outputs": [
    {
     "name": "stdout",
     "output_type": "stream",
     "text": [
      "inside the getter\n"
     ]
    },
    {
     "data": {
      "text/plain": [
       "'Donald'"
      ]
     },
     "execution_count": 93,
     "metadata": {},
     "output_type": "execute_result"
    }
   ],
   "source": [
    "don.get_name()"
   ]
  },
  {
   "cell_type": "code",
   "execution_count": 94,
   "id": "8c2a2ce9",
   "metadata": {},
   "outputs": [
    {
     "name": "stdout",
     "output_type": "stream",
     "text": [
      "inside the setter\n"
     ]
    }
   ],
   "source": [
    "don.set_name('Donna')"
   ]
  },
  {
   "cell_type": "code",
   "execution_count": 95,
   "id": "eeabd419",
   "metadata": {},
   "outputs": [
    {
     "name": "stdout",
     "output_type": "stream",
     "text": [
      "inside the getter\n"
     ]
    },
    {
     "data": {
      "text/plain": [
       "'Donna'"
      ]
     },
     "execution_count": 95,
     "metadata": {},
     "output_type": "execute_result"
    }
   ],
   "source": [
    "don.get_name()"
   ]
  },
  {
   "cell_type": "code",
   "execution_count": null,
   "id": "954f76c3",
   "metadata": {},
   "outputs": [],
   "source": []
  },
  {
   "cell_type": "markdown",
   "id": "9a7cde5b",
   "metadata": {},
   "source": [
    "속성 이름 사용해 hidden_name 속성 가져오기 ㄱㄴ"
   ]
  },
  {
   "cell_type": "code",
   "execution_count": 96,
   "id": "13d56276",
   "metadata": {},
   "outputs": [],
   "source": [
    "don= Duck('Donald')"
   ]
  },
  {
   "cell_type": "code",
   "execution_count": 97,
   "id": "fa2ac4cc",
   "metadata": {},
   "outputs": [
    {
     "name": "stdout",
     "output_type": "stream",
     "text": [
      "inside the getter\n"
     ]
    },
    {
     "data": {
      "text/plain": [
       "'Donald'"
      ]
     },
     "execution_count": 97,
     "metadata": {},
     "output_type": "execute_result"
    }
   ],
   "source": [
    "don.name"
   ]
  },
  {
   "cell_type": "code",
   "execution_count": 99,
   "id": "9996c8fa",
   "metadata": {},
   "outputs": [
    {
     "name": "stdout",
     "output_type": "stream",
     "text": [
      "inside the setter\n"
     ]
    }
   ],
   "source": [
    "don.name = 'Donna'"
   ]
  },
  {
   "cell_type": "code",
   "execution_count": 100,
   "id": "b9124643",
   "metadata": {},
   "outputs": [
    {
     "name": "stdout",
     "output_type": "stream",
     "text": [
      "inside the getter\n"
     ]
    },
    {
     "data": {
      "text/plain": [
       "'Donna'"
      ]
     },
     "execution_count": 100,
     "metadata": {},
     "output_type": "execute_result"
    }
   ],
   "source": [
    "don.name"
   ]
  },
  {
   "cell_type": "code",
   "execution_count": null,
   "id": "eb9c6bb1",
   "metadata": {},
   "outputs": [],
   "source": []
  },
  {
   "cell_type": "markdown",
   "id": "fe6abda2",
   "metadata": {},
   "source": [
    "### 두 번째 방법\n",
    "데코레이터 추가, 두 메서드 이름(get_name, set_name)을 name으로 변경\n",
    "- @property = getter\n",
    "- @name.setter = setter"
   ]
  },
  {
   "cell_type": "code",
   "execution_count": 103,
   "id": "77d4f06f",
   "metadata": {},
   "outputs": [],
   "source": [
    "class Duck():\n",
    "    def __init__(self, input_name):\n",
    "        self.hidden_name = input_name\n",
    "        \n",
    "    @property\n",
    "    def name(self):\n",
    "        print('inside the getter')\n",
    "        return self.hidden_name\n",
    "    \n",
    "    @name.setter\n",
    "    def name(self, input_name):\n",
    "        print('inside the setter')\n",
    "        self.hidden_name = input_name"
   ]
  },
  {
   "cell_type": "code",
   "execution_count": 104,
   "id": "35029cb0",
   "metadata": {},
   "outputs": [],
   "source": [
    "fowl = Duck('Howard')"
   ]
  },
  {
   "cell_type": "code",
   "execution_count": 105,
   "id": "36366d27",
   "metadata": {},
   "outputs": [
    {
     "name": "stdout",
     "output_type": "stream",
     "text": [
      "inside the getter\n"
     ]
    },
    {
     "data": {
      "text/plain": [
       "'Howard'"
      ]
     },
     "execution_count": 105,
     "metadata": {},
     "output_type": "execute_result"
    }
   ],
   "source": [
    "fowl.name"
   ]
  },
  {
   "cell_type": "code",
   "execution_count": 106,
   "id": "52a8b9f9",
   "metadata": {},
   "outputs": [
    {
     "name": "stdout",
     "output_type": "stream",
     "text": [
      "inside the setter\n"
     ]
    }
   ],
   "source": [
    "fowl.name = 'Donald'"
   ]
  },
  {
   "cell_type": "code",
   "execution_count": 107,
   "id": "34e4f30b",
   "metadata": {},
   "outputs": [
    {
     "name": "stdout",
     "output_type": "stream",
     "text": [
      "inside the getter\n"
     ]
    },
    {
     "data": {
      "text/plain": [
       "'Donald'"
      ]
     },
     "execution_count": 107,
     "metadata": {},
     "output_type": "execute_result"
    }
   ],
   "source": [
    "fowl.name"
   ]
  },
  {
   "cell_type": "code",
   "execution_count": null,
   "id": "7db225a7",
   "metadata": {},
   "outputs": [],
   "source": []
  },
  {
   "cell_type": "markdown",
   "id": "c714f6dc",
   "metadata": {},
   "source": [
    "## 계산된 값의 프로퍼티"
   ]
  },
  {
   "cell_type": "code",
   "execution_count": 109,
   "id": "97b5460d",
   "metadata": {},
   "outputs": [],
   "source": [
    "class Circle():\n",
    "    def __init__(self, radius):\n",
    "        self.radius = radius\n",
    "    \n",
    "    @property\n",
    "    def diameter(self):\n",
    "        return 2 * self.radius"
   ]
  },
  {
   "cell_type": "code",
   "execution_count": 110,
   "id": "53fc504c",
   "metadata": {},
   "outputs": [],
   "source": [
    "c = Circle(5)"
   ]
  },
  {
   "cell_type": "code",
   "execution_count": 111,
   "id": "2e6bd10d",
   "metadata": {},
   "outputs": [
    {
     "data": {
      "text/plain": [
       "5"
      ]
     },
     "execution_count": 111,
     "metadata": {},
     "output_type": "execute_result"
    }
   ],
   "source": [
    "c.radius"
   ]
  },
  {
   "cell_type": "code",
   "execution_count": 112,
   "id": "e9ae1c8c",
   "metadata": {},
   "outputs": [
    {
     "data": {
      "text/plain": [
       "10"
      ]
     },
     "execution_count": 112,
     "metadata": {},
     "output_type": "execute_result"
    }
   ],
   "source": [
    "c.diameter"
   ]
  },
  {
   "cell_type": "code",
   "execution_count": 114,
   "id": "20c50878",
   "metadata": {},
   "outputs": [
    {
     "ename": "AttributeError",
     "evalue": "can't set attribute 'diameter'",
     "output_type": "error",
     "traceback": [
      "\u001b[0;31m---------------------------------------------------------------------------\u001b[0m",
      "\u001b[0;31mAttributeError\u001b[0m                            Traceback (most recent call last)",
      "Cell \u001b[0;32mIn[114], line 1\u001b[0m\n\u001b[0;32m----> 1\u001b[0m c\u001b[38;5;241m.\u001b[39mdiameter \u001b[38;5;241m=\u001b[39m \u001b[38;5;241m20\u001b[39m\n",
      "\u001b[0;31mAttributeError\u001b[0m: can't set attribute 'diameter'"
     ]
    }
   ],
   "source": [
    "c.diameter = 20 # setter 정의가 안 되어 있어서 불가"
   ]
  },
  {
   "cell_type": "code",
   "execution_count": null,
   "id": "cd495646",
   "metadata": {},
   "outputs": [],
   "source": []
  },
  {
   "cell_type": "markdown",
   "id": "b51fb026",
   "metadata": {},
   "source": [
    "## 💡 프라이버시를 위한 네임 맹글링\n",
    "- 더블 언더스코어(__) 속성: 속성을 외부에서 직접적으로 접근하는 것을 방지하는 네이밍 규칙\n",
    "- 네임 맹글링으로 속성이 숨겨지긴 하지만 이름을 알고 있다면(_Duck__name) 여전히 외부에서 접근할 수 있음.(의도적인 직접 접근을 어렵게 만드는 정도)\n",
    "- 네임 맹글링의 동작 방식: 파이썬에서 __로 시작하는 속성의 이름은 내부적으로 클래스 이름과 결합되어 변경됩니다. 예를 들어, Duck 클래스의 __name 속성은 실제로는 _Duck__name으로 처리됩니다. 이는 속성의 이름을 변경하여 외부에서의 직접적인 접근을 어렵게 만듭니다.\n",
    "\n",
    "hidden_name을 __name으로 바꿔보자"
   ]
  },
  {
   "cell_type": "markdown",
   "id": "f63bbed7",
   "metadata": {},
   "source": [
    "hi"
   ]
  },
  {
   "cell_type": "code",
   "execution_count": 130,
   "id": "2cda3507",
   "metadata": {},
   "outputs": [],
   "source": [
    "class Duck():\n",
    "    def __init__(self, input_name):\n",
    "        self.__name = input_name\n",
    "        \n",
    "    @property\n",
    "    def name(self):\n",
    "        print('inside the getter')\n",
    "        return self.__name\n",
    "    \n",
    "    @name.setter\n",
    "    def name(self, input_name):\n",
    "        print('inside the setter')\n",
    "        self.__name = input_name"
   ]
  },
  {
   "cell_type": "code",
   "execution_count": 131,
   "id": "adc86026",
   "metadata": {},
   "outputs": [],
   "source": [
    "fowl = Duck('Howard')"
   ]
  },
  {
   "cell_type": "code",
   "execution_count": 132,
   "id": "51c96c70",
   "metadata": {},
   "outputs": [
    {
     "name": "stdout",
     "output_type": "stream",
     "text": [
      "inside the getter\n"
     ]
    },
    {
     "data": {
      "text/plain": [
       "'Howard'"
      ]
     },
     "execution_count": 132,
     "metadata": {},
     "output_type": "execute_result"
    }
   ],
   "source": [
    "fowl.name"
   ]
  },
  {
   "cell_type": "code",
   "execution_count": 133,
   "id": "874ca331",
   "metadata": {},
   "outputs": [
    {
     "name": "stdout",
     "output_type": "stream",
     "text": [
      "inside the setter\n"
     ]
    }
   ],
   "source": [
    "fowl.name = 'Donald'"
   ]
  },
  {
   "cell_type": "code",
   "execution_count": 134,
   "id": "19c7e286",
   "metadata": {},
   "outputs": [
    {
     "name": "stdout",
     "output_type": "stream",
     "text": [
      "inside the getter\n"
     ]
    },
    {
     "data": {
      "text/plain": [
       "'Donald'"
      ]
     },
     "execution_count": 134,
     "metadata": {},
     "output_type": "execute_result"
    }
   ],
   "source": [
    "fowl.name"
   ]
  },
  {
   "cell_type": "code",
   "execution_count": 135,
   "id": "0fe50e34",
   "metadata": {},
   "outputs": [
    {
     "ename": "AttributeError",
     "evalue": "'Duck' object has no attribute '__name2'",
     "output_type": "error",
     "traceback": [
      "\u001b[0;31m---------------------------------------------------------------------------\u001b[0m",
      "\u001b[0;31mAttributeError\u001b[0m                            Traceback (most recent call last)",
      "Cell \u001b[0;32mIn[135], line 1\u001b[0m\n\u001b[0;32m----> 1\u001b[0m \u001b[43mfowl\u001b[49m\u001b[38;5;241;43m.\u001b[39;49m\u001b[43m__name2\u001b[49m\n",
      "\u001b[0;31mAttributeError\u001b[0m: 'Duck' object has no attribute '__name2'"
     ]
    }
   ],
   "source": [
    "fowl.__name2 # name 속성에 바로 접근 불가"
   ]
  },
  {
   "cell_type": "code",
   "execution_count": 139,
   "id": "b515c911",
   "metadata": {},
   "outputs": [
    {
     "data": {
      "text/plain": [
       "'Donald'"
      ]
     },
     "execution_count": 139,
     "metadata": {},
     "output_type": "execute_result"
    }
   ],
   "source": [
    "# 사실 fowl._Duck__name과 같이 접근할 수 있으나 맹글링은 의도적인 직접 접근을 어렵게 만든다.\n",
    "# getter 출력 안 함\n",
    "fowl._Duck__name"
   ]
  },
  {
   "cell_type": "code",
   "execution_count": null,
   "id": "9f4bdaad",
   "metadata": {},
   "outputs": [],
   "source": []
  },
  {
   "cell_type": "markdown",
   "id": "28f1bc06",
   "metadata": {},
   "source": [
    "## 클래스와 객체 속성"
   ]
  },
  {
   "cell_type": "code",
   "execution_count": 149,
   "id": "75511db0",
   "metadata": {},
   "outputs": [],
   "source": [
    "class Fruit:\n",
    "    color = 'red'"
   ]
  },
  {
   "cell_type": "code",
   "execution_count": 142,
   "id": "95e80a42",
   "metadata": {},
   "outputs": [],
   "source": [
    "blueberry = Fruit()"
   ]
  },
  {
   "cell_type": "code",
   "execution_count": 145,
   "id": "7d657bb7",
   "metadata": {},
   "outputs": [
    {
     "data": {
      "text/plain": [
       "'red'"
      ]
     },
     "execution_count": 145,
     "metadata": {},
     "output_type": "execute_result"
    }
   ],
   "source": [
    "# 클래스 속성\n",
    "Fruit.color # ❓객체 생성이 안 됐는데 이게 된다는게 신기.. static 변수같은 느낌인가?"
   ]
  },
  {
   "cell_type": "code",
   "execution_count": 148,
   "id": "1aa35834",
   "metadata": {},
   "outputs": [
    {
     "data": {
      "text/plain": [
       "'blue'"
      ]
     },
     "execution_count": 148,
     "metadata": {},
     "output_type": "execute_result"
    }
   ],
   "source": [
    "# 객체 속성\n",
    "blueberry.color"
   ]
  },
  {
   "cell_type": "code",
   "execution_count": 146,
   "id": "a453e093",
   "metadata": {},
   "outputs": [
    {
     "data": {
      "text/plain": [
       "'blue'"
      ]
     },
     "execution_count": 146,
     "metadata": {},
     "output_type": "execute_result"
    }
   ],
   "source": [
    "blueberry.color = 'blue'\n",
    "blueberry.color"
   ]
  },
  {
   "cell_type": "code",
   "execution_count": 147,
   "id": "0fce9791",
   "metadata": {},
   "outputs": [
    {
     "data": {
      "text/plain": [
       "'red'"
      ]
     },
     "execution_count": 147,
     "metadata": {},
     "output_type": "execute_result"
    }
   ],
   "source": [
    "Fruit.color"
   ]
  },
  {
   "cell_type": "code",
   "execution_count": null,
   "id": "dab838d9",
   "metadata": {},
   "outputs": [],
   "source": []
  },
  {
   "cell_type": "markdown",
   "id": "00981dd7",
   "metadata": {},
   "source": [
    "아니요, 파이썬에도 자바처럼 인스턴스 변수와 클래스(정적) 변수가 있습니다. 두 변수 유형의 주요 차이점은 다음과 같습니다:\n",
    "\n",
    "1. **클래스 변수 (Static/Class Variables)**: \n",
    "    - 클래스 변수는 클래스 정의 내에서 선언되며, 클래스의 모든 인스턴스 간에 공유됩니다.\n",
    "    - 이 변수들은 클래스 자체에 속하며, 클래스 이름을 통해 접근할 수 있습니다.\n",
    "    - 자바의 static 변수와 유사합니다.\n",
    "\n",
    "2. **인스턴스 변수 (Instance Variables)**:\n",
    "    - 인스턴스 변수는 각 객체 인스턴스에 속하며, 각 인스턴스마다 별도로 존재합니다.\n",
    "    - 이 변수들은 클래스의 생성자 또는 다른 메서드에서 `self` 키워드를 사용하여 정의됩니다.\n",
    "    - 인스턴스 변수는 해당 객체 인스턴스를 통해서만 접근 가능합니다.\n",
    "\n",
    "예를 들어, 파이썬에서 클래스와 인스턴스 변수를 다음과 같이 정의할 수 있습니다:\n",
    "\n",
    "```python\n",
    "class MyClass:\n",
    "    class_variable = 0  # 클래스 변수\n",
    "\n",
    "    def __init__(self, value):\n",
    "        self.instance_variable = value  # 인스턴스 변수\n",
    "```\n",
    "\n",
    "여기서 `class_variable`은 `MyClass`의 모든 인스턴스에서 공유되는 클래스 변수이며, `instance_variable`은 각 `MyClass` 인스턴스마다 고유한 인스턴스 변수입니다.\n",
    "\n",
    "따라서 파이썬에서는 자바와 마찬가지로 클래스 변수와 인스턴스 변수를 구분하여 사용할 수 있습니다."
   ]
  },
  {
   "cell_type": "code",
   "execution_count": 151,
   "id": "85f03f98",
   "metadata": {},
   "outputs": [],
   "source": []
  },
  {
   "cell_type": "markdown",
   "id": "cc372a9b",
   "metadata": {},
   "source": []
  },
  {
   "cell_type": "code",
   "execution_count": null,
   "id": "cda30217",
   "metadata": {},
   "outputs": [],
   "source": []
  }
 ],
 "metadata": {
  "kernelspec": {
   "display_name": "Python 3 (ipykernel)",
   "language": "python",
   "name": "python3"
  },
  "language_info": {
   "codemirror_mode": {
    "name": "ipython",
    "version": 3
   },
   "file_extension": ".py",
   "mimetype": "text/x-python",
   "name": "python",
   "nbconvert_exporter": "python",
   "pygments_lexer": "ipython3",
   "version": "3.10.9"
  }
 },
 "nbformat": 4,
 "nbformat_minor": 5
}
