{
 "cells": [
  {
   "cell_type": "markdown",
   "id": "ca6ecfbd",
   "metadata": {},
   "source": [
    "# 10.2 간단한 객체"
   ]
  },
  {
   "cell_type": "code",
   "execution_count": 1,
   "id": "bef9d46d",
   "metadata": {},
   "outputs": [],
   "source": [
    "class Cat():\n",
    "    pass"
   ]
  },
  {
   "cell_type": "code",
   "execution_count": 2,
   "id": "7a975eec",
   "metadata": {},
   "outputs": [],
   "source": [
    "class Cat: # 이것도 가능\n",
    "    pass"
   ]
  },
  {
   "cell_type": "code",
   "execution_count": 3,
   "id": "6426ee5e",
   "metadata": {},
   "outputs": [],
   "source": [
    "a_cat = Cat()\n",
    "another_cat = Cat()"
   ]
  },
  {
   "cell_type": "code",
   "execution_count": 6,
   "id": "daf3a66c",
   "metadata": {},
   "outputs": [
    {
     "data": {
      "text/plain": [
       "4432841168"
      ]
     },
     "execution_count": 6,
     "metadata": {},
     "output_type": "execute_result"
    }
   ],
   "source": [
    "id(a_cat)"
   ]
  },
  {
   "cell_type": "code",
   "execution_count": 7,
   "id": "738be21c",
   "metadata": {},
   "outputs": [
    {
     "data": {
      "text/plain": [
       "4432839920"
      ]
     },
     "execution_count": 7,
     "metadata": {},
     "output_type": "execute_result"
    }
   ],
   "source": [
    "id(another_cat)"
   ]
  },
  {
   "cell_type": "code",
   "execution_count": 8,
   "id": "115943be",
   "metadata": {},
   "outputs": [
    {
     "data": {
      "text/plain": [
       "<__main__.Cat at 0x10837c9d0>"
      ]
     },
     "execution_count": 8,
     "metadata": {},
     "output_type": "execute_result"
    }
   ],
   "source": [
    "a_cat"
   ]
  },
  {
   "cell_type": "code",
   "execution_count": 9,
   "id": "b1808ffc",
   "metadata": {},
   "outputs": [
    {
     "data": {
      "text/plain": [
       "<__main__.Cat at 0x10837c4f0>"
      ]
     },
     "execution_count": 9,
     "metadata": {},
     "output_type": "execute_result"
    }
   ],
   "source": [
    "another_cat"
   ]
  },
  {
   "cell_type": "code",
   "execution_count": 10,
   "id": "081a3038",
   "metadata": {},
   "outputs": [],
   "source": [
    "a_cat.age = 3"
   ]
  },
  {
   "cell_type": "code",
   "execution_count": 11,
   "id": "ba49add8",
   "metadata": {},
   "outputs": [],
   "source": [
    "a_cat.name = 'Mr Fuzzybuttons'"
   ]
  },
  {
   "cell_type": "code",
   "execution_count": 12,
   "id": "9c18c1de",
   "metadata": {},
   "outputs": [
    {
     "data": {
      "text/plain": [
       "3"
      ]
     },
     "execution_count": 12,
     "metadata": {},
     "output_type": "execute_result"
    }
   ],
   "source": [
    "a_cat.age"
   ]
  },
  {
   "cell_type": "code",
   "execution_count": 13,
   "id": "0fe8216e",
   "metadata": {},
   "outputs": [
    {
     "data": {
      "text/plain": [
       "'Mr Fuzzybuttons'"
      ]
     },
     "execution_count": 13,
     "metadata": {},
     "output_type": "execute_result"
    }
   ],
   "source": [
    "a_cat.name"
   ]
  },
  {
   "cell_type": "code",
   "execution_count": 16,
   "id": "c6ea0010",
   "metadata": {},
   "outputs": [],
   "source": [
    "a_cat.nemesis = another_cat"
   ]
  },
  {
   "cell_type": "code",
   "execution_count": 17,
   "id": "4e450b06",
   "metadata": {},
   "outputs": [
    {
     "data": {
      "text/plain": [
       "<__main__.Cat at 0x10837c4f0>"
      ]
     },
     "execution_count": 17,
     "metadata": {},
     "output_type": "execute_result"
    }
   ],
   "source": [
    "a_cat.nemesis"
   ]
  },
  {
   "cell_type": "code",
   "execution_count": null,
   "id": "b350c3fc",
   "metadata": {},
   "outputs": [],
   "source": []
  },
  {
   "cell_type": "code",
   "execution_count": null,
   "id": "e2e85b46",
   "metadata": {},
   "outputs": [],
   "source": []
  },
  {
   "cell_type": "markdown",
   "id": "2e358888",
   "metadata": {},
   "source": [
    "## 초기화"
   ]
  },
  {
   "cell_type": "markdown",
   "id": "e2437e6e",
   "metadata": {},
   "source": [
    "__init__() = Java의 생성자(iv 초기화 메서드)\n",
    "\n",
    "self\n",
    " - Java의 this(객체 자기 자신)\n",
    " - __init()__ 정의 시 첫 번째 매개변수 이름은 self여야 함(self가 예약어는 아닌데 일반적인 규칙임)"
   ]
  },
  {
   "cell_type": "code",
   "execution_count": 19,
   "id": "993c57be",
   "metadata": {},
   "outputs": [],
   "source": [
    "class Cat:\n",
    "    def __init__(self):\n",
    "        pass"
   ]
  },
  {
   "cell_type": "code",
   "execution_count": 20,
   "id": "fad2d44a",
   "metadata": {},
   "outputs": [],
   "source": [
    "class Cat():\n",
    "    def __init__(self, name): # self = 생성된 객체를 self에 전달. | name = 인수 Groumpy 전달\n",
    "        self.name = name # this.name "
   ]
  },
  {
   "cell_type": "code",
   "execution_count": 21,
   "id": "465b05f1",
   "metadata": {},
   "outputs": [],
   "source": [
    "furball = Cat('Grumpy') # Cat furball = new Cat('Grumpy')"
   ]
  },
  {
   "cell_type": "code",
   "execution_count": 22,
   "id": "61f6c41c",
   "metadata": {},
   "outputs": [
    {
     "data": {
      "text/plain": [
       "<__main__.Cat at 0x109c96950>"
      ]
     },
     "execution_count": 22,
     "metadata": {},
     "output_type": "execute_result"
    }
   ],
   "source": []
  },
  {
   "cell_type": "code",
   "execution_count": null,
   "id": "9e45618d",
   "metadata": {},
   "outputs": [],
   "source": []
  },
  {
   "cell_type": "markdown",
   "id": "0b8f2d89",
   "metadata": {},
   "source": [
    "# 3. 상속"
   ]
  },
  {
   "cell_type": "code",
   "execution_count": 23,
   "id": "0f993599",
   "metadata": {},
   "outputs": [],
   "source": [
    "class Car():\n",
    "    pass"
   ]
  },
  {
   "cell_type": "code",
   "execution_count": 24,
   "id": "7eb931fd",
   "metadata": {},
   "outputs": [],
   "source": [
    "class Yugo(Car): # Car 상속받기\n",
    "    pass"
   ]
  },
  {
   "cell_type": "code",
   "execution_count": 27,
   "id": "fa3cc78b",
   "metadata": {},
   "outputs": [
    {
     "data": {
      "text/plain": [
       "True"
      ]
     },
     "execution_count": 27,
     "metadata": {},
     "output_type": "execute_result"
    }
   ],
   "source": [
    "issubclass(Yugo, Car) # instanceof 느낌? Yugo는 Car의 자손, is-a 관계"
   ]
  },
  {
   "cell_type": "code",
   "execution_count": null,
   "id": "0f7de006",
   "metadata": {},
   "outputs": [],
   "source": []
  },
  {
   "cell_type": "markdown",
   "id": "e01b96c8",
   "metadata": {},
   "source": [
    "## 메서드 오버라이딩"
   ]
  },
  {
   "cell_type": "markdown",
   "id": "6e4dd1b4",
   "metadata": {},
   "source": []
  },
  {
   "cell_type": "code",
   "execution_count": 28,
   "id": "733b2137",
   "metadata": {},
   "outputs": [],
   "source": [
    "class Car():\n",
    "    def exclaim(self):\n",
    "        print(\"I'm a Car!\")"
   ]
  },
  {
   "cell_type": "code",
   "execution_count": 32,
   "id": "426f886b",
   "metadata": {},
   "outputs": [],
   "source": [
    "class Yugo(Car):\n",
    "    def exclaim(self): # 오버라이딩 | 뭐 여기는 어노테이션 같은 거 없음?\n",
    "        print(\"I'm a Yugo adfadadfsfd\")"
   ]
  },
  {
   "cell_type": "code",
   "execution_count": 33,
   "id": "e06fd815",
   "metadata": {},
   "outputs": [],
   "source": [
    "give_me_a_car = Car()"
   ]
  },
  {
   "cell_type": "code",
   "execution_count": 34,
   "id": "fdb689e2",
   "metadata": {},
   "outputs": [],
   "source": [
    "give_me_a_yugo = Yugo()"
   ]
  },
  {
   "cell_type": "code",
   "execution_count": 36,
   "id": "2ae57376",
   "metadata": {},
   "outputs": [
    {
     "name": "stdout",
     "output_type": "stream",
     "text": [
      "I'm a Car!\n"
     ]
    }
   ],
   "source": [
    "give_me_a_car.exclaim()"
   ]
  },
  {
   "cell_type": "code",
   "execution_count": 37,
   "id": "bb9e49b8",
   "metadata": {},
   "outputs": [
    {
     "name": "stdout",
     "output_type": "stream",
     "text": [
      "I'm a Yugo adfadadfsfd\n"
     ]
    }
   ],
   "source": [
    "give_me_a_yugo.exclaim()"
   ]
  },
  {
   "cell_type": "code",
   "execution_count": null,
   "id": "a528a56b",
   "metadata": {},
   "outputs": [],
   "source": []
  },
  {
   "cell_type": "code",
   "execution_count": 38,
   "id": "47e7f720",
   "metadata": {},
   "outputs": [],
   "source": [
    "class Person():\n",
    "    def __init__(self,name):\n",
    "        self.name = name\n",
    "class MDPerson(Person):\n",
    "    def __init__(self,name):\n",
    "        self.name = \"Doctor \"+name"
   ]
  },
  {
   "cell_type": "code",
   "execution_count": 39,
   "id": "141da3e2",
   "metadata": {},
   "outputs": [],
   "source": [
    "class JDPerson(Person):\n",
    "    def __init__(self,name):\n",
    "        self.name = name +\", Esquire\""
   ]
  },
  {
   "cell_type": "code",
   "execution_count": 41,
   "id": "5ed9b928",
   "metadata": {},
   "outputs": [],
   "source": [
    "person = Person('Fudd')\n",
    "doctor = MDPerson('Fudd')\n",
    "lawyer = JDPerson('Fudd')"
   ]
  },
  {
   "cell_type": "code",
   "execution_count": 42,
   "id": "134b3695",
   "metadata": {},
   "outputs": [
    {
     "name": "stdout",
     "output_type": "stream",
     "text": [
      "Fudd\n"
     ]
    }
   ],
   "source": [
    "print(person.name)"
   ]
  },
  {
   "cell_type": "code",
   "execution_count": 43,
   "id": "9b748545",
   "metadata": {},
   "outputs": [
    {
     "name": "stdout",
     "output_type": "stream",
     "text": [
      "Doctor Fudd\n"
     ]
    }
   ],
   "source": [
    "print(doctor.name)"
   ]
  },
  {
   "cell_type": "code",
   "execution_count": 44,
   "id": "38bade06",
   "metadata": {},
   "outputs": [
    {
     "name": "stdout",
     "output_type": "stream",
     "text": [
      "Fudd, Esquire\n"
     ]
    }
   ],
   "source": [
    "print(lawyer.name)"
   ]
  },
  {
   "cell_type": "code",
   "execution_count": null,
   "id": "a473a83c",
   "metadata": {},
   "outputs": [],
   "source": []
  },
  {
   "cell_type": "markdown",
   "id": "b262c1aa",
   "metadata": {},
   "source": [
    "## "
   ]
  }
 ],
 "metadata": {
  "kernelspec": {
   "display_name": "Python 3 (ipykernel)",
   "language": "python",
   "name": "python3"
  },
  "language_info": {
   "codemirror_mode": {
    "name": "ipython",
    "version": 3
   },
   "file_extension": ".py",
   "mimetype": "text/x-python",
   "name": "python",
   "nbconvert_exporter": "python",
   "pygments_lexer": "ipython3",
   "version": "3.10.9"
  }
 },
 "nbformat": 4,
 "nbformat_minor": 5
}
