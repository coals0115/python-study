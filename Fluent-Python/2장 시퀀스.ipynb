{
 "cells": [
  {
   "cell_type": "code",
   "execution_count": 1,
   "id": "98797977",
   "metadata": {},
   "outputs": [],
   "source": [
    "test = [1, 2, 3, 4]"
   ]
  },
  {
   "cell_type": "code",
   "execution_count": 2,
   "id": "c13a43d5",
   "metadata": {},
   "outputs": [
    {
     "data": {
      "text/plain": [
       "4"
      ]
     },
     "execution_count": 2,
     "metadata": {},
     "output_type": "execute_result"
    }
   ],
   "source": [
    "len(test)"
   ]
  },
  {
   "cell_type": "code",
   "execution_count": 3,
   "id": "1a15ea63",
   "metadata": {},
   "outputs": [
    {
     "ename": "NameError",
     "evalue": "name 'collection' is not defined",
     "output_type": "error",
     "traceback": [
      "\u001b[0;31m---------------------------------------------------------------------------\u001b[0m",
      "\u001b[0;31mNameError\u001b[0m                                 Traceback (most recent call last)",
      "Cell \u001b[0;32mIn[3], line 1\u001b[0m\n\u001b[0;32m----> 1\u001b[0m \u001b[43mcollection\u001b[49m\u001b[38;5;241m.\u001b[39mlen(test)\n",
      "\u001b[0;31mNameError\u001b[0m: name 'collection' is not defined"
     ]
    }
   ],
   "source": []
  },
  {
   "cell_type": "code",
   "execution_count": null,
   "id": "fd4dcd23",
   "metadata": {},
   "outputs": [],
   "source": []
  },
  {
   "cell_type": "code",
   "execution_count": 6,
   "id": "27cfac90",
   "metadata": {},
   "outputs": [],
   "source": [
    "import collections\n",
    "\n",
    "Card = collections.namedtuple('Card', ['rank', 'suit']) # 네임드 튜플 타입 정의\n",
    "\n",
    "class FrenchDeck:\n",
    "    ranks = [str(n) for n in range(2, 11)] + list('JQKA')\n",
    "    suits = 'spades diamonds clubs hearts'.split()\n",
    "\n",
    "    def __init__(self):\n",
    "        self._cards = [Card(rank, suit) for suit in self.suits\n",
    "                                        for rank in self.ranks]\n",
    "\n",
    "    def __len__(self):\n",
    "        return len(self._cards)\n",
    "\n",
    "    def __getitem__(self, position):\n",
    "        return self._cards[position]\n"
   ]
  },
  {
   "cell_type": "code",
   "execution_count": 7,
   "id": "7bf9832e",
   "metadata": {},
   "outputs": [],
   "source": [
    "card = Card(1, 3)"
   ]
  },
  {
   "cell_type": "code",
   "execution_count": 8,
   "id": "704929d1",
   "metadata": {},
   "outputs": [
    {
     "data": {
      "text/plain": [
       "Card(rank=1, suit=3)"
      ]
     },
     "execution_count": 8,
     "metadata": {},
     "output_type": "execute_result"
    }
   ],
   "source": [
    "card"
   ]
  },
  {
   "cell_type": "code",
   "execution_count": 9,
   "id": "732a499f",
   "metadata": {},
   "outputs": [],
   "source": [
    "from random import choice"
   ]
  },
  {
   "cell_type": "code",
   "execution_count": 10,
   "id": "3e010101",
   "metadata": {},
   "outputs": [],
   "source": [
    "deck = FrenchDeck()"
   ]
  },
  {
   "cell_type": "code",
   "execution_count": 11,
   "id": "74801aeb",
   "metadata": {},
   "outputs": [
    {
     "data": {
      "text/plain": [
       "52"
      ]
     },
     "execution_count": 11,
     "metadata": {},
     "output_type": "execute_result"
    }
   ],
   "source": [
    "len(deck)"
   ]
  },
  {
   "cell_type": "code",
   "execution_count": 13,
   "id": "400ff47b",
   "metadata": {},
   "outputs": [
    {
     "ename": "NameError",
     "evalue": "name 'random' is not defined",
     "output_type": "error",
     "traceback": [
      "\u001b[0;31m---------------------------------------------------------------------------\u001b[0m",
      "\u001b[0;31mNameError\u001b[0m                                 Traceback (most recent call last)",
      "Cell \u001b[0;32mIn[13], line 1\u001b[0m\n\u001b[0;32m----> 1\u001b[0m \u001b[43mrandom\u001b[49m\u001b[38;5;241m.\u001b[39mchoice(deck)\n",
      "\u001b[0;31mNameError\u001b[0m: name 'random' is not defined"
     ]
    }
   ],
   "source": [
    "random.choice(deck)"
   ]
  },
  {
   "cell_type": "code",
   "execution_count": 17,
   "id": "5c900cf0",
   "metadata": {},
   "outputs": [
    {
     "data": {
      "text/plain": [
       "Card(rank='4', suit='spades')"
      ]
     },
     "execution_count": 17,
     "metadata": {},
     "output_type": "execute_result"
    }
   ],
   "source": [
    "choice(deck)"
   ]
  },
  {
   "cell_type": "code",
   "execution_count": null,
   "id": "057b05cd",
   "metadata": {},
   "outputs": [],
   "source": [
    "*"
   ]
  },
  {
   "cell_type": "markdown",
   "id": "ca97f70c",
   "metadata": {},
   "source": [
    "for card in reversed(deck): # doctest: +ELLIPSIS\n",
    "    print(card)"
   ]
  },
  {
   "cell_type": "code",
   "execution_count": null,
   "id": "0e82b094",
   "metadata": {},
   "outputs": [],
   "source": []
  },
  {
   "cell_type": "code",
   "execution_count": null,
   "id": "965fe8ad",
   "metadata": {},
   "outputs": [],
   "source": [
    "for card in sorted(deck, key=s)"
   ]
  },
  {
   "cell_type": "code",
   "execution_count": 21,
   "id": "3894ac0e",
   "metadata": {},
   "outputs": [
    {
     "data": {
      "text/plain": [
       "<__main__.FrenchDeck at 0x107e2fbe0>"
      ]
     },
     "execution_count": 21,
     "metadata": {},
     "output_type": "execute_result"
    }
   ],
   "source": [
    "deck"
   ]
  },
  {
   "cell_type": "code",
   "execution_count": 23,
   "id": "ea18a9c1",
   "metadata": {},
   "outputs": [
    {
     "ename": "TypeError",
     "evalue": "'FrenchDeck' object does not support item assignment",
     "output_type": "error",
     "traceback": [
      "\u001b[0;31m---------------------------------------------------------------------------\u001b[0m",
      "\u001b[0;31mTypeError\u001b[0m                                 Traceback (most recent call last)",
      "Cell \u001b[0;32mIn[23], line 1\u001b[0m\n\u001b[0;32m----> 1\u001b[0m deck[\u001b[38;5;241m0\u001b[39m] \u001b[38;5;241m=\u001b[39m \u001b[38;5;241m1\u001b[39m\n",
      "\u001b[0;31mTypeError\u001b[0m: 'FrenchDeck' object does not support item assignment"
     ]
    }
   ],
   "source": [
    "deck[0] = 1;"
   ]
  },
  {
   "cell_type": "code",
   "execution_count": 25,
   "id": "bee19577",
   "metadata": {},
   "outputs": [
    {
     "ename": "SyntaxError",
     "evalue": "invalid syntax (4036121259.py, line 1)",
     "output_type": "error",
     "traceback": [
      "\u001b[0;36m  Cell \u001b[0;32mIn[25], line 1\u001b[0;36m\u001b[0m\n\u001b[0;31m    Card test1 = deck[0]\u001b[0m\n\u001b[0m         ^\u001b[0m\n\u001b[0;31mSyntaxError\u001b[0m\u001b[0;31m:\u001b[0m invalid syntax\n"
     ]
    }
   ],
   "source": [
    "Card test1 = deck[0]"
   ]
  },
  {
   "cell_type": "code",
   "execution_count": null,
   "id": "efed701d",
   "metadata": {},
   "outputs": [],
   "source": []
  },
  {
   "cell_type": "code",
   "execution_count": 27,
   "id": "c584a7ed",
   "metadata": {},
   "outputs": [
    {
     "ename": "SyntaxError",
     "evalue": "invalid decimal literal (527438603.py, line 1)",
     "output_type": "error",
     "traceback": [
      "\u001b[0;36m  Cell \u001b[0;32mIn[27], line 1\u001b[0;36m\u001b[0m\n\u001b[0;31m    1.add('1')\u001b[0m\n\u001b[0m     ^\u001b[0m\n\u001b[0;31mSyntaxError\u001b[0m\u001b[0;31m:\u001b[0m invalid decimal literal\n"
     ]
    }
   ],
   "source": [
    "1.add('1')"
   ]
  },
  {
   "cell_type": "code",
   "execution_count": 28,
   "id": "56012b38",
   "metadata": {},
   "outputs": [],
   "source": [
    "hi = 1"
   ]
  },
  {
   "cell_type": "code",
   "execution_count": 32,
   "id": "12a6d815",
   "metadata": {},
   "outputs": [
    {
     "data": {
      "text/plain": [
       "NotImplemented"
      ]
     },
     "execution_count": 32,
     "metadata": {},
     "output_type": "execute_result"
    }
   ],
   "source": [
    "hi.__add__('1')"
   ]
  },
  {
   "cell_type": "code",
   "execution_count": 33,
   "id": "0f2f81e4",
   "metadata": {},
   "outputs": [],
   "source": [
    "hi2 = '1'"
   ]
  },
  {
   "cell_type": "code",
   "execution_count": 34,
   "id": "a2982840",
   "metadata": {},
   "outputs": [
    {
     "ename": "TypeError",
     "evalue": "can only concatenate str (not \"int\") to str",
     "output_type": "error",
     "traceback": [
      "\u001b[0;31m---------------------------------------------------------------------------\u001b[0m",
      "\u001b[0;31mTypeError\u001b[0m                                 Traceback (most recent call last)",
      "Cell \u001b[0;32mIn[34], line 1\u001b[0m\n\u001b[0;32m----> 1\u001b[0m \u001b[43mhi2\u001b[49m\u001b[38;5;241;43m.\u001b[39;49m\u001b[38;5;21;43m__add__\u001b[39;49m\u001b[43m(\u001b[49m\u001b[38;5;241;43m1\u001b[39;49m\u001b[43m)\u001b[49m\n",
      "\u001b[0;31mTypeError\u001b[0m: can only concatenate str (not \"int\") to str"
     ]
    }
   ],
   "source": [
    "hi2.__add__(1)"
   ]
  },
  {
   "cell_type": "code",
   "execution_count": 39,
   "id": "405c1f42",
   "metadata": {},
   "outputs": [
    {
     "data": {
      "text/plain": [
       "True"
      ]
     },
     "execution_count": 39,
     "metadata": {},
     "output_type": "execute_result"
    }
   ],
   "source": [
    "bool(1)"
   ]
  },
  {
   "cell_type": "code",
   "execution_count": 40,
   "id": "8fa88bf7",
   "metadata": {},
   "outputs": [
    {
     "data": {
      "text/plain": [
       "True"
      ]
     },
     "execution_count": 40,
     "metadata": {},
     "output_type": "execute_result"
    }
   ],
   "source": [
    "bool(deck)"
   ]
  },
  {
   "cell_type": "code",
   "execution_count": 41,
   "id": "48f6510c",
   "metadata": {},
   "outputs": [],
   "source": [
    "test = []"
   ]
  },
  {
   "cell_type": "code",
   "execution_count": 42,
   "id": "e0657a52",
   "metadata": {},
   "outputs": [
    {
     "data": {
      "text/plain": [
       "False"
      ]
     },
     "execution_count": 42,
     "metadata": {},
     "output_type": "execute_result"
    }
   ],
   "source": [
    "bool(test)"
   ]
  },
  {
   "cell_type": "code",
   "execution_count": 51,
   "id": "3f7eee09",
   "metadata": {},
   "outputs": [],
   "source": [
    "test = [[1,2],[3,4]]"
   ]
  },
  {
   "cell_type": "code",
   "execution_count": 52,
   "id": "11eb81a8",
   "metadata": {},
   "outputs": [
    {
     "data": {
      "text/plain": [
       "[]"
      ]
     },
     "execution_count": 52,
     "metadata": {},
     "output_type": "execute_result"
    }
   ],
   "source": [
    "test[2:]"
   ]
  },
  {
   "cell_type": "code",
   "execution_count": 53,
   "id": "75ba3a80",
   "metadata": {},
   "outputs": [
    {
     "ename": "TypeError",
     "evalue": "slice indices must be integers or None or have an __index__ method",
     "output_type": "error",
     "traceback": [
      "\u001b[0;31m---------------------------------------------------------------------------\u001b[0m",
      "\u001b[0;31mTypeError\u001b[0m                                 Traceback (most recent call last)",
      "Cell \u001b[0;32mIn[53], line 1\u001b[0m\n\u001b[0;32m----> 1\u001b[0m \u001b[43mtest\u001b[49m\u001b[43m[\u001b[49m\u001b[38;5;241;43m2\u001b[39;49m\u001b[43m:\u001b[49m\u001b[38;5;241;43m.\u001b[39;49m\u001b[38;5;241;43m.\u001b[39;49m\u001b[38;5;241;43m.\u001b[39;49m\u001b[43m]\u001b[49m\n",
      "\u001b[0;31mTypeError\u001b[0m: slice indices must be integers or None or have an __index__ method"
     ]
    }
   ],
   "source": [
    "test[2:...]"
   ]
  },
  {
   "cell_type": "code",
   "execution_count": 59,
   "id": "a8420062",
   "metadata": {},
   "outputs": [
    {
     "ename": "ModuleNotFoundError",
     "evalue": "No module named 'numpy'",
     "output_type": "error",
     "traceback": [
      "\u001b[0;31m---------------------------------------------------------------------------\u001b[0m",
      "\u001b[0;31mModuleNotFoundError\u001b[0m                       Traceback (most recent call last)",
      "Cell \u001b[0;32mIn[59], line 1\u001b[0m\n\u001b[0;32m----> 1\u001b[0m \u001b[38;5;28;01mimport\u001b[39;00m \u001b[38;5;21;01mnumpy\u001b[39;00m \u001b[38;5;28;01mas\u001b[39;00m \u001b[38;5;21;01mnp2\u001b[39;00m\n",
      "\u001b[0;31mModuleNotFoundError\u001b[0m: No module named 'numpy'"
     ]
    }
   ],
   "source": [
    "import numpy as np2"
   ]
  },
  {
   "cell_type": "code",
   "execution_count": 60,
   "id": "2c20a923",
   "metadata": {},
   "outputs": [
    {
     "data": {
      "text/plain": [
       "slice(1, Ellipsis, None)"
      ]
     },
     "execution_count": 60,
     "metadata": {},
     "output_type": "execute_result"
    }
   ],
   "source": [
    "slice(1, ...)"
   ]
  },
  {
   "cell_type": "code",
   "execution_count": null,
   "id": "1c27d1aa",
   "metadata": {},
   "outputs": [],
   "source": []
  },
  {
   "cell_type": "markdown",
   "id": "aca67b0e",
   "metadata": {},
   "source": [
    "# 5. 시퀀스에 덧셈과 곱셈 연산자 사용하기"
   ]
  },
  {
   "cell_type": "code",
   "execution_count": 1,
   "id": "01be68e9",
   "metadata": {},
   "outputs": [],
   "source": [
    "strt = \"12\""
   ]
  },
  {
   "cell_type": "code",
   "execution_count": 2,
   "id": "f61097dd",
   "metadata": {},
   "outputs": [
    {
     "data": {
      "text/plain": [
       "'121212'"
      ]
     },
     "execution_count": 2,
     "metadata": {},
     "output_type": "execute_result"
    }
   ],
   "source": [
    "strt*3"
   ]
  },
  {
   "cell_type": "code",
   "execution_count": 4,
   "id": "9ba3c9f2",
   "metadata": {},
   "outputs": [],
   "source": [
    "l = [1, 2, 3]"
   ]
  },
  {
   "cell_type": "code",
   "execution_count": 5,
   "id": "014a1779",
   "metadata": {},
   "outputs": [],
   "source": [
    "my_list = [[1, 2, [3, 4]], [5, 6], 7, 8, 9]"
   ]
  },
  {
   "cell_type": "code",
   "execution_count": 7,
   "id": "aa6bbc92",
   "metadata": {},
   "outputs": [],
   "source": [
    "test = my_list * 3"
   ]
  },
  {
   "cell_type": "code",
   "execution_count": 8,
   "id": "8756df92",
   "metadata": {},
   "outputs": [
    {
     "data": {
      "text/plain": [
       "[[1, 2, [3, 4]],\n",
       " [5, 6],\n",
       " 7,\n",
       " 8,\n",
       " 9,\n",
       " [1, 2, [3, 4]],\n",
       " [5, 6],\n",
       " 7,\n",
       " 8,\n",
       " 9,\n",
       " [1, 2, [3, 4]],\n",
       " [5, 6],\n",
       " 7,\n",
       " 8,\n",
       " 9]"
      ]
     },
     "execution_count": 8,
     "metadata": {},
     "output_type": "execute_result"
    }
   ],
   "source": [
    "test"
   ]
  },
  {
   "cell_type": "code",
   "execution_count": 12,
   "id": "a7e29349",
   "metadata": {},
   "outputs": [],
   "source": [
    "test[0][2][1] = 9999"
   ]
  },
  {
   "cell_type": "code",
   "execution_count": 13,
   "id": "88956f97",
   "metadata": {},
   "outputs": [
    {
     "data": {
      "text/plain": [
       "[[1, 2, [3, 9999]],\n",
       " [5, 6],\n",
       " 7,\n",
       " 8,\n",
       " 9,\n",
       " [1, 2, [3, 9999]],\n",
       " [5, 6],\n",
       " 7,\n",
       " 8,\n",
       " 9,\n",
       " [1, 2, [3, 9999]],\n",
       " [5, 6],\n",
       " 7,\n",
       " 8,\n",
       " 9]"
      ]
     },
     "execution_count": 13,
     "metadata": {},
     "output_type": "execute_result"
    }
   ],
   "source": [
    "test # 얕은 복사임"
   ]
  },
  {
   "cell_type": "code",
   "execution_count": null,
   "id": "675fa90b",
   "metadata": {},
   "outputs": [],
   "source": []
  },
  {
   "cell_type": "markdown",
   "id": "8b28cba3",
   "metadata": {},
   "source": [
    "## 5.1 리스트의 리스트 만들기"
   ]
  },
  {
   "cell_type": "code",
   "execution_count": 14,
   "id": "60f2af8f",
   "metadata": {},
   "outputs": [],
   "source": [
    "board = [['_'] * 3 for i in range(3)]"
   ]
  },
  {
   "cell_type": "code",
   "execution_count": 15,
   "id": "894ab21a",
   "metadata": {},
   "outputs": [
    {
     "data": {
      "text/plain": [
       "[['_', '_', '_'], ['_', '_', '_'], ['_', '_', '_']]"
      ]
     },
     "execution_count": 15,
     "metadata": {},
     "output_type": "execute_result"
    }
   ],
   "source": [
    "board"
   ]
  },
  {
   "cell_type": "code",
   "execution_count": null,
   "id": "559fe305",
   "metadata": {},
   "outputs": [],
   "source": []
  },
  {
   "cell_type": "markdown",
   "id": "7509ba66",
   "metadata": {},
   "source": [
    "# 6. 시퀀스의 복합 할당"
   ]
  },
  {
   "cell_type": "code",
   "execution_count": 21,
   "id": "6bfbf888",
   "metadata": {},
   "outputs": [],
   "source": [
    "l = [1, 2, 3] # 가변 시퀀스"
   ]
  },
  {
   "cell_type": "code",
   "execution_count": 22,
   "id": "72e53dae",
   "metadata": {},
   "outputs": [
    {
     "data": {
      "text/plain": [
       "4416374720"
      ]
     },
     "execution_count": 22,
     "metadata": {},
     "output_type": "execute_result"
    }
   ],
   "source": [
    "id(l)"
   ]
  },
  {
   "cell_type": "code",
   "execution_count": 23,
   "id": "3f7567c2",
   "metadata": {},
   "outputs": [],
   "source": [
    "l *= 2"
   ]
  },
  {
   "cell_type": "code",
   "execution_count": 24,
   "id": "d5d7a773",
   "metadata": {},
   "outputs": [
    {
     "data": {
      "text/plain": [
       "[1, 2, 3, 1, 2, 3]"
      ]
     },
     "execution_count": 24,
     "metadata": {},
     "output_type": "execute_result"
    }
   ],
   "source": [
    "l"
   ]
  },
  {
   "cell_type": "code",
   "execution_count": 25,
   "id": "f6ced0e4",
   "metadata": {},
   "outputs": [
    {
     "data": {
      "text/plain": [
       "4416374720"
      ]
     },
     "execution_count": 25,
     "metadata": {},
     "output_type": "execute_result"
    }
   ],
   "source": [
    "id(l) "
   ]
  },
  {
   "cell_type": "code",
   "execution_count": null,
   "id": "91c26e83",
   "metadata": {},
   "outputs": [],
   "source": []
  },
  {
   "cell_type": "code",
   "execution_count": 30,
   "id": "5924723f",
   "metadata": {},
   "outputs": [],
   "source": [
    "t = (1, 2, 3) # 불변 시퀀스"
   ]
  },
  {
   "cell_type": "code",
   "execution_count": 31,
   "id": "bbf16389",
   "metadata": {},
   "outputs": [
    {
     "data": {
      "text/plain": [
       "4412624448"
      ]
     },
     "execution_count": 31,
     "metadata": {},
     "output_type": "execute_result"
    }
   ],
   "source": [
    "id(t)"
   ]
  },
  {
   "cell_type": "code",
   "execution_count": 32,
   "id": "ee6de3bc",
   "metadata": {},
   "outputs": [],
   "source": [
    "t *= 2"
   ]
  },
  {
   "cell_type": "code",
   "execution_count": 33,
   "id": "0ca7ba9e",
   "metadata": {},
   "outputs": [
    {
     "data": {
      "text/plain": [
       "4410743136"
      ]
     },
     "execution_count": 33,
     "metadata": {},
     "output_type": "execute_result"
    }
   ],
   "source": [
    "id(t)"
   ]
  },
  {
   "cell_type": "code",
   "execution_count": null,
   "id": "ccc8ca14",
   "metadata": {},
   "outputs": [],
   "source": []
  },
  {
   "cell_type": "markdown",
   "id": "e3cd5931",
   "metadata": {},
   "source": [
    "## 6.1 += 복합 할당 퀴즈\n",
    "결론 : 가변 항목을 튜플에 넣는 것은 좋지않다."
   ]
  },
  {
   "cell_type": "code",
   "execution_count": 39,
   "id": "1b5b6f2b",
   "metadata": {},
   "outputs": [],
   "source": [
    "t = (1, 2, [30, 40])"
   ]
  },
  {
   "cell_type": "code",
   "execution_count": 40,
   "id": "5d8b2931",
   "metadata": {},
   "outputs": [
    {
     "ename": "TypeError",
     "evalue": "'tuple' object does not support item assignment",
     "output_type": "error",
     "traceback": [
      "\u001b[0;31m---------------------------------------------------------------------------\u001b[0m",
      "\u001b[0;31mTypeError\u001b[0m                                 Traceback (most recent call last)",
      "Cell \u001b[0;32mIn[40], line 1\u001b[0m\n\u001b[0;32m----> 1\u001b[0m t[\u001b[38;5;241m2\u001b[39m] \u001b[38;5;241m+\u001b[39m\u001b[38;5;241m=\u001b[39m [\u001b[38;5;241m50\u001b[39m, \u001b[38;5;241m60\u001b[39m]\n",
      "\u001b[0;31mTypeError\u001b[0m: 'tuple' object does not support item assignment"
     ]
    }
   ],
   "source": [
    "t[2] += [50, 60]"
   ]
  },
  {
   "cell_type": "code",
   "execution_count": 41,
   "id": "714aa95e",
   "metadata": {},
   "outputs": [
    {
     "data": {
      "text/plain": [
       "(1, 2, [30, 40, 50, 60])"
      ]
     },
     "execution_count": 41,
     "metadata": {},
     "output_type": "execute_result"
    }
   ],
   "source": [
    "t"
   ]
  },
  {
   "cell_type": "code",
   "execution_count": null,
   "id": "3f05922f",
   "metadata": {},
   "outputs": [],
   "source": []
  },
  {
   "cell_type": "code",
   "execution_count": 42,
   "id": "1fcca48b",
   "metadata": {},
   "outputs": [],
   "source": [
    "import dis"
   ]
  },
  {
   "cell_type": "code",
   "execution_count": 134,
   "id": "0a0a7bb7",
   "metadata": {},
   "outputs": [
    {
     "name": "stdout",
     "output_type": "stream",
     "text": [
      "  1           0 LOAD_NAME                0 (t)\n",
      "              2 LOAD_CONST               0 (2)\n",
      "              4 DUP_TOP_TWO\n",
      "              6 BINARY_SUBSCR\n",
      "              8 LOAD_CONST               1 (50)\n",
      "             10 LOAD_CONST               2 (60)\n",
      "             12 BUILD_LIST               2\n",
      "             14 INPLACE_ADD\n",
      "             16 ROT_THREE\n",
      "             18 STORE_SUBSCR\n",
      "             20 LOAD_CONST               3 (None)\n",
      "             22 RETURN_VALUE\n"
     ]
    },
    {
     "data": {
      "text/plain": [
       "['__bool__',\n",
       " '__class__',\n",
       " '__delattr__',\n",
       " '__dir__',\n",
       " '__doc__',\n",
       " '__eq__',\n",
       " '__format__',\n",
       " '__ge__',\n",
       " '__getattribute__',\n",
       " '__gt__',\n",
       " '__hash__',\n",
       " '__init__',\n",
       " '__init_subclass__',\n",
       " '__le__',\n",
       " '__lt__',\n",
       " '__ne__',\n",
       " '__new__',\n",
       " '__reduce__',\n",
       " '__reduce_ex__',\n",
       " '__repr__',\n",
       " '__setattr__',\n",
       " '__sizeof__',\n",
       " '__str__',\n",
       " '__subclasshook__']"
      ]
     },
     "execution_count": 134,
     "metadata": {},
     "output_type": "execute_result"
    }
   ],
   "source": [
    "dis.dis('t[2] += [50, 60]')"
   ]
  },
  {
   "cell_type": "code",
   "execution_count": 48,
   "id": "aad42c96",
   "metadata": {},
   "outputs": [],
   "source": [
    "fruits = ['grape','raspberry','apple','banana']"
   ]
  },
  {
   "cell_type": "code",
   "execution_count": 49,
   "id": "1831ab30",
   "metadata": {},
   "outputs": [
    {
     "data": {
      "text/plain": [
       "['apple', 'banana', 'grape', 'raspberry']"
      ]
     },
     "execution_count": 49,
     "metadata": {},
     "output_type": "execute_result"
    }
   ],
   "source": [
    "sorted(fruits)"
   ]
  },
  {
   "cell_type": "code",
   "execution_count": 50,
   "id": "564364f9",
   "metadata": {},
   "outputs": [
    {
     "data": {
      "text/plain": [
       "['grape', 'raspberry', 'apple', 'banana']"
      ]
     },
     "execution_count": 50,
     "metadata": {},
     "output_type": "execute_result"
    }
   ],
   "source": [
    "fruits"
   ]
  },
  {
   "cell_type": "code",
   "execution_count": 51,
   "id": "53f2a396",
   "metadata": {},
   "outputs": [
    {
     "data": {
      "text/plain": [
       "['raspberry', 'grape', 'banana', 'apple']"
      ]
     },
     "execution_count": 51,
     "metadata": {},
     "output_type": "execute_result"
    }
   ],
   "source": [
    "sorted(fruits, reverse=True)"
   ]
  },
  {
   "cell_type": "code",
   "execution_count": 52,
   "id": "e1a6dfbe",
   "metadata": {},
   "outputs": [
    {
     "data": {
      "text/plain": [
       "['grape', 'apple', 'banana', 'raspberry']"
      ]
     },
     "execution_count": 52,
     "metadata": {},
     "output_type": "execute_result"
    }
   ],
   "source": [
    "sorted(fruits, key=len)"
   ]
  },
  {
   "cell_type": "code",
   "execution_count": 53,
   "id": "feff712d",
   "metadata": {},
   "outputs": [
    {
     "data": {
      "text/plain": [
       "['raspberry', 'banana', 'grape', 'apple']"
      ]
     },
     "execution_count": 53,
     "metadata": {},
     "output_type": "execute_result"
    }
   ],
   "source": [
    "sorted(fruits, key=len, reverse=True)"
   ]
  },
  {
   "cell_type": "code",
   "execution_count": 54,
   "id": "4a107355",
   "metadata": {},
   "outputs": [
    {
     "data": {
      "text/plain": [
       "['grape', 'raspberry', 'apple', 'banana']"
      ]
     },
     "execution_count": 54,
     "metadata": {},
     "output_type": "execute_result"
    }
   ],
   "source": [
    "fruits"
   ]
  },
  {
   "cell_type": "code",
   "execution_count": 57,
   "id": "f0f891a9",
   "metadata": {},
   "outputs": [],
   "source": [
    "test = fruits.sort()"
   ]
  },
  {
   "cell_type": "code",
   "execution_count": 58,
   "id": "29e77e64",
   "metadata": {},
   "outputs": [
    {
     "data": {
      "text/plain": [
       "['apple', 'banana', 'grape', 'raspberry']"
      ]
     },
     "execution_count": 58,
     "metadata": {},
     "output_type": "execute_result"
    }
   ],
   "source": [
    "fruits"
   ]
  },
  {
   "cell_type": "code",
   "execution_count": null,
   "id": "1fab4a1c",
   "metadata": {},
   "outputs": [],
   "source": []
  },
  {
   "cell_type": "code",
   "execution_count": 60,
   "id": "6bbbe735",
   "metadata": {},
   "outputs": [],
   "source": [
    "test"
   ]
  },
  {
   "cell_type": "code",
   "execution_count": 62,
   "id": "edbf31f7",
   "metadata": {},
   "outputs": [],
   "source": [
    "# BEGIN BISECT_DEMO\n",
    "import bisect\n",
    "import sys\n",
    "\n",
    "HAYSTACK = [1, 4, 5, 6, 8, 12, 15, 20, 21, 23, 23, 26, 29, 30]\n",
    "NEEDLES = [0, 1, 2, 5, 8, 10, 22, 23, 29, 30, 31]"
   ]
  },
  {
   "cell_type": "code",
   "execution_count": 63,
   "id": "731d7019",
   "metadata": {},
   "outputs": [],
   "source": [
    "ROW_FMT = '{0:2d} @ {1:2d}    {2}{0:<2d}'"
   ]
  },
  {
   "cell_type": "code",
   "execution_count": 64,
   "id": "3d75dc18",
   "metadata": {},
   "outputs": [],
   "source": [
    "def demo(bisect_fn):\n",
    "    for needle in reversed(NEEDLES):\n",
    "        position = bisect_fn(HAYSTACK, needle)  # <1> 삽입 위치를 찾아내기 위해 선택한 bisect 함수를 사용.\n",
    "        offset = position * '  |'  # <2> 간격(offset)에 비례해서 수직 막대 패턴을 만든다.\n",
    "        print(ROW_FMT.format(needle, position, offset))  # <3> needle과 삽입 위치를 보여주는 포맷된 행을 출력한다."
   ]
  },
  {
   "cell_type": "code",
   "execution_count": 65,
   "id": "805d0d69",
   "metadata": {},
   "outputs": [
    {
     "name": "stdout",
     "output_type": "stream",
     "text": [
      "DEMO: bisect_right\n",
      "haystack ->  1  4  5  6  8 12 15 20 21 23 23 26 29 30\n",
      "31 @ 14      |  |  |  |  |  |  |  |  |  |  |  |  |  |31\n",
      "30 @ 14      |  |  |  |  |  |  |  |  |  |  |  |  |  |30\n",
      "29 @ 13      |  |  |  |  |  |  |  |  |  |  |  |  |29\n",
      "23 @ 11      |  |  |  |  |  |  |  |  |  |  |23\n",
      "22 @  9      |  |  |  |  |  |  |  |  |22\n",
      "10 @  5      |  |  |  |  |10\n",
      " 8 @  5      |  |  |  |  |8 \n",
      " 5 @  3      |  |  |5 \n",
      " 2 @  1      |2 \n",
      " 1 @  1      |1 \n",
      " 0 @  0    0 \n"
     ]
    }
   ],
   "source": [
    "if __name__ == '__main__':\n",
    "\n",
    "    if sys.argv[-1] == 'left':  # <4> 마지막 명령행 인수에 따라 사용할 bisect 함수를 선택한다.\n",
    "        bisect_fn = bisect.bisect_left\n",
    "    else:\n",
    "        bisect_fn = bisect.bisect\n",
    "\n",
    "    print('DEMO:', bisect_fn.__name__)  # <5> 선택된 함수명을 헤더에 출력한다.\n",
    "    print('haystack ->', ' '.join('%2d' % n for n in HAYSTACK))\n",
    "    demo(bisect_fn)\n",
    "\n",
    "# END BISECT_DEMO"
   ]
  },
  {
   "cell_type": "code",
   "execution_count": 67,
   "id": "736fb984",
   "metadata": {},
   "outputs": [
    {
     "data": {
      "text/plain": [
       "<function _bisect.bisect_right(a, x, lo=0, hi=None, *, key=None)>"
      ]
     },
     "execution_count": 67,
     "metadata": {},
     "output_type": "execute_result"
    }
   ],
   "source": [
    "bisect_fn"
   ]
  },
  {
   "cell_type": "code",
   "execution_count": 68,
   "id": "16b353f3",
   "metadata": {},
   "outputs": [
    {
     "name": "stdout",
     "output_type": "stream",
     "text": [
      "31\n",
      "30\n",
      "29\n",
      "23\n",
      "22\n",
      "10\n",
      "8\n",
      "5\n",
      "2\n",
      "1\n",
      "0\n"
     ]
    }
   ],
   "source": [
    "for needle in reversed(NEEDLES):\n",
    "    print(needle)"
   ]
  },
  {
   "cell_type": "code",
   "execution_count": 69,
   "id": "694b5ef8",
   "metadata": {},
   "outputs": [
    {
     "data": {
      "text/plain": [
       "<function _bisect.bisect_right(a, x, lo=0, hi=None, *, key=None)>"
      ]
     },
     "execution_count": 69,
     "metadata": {},
     "output_type": "execute_result"
    }
   ],
   "source": [
    "bisect.bisect"
   ]
  },
  {
   "cell_type": "code",
   "execution_count": null,
   "id": "e5d20d40",
   "metadata": {},
   "outputs": [],
   "source": []
  },
  {
   "cell_type": "code",
   "execution_count": 75,
   "id": "91f4430c",
   "metadata": {},
   "outputs": [],
   "source": [
    "def grade(score, breakpoints=[60, 70, 80, 90], grades='FDCBA'):\n",
    "    i = bisect.bisect(breakpoints, score)\n",
    "    \n",
    "    return grades[i]"
   ]
  },
  {
   "cell_type": "code",
   "execution_count": 74,
   "id": "fe7f5e80",
   "metadata": {},
   "outputs": [
    {
     "data": {
      "text/plain": [
       "['F', 'A', 'C', 'C', 'B', 'A', 'A']"
      ]
     },
     "execution_count": 74,
     "metadata": {},
     "output_type": "execute_result"
    }
   ],
   "source": [
    "[grade(score) for score in [33,99,77,70,89,90,100]]"
   ]
  },
  {
   "cell_type": "code",
   "execution_count": null,
   "id": "39bd9802",
   "metadata": {},
   "outputs": [],
   "source": []
  },
  {
   "cell_type": "code",
   "execution_count": 95,
   "id": "9a9673bd",
   "metadata": {},
   "outputs": [],
   "source": [
    "import bisect\n",
    "import random\n",
    "\n",
    "SIZE = 7\n",
    "\n",
    "random.seed(1729)\n",
    "\n",
    "my_list = []"
   ]
  },
  {
   "cell_type": "code",
   "execution_count": 96,
   "id": "ccc242b7",
   "metadata": {},
   "outputs": [
    {
     "name": "stdout",
     "output_type": "stream",
     "text": [
      "10 -> [10]\n",
      " 0 -> [0, 10]\n",
      " 6 -> [0, 6, 10]\n",
      " 8 -> [0, 6, 8, 10]\n",
      " 7 -> [0, 6, 7, 8, 10]\n",
      " 2 -> [0, 2, 6, 7, 8, 10]\n",
      "10 -> [0, 2, 6, 7, 8, 10, 10]\n"
     ]
    }
   ],
   "source": [
    "for i in range(SIZE):\n",
    "    new_item = random.randrange(SIZE*2)\n",
    "    bisect.insort(my_list, new_item)\n",
    "    print('%2d ->' % new_item, my_list)"
   ]
  },
  {
   "cell_type": "code",
   "execution_count": 97,
   "id": "dce6891b",
   "metadata": {},
   "outputs": [],
   "source": [
    "test = [1, 34, 45, 2, 4]"
   ]
  },
  {
   "cell_type": "code",
   "execution_count": 99,
   "id": "60954d94",
   "metadata": {},
   "outputs": [],
   "source": [
    "test.sort()"
   ]
  },
  {
   "cell_type": "code",
   "execution_count": 100,
   "id": "d88b1d34",
   "metadata": {},
   "outputs": [
    {
     "data": {
      "text/plain": [
       "[1, 2, 4, 34, 45]"
      ]
     },
     "execution_count": 100,
     "metadata": {},
     "output_type": "execute_result"
    }
   ],
   "source": [
    "test"
   ]
  },
  {
   "cell_type": "code",
   "execution_count": 101,
   "id": "0bec32b9",
   "metadata": {},
   "outputs": [],
   "source": [
    "bisect.insort(test, 9)"
   ]
  },
  {
   "cell_type": "code",
   "execution_count": 102,
   "id": "8d4b8111",
   "metadata": {},
   "outputs": [
    {
     "data": {
      "text/plain": [
       "[1, 2, 4, 9, 34, 45]"
      ]
     },
     "execution_count": 102,
     "metadata": {},
     "output_type": "execute_result"
    }
   ],
   "source": [
    "test"
   ]
  },
  {
   "cell_type": "code",
   "execution_count": 103,
   "id": "344c90c6",
   "metadata": {},
   "outputs": [
    {
     "data": {
      "text/plain": [
       "<function _bisect.insort_right(a, x, lo=0, hi=None, *, key=None)>"
      ]
     },
     "execution_count": 103,
     "metadata": {},
     "output_type": "execute_result"
    }
   ],
   "source": [
    "bisect.insort"
   ]
  },
  {
   "cell_type": "code",
   "execution_count": null,
   "id": "8dba5d3d",
   "metadata": {},
   "outputs": [],
   "source": []
  },
  {
   "cell_type": "code",
   "execution_count": 120,
   "id": "09f60954",
   "metadata": {},
   "outputs": [
    {
     "data": {
      "text/plain": [
       "0.5407764859469232"
      ]
     },
     "execution_count": 120,
     "metadata": {},
     "output_type": "execute_result"
    }
   ],
   "source": [
    "from array import array\n",
    "from random import random\n",
    "floats = array('d', (random() for i in range(10**1)))\n",
    "floats[-1]"
   ]
  },
  {
   "cell_type": "code",
   "execution_count": 121,
   "id": "e5cdf758",
   "metadata": {},
   "outputs": [
    {
     "data": {
      "text/plain": [
       "array('d', [0.668750232080937, 0.6843017916405397, 0.24967540607910887, 0.6290084939136511, 0.988479457120173, 0.5272915511554297, 0.5538641067038717, 0.36220278738260936, 0.7610840741439452, 0.5407764859469232])"
      ]
     },
     "execution_count": 121,
     "metadata": {},
     "output_type": "execute_result"
    }
   ],
   "source": [
    "floats"
   ]
  },
  {
   "cell_type": "code",
   "execution_count": 125,
   "id": "139d3a39",
   "metadata": {},
   "outputs": [
    {
     "data": {
      "text/plain": [
       "0.5407764859469232"
      ]
     },
     "execution_count": 125,
     "metadata": {},
     "output_type": "execute_result"
    }
   ],
   "source": [
    "fp = open('floats.bin', 'wb')\n",
    "floats.tofile(fp) # 배열을 이진 파일에 저장\n",
    "fp.close()\n",
    "\n",
    "floats2 = array('d')\n",
    "fp = open('floats.bin','rb')\n",
    "floats2.fromfile(fp, 10**1)\n",
    "fp.close()\n",
    "\n",
    "floats2[-1]"
   ]
  },
  {
   "cell_type": "code",
   "execution_count": 126,
   "id": "73035406",
   "metadata": {},
   "outputs": [
    {
     "data": {
      "text/plain": [
       "['', '', '']"
      ]
     },
     "execution_count": 126,
     "metadata": {},
     "output_type": "execute_result"
    }
   ],
   "source": [
    "[''] * 3"
   ]
  },
  {
   "cell_type": "code",
   "execution_count": 127,
   "id": "6118147c",
   "metadata": {},
   "outputs": [
    {
     "data": {
      "text/plain": [
       "[' ', ' ', ' ']"
      ]
     },
     "execution_count": 127,
     "metadata": {},
     "output_type": "execute_result"
    }
   ],
   "source": [
    "[' '] * 3"
   ]
  },
  {
   "cell_type": "code",
   "execution_count": 128,
   "id": "7c2a241f",
   "metadata": {},
   "outputs": [
    {
     "data": {
      "text/plain": [
       "'   '"
      ]
     },
     "execution_count": 128,
     "metadata": {},
     "output_type": "execute_result"
    }
   ],
   "source": [
    "' '*3"
   ]
  },
  {
   "cell_type": "code",
   "execution_count": 129,
   "id": "76fa68ac",
   "metadata": {},
   "outputs": [
    {
     "data": {
      "text/plain": [
       "'333333'"
      ]
     },
     "execution_count": 129,
     "metadata": {},
     "output_type": "execute_result"
    }
   ],
   "source": [
    "'33' * 3"
   ]
  },
  {
   "cell_type": "code",
   "execution_count": null,
   "id": "631afdd8",
   "metadata": {},
   "outputs": [],
   "source": []
  },
  {
   "cell_type": "code",
   "execution_count": null,
   "id": "fa7b738b",
   "metadata": {},
   "outputs": [],
   "source": []
  },
  {
   "cell_type": "code",
   "execution_count": 130,
   "id": "b71eef2d",
   "metadata": {},
   "outputs": [],
   "source": [
    "t = (1, 2, [30, 40])"
   ]
  },
  {
   "cell_type": "code",
   "execution_count": 131,
   "id": "330fc4a1",
   "metadata": {},
   "outputs": [
    {
     "data": {
      "text/plain": [
       "4784673792"
      ]
     },
     "execution_count": 131,
     "metadata": {},
     "output_type": "execute_result"
    }
   ],
   "source": [
    "id(t[2])"
   ]
  },
  {
   "cell_type": "code",
   "execution_count": 132,
   "id": "1269a947",
   "metadata": {},
   "outputs": [
    {
     "ename": "TypeError",
     "evalue": "'tuple' object does not support item assignment",
     "output_type": "error",
     "traceback": [
      "\u001b[0;31m---------------------------------------------------------------------------\u001b[0m",
      "\u001b[0;31mTypeError\u001b[0m                                 Traceback (most recent call last)",
      "Cell \u001b[0;32mIn[132], line 1\u001b[0m\n\u001b[0;32m----> 1\u001b[0m t[\u001b[38;5;241m2\u001b[39m] \u001b[38;5;241m+\u001b[39m\u001b[38;5;241m=\u001b[39m [\u001b[38;5;241m50\u001b[39m, \u001b[38;5;241m60\u001b[39m]\n",
      "\u001b[0;31mTypeError\u001b[0m: 'tuple' object does not support item assignment"
     ]
    }
   ],
   "source": [
    "t[2] += [50, 60]"
   ]
  },
  {
   "cell_type": "code",
   "execution_count": 133,
   "id": "ed323d07",
   "metadata": {},
   "outputs": [
    {
     "data": {
      "text/plain": [
       "4784673792"
      ]
     },
     "execution_count": 133,
     "metadata": {},
     "output_type": "execute_result"
    }
   ],
   "source": [
    "id(t[2])"
   ]
  },
  {
   "cell_type": "code",
   "execution_count": null,
   "id": "0e964f28",
   "metadata": {},
   "outputs": [],
   "source": []
  },
  {
   "cell_type": "code",
   "execution_count": 135,
   "id": "c63a41af",
   "metadata": {},
   "outputs": [],
   "source": [
    "floats = array('d')"
   ]
  },
  {
   "cell_type": "code",
   "execution_count": 136,
   "id": "ba0f28a4",
   "metadata": {},
   "outputs": [
    {
     "data": {
      "text/plain": [
       "['__add__',\n",
       " '__class__',\n",
       " '__contains__',\n",
       " '__copy__',\n",
       " '__deepcopy__',\n",
       " '__delattr__',\n",
       " '__delitem__',\n",
       " '__dir__',\n",
       " '__doc__',\n",
       " '__eq__',\n",
       " '__format__',\n",
       " '__ge__',\n",
       " '__getattribute__',\n",
       " '__getitem__',\n",
       " '__gt__',\n",
       " '__hash__',\n",
       " '__iadd__',\n",
       " '__imul__',\n",
       " '__init__',\n",
       " '__init_subclass__',\n",
       " '__iter__',\n",
       " '__le__',\n",
       " '__len__',\n",
       " '__lt__',\n",
       " '__module__',\n",
       " '__mul__',\n",
       " '__ne__',\n",
       " '__new__',\n",
       " '__reduce__',\n",
       " '__reduce_ex__',\n",
       " '__repr__',\n",
       " '__rmul__',\n",
       " '__setattr__',\n",
       " '__setitem__',\n",
       " '__sizeof__',\n",
       " '__str__',\n",
       " '__subclasshook__',\n",
       " 'append',\n",
       " 'buffer_info',\n",
       " 'byteswap',\n",
       " 'count',\n",
       " 'extend',\n",
       " 'frombytes',\n",
       " 'fromfile',\n",
       " 'fromlist',\n",
       " 'fromunicode',\n",
       " 'index',\n",
       " 'insert',\n",
       " 'itemsize',\n",
       " 'pop',\n",
       " 'remove',\n",
       " 'reverse',\n",
       " 'tobytes',\n",
       " 'tofile',\n",
       " 'tolist',\n",
       " 'tounicode',\n",
       " 'typecode']"
      ]
     },
     "execution_count": 136,
     "metadata": {},
     "output_type": "execute_result"
    }
   ],
   "source": [
    "dir(floats)"
   ]
  },
  {
   "cell_type": "code",
   "execution_count": null,
   "id": "fa617f4a",
   "metadata": {},
   "outputs": [],
   "source": []
  },
  {
   "cell_type": "code",
   "execution_count": 139,
   "id": "deb21add",
   "metadata": {},
   "outputs": [
    {
     "ename": "ModuleNotFoundError",
     "evalue": "No module named 'numpy'",
     "output_type": "error",
     "traceback": [
      "\u001b[0;31m---------------------------------------------------------------------------\u001b[0m",
      "\u001b[0;31mModuleNotFoundError\u001b[0m                       Traceback (most recent call last)",
      "Cell \u001b[0;32mIn[139], line 1\u001b[0m\n\u001b[0;32m----> 1\u001b[0m \u001b[38;5;28;01mimport\u001b[39;00m \u001b[38;5;21;01mnumpy\u001b[39;00m \u001b[38;5;28;01mas\u001b[39;00m \u001b[38;5;21;01mnp2\u001b[39;00m\n\u001b[1;32m      3\u001b[0m \u001b[38;5;66;03m# 1차원 float 배열 생성\u001b[39;00m\n\u001b[1;32m      4\u001b[0m float_array_1d \u001b[38;5;241m=\u001b[39m np2\u001b[38;5;241m.\u001b[39marray([\u001b[38;5;241m1.0\u001b[39m, \u001b[38;5;241m2.5\u001b[39m, \u001b[38;5;241m3.7\u001b[39m, \u001b[38;5;241m4.2\u001b[39m])\n",
      "\u001b[0;31mModuleNotFoundError\u001b[0m: No module named 'numpy'"
     ]
    }
   ],
   "source": []
  },
  {
   "cell_type": "code",
   "execution_count": 1,
   "id": "0b56d032",
   "metadata": {},
   "outputs": [
    {
     "ename": "ModuleNotFoundError",
     "evalue": "No module named 'numpy'",
     "output_type": "error",
     "traceback": [
      "\u001b[0;31m---------------------------------------------------------------------------\u001b[0m",
      "\u001b[0;31mModuleNotFoundError\u001b[0m                       Traceback (most recent call last)",
      "Cell \u001b[0;32mIn[1], line 1\u001b[0m\n\u001b[0;32m----> 1\u001b[0m \u001b[38;5;28;01mimport\u001b[39;00m \u001b[38;5;21;01mnumpy\u001b[39;00m \u001b[38;5;28;01mas\u001b[39;00m \u001b[38;5;21;01mnp2\u001b[39;00m\n\u001b[1;32m      2\u001b[0m \u001b[38;5;66;03m# 1차원 float 배열 생성\u001b[39;00m\n\u001b[1;32m      3\u001b[0m float_array_1d \u001b[38;5;241m=\u001b[39m np2\u001b[38;5;241m.\u001b[39marray([\u001b[38;5;241m1.0\u001b[39m, \u001b[38;5;241m2.5\u001b[39m, \u001b[38;5;241m3.7\u001b[39m, \u001b[38;5;241m4.2\u001b[39m])\n",
      "\u001b[0;31mModuleNotFoundError\u001b[0m: No module named 'numpy'"
     ]
    }
   ],
   "source": [
    "import numpy as np2\n",
    "# 1차원 float 배열 생성\n",
    "float_array_1d = np2.array([1.0, 2.5, 3.7, 4.2])"
   ]
  },
  {
   "cell_type": "code",
   "execution_count": null,
   "id": "7269551a",
   "metadata": {},
   "outputs": [],
   "source": []
  }
 ],
 "metadata": {
  "kernelspec": {
   "display_name": "Python 3 (ipykernel)",
   "language": "python",
   "name": "python3"
  },
  "language_info": {
   "codemirror_mode": {
    "name": "ipython",
    "version": 3
   },
   "file_extension": ".py",
   "mimetype": "text/x-python",
   "name": "python",
   "nbconvert_exporter": "python",
   "pygments_lexer": "ipython3",
   "version": "3.10.13"
  },
  "toc": {
   "base_numbering": 1,
   "nav_menu": {},
   "number_sections": true,
   "sideBar": true,
   "skip_h1_title": false,
   "title_cell": "Table of Contents",
   "title_sidebar": "Contents",
   "toc_cell": false,
   "toc_position": {},
   "toc_section_display": true,
   "toc_window_display": false
  }
 },
 "nbformat": 4,
 "nbformat_minor": 5
}
