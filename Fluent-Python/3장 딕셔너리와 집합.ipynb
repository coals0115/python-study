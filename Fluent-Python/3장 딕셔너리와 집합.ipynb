{
 "cells": [
  {
   "cell_type": "code",
   "execution_count": 1,
   "id": "538a6666",
   "metadata": {},
   "outputs": [],
   "source": [
    "my_dict = {}"
   ]
  },
  {
   "cell_type": "code",
   "execution_count": 3,
   "id": "abe63df1",
   "metadata": {},
   "outputs": [],
   "source": [
    "import collections"
   ]
  },
  {
   "cell_type": "code",
   "execution_count": 4,
   "id": "e7c6d0f5",
   "metadata": {},
   "outputs": [
    {
     "data": {
      "text/plain": [
       "True"
      ]
     },
     "execution_count": 4,
     "metadata": {},
     "output_type": "execute_result"
    }
   ],
   "source": [
    "isinstance(my_dict, collections.abc.Mapping)"
   ]
  },
  {
   "cell_type": "code",
   "execution_count": null,
   "id": "aed77acc",
   "metadata": {},
   "outputs": [],
   "source": []
  },
  {
   "cell_type": "code",
   "execution_count": 5,
   "id": "61090826",
   "metadata": {},
   "outputs": [],
   "source": [
    "tt = (1, 2, (30, 40))"
   ]
  },
  {
   "cell_type": "code",
   "execution_count": 6,
   "id": "46481ac0",
   "metadata": {},
   "outputs": [
    {
     "data": {
      "text/plain": [
       "-3907003130834322577"
      ]
     },
     "execution_count": 6,
     "metadata": {},
     "output_type": "execute_result"
    }
   ],
   "source": [
    "hash(tt)"
   ]
  },
  {
   "cell_type": "code",
   "execution_count": 1,
   "id": "c172fe69",
   "metadata": {},
   "outputs": [],
   "source": [
    "t1 = (1, )"
   ]
  },
  {
   "cell_type": "code",
   "execution_count": null,
   "id": "601b2b53",
   "metadata": {},
   "outputs": [],
   "source": []
  },
  {
   "cell_type": "code",
   "execution_count": 2,
   "id": "52984afa",
   "metadata": {},
   "outputs": [
    {
     "ename": "NameError",
     "evalue": "name 'index' is not defined",
     "output_type": "error",
     "traceback": [
      "\u001b[0;31m---------------------------------------------------------------------------\u001b[0m",
      "\u001b[0;31mNameError\u001b[0m                                 Traceback (most recent call last)",
      "Cell \u001b[0;32mIn[2], line 1\u001b[0m\n\u001b[0;32m----> 1\u001b[0m \u001b[43mindex\u001b[49m[\u001b[38;5;241m3\u001b[39m]\n",
      "\u001b[0;31mNameError\u001b[0m: name 'index' is not defined"
     ]
    }
   ],
   "source": [
    "index[3]"
   ]
  },
  {
   "cell_type": "code",
   "execution_count": 3,
   "id": "bc07b3b3",
   "metadata": {},
   "outputs": [],
   "source": [
    "testDict = {'hi': 3}"
   ]
  },
  {
   "cell_type": "code",
   "execution_count": 4,
   "id": "d835cd11",
   "metadata": {},
   "outputs": [
    {
     "data": {
      "text/plain": [
       "3"
      ]
     },
     "execution_count": 4,
     "metadata": {},
     "output_type": "execute_result"
    }
   ],
   "source": [
    "testDict['hi']"
   ]
  },
  {
   "cell_type": "code",
   "execution_count": 7,
   "id": "50073e20",
   "metadata": {},
   "outputs": [],
   "source": [
    "testDict['ho'] = 3"
   ]
  },
  {
   "cell_type": "code",
   "execution_count": null,
   "id": "7bb3d71c",
   "metadata": {},
   "outputs": [],
   "source": []
  },
  {
   "cell_type": "code",
   "execution_count": 8,
   "id": "2b4cd86a",
   "metadata": {},
   "outputs": [
    {
     "data": {
      "text/plain": [
       "{'hi': 3, 'ho': 3}"
      ]
     },
     "execution_count": 8,
     "metadata": {},
     "output_type": "execute_result"
    }
   ],
   "source": [
    "testDict"
   ]
  },
  {
   "cell_type": "code",
   "execution_count": 11,
   "id": "5b8bab2e",
   "metadata": {},
   "outputs": [],
   "source": [
    "testDict.setdefault('yo2', []).append('hi')"
   ]
  },
  {
   "cell_type": "code",
   "execution_count": 12,
   "id": "d3f342a1",
   "metadata": {},
   "outputs": [
    {
     "data": {
      "text/plain": [
       "{'hi': 3, 'ho': 3, 'yo': [], 'yo2': ['hi']}"
      ]
     },
     "execution_count": 12,
     "metadata": {},
     "output_type": "execute_result"
    }
   ],
   "source": [
    "testDict"
   ]
  },
  {
   "cell_type": "code",
   "execution_count": null,
   "id": "40775cb0",
   "metadata": {},
   "outputs": [],
   "source": []
  },
  {
   "cell_type": "code",
   "execution_count": 13,
   "id": "6a9a45b4",
   "metadata": {},
   "outputs": [
    {
     "data": {
      "text/plain": [
       "{'hi': 3, 'ho': 3, 'yo': [], 'yo2': ['hi']}"
      ]
     },
     "execution_count": 13,
     "metadata": {},
     "output_type": "execute_result"
    }
   ],
   "source": [
    "testDict"
   ]
  },
  {
   "cell_type": "code",
   "execution_count": 17,
   "id": "19a39ea4",
   "metadata": {},
   "outputs": [
    {
     "ename": "KeyError",
     "evalue": "'3333'",
     "output_type": "error",
     "traceback": [
      "\u001b[0;31m---------------------------------------------------------------------------\u001b[0m",
      "\u001b[0;31mKeyError\u001b[0m                                  Traceback (most recent call last)",
      "Cell \u001b[0;32mIn[17], line 1\u001b[0m\n\u001b[0;32m----> 1\u001b[0m \u001b[43mtestDict\u001b[49m\u001b[43m[\u001b[49m\u001b[38;5;124;43m'\u001b[39;49m\u001b[38;5;124;43m3333\u001b[39;49m\u001b[38;5;124;43m'\u001b[39;49m\u001b[43m]\u001b[49m\u001b[38;5;241m.\u001b[39mappend(\u001b[38;5;241m234\u001b[39m)\n",
      "\u001b[0;31mKeyError\u001b[0m: '3333'"
     ]
    }
   ],
   "source": [
    "testDict['3333'].append(234)"
   ]
  },
  {
   "cell_type": "code",
   "execution_count": 19,
   "id": "aaaecf33",
   "metadata": {},
   "outputs": [],
   "source": [
    "import collections"
   ]
  },
  {
   "cell_type": "code",
   "execution_count": 20,
   "id": "6dc82d94",
   "metadata": {},
   "outputs": [],
   "source": [
    "index = collections.defaultdict(list)"
   ]
  },
  {
   "cell_type": "code",
   "execution_count": 22,
   "id": "2f240ae6",
   "metadata": {},
   "outputs": [],
   "source": [
    "index['333'].append(33)"
   ]
  },
  {
   "cell_type": "code",
   "execution_count": 23,
   "id": "d78555a4",
   "metadata": {},
   "outputs": [
    {
     "data": {
      "text/plain": [
       "defaultdict(list, {'333': [33]})"
      ]
     },
     "execution_count": 23,
     "metadata": {},
     "output_type": "execute_result"
    }
   ],
   "source": [
    "index"
   ]
  },
  {
   "cell_type": "code",
   "execution_count": 24,
   "id": "aedc1c25",
   "metadata": {},
   "outputs": [
    {
     "data": {
      "text/plain": [
       "defaultdict(list, {'333': [33]})"
      ]
     },
     "execution_count": 24,
     "metadata": {},
     "output_type": "execute_result"
    }
   ],
   "source": [
    "index"
   ]
  },
  {
   "cell_type": "code",
   "execution_count": 25,
   "id": "bd6fd920",
   "metadata": {},
   "outputs": [
    {
     "data": {
      "text/plain": [
       "[]"
      ]
     },
     "execution_count": 25,
     "metadata": {},
     "output_type": "execute_result"
    }
   ],
   "source": [
    "index[1]"
   ]
  },
  {
   "cell_type": "code",
   "execution_count": 26,
   "id": "105f2add",
   "metadata": {},
   "outputs": [
    {
     "data": {
      "text/plain": [
       "defaultdict(list, {'333': [33], 1: []})"
      ]
     },
     "execution_count": 26,
     "metadata": {},
     "output_type": "execute_result"
    }
   ],
   "source": [
    "index"
   ]
  },
  {
   "cell_type": "code",
   "execution_count": 27,
   "id": "fea8d94b",
   "metadata": {},
   "outputs": [
    {
     "data": {
      "text/plain": [
       "[]"
      ]
     },
     "execution_count": 27,
     "metadata": {},
     "output_type": "execute_result"
    }
   ],
   "source": [
    "index.__getitem__(2)"
   ]
  },
  {
   "cell_type": "code",
   "execution_count": 28,
   "id": "8e94b8eb",
   "metadata": {},
   "outputs": [
    {
     "data": {
      "text/plain": [
       "defaultdict(list, {'333': [33], 1: [], 2: []})"
      ]
     },
     "execution_count": 28,
     "metadata": {},
     "output_type": "execute_result"
    }
   ],
   "source": [
    "index"
   ]
  },
  {
   "cell_type": "code",
   "execution_count": 29,
   "id": "b3d67577",
   "metadata": {},
   "outputs": [],
   "source": [
    "index.get(4)"
   ]
  },
  {
   "cell_type": "code",
   "execution_count": 30,
   "id": "ac17506a",
   "metadata": {},
   "outputs": [
    {
     "data": {
      "text/plain": [
       "defaultdict(list, {'333': [33], 1: [], 2: []})"
      ]
     },
     "execution_count": 30,
     "metadata": {},
     "output_type": "execute_result"
    }
   ],
   "source": [
    "index"
   ]
  },
  {
   "cell_type": "code",
   "execution_count": 31,
   "id": "3317e34d",
   "metadata": {},
   "outputs": [],
   "source": [
    "index.get('4')"
   ]
  },
  {
   "cell_type": "code",
   "execution_count": 32,
   "id": "b37e2606",
   "metadata": {},
   "outputs": [
    {
     "data": {
      "text/plain": [
       "defaultdict(list, {'333': [33], 1: [], 2: []})"
      ]
     },
     "execution_count": 32,
     "metadata": {},
     "output_type": "execute_result"
    }
   ],
   "source": [
    "index"
   ]
  },
  {
   "cell_type": "code",
   "execution_count": 33,
   "id": "5de74f99",
   "metadata": {},
   "outputs": [
    {
     "ename": "NameError",
     "evalue": "name 'd' is not defined",
     "output_type": "error",
     "traceback": [
      "\u001b[0;31m---------------------------------------------------------------------------\u001b[0m",
      "\u001b[0;31mNameError\u001b[0m                                 Traceback (most recent call last)",
      "Cell \u001b[0;32mIn[33], line 1\u001b[0m\n\u001b[0;32m----> 1\u001b[0m \u001b[43md\u001b[49m\n",
      "\u001b[0;31mNameError\u001b[0m: name 'd' is not defined"
     ]
    }
   ],
   "source": [
    "d"
   ]
  },
  {
   "cell_type": "code",
   "execution_count": 34,
   "id": "ff208e74",
   "metadata": {},
   "outputs": [
    {
     "ename": "NameError",
     "evalue": "name 'StrKeyDict0' is not defined",
     "output_type": "error",
     "traceback": [
      "\u001b[0;31m---------------------------------------------------------------------------\u001b[0m",
      "\u001b[0;31mNameError\u001b[0m                                 Traceback (most recent call last)",
      "Cell \u001b[0;32mIn[34], line 1\u001b[0m\n\u001b[0;32m----> 1\u001b[0m d \u001b[38;5;241m=\u001b[39m \u001b[43mStrKeyDict0\u001b[49m([(\u001b[38;5;124m'\u001b[39m\u001b[38;5;124m2\u001b[39m\u001b[38;5;124m'\u001b[39m, \u001b[38;5;124m'\u001b[39m\u001b[38;5;124mtwo\u001b[39m\u001b[38;5;124m'\u001b[39m), (\u001b[38;5;124m'\u001b[39m\u001b[38;5;124m4\u001b[39m\u001b[38;5;124m'\u001b[39m, \u001b[38;5;124m'\u001b[39m\u001b[38;5;124mfour\u001b[39m\u001b[38;5;124m'\u001b[39m)])\n",
      "\u001b[0;31mNameError\u001b[0m: name 'StrKeyDict0' is not defined"
     ]
    }
   ],
   "source": [
    "d = StrKeyDict0([('2', 'two'), ('4', 'four')])"
   ]
  },
  {
   "cell_type": "code",
   "execution_count": 35,
   "id": "3231ee3e",
   "metadata": {},
   "outputs": [
    {
     "data": {
      "text/plain": [
       "\"StrKeyDict0 converts non-string keys to `str` on lookup\\n\\n# BEGIN STRKEYDICT0_TESTS\\n\\nTests for item retrieval using `d[key]` notation::\\n\\n    >>> d = StrKeyDict0([('2', 'two'), ('4', 'four')])\\n    >>> d['2']\\n    'two'\\n    >>> d[4]\\n    'four'\\n    >>> d[1]\\n    Traceback (most recent call last):\\n      ...\\n    KeyError: '1'\\n\\nTests for item retrieval using `d.get(key)` notation::\\n\\n    >>> d.get('2')\\n    'two'\\n    >>> d.get(4)\\n    'four'\\n    >>> d.get(1, 'N/A')\\n    'N/A'\\n\\n\\nTests for the `in` operator::\\n\\n    >>> 2 in d\\n    True\\n    >>> 1 in d\\n    False\\n\\n# END STRKEYDICT0_TESTS\\n\""
      ]
     },
     "execution_count": 35,
     "metadata": {},
     "output_type": "execute_result"
    }
   ],
   "source": [
    "\"\"\"StrKeyDict0 converts non-string keys to `str` on lookup\n",
    "\n",
    "# BEGIN STRKEYDICT0_TESTS\n",
    "\n",
    "Tests for item retrieval using `d[key]` notation::\n",
    "\n",
    "    >>> d = StrKeyDict0([('2', 'two'), ('4', 'four')])\n",
    "    >>> d['2']\n",
    "    'two'\n",
    "    >>> d[4]\n",
    "    'four'\n",
    "    >>> d[1]\n",
    "    Traceback (most recent call last):\n",
    "      ...\n",
    "    KeyError: '1'\n",
    "\n",
    "Tests for item retrieval using `d.get(key)` notation::\n",
    "\n",
    "    >>> d.get('2')\n",
    "    'two'\n",
    "    >>> d.get(4)\n",
    "    'four'\n",
    "    >>> d.get(1, 'N/A')\n",
    "    'N/A'\n",
    "\n",
    "\n",
    "Tests for the `in` operator::\n",
    "\n",
    "    >>> 2 in d\n",
    "    True\n",
    "    >>> 1 in d\n",
    "    False\n",
    "\n",
    "# END STRKEYDICT0_TESTS\n",
    "\"\"\""
   ]
  },
  {
   "cell_type": "code",
   "execution_count": 36,
   "id": "40a48880",
   "metadata": {},
   "outputs": [],
   "source": [
    "# BEGIN STRKEYDICT0\n",
    "class StrKeyDict0(dict):  # <1>\n",
    "\n",
    "    def __missing__(self, key): # key를 찾을 수 없을 때 발생....\n",
    "        if isinstance(key, str):  # <2>\n",
    "            raise KeyError(key) # ? 왜 에러를 발생시키지..?\n",
    "        return self[str(key)]  # <3>\n",
    "\n",
    "    def get(self, key, default=None):\n",
    "        try:\n",
    "            return self[key]  # <4>\n",
    "        except KeyError:\n",
    "            return default  # <5>\n",
    "\n",
    "    def __contains__(self, key):\n",
    "        return key in self.keys() or str(key) in self.keys()  # <6>\n",
    "\n",
    "# END STRKEYDICT0"
   ]
  },
  {
   "cell_type": "code",
   "execution_count": 37,
   "id": "79a15de3",
   "metadata": {},
   "outputs": [],
   "source": [
    "index = {};"
   ]
  },
  {
   "cell_type": "code",
   "execution_count": 38,
   "id": "1b236cf9",
   "metadata": {},
   "outputs": [
    {
     "data": {
      "text/plain": [
       "{}"
      ]
     },
     "execution_count": 38,
     "metadata": {},
     "output_type": "execute_result"
    }
   ],
   "source": [
    "index"
   ]
  },
  {
   "cell_type": "code",
   "execution_count": 39,
   "id": "07d9f2a0",
   "metadata": {},
   "outputs": [
    {
     "ename": "KeyError",
     "evalue": "'a'",
     "output_type": "error",
     "traceback": [
      "\u001b[0;31m---------------------------------------------------------------------------\u001b[0m",
      "\u001b[0;31mKeyError\u001b[0m                                  Traceback (most recent call last)",
      "Cell \u001b[0;32mIn[39], line 1\u001b[0m\n\u001b[0;32m----> 1\u001b[0m \u001b[43mindex\u001b[49m\u001b[43m[\u001b[49m\u001b[38;5;124;43m'\u001b[39;49m\u001b[38;5;124;43ma\u001b[39;49m\u001b[38;5;124;43m'\u001b[39;49m\u001b[43m]\u001b[49m\n",
      "\u001b[0;31mKeyError\u001b[0m: 'a'"
     ]
    }
   ],
   "source": [
    "index['a']"
   ]
  },
  {
   "cell_type": "code",
   "execution_count": 40,
   "id": "b8ffdbec",
   "metadata": {},
   "outputs": [
    {
     "data": {
      "text/plain": [
       "dict_keys([])"
      ]
     },
     "execution_count": 40,
     "metadata": {},
     "output_type": "execute_result"
    }
   ],
   "source": [
    "index.keys()"
   ]
  },
  {
   "cell_type": "code",
   "execution_count": 41,
   "id": "1bb502bd",
   "metadata": {},
   "outputs": [
    {
     "data": {
      "text/plain": [
       "{}"
      ]
     },
     "execution_count": 41,
     "metadata": {},
     "output_type": "execute_result"
    }
   ],
   "source": [
    "index"
   ]
  },
  {
   "cell_type": "code",
   "execution_count": 44,
   "id": "8328b480",
   "metadata": {},
   "outputs": [],
   "source": [
    "index['a'] = 'd'"
   ]
  },
  {
   "cell_type": "code",
   "execution_count": 45,
   "id": "05c83af2",
   "metadata": {},
   "outputs": [
    {
     "data": {
      "text/plain": [
       "dict_keys(['a'])"
      ]
     },
     "execution_count": 45,
     "metadata": {},
     "output_type": "execute_result"
    }
   ],
   "source": [
    "index.keys()"
   ]
  },
  {
   "cell_type": "code",
   "execution_count": 46,
   "id": "ed38586e",
   "metadata": {},
   "outputs": [],
   "source": [
    "from collections import ChainMap\n",
    "\n",
    "map1 = {'a': 1, 'b': 2}\n",
    "map2 = {'b': 3, 'c': 4}\n",
    "my_chainmap = ChainMap(map1, map2)\n"
   ]
  },
  {
   "cell_type": "code",
   "execution_count": 47,
   "id": "5f70c83b",
   "metadata": {},
   "outputs": [
    {
     "data": {
      "text/plain": [
       "ChainMap({'a': 1, 'b': 2}, {'b': 3, 'c': 4})"
      ]
     },
     "execution_count": 47,
     "metadata": {},
     "output_type": "execute_result"
    }
   ],
   "source": [
    "my_chainmap"
   ]
  },
  {
   "cell_type": "code",
   "execution_count": 48,
   "id": "53015caf",
   "metadata": {},
   "outputs": [],
   "source": [
    "from collections import Counter\n",
    "\n",
    "my_counter = Counter(['a', 'b', 'a', 'c', 'b'])\n"
   ]
  },
  {
   "cell_type": "code",
   "execution_count": 49,
   "id": "9da833ca",
   "metadata": {},
   "outputs": [
    {
     "data": {
      "text/plain": [
       "Counter({'a': 2, 'b': 2, 'c': 1})"
      ]
     },
     "execution_count": 49,
     "metadata": {},
     "output_type": "execute_result"
    }
   ],
   "source": [
    "my_counter"
   ]
  },
  {
   "cell_type": "code",
   "execution_count": null,
   "id": "c0802972",
   "metadata": {},
   "outputs": [],
   "source": []
  },
  {
   "cell_type": "code",
   "execution_count": 51,
   "id": "368e0758",
   "metadata": {},
   "outputs": [],
   "source": [
    "import collections\n",
    "\n",
    "\n",
    "class StrKeyDict(collections.UserDict):  # <1>\n",
    "\n",
    "    def __missing__(self, key):  # <2>\n",
    "        if isinstance(key, str):\n",
    "            raise KeyError(key)\n",
    "        return self[str(key)]\n",
    "\n",
    "    def __contains__(self, key):\n",
    "        return str(key) in self.data  # <3>\n",
    "\n",
    "    def __setitem__(self, key, item):\n",
    "        self.data[str(key)] = item   # <4>"
   ]
  },
  {
   "cell_type": "code",
   "execution_count": null,
   "id": "9921c709",
   "metadata": {},
   "outputs": [],
   "source": []
  },
  {
   "cell_type": "code",
   "execution_count": 52,
   "id": "94b81e3a",
   "metadata": {},
   "outputs": [],
   "source": [
    "from unicodedata import name"
   ]
  },
  {
   "cell_type": "code",
   "execution_count": 56,
   "id": "7fb13ea5",
   "metadata": {},
   "outputs": [
    {
     "data": {
      "text/plain": [
       "{'#',\n",
       " '$',\n",
       " '%',\n",
       " '+',\n",
       " '<',\n",
       " '=',\n",
       " '>',\n",
       " '¢',\n",
       " '£',\n",
       " '¤',\n",
       " '¥',\n",
       " '§',\n",
       " '©',\n",
       " '¬',\n",
       " '®',\n",
       " '°',\n",
       " '±',\n",
       " 'µ',\n",
       " '¶',\n",
       " '×',\n",
       " '÷'}"
      ]
     },
     "execution_count": 56,
     "metadata": {},
     "output_type": "execute_result"
    }
   ],
   "source": [
    "{chr(i) for i in range(32, 256) if 'SIGN' in name(chr(i), '')}"
   ]
  },
  {
   "cell_type": "code",
   "execution_count": 57,
   "id": "6329e1df",
   "metadata": {},
   "outputs": [],
   "source": [
    "s = {1, 2}"
   ]
  },
  {
   "cell_type": "code",
   "execution_count": 58,
   "id": "ee1e2f05",
   "metadata": {},
   "outputs": [],
   "source": [
    "l = [3, 4, 1]"
   ]
  },
  {
   "cell_type": "code",
   "execution_count": 59,
   "id": "e6db49f4",
   "metadata": {},
   "outputs": [
    {
     "ename": "SyntaxError",
     "evalue": "invalid syntax (1726152885.py, line 1)",
     "output_type": "error",
     "traceback": [
      "\u001b[0;36m  Cell \u001b[0;32mIn[59], line 1\u001b[0;36m\u001b[0m\n\u001b[0;31m    s.and(l)\u001b[0m\n\u001b[0m      ^\u001b[0m\n\u001b[0;31mSyntaxError\u001b[0m\u001b[0;31m:\u001b[0m invalid syntax\n"
     ]
    }
   ],
   "source": [
    "s.and(l)"
   ]
  },
  {
   "cell_type": "code",
   "execution_count": 60,
   "id": "d3196503",
   "metadata": {},
   "outputs": [
    {
     "data": {
      "text/plain": [
       "set"
      ]
     },
     "execution_count": 60,
     "metadata": {},
     "output_type": "execute_result"
    }
   ],
   "source": [
    "type(s)"
   ]
  },
  {
   "cell_type": "code",
   "execution_count": 61,
   "id": "8229d815",
   "metadata": {},
   "outputs": [
    {
     "ename": "TypeError",
     "evalue": "unsupported operand type(s) for &: 'set' and 'list'",
     "output_type": "error",
     "traceback": [
      "\u001b[0;31m---------------------------------------------------------------------------\u001b[0m",
      "\u001b[0;31mTypeError\u001b[0m                                 Traceback (most recent call last)",
      "Cell \u001b[0;32mIn[61], line 1\u001b[0m\n\u001b[0;32m----> 1\u001b[0m \u001b[43ms\u001b[49m\u001b[43m \u001b[49m\u001b[38;5;241;43m&\u001b[39;49m\u001b[43m \u001b[49m\u001b[43ml\u001b[49m\n",
      "\u001b[0;31mTypeError\u001b[0m: unsupported operand type(s) for &: 'set' and 'list'"
     ]
    }
   ],
   "source": [
    "s & l"
   ]
  },
  {
   "cell_type": "code",
   "execution_count": 67,
   "id": "1642e705",
   "metadata": {},
   "outputs": [
    {
     "data": {
      "text/plain": [
       "{1, 2, 3, 4}"
      ]
     },
     "execution_count": 67,
     "metadata": {},
     "output_type": "execute_result"
    }
   ],
   "source": [
    "s.union(l)"
   ]
  },
  {
   "cell_type": "code",
   "execution_count": 68,
   "id": "104d2c21",
   "metadata": {},
   "outputs": [
    {
     "data": {
      "text/plain": [
       "{1, 2}"
      ]
     },
     "execution_count": 68,
     "metadata": {},
     "output_type": "execute_result"
    }
   ],
   "source": [
    "s"
   ]
  },
  {
   "cell_type": "code",
   "execution_count": 70,
   "id": "0c5d88b5",
   "metadata": {},
   "outputs": [
    {
     "ename": "TypeError",
     "evalue": "unhashable type: 'set'",
     "output_type": "error",
     "traceback": [
      "\u001b[0;31m---------------------------------------------------------------------------\u001b[0m",
      "\u001b[0;31mTypeError\u001b[0m                                 Traceback (most recent call last)",
      "Cell \u001b[0;32mIn[70], line 4\u001b[0m\n\u001b[1;32m      2\u001b[0m my_set \u001b[38;5;241m=\u001b[39m {\u001b[38;5;241m1\u001b[39m, \u001b[38;5;241m2\u001b[39m, \u001b[38;5;241m3\u001b[39m}\n\u001b[1;32m      3\u001b[0m \u001b[38;5;66;03m# TypeError: unhashable type: 'set'\u001b[39;00m\n\u001b[0;32m----> 4\u001b[0m \u001b[38;5;28;43mhash\u001b[39;49m\u001b[43m(\u001b[49m\u001b[43mmy_set\u001b[49m\u001b[43m)\u001b[49m\n",
      "\u001b[0;31mTypeError\u001b[0m: unhashable type: 'set'"
     ]
    }
   ],
   "source": [
    "# 셋은 해시 불가능\n",
    "my_set = {1, 2, 3}\n",
    "# TypeError: unhashable type: 'set'\n",
    "hash(my_set)\n"
   ]
  },
  {
   "cell_type": "code",
   "execution_count": null,
   "id": "d804dcda",
   "metadata": {},
   "outputs": [],
   "source": []
  },
  {
   "cell_type": "code",
   "execution_count": null,
   "id": "98829a89",
   "metadata": {},
   "outputs": [],
   "source": []
  },
  {
   "cell_type": "code",
   "execution_count": 71,
   "id": "62d85431",
   "metadata": {},
   "outputs": [],
   "source": [
    "DIAL_CODES = [\n",
    "        (86, 'China'),\n",
    "        (91, 'India'),\n",
    "        (1, 'United States'),\n",
    "        (62, 'Indonesia'),\n",
    "        (55, 'Brazil'),\n",
    "        (92, 'Pakistan'),\n",
    "        (880, 'Bangladesh'),\n",
    "        (234, 'Nigeria'),\n",
    "        (7, 'Russia'),\n",
    "        (81, 'Japan'),\n",
    "    ]"
   ]
  },
  {
   "cell_type": "code",
   "execution_count": 90,
   "id": "68272c75",
   "metadata": {},
   "outputs": [
    {
     "data": {
      "text/plain": [
       "[(86, 'China'),\n",
       " (91, 'India'),\n",
       " (1, 'United States'),\n",
       " (62, 'Indonesia'),\n",
       " (55, 'Brazil'),\n",
       " (92, 'Pakistan'),\n",
       " (880, 'Bangladesh'),\n",
       " (234, 'Nigeria'),\n",
       " (7, 'Russia'),\n",
       " (81, 'Japan')]"
      ]
     },
     "execution_count": 90,
     "metadata": {},
     "output_type": "execute_result"
    }
   ],
   "source": [
    "DIAL_CODES"
   ]
  },
  {
   "cell_type": "code",
   "execution_count": 91,
   "id": "5fdeba24",
   "metadata": {},
   "outputs": [],
   "source": [
    "d1 = dict(DIAL_CODES)"
   ]
  },
  {
   "cell_type": "code",
   "execution_count": 92,
   "id": "a9005c15",
   "metadata": {},
   "outputs": [
    {
     "data": {
      "text/plain": [
       "{86: 'China',\n",
       " 91: 'India',\n",
       " 1: 'United States',\n",
       " 62: 'Indonesia',\n",
       " 55: 'Brazil',\n",
       " 92: 'Pakistan',\n",
       " 880: 'Bangladesh',\n",
       " 234: 'Nigeria',\n",
       " 7: 'Russia',\n",
       " 81: 'Japan'}"
      ]
     },
     "execution_count": 92,
     "metadata": {},
     "output_type": "execute_result"
    }
   ],
   "source": [
    "d1"
   ]
  },
  {
   "cell_type": "code",
   "execution_count": 93,
   "id": "52d01ee8",
   "metadata": {},
   "outputs": [
    {
     "data": {
      "text/plain": [
       "dict_keys([86, 91, 1, 62, 55, 92, 880, 234, 7, 81])"
      ]
     },
     "execution_count": 93,
     "metadata": {},
     "output_type": "execute_result"
    }
   ],
   "source": [
    "d1.keys()"
   ]
  },
  {
   "cell_type": "code",
   "execution_count": 94,
   "id": "a5fb1f8c",
   "metadata": {},
   "outputs": [],
   "source": [
    "d2 = dict(sorted(DIAL_CODES))"
   ]
  },
  {
   "cell_type": "code",
   "execution_count": 95,
   "id": "e5417e61",
   "metadata": {},
   "outputs": [
    {
     "data": {
      "text/plain": [
       "{1: 'United States',\n",
       " 7: 'Russia',\n",
       " 55: 'Brazil',\n",
       " 62: 'Indonesia',\n",
       " 81: 'Japan',\n",
       " 86: 'China',\n",
       " 91: 'India',\n",
       " 92: 'Pakistan',\n",
       " 234: 'Nigeria',\n",
       " 880: 'Bangladesh'}"
      ]
     },
     "execution_count": 95,
     "metadata": {},
     "output_type": "execute_result"
    }
   ],
   "source": [
    "d2"
   ]
  },
  {
   "cell_type": "code",
   "execution_count": 96,
   "id": "79faf578",
   "metadata": {},
   "outputs": [
    {
     "data": {
      "text/plain": [
       "dict_keys([1, 7, 55, 62, 81, 86, 91, 92, 234, 880])"
      ]
     },
     "execution_count": 96,
     "metadata": {},
     "output_type": "execute_result"
    }
   ],
   "source": [
    "d2.keys()"
   ]
  },
  {
   "cell_type": "code",
   "execution_count": 97,
   "id": "1b59f00e",
   "metadata": {},
   "outputs": [],
   "source": [
    "d3 = dict(sorted(DIAL_CODES, key=lambda x:x[1]))"
   ]
  },
  {
   "cell_type": "code",
   "execution_count": 98,
   "id": "73a6f622",
   "metadata": {},
   "outputs": [
    {
     "data": {
      "text/plain": [
       "{880: 'Bangladesh',\n",
       " 55: 'Brazil',\n",
       " 86: 'China',\n",
       " 91: 'India',\n",
       " 62: 'Indonesia',\n",
       " 81: 'Japan',\n",
       " 234: 'Nigeria',\n",
       " 92: 'Pakistan',\n",
       " 7: 'Russia',\n",
       " 1: 'United States'}"
      ]
     },
     "execution_count": 98,
     "metadata": {},
     "output_type": "execute_result"
    }
   ],
   "source": [
    "d3"
   ]
  },
  {
   "cell_type": "code",
   "execution_count": 100,
   "id": "b9b5029a",
   "metadata": {},
   "outputs": [
    {
     "data": {
      "text/plain": [
       "True"
      ]
     },
     "execution_count": 100,
     "metadata": {},
     "output_type": "execute_result"
    }
   ],
   "source": [
    "d1 == d2 == d3"
   ]
  },
  {
   "cell_type": "code",
   "execution_count": null,
   "id": "e5df43b8",
   "metadata": {},
   "outputs": [],
   "source": []
  },
  {
   "cell_type": "code",
   "execution_count": 155,
   "id": "28a9eb7d",
   "metadata": {},
   "outputs": [
    {
     "name": "stdout",
     "output_type": "stream",
     "text": [
      "a 1\n",
      "b 2\n",
      "c 3\n"
     ]
    }
   ],
   "source": [
    "my_dict = {'a': 1, 'b': 2, 'c': 3}\n",
    "\n",
    "for key in my_dict:\n",
    "    print(key, my_dict[key])\n",
    "    my_dict[key] = key + '1'\n"
   ]
  },
  {
   "cell_type": "code",
   "execution_count": 104,
   "id": "d9c3aad7",
   "metadata": {},
   "outputs": [
    {
     "data": {
      "text/plain": [
       "{'a': 'a1', 'b': 'b1', 'c': 'c1'}"
      ]
     },
     "execution_count": 104,
     "metadata": {},
     "output_type": "execute_result"
    }
   ],
   "source": [
    "my_dict"
   ]
  },
  {
   "cell_type": "code",
   "execution_count": null,
   "id": "687b2657",
   "metadata": {},
   "outputs": [],
   "source": []
  },
  {
   "cell_type": "code",
   "execution_count": null,
   "id": "a1910158",
   "metadata": {},
   "outputs": [],
   "source": []
  },
  {
   "cell_type": "code",
   "execution_count": 105,
   "id": "c94c6a60",
   "metadata": {},
   "outputs": [],
   "source": [
    "number_thing = (number for number in range(1,  6))"
   ]
  },
  {
   "cell_type": "code",
   "execution_count": 107,
   "id": "2429ead7",
   "metadata": {},
   "outputs": [
    {
     "data": {
      "text/plain": [
       "<generator object <genexpr> at 0x105f0cc10>"
      ]
     },
     "execution_count": 107,
     "metadata": {},
     "output_type": "execute_result"
    }
   ],
   "source": [
    "number_thing"
   ]
  },
  {
   "cell_type": "code",
   "execution_count": 108,
   "id": "9f3baf4b",
   "metadata": {},
   "outputs": [],
   "source": [
    "number_thing = tuple(number for number in range(1,  6))"
   ]
  },
  {
   "cell_type": "code",
   "execution_count": 109,
   "id": "88706b14",
   "metadata": {},
   "outputs": [
    {
     "data": {
      "text/plain": [
       "(1, 2, 3, 4, 5)"
      ]
     },
     "execution_count": 109,
     "metadata": {},
     "output_type": "execute_result"
    }
   ],
   "source": [
    "number_thing"
   ]
  },
  {
   "cell_type": "code",
   "execution_count": 116,
   "id": "9e8b487c",
   "metadata": {},
   "outputs": [
    {
     "data": {
      "text/plain": [
       "array('I', [1, 2, 3, 4, 5])"
      ]
     },
     "execution_count": 116,
     "metadata": {},
     "output_type": "execute_result"
    }
   ],
   "source": [
    "import array\n",
    "\n",
    "array.array('I', (number for number in range(1, 6)))"
   ]
  },
  {
   "cell_type": "code",
   "execution_count": null,
   "id": "a30e0f0a",
   "metadata": {},
   "outputs": [],
   "source": []
  },
  {
   "cell_type": "code",
   "execution_count": 117,
   "id": "614646ed",
   "metadata": {},
   "outputs": [],
   "source": [
    "a, *body, c, d = range(5)"
   ]
  },
  {
   "cell_type": "code",
   "execution_count": 118,
   "id": "100273d3",
   "metadata": {},
   "outputs": [
    {
     "data": {
      "text/plain": [
       "(0, [1, 2], 3, 4)"
      ]
     },
     "execution_count": 118,
     "metadata": {},
     "output_type": "execute_result"
    }
   ],
   "source": [
    "a, body, c, d"
   ]
  },
  {
   "cell_type": "code",
   "execution_count": null,
   "id": "d026b779",
   "metadata": {},
   "outputs": [],
   "source": []
  },
  {
   "cell_type": "code",
   "execution_count": 121,
   "id": "cd8dc3c9",
   "metadata": {},
   "outputs": [],
   "source": [
    "from collections import namedtuple"
   ]
  },
  {
   "cell_type": "code",
   "execution_count": 128,
   "id": "1f752dfb",
   "metadata": {},
   "outputs": [],
   "source": [
    "Card = namedtuple('Card', ['rank', 'suit'])\n"
   ]
  },
  {
   "cell_type": "code",
   "execution_count": 130,
   "id": "3f482c5e",
   "metadata": {},
   "outputs": [],
   "source": [
    "Card = namedtuple('Card', 'rank suit')"
   ]
  },
  {
   "cell_type": "code",
   "execution_count": 135,
   "id": "ced1f04c",
   "metadata": {},
   "outputs": [],
   "source": [
    "tmp = Card(1, 10)"
   ]
  },
  {
   "cell_type": "code",
   "execution_count": 136,
   "id": "e6c0a6ca",
   "metadata": {},
   "outputs": [
    {
     "data": {
      "text/plain": [
       "{'rank': 1, 'suit': 10}"
      ]
     },
     "execution_count": 136,
     "metadata": {},
     "output_type": "execute_result"
    }
   ],
   "source": [
    "tmp._asdict()"
   ]
  },
  {
   "cell_type": "code",
   "execution_count": null,
   "id": "68efa9f4",
   "metadata": {},
   "outputs": [],
   "source": []
  },
  {
   "cell_type": "code",
   "execution_count": null,
   "id": "5d0daf86",
   "metadata": {},
   "outputs": [],
   "source": []
  },
  {
   "cell_type": "code",
   "execution_count": 137,
   "id": "4b79bb0c",
   "metadata": {},
   "outputs": [],
   "source": [
    "t = (1, 2, [30, 40])"
   ]
  },
  {
   "cell_type": "code",
   "execution_count": 139,
   "id": "b472a3a0",
   "metadata": {},
   "outputs": [
    {
     "data": {
      "text/plain": [
       "[30, 40, 50, 60]"
      ]
     },
     "execution_count": 139,
     "metadata": {},
     "output_type": "execute_result"
    }
   ],
   "source": [
    "t[2] + [50, 60]"
   ]
  },
  {
   "cell_type": "code",
   "execution_count": null,
   "id": "7e9f433d",
   "metadata": {},
   "outputs": [],
   "source": []
  },
  {
   "cell_type": "code",
   "execution_count": 140,
   "id": "15536be8",
   "metadata": {},
   "outputs": [],
   "source": [
    "tt = (1, 2, (30, 40))"
   ]
  },
  {
   "cell_type": "code",
   "execution_count": 141,
   "id": "ee659335",
   "metadata": {},
   "outputs": [
    {
     "data": {
      "text/plain": [
       "-3907003130834322577"
      ]
     },
     "execution_count": 141,
     "metadata": {},
     "output_type": "execute_result"
    }
   ],
   "source": [
    "hash(tt)"
   ]
  },
  {
   "cell_type": "code",
   "execution_count": null,
   "id": "504503d4",
   "metadata": {},
   "outputs": [],
   "source": []
  },
  {
   "cell_type": "code",
   "execution_count": 142,
   "id": "17f7e468",
   "metadata": {},
   "outputs": [],
   "source": [
    "t1 = (1, 2, [30, 40])"
   ]
  },
  {
   "cell_type": "code",
   "execution_count": 143,
   "id": "16684d00",
   "metadata": {},
   "outputs": [
    {
     "ename": "TypeError",
     "evalue": "unhashable type: 'list'",
     "output_type": "error",
     "traceback": [
      "\u001b[0;31m---------------------------------------------------------------------------\u001b[0m",
      "\u001b[0;31mTypeError\u001b[0m                                 Traceback (most recent call last)",
      "Cell \u001b[0;32mIn[143], line 1\u001b[0m\n\u001b[0;32m----> 1\u001b[0m \u001b[38;5;28;43mhash\u001b[39;49m\u001b[43m(\u001b[49m\u001b[43mt1\u001b[49m\u001b[43m)\u001b[49m\n",
      "\u001b[0;31mTypeError\u001b[0m: unhashable type: 'list'"
     ]
    }
   ],
   "source": [
    "hash(t1)"
   ]
  },
  {
   "cell_type": "code",
   "execution_count": 144,
   "id": "0197856b",
   "metadata": {},
   "outputs": [
    {
     "data": {
      "text/plain": [
       "['__add__',\n",
       " '__class__',\n",
       " '__class_getitem__',\n",
       " '__contains__',\n",
       " '__delattr__',\n",
       " '__dir__',\n",
       " '__doc__',\n",
       " '__eq__',\n",
       " '__format__',\n",
       " '__ge__',\n",
       " '__getattribute__',\n",
       " '__getitem__',\n",
       " '__getnewargs__',\n",
       " '__gt__',\n",
       " '__hash__',\n",
       " '__init__',\n",
       " '__init_subclass__',\n",
       " '__iter__',\n",
       " '__le__',\n",
       " '__len__',\n",
       " '__lt__',\n",
       " '__mul__',\n",
       " '__ne__',\n",
       " '__new__',\n",
       " '__reduce__',\n",
       " '__reduce_ex__',\n",
       " '__repr__',\n",
       " '__rmul__',\n",
       " '__setattr__',\n",
       " '__sizeof__',\n",
       " '__str__',\n",
       " '__subclasshook__',\n",
       " 'count',\n",
       " 'index']"
      ]
     },
     "execution_count": 144,
     "metadata": {},
     "output_type": "execute_result"
    }
   ],
   "source": [
    "dir(t1)"
   ]
  },
  {
   "cell_type": "code",
   "execution_count": 146,
   "id": "0298a76e",
   "metadata": {},
   "outputs": [
    {
     "ename": "TypeError",
     "evalue": "can only concatenate tuple (not \"int\") to tuple",
     "output_type": "error",
     "traceback": [
      "\u001b[0;31m---------------------------------------------------------------------------\u001b[0m",
      "\u001b[0;31mTypeError\u001b[0m                                 Traceback (most recent call last)",
      "Cell \u001b[0;32mIn[146], line 1\u001b[0m\n\u001b[0;32m----> 1\u001b[0m \u001b[43mtt\u001b[49m\u001b[38;5;241;43m.\u001b[39;49m\u001b[38;5;21;43m__add__\u001b[39;49m\u001b[43m(\u001b[49m\u001b[38;5;241;43m3\u001b[39;49m\u001b[43m)\u001b[49m\n",
      "\u001b[0;31mTypeError\u001b[0m: can only concatenate tuple (not \"int\") to tuple"
     ]
    }
   ],
   "source": [
    "tt.__add__(3)"
   ]
  },
  {
   "cell_type": "code",
   "execution_count": null,
   "id": "eca6bfaf",
   "metadata": {},
   "outputs": [],
   "source": []
  },
  {
   "cell_type": "code",
   "execution_count": 149,
   "id": "00430c8d",
   "metadata": {},
   "outputs": [
    {
     "ename": "NameError",
     "evalue": "name 'version' is not defined",
     "output_type": "error",
     "traceback": [
      "\u001b[0;31m---------------------------------------------------------------------------\u001b[0m",
      "\u001b[0;31mNameError\u001b[0m                                 Traceback (most recent call last)",
      "Cell \u001b[0;32mIn[149], line 1\u001b[0m\n\u001b[0;32m----> 1\u001b[0m \u001b[43mversion\u001b[49m\n",
      "\u001b[0;31mNameError\u001b[0m: name 'version' is not defined"
     ]
    }
   ],
   "source": [
    "version"
   ]
  },
  {
   "cell_type": "code",
   "execution_count": 150,
   "id": "25353c91",
   "metadata": {},
   "outputs": [
    {
     "name": "stdout",
     "output_type": "stream",
     "text": [
      "Python 3.10.13\r\n"
     ]
    }
   ],
   "source": [
    "!python --version\n"
   ]
  },
  {
   "cell_type": "code",
   "execution_count": 151,
   "id": "7457e208",
   "metadata": {},
   "outputs": [],
   "source": [
    "test = {0, 1}"
   ]
  },
  {
   "cell_type": "code",
   "execution_count": 152,
   "id": "8d5f743e",
   "metadata": {},
   "outputs": [],
   "source": [
    "test2 = [1, 2, 3]"
   ]
  },
  {
   "cell_type": "code",
   "execution_count": 153,
   "id": "7eae1748",
   "metadata": {},
   "outputs": [
    {
     "data": {
      "text/plain": [
       "NotImplemented"
      ]
     },
     "execution_count": 153,
     "metadata": {},
     "output_type": "execute_result"
    }
   ],
   "source": [
    "test.__or__(test2)"
   ]
  },
  {
   "cell_type": "code",
   "execution_count": 154,
   "id": "1152cad1",
   "metadata": {},
   "outputs": [
    {
     "ename": "TypeError",
     "evalue": "unsupported operand type(s) for |: 'set' and 'list'",
     "output_type": "error",
     "traceback": [
      "\u001b[0;31m---------------------------------------------------------------------------\u001b[0m",
      "\u001b[0;31mTypeError\u001b[0m                                 Traceback (most recent call last)",
      "Cell \u001b[0;32mIn[154], line 1\u001b[0m\n\u001b[0;32m----> 1\u001b[0m \u001b[43mtest\u001b[49m\u001b[43m \u001b[49m\u001b[38;5;241;43m|\u001b[39;49m\u001b[43m \u001b[49m\u001b[43mtest2\u001b[49m\n",
      "\u001b[0;31mTypeError\u001b[0m: unsupported operand type(s) for |: 'set' and 'list'"
     ]
    }
   ],
   "source": [
    "test | test2"
   ]
  },
  {
   "cell_type": "code",
   "execution_count": null,
   "id": "baa8fafc",
   "metadata": {},
   "outputs": [],
   "source": [
    "골고루 들어가고, 범위를 벗어나지 못하게 하기 위해 \n",
    "\n",
    "return key.hashCode() % 배열길이 \n",
    "\n",
    "i % arr.length = 0 ~ length - 1"
   ]
  }
 ],
 "metadata": {
  "kernelspec": {
   "display_name": "Python 3 (ipykernel)",
   "language": "python",
   "name": "python3"
  },
  "language_info": {
   "codemirror_mode": {
    "name": "ipython",
    "version": 3
   },
   "file_extension": ".py",
   "mimetype": "text/x-python",
   "name": "python",
   "nbconvert_exporter": "python",
   "pygments_lexer": "ipython3",
   "version": "3.10.13"
  },
  "toc": {
   "base_numbering": 1,
   "nav_menu": {},
   "number_sections": true,
   "sideBar": true,
   "skip_h1_title": false,
   "title_cell": "Table of Contents",
   "title_sidebar": "Contents",
   "toc_cell": false,
   "toc_position": {},
   "toc_section_display": true,
   "toc_window_display": false
  }
 },
 "nbformat": 4,
 "nbformat_minor": 5
}
