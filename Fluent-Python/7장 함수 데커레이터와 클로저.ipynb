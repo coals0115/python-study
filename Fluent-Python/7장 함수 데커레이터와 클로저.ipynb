{
 "cells": [
  {
   "cell_type": "markdown",
   "id": "0b4bc8d2",
   "metadata": {},
   "source": [
    "# 1. 데코레이터 기본 지식"
   ]
  },
  {
   "cell_type": "code",
   "execution_count": 7,
   "id": "6c8b555a",
   "metadata": {},
   "outputs": [],
   "source": [
    "def document_it(func):\n",
    "    def new_function(*args, **kwargs):\n",
    "        print('Running function:', func.__name__)\n",
    "        print('Positional arguments:', args)\n",
    "        print('Keyword arguments:', kwargs)\n",
    "        result = func(*args, **kwargs)\n",
    "        print('Result:', result)\n",
    "        return result\n",
    "    return new_function"
   ]
  },
  {
   "cell_type": "code",
   "execution_count": 8,
   "id": "8a94ab70",
   "metadata": {},
   "outputs": [],
   "source": [
    "def add_ints(a, b):\n",
    "    return a + b"
   ]
  },
  {
   "cell_type": "code",
   "execution_count": 9,
   "id": "35d54037",
   "metadata": {},
   "outputs": [
    {
     "name": "stdout",
     "output_type": "stream",
     "text": [
      "Running function: add_ints\n",
      "Positional arguments: (3, 5)\n",
      "Keyword arguments: {}\n",
      "Result: 8\n"
     ]
    },
    {
     "data": {
      "text/plain": [
       "8"
      ]
     },
     "execution_count": 9,
     "metadata": {},
     "output_type": "execute_result"
    }
   ],
   "source": [
    "cooler_add_inits = document_it(add_ints) # 데커레이터 수동 할당\n",
    "cooler_add_inits(3, 5)\n",
    "# Running function: add_ints\n",
    "# Positional arguments: (3, 5) \n",
    "# Keyword arguments: {}\n",
    "# Result: 8\n",
    "# 8"
   ]
  },
  {
   "cell_type": "code",
   "execution_count": null,
   "id": "0af86fe5",
   "metadata": {},
   "outputs": [],
   "source": []
  },
  {
   "cell_type": "code",
   "execution_count": 10,
   "id": "2ea6234d",
   "metadata": {},
   "outputs": [],
   "source": [
    "@document_it # 데코레이터를 사용하고 싶은 함수에 그냥 ''@데코레이터_이름' 추가\n",
    "def add_ints(a, b):\n",
    "    return a + b"
   ]
  },
  {
   "cell_type": "code",
   "execution_count": 11,
   "id": "3bab10b7",
   "metadata": {},
   "outputs": [
    {
     "name": "stdout",
     "output_type": "stream",
     "text": [
      "Running function: add_ints\n",
      "Positional arguments: (3, 5)\n",
      "Keyword arguments: {}\n",
      "Result: 8\n"
     ]
    },
    {
     "data": {
      "text/plain": [
       "8"
      ]
     },
     "execution_count": 11,
     "metadata": {},
     "output_type": "execute_result"
    }
   ],
   "source": [
    "add_ints(3, 5)\n",
    "# Running function: add_ints\n",
    "# Positional arguments: (3, 5)\n",
    "# Keyword arguments: {}\n",
    "# Result: 8\n",
    "# 8"
   ]
  },
  {
   "cell_type": "code",
   "execution_count": null,
   "id": "6a0f2d85",
   "metadata": {},
   "outputs": [],
   "source": []
  },
  {
   "cell_type": "code",
   "execution_count": 13,
   "id": "13ad82d3",
   "metadata": {},
   "outputs": [],
   "source": [
    "def square_it(func):\n",
    "    def new_function(*args, **kwargs):\n",
    "        result = func(*args, **kwargs)\n",
    "        return result * result\n",
    "    return new_function\n",
    "\n",
    "@document_it\n",
    "@square_it\n",
    "def add_ints(a,b):\n",
    "    return a + b\n",
    "\n",
    "# Running function: new_function\n",
    "# Positional arguments: (3, 5)\n",
    "# Keyword arguments: {}\n",
    "# Result: 64\n",
    "# 64"
   ]
  },
  {
   "cell_type": "code",
   "execution_count": null,
   "id": "59d9ac85",
   "metadata": {},
   "outputs": [],
   "source": []
  },
  {
   "cell_type": "code",
   "execution_count": 15,
   "id": "dfadceae",
   "metadata": {},
   "outputs": [],
   "source": [
    "# ------------------------------------------------------"
   ]
  },
  {
   "cell_type": "code",
   "execution_count": 17,
   "id": "4ab9ec41",
   "metadata": {},
   "outputs": [],
   "source": [
    "def deco(func):\n",
    "    def inner():\n",
    "        print('running inner()')\n",
    "    return inner"
   ]
  },
  {
   "cell_type": "code",
   "execution_count": 18,
   "id": "f86b51a0",
   "metadata": {},
   "outputs": [],
   "source": [
    "@deco\n",
    "def target():\n",
    "    print('running target()')"
   ]
  },
  {
   "cell_type": "code",
   "execution_count": 19,
   "id": "1914d1c9",
   "metadata": {},
   "outputs": [
    {
     "name": "stdout",
     "output_type": "stream",
     "text": [
      "running inner()\n"
     ]
    }
   ],
   "source": [
    "target()"
   ]
  },
  {
   "cell_type": "code",
   "execution_count": 20,
   "id": "4ff27707",
   "metadata": {},
   "outputs": [
    {
     "data": {
      "text/plain": [
       "<function __main__.deco.<locals>.inner()>"
      ]
     },
     "execution_count": 20,
     "metadata": {},
     "output_type": "execute_result"
    }
   ],
   "source": [
    "target"
   ]
  },
  {
   "cell_type": "code",
   "execution_count": null,
   "id": "1ace5394",
   "metadata": {},
   "outputs": [],
   "source": []
  },
  {
   "cell_type": "markdown",
   "id": "1494e9b9",
   "metadata": {},
   "source": [
    "# 2. 파이썬이 데코레이터를 실행하는 시점"
   ]
  },
  {
   "cell_type": "code",
   "execution_count": 153,
   "id": "6da5794d",
   "metadata": {},
   "outputs": [
    {
     "name": "stdout",
     "output_type": "stream",
     "text": [
      "running register(<function f1 at 0x107a3d750>)\n",
      "running register(<function f2 at 0x107a3ca60>)\n",
      "running main()\n",
      "registry -> [<function f1 at 0x107a3d750>, <function f2 at 0x107a3ca60>]\n",
      "running f1()\n",
      "running f2()\n",
      "running f3()\n"
     ]
    }
   ],
   "source": [
    "registry = []  # <1>\n",
    "\n",
    "def register(func):  # <2>\n",
    "    print('running register(%s)' % func)  # <3>\n",
    "    registry.append(func)  # <4>\n",
    "    return func  # <5>\n",
    "\n",
    "@register  # <6>\n",
    "def f1():\n",
    "    print('running f1()')\n",
    "\n",
    "@register\n",
    "def f2():\n",
    "    print('running f2()')\n",
    "\n",
    "def f3():  # <7>\n",
    "    print('running f3()')\n",
    "\n",
    "def main():  # <8>\n",
    "    print('running main()')\n",
    "    print('registry ->', registry)\n",
    "    f1()\n",
    "    f2()\n",
    "    f3()\n",
    "\n",
    "if __name__=='__main__':\n",
    "    main()  # <9>"
   ]
  },
  {
   "cell_type": "code",
   "execution_count": 154,
   "id": "0abe5da9",
   "metadata": {},
   "outputs": [
    {
     "data": {
      "text/plain": [
       "[<function __main__.f1()>, <function __main__.f2()>]"
      ]
     },
     "execution_count": 154,
     "metadata": {},
     "output_type": "execute_result"
    }
   ],
   "source": [
    "registry"
   ]
  },
  {
   "cell_type": "code",
   "execution_count": 155,
   "id": "96f8878c",
   "metadata": {},
   "outputs": [
    {
     "data": {
      "text/plain": [
       "['__class__',\n",
       " '__class_getitem__',\n",
       " '__contains__',\n",
       " '__delattr__',\n",
       " '__delitem__',\n",
       " '__dir__',\n",
       " '__doc__',\n",
       " '__eq__',\n",
       " '__format__',\n",
       " '__ge__',\n",
       " '__getattribute__',\n",
       " '__getitem__',\n",
       " '__gt__',\n",
       " '__hash__',\n",
       " '__init__',\n",
       " '__init_subclass__',\n",
       " '__ior__',\n",
       " '__iter__',\n",
       " '__le__',\n",
       " '__len__',\n",
       " '__lt__',\n",
       " '__ne__',\n",
       " '__new__',\n",
       " '__or__',\n",
       " '__reduce__',\n",
       " '__reduce_ex__',\n",
       " '__repr__',\n",
       " '__reversed__',\n",
       " '__ror__',\n",
       " '__setattr__',\n",
       " '__setitem__',\n",
       " '__sizeof__',\n",
       " '__str__',\n",
       " '__subclasshook__',\n",
       " 'clear',\n",
       " 'copy',\n",
       " 'fromkeys',\n",
       " 'get',\n",
       " 'items',\n",
       " 'keys',\n",
       " 'pop',\n",
       " 'popitem',\n",
       " 'setdefault',\n",
       " 'update',\n",
       " 'values']"
      ]
     },
     "execution_count": 155,
     "metadata": {},
     "output_type": "execute_result"
    }
   ],
   "source": [
    "[item for item in dir(globals()) if '' in item]"
   ]
  },
  {
   "cell_type": "code",
   "execution_count": 156,
   "id": "957ba11e",
   "metadata": {},
   "outputs": [
    {
     "data": {
      "text/plain": [
       "{'__name__': '__main__',\n",
       " '__doc__': 'Automatically created module for IPython interactive environment',\n",
       " '__package__': None,\n",
       " '__loader__': None,\n",
       " '__spec__': None,\n",
       " '__builtin__': <module 'builtins' (built-in)>,\n",
       " '__builtins__': <module 'builtins' (built-in)>,\n",
       " '_ih': ['',\n",
       "  \"def document_it(func):\\n    def new_function(*args, **kwargs):\\n        print('Running function:', func.__name__)\\n        print('Positional arguments:', args)\\n        print('Keyword arguments:', kwargs)\\n        result = func(*args, **kwargs)\\n        print('Result:', result)\\n        return result\\n    return new_function\",\n",
       "  'cooler_add_inits = document_it(add_ints) # 데커레이터 수동 할당\\ncooler_add_inits(3, 5)\\n# Running function: add_ints\\n# Positional arguments: (3, 5) \\n# Keyword arguments: {}\\n# Result: 8\\n# 8',\n",
       "  \"def document_it(func):\\n    def new_function(*args, **kwargs):\\n        print('Running function:', func.__name__)\\n        print('Positional arguments:', args)\\n        print('Keyword arguments:', kwargs)\\n        result = func(*args, **kwargs)\\n        print('Result:', result)\\n        return result\\n    return new_function\",\n",
       "  'cooler_add_inits = document_it(add_ints) # 데커레이터 수동 할당\\ncooler_add_inits(3, 5)\\n# Running function: add_ints\\n# Positional arguments: (3, 5) \\n# Keyword arguments: {}\\n# Result: 8\\n# 8',\n",
       "  'def add_inits(a, b):\\n    return a + b',\n",
       "  'cooler_add_inits = document_it(add_ints) # 데커레이터 수동 할당\\ncooler_add_inits(3, 5)\\n# Running function: add_ints\\n# Positional arguments: (3, 5) \\n# Keyword arguments: {}\\n# Result: 8\\n# 8',\n",
       "  \"def document_it(func):\\n    def new_function(*args, **kwargs):\\n        print('Running function:', func.__name__)\\n        print('Positional arguments:', args)\\n        print('Keyword arguments:', kwargs)\\n        result = func(*args, **kwargs)\\n        print('Result:', result)\\n        return result\\n    return new_function\",\n",
       "  'def add_ints(a, b):\\n    return a + b',\n",
       "  'cooler_add_inits = document_it(add_ints) # 데커레이터 수동 할당\\ncooler_add_inits(3, 5)\\n# Running function: add_ints\\n# Positional arguments: (3, 5) \\n# Keyword arguments: {}\\n# Result: 8\\n# 8',\n",
       "  \"@document_it # 데코레이터를 사용하고 싶은 함수에 그냥 ''@데코레이터_이름' 추가\\ndef add_ints(a, b):\\n    return a + b\",\n",
       "  'add_ints(3, 5)\\n# Running function: add_ints\\n# Positional arguments: (3, 5)\\n# Keyword arguments: {}\\n# Result: 8\\n# 8',\n",
       "  'def square_it(func):\\n    def new_function(*args, **kwargs):\\n        result = func(*args, **kwargs)\\n        return result * result\\n    return new_function\\n\\n@document_it\\n@square_it\\ndef add_ints(a,b):\\n    return a + b\\n\\n# Running function: new_function\\n# Positional arguments: (3, 5)\\n# Keyword arguments: {}\\n# Result: 64\\n# 64',\n",
       "  'def square_it(func):\\n    def new_function(*args, **kwargs):\\n        result = func(*args, **kwargs)\\n        return result * result\\n    return new_function\\n\\n@document_it\\n@square_it\\ndef add_ints(a,b):\\n    return a + b\\n\\n# Running function: new_function\\n# Positional arguments: (3, 5)\\n# Keyword arguments: {}\\n# Result: 64\\n# 64',\n",
       "  '------------------------------------------------------',\n",
       "  '# ------------------------------------------------------',\n",
       "  \"@decorate\\ndef target():\\n    print('running target()')\",\n",
       "  \"def deco(func):\\n    def inner():\\n        print('running inner()')\\n    return inner\",\n",
       "  \"@deco\\ndef target():\\n    print('running target()')\",\n",
       "  'target()',\n",
       "  'target',\n",
       "  \"registry = []  # <1>\\n\\ndef register(func):  # <2>\\n    print('running register(%s)' % func)  # <3>\\n    registry.append(func)  # <4>\\n    return func  # <5>\\n\\n@register  # <6>\\ndef f1():\\n    print('running f1()')\\n\\n@register\\ndef f2():\\n    print('running f2()')\\n\\ndef f3():  # <7>\\n    print('running f3()')\\n\\ndef main():  # <8>\\n    print('running main()')\\n    print('registry ->', registry)\\n    f1()\\n    f2()\\n    f3()\\n\\nif __name__=='__main__':\\n    main()  # <9>\",\n",
       "  'register',\n",
       "  'registry',\n",
       "  'from collections import namedtuple\\n\\nCustomer = namedtuple(\\'Customer\\', \\'name fidelity\\')\\n\\n\\nclass LineItem:\\n\\n    def __init__(self, product, quantity, price):\\n        self.product = product\\n        self.quantity = quantity\\n        self.price = price\\n\\n    def total(self):\\n        return self.price * self.quantity\\n\\n\\nclass Order:  # the Context\\n\\n    def __init__(self, customer, cart, promotion=None):\\n        self.customer = customer\\n        self.cart = list(cart)\\n        self.promotion = promotion\\n\\n    def total(self):\\n        if not hasattr(self, \\'__total\\'):\\n            self.__total = sum(item.total() for item in self.cart)\\n        return self.__total\\n\\n    def due(self):\\n        if self.promotion is None:\\n            discount = 0\\n        else:\\n            discount = self.promotion(self)\\n        return self.total() - discount\\n\\n    def __repr__(self):\\n        fmt = \\'<Order total: {:.2f} due: {:.2f}>\\'\\n        return fmt.format(self.total(), self.due())\\n\\n# BEGIN STRATEGY_BEST4\\n\\npromos = []  # <1>\\n\\ndef promotion(promo_func):  # <2>\\n    promos.append(promo_func)\\n    return promo_func\\n\\n@promotion  # <3>\\ndef fidelity(order):\\n    \"\"\"5% discount for customers with 1000 or more fidelity points\"\"\"\\n    return order.total() * .05 if order.customer.fidelity >= 1000 else 0\\n\\n@promotion\\ndef bulk_item(order):\\n    \"\"\"10% discount for each LineItem with 20 or more units\"\"\"\\n    discount = 0\\n    for item in order.cart:\\n        if item.quantity >= 20:\\n            discount += item.total() * .1\\n    return discount\\n\\n@promotion\\ndef large_order(order):\\n    \"\"\"7% discount for orders with 10 or more distinct items\"\"\"\\n    distinct_items = {item.product for item in order.cart}\\n    if len(distinct_items) >= 10:\\n        return order.total() * .07\\n    return 0\\n\\ndef best_promo(order):  # <4>\\n    \"\"\"Select best discount available\\n    \"\"\"\\n    return max(promo(order) for promo in promos)',\n",
       "  \"from collections import namedtuple\\n\\nCustomer = namedtuple('Customer', 'name fidelity')\\n\\n\\nclass LineItem:\\n\\n    def __init__(self, product, quantity, price):\\n        self.product = product\\n        self.quantity = quantity\\n        self.price = price\\n\\n    def total(self):\\n        return self.price * self.quantity\\n\\n\\nclass Order:  # the Context\\n\\n    def __init__(self, customer, cart, promotion=None):\\n        self.customer = customer\\n        self.cart = list(cart)\\n        self.promotion = promotion\\n\\n    def total(self):\\n        if not hasattr(self, '__total'):\\n            self.__total = sum(item.total() for item in self.cart)\\n        return self.__total\\n\\n    def due(self):\\n        if self.promotion is None:\\n            discount = 0\\n        else:\\n            discount = self.promotion(self)\\n        return self.total() - discount\\n\\n    def __repr__(self):\\n        fmt = '<Order total: {:.2f} due: {:.2f}>'\\n        return fmt.format(self.total(), self.due())\",\n",
       "  '# BEGIN STRATEGY_BEST4\\n\\npromos = []  # <1>\\n\\ndef promotion(promo_func):  # <2>\\n    promos.append(promo_func)\\n    return promo_func\\n\\n@promotion  # <3>\\ndef fidelity(order):\\n    \"\"\"5% discount for customers with 1000 or more fidelity points\"\"\"\\n    return order.total() * .05 if order.customer.fidelity >= 1000 else 0\\n\\n@promotion\\ndef bulk_item(order):\\n    \"\"\"10% discount for each LineItem with 20 or more units\"\"\"\\n    discount = 0\\n    for item in order.cart:\\n        if item.quantity >= 20:\\n            discount += item.total() * .1\\n    return discount\\n\\n@promotion\\ndef large_order(order):\\n    \"\"\"7% discount for orders with 10 or more distinct items\"\"\"\\n    distinct_items = {item.product for item in order.cart}\\n    if len(distinct_items) >= 10:\\n        return order.total() * .07\\n    return 0\\n\\ndef best_promo(order):  # <4>\\n    \"\"\"Select best discount available\\n    \"\"\"\\n    return max(promo(order) for promo in promos)',\n",
       "  '# BEGIN STRATEGY_BEST4\\n\\npromos = []  # <1>\\n\\ndef promotion(promo_func):  # <2>\\n    promos.append(promo_func)\\n    return promo_func\\n\\n@promotion  # <3>\\ndef fidelity(order):\\n    \"\"\"5% discount for customers with 1000 or more fidelity points\"\"\"\\n    return order.total() * .05 if order.customer.fidelity >= 1000 else 0\\n\\n@promotion\\ndef bulk_item(order):\\n    \"\"\"10% discount for each LineItem with 20 or more units\"\"\"\\n    discount = 0\\n    for item in order.cart:\\n        if item.quantity >= 20:\\n            discount += item.total() * .1\\n    return discount\\n\\n@promotion\\ndef large_order(order):\\n    \"\"\"7% discount for orders with 10 or more distinct items\"\"\"\\n    distinct_items = {item.product for item in order.cart}\\n    if len(distinct_items) >= 10:\\n        return order.total() * .07\\n    return 0',\n",
       "  'def best_promo(order):  # <4>\\n    \"\"\"Select best discount available\\n    \"\"\"\\n    return max(promo(order) for promo in promos)',\n",
       "  \"joe = Customer('John Doe', 0)\\nann = Customer('Ann Smith', 1100)\",\n",
       "  \"cart = [LineItem('banana', 4, .5), \\n       LineItem('apple', 10, 1.5),\\n       LineItem('watermelon', 5, 5.0)]\",\n",
       "  'Order(joe, cart, fidelity_promo)',\n",
       "  'Order(joe, cart, fidelity())',\n",
       "  'Order(joe, cart, best_prom)',\n",
       "  \"from collections import namedtuple\\n\\nCustomer = namedtuple('Customer', 'name fidelity')\\n\\n\\nclass LineItem:\\n\\n    def __init__(self, product, quantity, price):\\n        self.product = product\\n        self.quantity = quantity\\n        self.price = price\\n\\n    def total(self):\\n        return self.price * self.quantity\\n\\n\\nclass Order:  # the Context\\n\\n    def __init__(self, customer, cart, promotion=None):\\n        self.customer = customer\\n        self.cart = list(cart)\\n        self.promotion = promotion\\n\\n    def total(self):\\n        if not hasattr(self, '__total'):\\n            self.__total = sum(item.total() for item in self.cart)\\n        return self.__total\\n\\n    def due(self):\\n        if self.promotion is None:\\n            discount = 0\\n        else:\\n            discount = self.promotion(self)\\n        return self.total() - discount\\n\\n    def __repr__(self):\\n        fmt = '<Order total: {:.2f} due: {:.2f}>'\\n        return fmt.format(self.total(), self.due())\",\n",
       "  '# BEGIN STRATEGY_BEST4\\n\\npromos = []  # <1>\\n\\n# promo_func를 promos 리스트에 추가한 후 그대로 반환.\\n# 얘가 어떻게 보면 인터페이스 역할? 관계없는 클래스들끼리 묶어주는 것처럼 할인 방식 빼먹지 않도록 얘도 묶어주는 역할..\\ndef promotion(promo_func):  # <2>\\n    promos.append(promo_func)\\n    return promo_func\\n\\n\\n@promotion  # <3>\\ndef fidelity(order):\\n    \"\"\"5% discount for customers with 1000 or more fidelity points\"\"\"\\n    return order.total() * .05 if order.customer.fidelity >= 1000 else 0\\n\\n@promotion\\ndef bulk_item(order):\\n    \"\"\"10% discount for each LineItem with 20 or more units\"\"\"\\n    discount = 0\\n    for item in order.cart:\\n        if item.quantity >= 20:\\n            discount += item.total() * .1\\n    return discount\\n\\n@promotion\\ndef large_order(order):\\n    \"\"\"7% discount for orders with 10 or more distinct items\"\"\"\\n    distinct_items = {item.product for item in order.cart}\\n    if len(distinct_items) >= 10:\\n        return order.total() * .07\\n    return 0',\n",
       "  'def best_promo(order):  # <4>\\n    \"\"\"Select best discount available\\n    \"\"\"\\n    return max(promo(order) for promo in promos)',\n",
       "  \"joe = Customer('John Doe', 0)\\nann = Customer('Ann Smith', 1100)\",\n",
       "  \"cart = [LineItem('banana', 4, .5), \\n       LineItem('apple', 10, 1.5),\\n       LineItem('watermelon', 5, 5.0)]\",\n",
       "  'Order(joe, cart, best_prom)',\n",
       "  'def best_promo(order):  # <4>\\n    \"\"\"Select best discount available\\n    \"\"\"\\n    return max(promo(order) for promo in promos)',\n",
       "  \"joe = Customer('John Doe', 0)\\nann = Customer('Ann Smith', 1100)\",\n",
       "  \"cart = [LineItem('banana', 4, .5), \\n       LineItem('apple', 10, 1.5),\\n       LineItem('watermelon', 5, 5.0)]\",\n",
       "  'Order(joe, cart, best_prom)',\n",
       "  'Order(joe, cart, best_promo)',\n",
       "  'Order(joe, cart, large_order)',\n",
       "  'Order(joe, cart, bulk_item)',\n",
       "  'Order(joe, cart, fidelity)',\n",
       "  'Order(ann, cart, fidelity)',\n",
       "  'Order(ann, cart, large_order)',\n",
       "  'Order(ann, cart, best_promo)',\n",
       "  '대부분의 데코레이터는 데코레이트된 함수를 반환한다. 즉, 내부 함수를 정의하고 그것을 반환하여 데코레이트된 함수를 대체한다.\\n내부 함수를 사용하는 코드는 제대로 작동하기 위해 거의 항상 클로저에 의존한다.\\n클로저를 이해하기 위해 먼저 파이썬에서 변수 범위의 작동 방식에 대해 자세히 살펴보자',\n",
       "  'def f1(a):\\n    print(a)',\n",
       "  'def f1(a):\\n    print(a)\\n    print(b)',\n",
       "  'f1(3)',\n",
       "  'b = 6',\n",
       "  'f1(3)',\n",
       "  'def f2(a):\\n    print(a)\\n    print(b)',\n",
       "  'def f2(a):\\n    print(a)\\n    print(b)\\n    b = 9',\n",
       "  'f2(3)',\n",
       "  'f2(3) # 관련 내용 introducing python 10. 네임스페이스와 스코프에 있음',\n",
       "  'def f3(a):\\n    global b\\n    print(a)\\n    print(b)\\n    b = 9',\n",
       "  'f3(3)',\n",
       "  'def f3(a):\\n#     global b\\n    print(a)\\n    print(b)\\n    b = 9',\n",
       "  'f3(3)',\n",
       "  'def f3(a):\\n    global b\\n    print(a)\\n    print(b)\\n    b = 9',\n",
       "  'f3(3)',\n",
       "  'b = 30',\n",
       "  'b',\n",
       "  'f3(#)',\n",
       "  'f3(1)',\n",
       "  'f3(1)',\n",
       "  'from dis import dis',\n",
       "  'dis(f1)',\n",
       "  'dis(f2)',\n",
       "  'avg(10)',\n",
       "  'class Averager():\\n\\n    def __init__(self):\\n        self.series = []\\n\\n    def __call__(self, new_value):\\n        self.series.append(new_value)\\n        total = sum(self.series)\\n        return total/len(self.series)',\n",
       "  'avg = Averager()',\n",
       "  'avg(10)',\n",
       "  'avg(11)',\n",
       "  'avg(12)',\n",
       "  'def averager(new_value):\\n    series.append(new_value)\\n    total = sum(series)\\n    \\n    return total/len(series)',\n",
       "  'def make_averager():\\n    series = []\\n\\n    def averager(new_value):\\n        series.append(new_value) # 함수 외부에 정의된 지역변수 참조\\n        total = sum(series)\\n\\n        return total/len(series)\\n    \\n    return averager',\n",
       "  'def make_averager():\\n    series = []\\n\\n    def averager(new_value): # 호출될 때마다 받은 인수를 series에 추가\\n        series.append(new_value) # 함수 외부에 정의된 지역변수 참조\\n        total = sum(series)\\n\\n        return total/len(series)\\n    \\n    return averager',\n",
       "  'avg = make_averager()',\n",
       "  'avg(10)',\n",
       "  'avg(11)',\n",
       "  'avg(12)',\n",
       "  'def make_averager():\\n    series = [] ㅏㅏ\\n\\n    def averager(new_value): # 호출될 때마다 받은 인수를 series에 추가\\n        series.append(new_value) # 함수 외부에 정의된 지역변수 참조\\n        total = sum(series)\\n\\n        return total/len(series)\\n    \\n    return averager',\n",
       "  'class Averager():\\n\\n    def __init__(self):\\n        self.series = []\\n\\n    def __call__(self, new_value):\\n        self.series.append(new_value)\\n        total = sum(self.series)\\n        return total/len(self.series)',\n",
       "  'avg = Averager()',\n",
       "  'avg(10)',\n",
       "  'avg(11)',\n",
       "  'avg(12)',\n",
       "  'def make_averager():\\n    series = [] ㅏㅏ\\n\\n    def averager(new_value): # 호출될 때마다 받은 인수를 series에 추가\\n        series.append(new_value) # 함수 외부에 정의된 지역변수 참조\\n        total = sum(series)\\n\\n        return total/len(series)\\n    \\n    return averager',\n",
       "  'avg = make_averager()',\n",
       "  'avg(10)',\n",
       "  'avg(11)',\n",
       "  'avg(12)',\n",
       "  'avg',\n",
       "  'dir(avg)',\n",
       "  'avg.__code__',\n",
       "  'avg.__code__.co_varnames',\n",
       "  'avg.__code__.co_freevars',\n",
       "  'avg.__closure__',\n",
       "  'avg.__code__.co_freevars.series',\n",
       "  'avg.__code__.co_freevars',\n",
       "  'id(avg)',\n",
       "  'def make_averager():\\n    series = []\\n\\n    def averager(new_value): # 호출될 때마다 받은 인수를 series에 추가\\n        print(hex(id(series)))\\n        series.append(new_value) # 함수 외부에 정의된 지역변수 참조\\n        total = sum(series)\\n\\n        return total/len(series)\\n    \\n    return averager',\n",
       "  'avg = make_averager()',\n",
       "  'avg(10)',\n",
       "  'avg(11)',\n",
       "  'avg(12)',\n",
       "  'avg',\n",
       "  'dir(avg)',\n",
       "  'avg.__code__',\n",
       "  'avg.__code__.co_varnames',\n",
       "  'avg.__code__.co_freevars',\n",
       "  'avg.__closure__',\n",
       "  'avg.__closure__',\n",
       "  'avg.__closure__[0]',\n",
       "  'avg.__closure__',\n",
       "  'avg.__closure__[0]',\n",
       "  'dir(avg.__closure__[0])',\n",
       "  'avg.__closure__[0].cell_contents',\n",
       "  'avg.__closure__',\n",
       "  'id(avg.__closure__)',\n",
       "  'hex(id(avg.__closure__))',\n",
       "  'def make_average():\\n    count = 0\\n    total = 0\\n    \\n    def average(new_value):\\n        count += 1\\n        total += new_value\\n        \\n        return total / count\\n    \\n    return average',\n",
       "  'avg = make_average()',\n",
       "  'avg(10)',\n",
       "  'def make_average():\\n    count = 0\\n    total = 0\\n    \\n    def average(new_value):\\n        count += 1 # 얘가 값을 변경하는 문장이기 때문에 지역 변수로 보는데 그 지역변수가 없어서 발생하는 에러... 아까 위에서 봤던 거\\n        total += new_value\\n        \\n        return total / count\\n    \\n    return average',\n",
       "  'avg = make_average()',\n",
       "  'avg(10)',\n",
       "  'def make_average():\\n    count = 0\\n    total = 0\\n    \\n    def average(new_value):\\n        nonlocal count, total\\n        \\n        count += 1 \\n        total += new_value\\n        \\n        return total / count\\n    \\n    return average',\n",
       "  'avg(10)',\n",
       "  'avg = make_average()',\n",
       "  'avg(10)',\n",
       "  'avg(10)',\n",
       "  'avg(20)',\n",
       "  \"registry = []  # <1>\\n\\ndef register(func):  # <2>\\n    print('running register(%s)' % func)  # <3>\\n    registry.append(func)  # <4>\\n    return func  # <5>\\n\\n@register  # <6>\\ndef f1():\\n    print('running f1()')\\n\\n@register\\ndef f2():\\n    print('running f2()')\\n\\ndef f3():  # <7>\\n    print('running f3()')\\n\\ndef main():  # <8>\\n    print('running main()')\\n    print('registry ->', registry)\\n    f1()\\n    f2()\\n    f3()\\n\\nif __name__=='__main__':\\n    main()  # <9>\",\n",
       "  'registry',\n",
       "  'dir(globals())',\n",
       "  '[dir(globals())]',\n",
       "  'dir(globals())',\n",
       "  'dir(globals())[0]',\n",
       "  \"[for item in dir(globals()) if item.contaions('__')]\",\n",
       "  \"[item for item in dir(globals()) if item.contaions('__')]\",\n",
       "  \"[item for item in dir(globals()) if item.contains('__')]\",\n",
       "  \"[item for item in dir(globals()) if item.contains('__')]\",\n",
       "  \"[item for item in dir(globals()) if '__' in item]\",\n",
       "  \"[item for item in dir(globals()) if 'registry' in item]\",\n",
       "  'globals()',\n",
       "  \"registry = []  # <1>\\n\\ndef register(func):  # <2>\\n    print('running register(%s)' % func)  # <3>\\n    registry.append(func)  # <4>\\n    return func  # <5>\\n\\n@register  # <6>\\ndef f1():\\n    print('running f1()')\\n\\n@register\\ndef f2():\\n    print('running f2()')\\n\\ndef f3():  # <7>\\n    print('running f3()')\\n\\ndef main():  # <8>\\n    print('running main()')\\n    print('registry ->', registry)\\n    f1()\\n    f2()\\n    f3()\\n\\nif __name__=='__main__':\\n    main()  # <9>\",\n",
       "  'registry',\n",
       "  \"[item for item in dir(globals()) if '' in item]\",\n",
       "  'globals()'],\n",
       " '_oh': {9: 8,\n",
       "  11: 8,\n",
       "  20: <function __main__.deco.<locals>.inner()>,\n",
       "  22: <function __main__.register(func)>,\n",
       "  23: [<function __main__.f1()>, <function __main__.f2()>],\n",
       "  44: <Order total: 42.00 due: 42.00>,\n",
       "  45: <Order total: 42.00 due: 42.00>,\n",
       "  46: <Order total: 42.00 due: 42.00>,\n",
       "  47: <Order total: 42.00 due: 42.00>,\n",
       "  48: <Order total: 42.00 due: 39.90>,\n",
       "  49: <Order total: 42.00 due: 42.00>,\n",
       "  50: <Order total: 42.00 due: 39.90>,\n",
       "  68: 30,\n",
       "  78: 10.0,\n",
       "  79: 10.5,\n",
       "  80: 11.0,\n",
       "  85: 10.0,\n",
       "  86: 10.5,\n",
       "  87: 11.0,\n",
       "  91: 10.0,\n",
       "  92: 10.5,\n",
       "  93: 11.0,\n",
       "  96: 10.0,\n",
       "  97: 10.5,\n",
       "  98: 11.0,\n",
       "  99: <function __main__.make_averager.<locals>.averager(new_value)>,\n",
       "  100: ['__annotations__',\n",
       "   '__builtins__',\n",
       "   '__call__',\n",
       "   '__class__',\n",
       "   '__closure__',\n",
       "   '__code__',\n",
       "   '__defaults__',\n",
       "   '__delattr__',\n",
       "   '__dict__',\n",
       "   '__dir__',\n",
       "   '__doc__',\n",
       "   '__eq__',\n",
       "   '__format__',\n",
       "   '__ge__',\n",
       "   '__get__',\n",
       "   '__getattribute__',\n",
       "   '__globals__',\n",
       "   '__gt__',\n",
       "   '__hash__',\n",
       "   '__init__',\n",
       "   '__init_subclass__',\n",
       "   '__kwdefaults__',\n",
       "   '__le__',\n",
       "   '__lt__',\n",
       "   '__module__',\n",
       "   '__name__',\n",
       "   '__ne__',\n",
       "   '__new__',\n",
       "   '__qualname__',\n",
       "   '__reduce__',\n",
       "   '__reduce_ex__',\n",
       "   '__repr__',\n",
       "   '__setattr__',\n",
       "   '__sizeof__',\n",
       "   '__str__',\n",
       "   '__subclasshook__'],\n",
       "  101: <code object averager at 0x107a800e0, file \"/var/folders/_s/0rymbx1n0m14zlxptddb3vrw0000gn/T/ipykernel_11435/1553030687.py\", line 4>,\n",
       "  102: ('new_value', 'total'),\n",
       "  103: ('series',),\n",
       "  104: (<cell at 0x107bb59c0: list object at 0x1077911c0>,),\n",
       "  106: ('series',),\n",
       "  107: 4423155520,\n",
       "  110: 10.0,\n",
       "  111: 10.5,\n",
       "  112: 11.0,\n",
       "  113: <function __main__.make_averager.<locals>.averager(new_value)>,\n",
       "  114: ['__annotations__',\n",
       "   '__builtins__',\n",
       "   '__call__',\n",
       "   '__class__',\n",
       "   '__closure__',\n",
       "   '__code__',\n",
       "   '__defaults__',\n",
       "   '__delattr__',\n",
       "   '__dict__',\n",
       "   '__dir__',\n",
       "   '__doc__',\n",
       "   '__eq__',\n",
       "   '__format__',\n",
       "   '__ge__',\n",
       "   '__get__',\n",
       "   '__getattribute__',\n",
       "   '__globals__',\n",
       "   '__gt__',\n",
       "   '__hash__',\n",
       "   '__init__',\n",
       "   '__init_subclass__',\n",
       "   '__kwdefaults__',\n",
       "   '__le__',\n",
       "   '__lt__',\n",
       "   '__module__',\n",
       "   '__name__',\n",
       "   '__ne__',\n",
       "   '__new__',\n",
       "   '__qualname__',\n",
       "   '__reduce__',\n",
       "   '__reduce_ex__',\n",
       "   '__repr__',\n",
       "   '__setattr__',\n",
       "   '__sizeof__',\n",
       "   '__str__',\n",
       "   '__subclasshook__'],\n",
       "  115: <code object averager at 0x1079ab7e0, file \"/var/folders/_s/0rymbx1n0m14zlxptddb3vrw0000gn/T/ipykernel_11435/1338861763.py\", line 4>,\n",
       "  116: ('new_value', 'total'),\n",
       "  117: ('series',),\n",
       "  118: (<cell at 0x10794fd60: list object at 0x107ceb680>,),\n",
       "  119: (<cell at 0x10794fd60: list object at 0x107ceb680>,),\n",
       "  120: <cell at 0x10794fd60: list object at 0x107ceb680>,\n",
       "  121: (<cell at 0x10794fd60: list object at 0x107ceb680>,),\n",
       "  122: <cell at 0x10794fd60: list object at 0x107ceb680>,\n",
       "  123: ['__class__',\n",
       "   '__delattr__',\n",
       "   '__dir__',\n",
       "   '__doc__',\n",
       "   '__eq__',\n",
       "   '__format__',\n",
       "   '__ge__',\n",
       "   '__getattribute__',\n",
       "   '__gt__',\n",
       "   '__hash__',\n",
       "   '__init__',\n",
       "   '__init_subclass__',\n",
       "   '__le__',\n",
       "   '__lt__',\n",
       "   '__ne__',\n",
       "   '__new__',\n",
       "   '__reduce__',\n",
       "   '__reduce_ex__',\n",
       "   '__repr__',\n",
       "   '__setattr__',\n",
       "   '__sizeof__',\n",
       "   '__str__',\n",
       "   '__subclasshook__',\n",
       "   'cell_contents'],\n",
       "  124: [10, 11, 12],\n",
       "  125: (<cell at 0x10794fd60: list object at 0x107ceb680>,),\n",
       "  126: 4421734064,\n",
       "  127: '0x1078e4eb0',\n",
       "  137: 10.0,\n",
       "  138: 10.0,\n",
       "  139: 13.333333333333334,\n",
       "  141: [<function __main__.f1()>, <function __main__.f2()>],\n",
       "  142: ['__class__',\n",
       "   '__class_getitem__',\n",
       "   '__contains__',\n",
       "   '__delattr__',\n",
       "   '__delitem__',\n",
       "   '__dir__',\n",
       "   '__doc__',\n",
       "   '__eq__',\n",
       "   '__format__',\n",
       "   '__ge__',\n",
       "   '__getattribute__',\n",
       "   '__getitem__',\n",
       "   '__gt__',\n",
       "   '__hash__',\n",
       "   '__init__',\n",
       "   '__init_subclass__',\n",
       "   '__ior__',\n",
       "   '__iter__',\n",
       "   '__le__',\n",
       "   '__len__',\n",
       "   '__lt__',\n",
       "   '__ne__',\n",
       "   '__new__',\n",
       "   '__or__',\n",
       "   '__reduce__',\n",
       "   '__reduce_ex__',\n",
       "   '__repr__',\n",
       "   '__reversed__',\n",
       "   '__ror__',\n",
       "   '__setattr__',\n",
       "   '__setitem__',\n",
       "   '__sizeof__',\n",
       "   '__str__',\n",
       "   '__subclasshook__',\n",
       "   'clear',\n",
       "   'copy',\n",
       "   'fromkeys',\n",
       "   'get',\n",
       "   'items',\n",
       "   'keys',\n",
       "   'pop',\n",
       "   'popitem',\n",
       "   'setdefault',\n",
       "   'update',\n",
       "   'values'],\n",
       "  143: [['__class__',\n",
       "    '__class_getitem__',\n",
       "    '__contains__',\n",
       "    '__delattr__',\n",
       "    '__delitem__',\n",
       "    '__dir__',\n",
       "    '__doc__',\n",
       "    '__eq__',\n",
       "    '__format__',\n",
       "    '__ge__',\n",
       "    '__getattribute__',\n",
       "    '__getitem__',\n",
       "    '__gt__',\n",
       "    '__hash__',\n",
       "    '__init__',\n",
       "    '__init_subclass__',\n",
       "    '__ior__',\n",
       "    '__iter__',\n",
       "    '__le__',\n",
       "    '__len__',\n",
       "    '__lt__',\n",
       "    '__ne__',\n",
       "    '__new__',\n",
       "    '__or__',\n",
       "    '__reduce__',\n",
       "    '__reduce_ex__',\n",
       "    '__repr__',\n",
       "    '__reversed__',\n",
       "    '__ror__',\n",
       "    '__setattr__',\n",
       "    '__setitem__',\n",
       "    '__sizeof__',\n",
       "    '__str__',\n",
       "    '__subclasshook__',\n",
       "    'clear',\n",
       "    'copy',\n",
       "    'fromkeys',\n",
       "    'get',\n",
       "    'items',\n",
       "    'keys',\n",
       "    'pop',\n",
       "    'popitem',\n",
       "    'setdefault',\n",
       "    'update',\n",
       "    'values']],\n",
       "  144: ['__class__',\n",
       "   '__class_getitem__',\n",
       "   '__contains__',\n",
       "   '__delattr__',\n",
       "   '__delitem__',\n",
       "   '__dir__',\n",
       "   '__doc__',\n",
       "   '__eq__',\n",
       "   '__format__',\n",
       "   '__ge__',\n",
       "   '__getattribute__',\n",
       "   '__getitem__',\n",
       "   '__gt__',\n",
       "   '__hash__',\n",
       "   '__init__',\n",
       "   '__init_subclass__',\n",
       "   '__ior__',\n",
       "   '__iter__',\n",
       "   '__le__',\n",
       "   '__len__',\n",
       "   '__lt__',\n",
       "   '__ne__',\n",
       "   '__new__',\n",
       "   '__or__',\n",
       "   '__reduce__',\n",
       "   '__reduce_ex__',\n",
       "   '__repr__',\n",
       "   '__reversed__',\n",
       "   '__ror__',\n",
       "   '__setattr__',\n",
       "   '__setitem__',\n",
       "   '__sizeof__',\n",
       "   '__str__',\n",
       "   '__subclasshook__',\n",
       "   'clear',\n",
       "   'copy',\n",
       "   'fromkeys',\n",
       "   'get',\n",
       "   'items',\n",
       "   'keys',\n",
       "   'pop',\n",
       "   'popitem',\n",
       "   'setdefault',\n",
       "   'update',\n",
       "   'values'],\n",
       "  145: '__class__',\n",
       "  150: ['__class__',\n",
       "   '__class_getitem__',\n",
       "   '__contains__',\n",
       "   '__delattr__',\n",
       "   '__delitem__',\n",
       "   '__dir__',\n",
       "   '__doc__',\n",
       "   '__eq__',\n",
       "   '__format__',\n",
       "   '__ge__',\n",
       "   '__getattribute__',\n",
       "   '__getitem__',\n",
       "   '__gt__',\n",
       "   '__hash__',\n",
       "   '__init__',\n",
       "   '__init_subclass__',\n",
       "   '__ior__',\n",
       "   '__iter__',\n",
       "   '__le__',\n",
       "   '__len__',\n",
       "   '__lt__',\n",
       "   '__ne__',\n",
       "   '__new__',\n",
       "   '__or__',\n",
       "   '__reduce__',\n",
       "   '__reduce_ex__',\n",
       "   '__repr__',\n",
       "   '__reversed__',\n",
       "   '__ror__',\n",
       "   '__setattr__',\n",
       "   '__setitem__',\n",
       "   '__sizeof__',\n",
       "   '__str__',\n",
       "   '__subclasshook__'],\n",
       "  151: [],\n",
       "  152: {...},\n",
       "  154: [<function __main__.f1()>, <function __main__.f2()>],\n",
       "  155: ['__class__',\n",
       "   '__class_getitem__',\n",
       "   '__contains__',\n",
       "   '__delattr__',\n",
       "   '__delitem__',\n",
       "   '__dir__',\n",
       "   '__doc__',\n",
       "   '__eq__',\n",
       "   '__format__',\n",
       "   '__ge__',\n",
       "   '__getattribute__',\n",
       "   '__getitem__',\n",
       "   '__gt__',\n",
       "   '__hash__',\n",
       "   '__init__',\n",
       "   '__init_subclass__',\n",
       "   '__ior__',\n",
       "   '__iter__',\n",
       "   '__le__',\n",
       "   '__len__',\n",
       "   '__lt__',\n",
       "   '__ne__',\n",
       "   '__new__',\n",
       "   '__or__',\n",
       "   '__reduce__',\n",
       "   '__reduce_ex__',\n",
       "   '__repr__',\n",
       "   '__reversed__',\n",
       "   '__ror__',\n",
       "   '__setattr__',\n",
       "   '__setitem__',\n",
       "   '__sizeof__',\n",
       "   '__str__',\n",
       "   '__subclasshook__',\n",
       "   'clear',\n",
       "   'copy',\n",
       "   'fromkeys',\n",
       "   'get',\n",
       "   'items',\n",
       "   'keys',\n",
       "   'pop',\n",
       "   'popitem',\n",
       "   'setdefault',\n",
       "   'update',\n",
       "   'values']},\n",
       " '_dh': [PosixPath('/Users/coals0115/study/python/python-study/Fluent-Python')],\n",
       " 'In': ['',\n",
       "  \"def document_it(func):\\n    def new_function(*args, **kwargs):\\n        print('Running function:', func.__name__)\\n        print('Positional arguments:', args)\\n        print('Keyword arguments:', kwargs)\\n        result = func(*args, **kwargs)\\n        print('Result:', result)\\n        return result\\n    return new_function\",\n",
       "  'cooler_add_inits = document_it(add_ints) # 데커레이터 수동 할당\\ncooler_add_inits(3, 5)\\n# Running function: add_ints\\n# Positional arguments: (3, 5) \\n# Keyword arguments: {}\\n# Result: 8\\n# 8',\n",
       "  \"def document_it(func):\\n    def new_function(*args, **kwargs):\\n        print('Running function:', func.__name__)\\n        print('Positional arguments:', args)\\n        print('Keyword arguments:', kwargs)\\n        result = func(*args, **kwargs)\\n        print('Result:', result)\\n        return result\\n    return new_function\",\n",
       "  'cooler_add_inits = document_it(add_ints) # 데커레이터 수동 할당\\ncooler_add_inits(3, 5)\\n# Running function: add_ints\\n# Positional arguments: (3, 5) \\n# Keyword arguments: {}\\n# Result: 8\\n# 8',\n",
       "  'def add_inits(a, b):\\n    return a + b',\n",
       "  'cooler_add_inits = document_it(add_ints) # 데커레이터 수동 할당\\ncooler_add_inits(3, 5)\\n# Running function: add_ints\\n# Positional arguments: (3, 5) \\n# Keyword arguments: {}\\n# Result: 8\\n# 8',\n",
       "  \"def document_it(func):\\n    def new_function(*args, **kwargs):\\n        print('Running function:', func.__name__)\\n        print('Positional arguments:', args)\\n        print('Keyword arguments:', kwargs)\\n        result = func(*args, **kwargs)\\n        print('Result:', result)\\n        return result\\n    return new_function\",\n",
       "  'def add_ints(a, b):\\n    return a + b',\n",
       "  'cooler_add_inits = document_it(add_ints) # 데커레이터 수동 할당\\ncooler_add_inits(3, 5)\\n# Running function: add_ints\\n# Positional arguments: (3, 5) \\n# Keyword arguments: {}\\n# Result: 8\\n# 8',\n",
       "  \"@document_it # 데코레이터를 사용하고 싶은 함수에 그냥 ''@데코레이터_이름' 추가\\ndef add_ints(a, b):\\n    return a + b\",\n",
       "  'add_ints(3, 5)\\n# Running function: add_ints\\n# Positional arguments: (3, 5)\\n# Keyword arguments: {}\\n# Result: 8\\n# 8',\n",
       "  'def square_it(func):\\n    def new_function(*args, **kwargs):\\n        result = func(*args, **kwargs)\\n        return result * result\\n    return new_function\\n\\n@document_it\\n@square_it\\ndef add_ints(a,b):\\n    return a + b\\n\\n# Running function: new_function\\n# Positional arguments: (3, 5)\\n# Keyword arguments: {}\\n# Result: 64\\n# 64',\n",
       "  'def square_it(func):\\n    def new_function(*args, **kwargs):\\n        result = func(*args, **kwargs)\\n        return result * result\\n    return new_function\\n\\n@document_it\\n@square_it\\ndef add_ints(a,b):\\n    return a + b\\n\\n# Running function: new_function\\n# Positional arguments: (3, 5)\\n# Keyword arguments: {}\\n# Result: 64\\n# 64',\n",
       "  '------------------------------------------------------',\n",
       "  '# ------------------------------------------------------',\n",
       "  \"@decorate\\ndef target():\\n    print('running target()')\",\n",
       "  \"def deco(func):\\n    def inner():\\n        print('running inner()')\\n    return inner\",\n",
       "  \"@deco\\ndef target():\\n    print('running target()')\",\n",
       "  'target()',\n",
       "  'target',\n",
       "  \"registry = []  # <1>\\n\\ndef register(func):  # <2>\\n    print('running register(%s)' % func)  # <3>\\n    registry.append(func)  # <4>\\n    return func  # <5>\\n\\n@register  # <6>\\ndef f1():\\n    print('running f1()')\\n\\n@register\\ndef f2():\\n    print('running f2()')\\n\\ndef f3():  # <7>\\n    print('running f3()')\\n\\ndef main():  # <8>\\n    print('running main()')\\n    print('registry ->', registry)\\n    f1()\\n    f2()\\n    f3()\\n\\nif __name__=='__main__':\\n    main()  # <9>\",\n",
       "  'register',\n",
       "  'registry',\n",
       "  'from collections import namedtuple\\n\\nCustomer = namedtuple(\\'Customer\\', \\'name fidelity\\')\\n\\n\\nclass LineItem:\\n\\n    def __init__(self, product, quantity, price):\\n        self.product = product\\n        self.quantity = quantity\\n        self.price = price\\n\\n    def total(self):\\n        return self.price * self.quantity\\n\\n\\nclass Order:  # the Context\\n\\n    def __init__(self, customer, cart, promotion=None):\\n        self.customer = customer\\n        self.cart = list(cart)\\n        self.promotion = promotion\\n\\n    def total(self):\\n        if not hasattr(self, \\'__total\\'):\\n            self.__total = sum(item.total() for item in self.cart)\\n        return self.__total\\n\\n    def due(self):\\n        if self.promotion is None:\\n            discount = 0\\n        else:\\n            discount = self.promotion(self)\\n        return self.total() - discount\\n\\n    def __repr__(self):\\n        fmt = \\'<Order total: {:.2f} due: {:.2f}>\\'\\n        return fmt.format(self.total(), self.due())\\n\\n# BEGIN STRATEGY_BEST4\\n\\npromos = []  # <1>\\n\\ndef promotion(promo_func):  # <2>\\n    promos.append(promo_func)\\n    return promo_func\\n\\n@promotion  # <3>\\ndef fidelity(order):\\n    \"\"\"5% discount for customers with 1000 or more fidelity points\"\"\"\\n    return order.total() * .05 if order.customer.fidelity >= 1000 else 0\\n\\n@promotion\\ndef bulk_item(order):\\n    \"\"\"10% discount for each LineItem with 20 or more units\"\"\"\\n    discount = 0\\n    for item in order.cart:\\n        if item.quantity >= 20:\\n            discount += item.total() * .1\\n    return discount\\n\\n@promotion\\ndef large_order(order):\\n    \"\"\"7% discount for orders with 10 or more distinct items\"\"\"\\n    distinct_items = {item.product for item in order.cart}\\n    if len(distinct_items) >= 10:\\n        return order.total() * .07\\n    return 0\\n\\ndef best_promo(order):  # <4>\\n    \"\"\"Select best discount available\\n    \"\"\"\\n    return max(promo(order) for promo in promos)',\n",
       "  \"from collections import namedtuple\\n\\nCustomer = namedtuple('Customer', 'name fidelity')\\n\\n\\nclass LineItem:\\n\\n    def __init__(self, product, quantity, price):\\n        self.product = product\\n        self.quantity = quantity\\n        self.price = price\\n\\n    def total(self):\\n        return self.price * self.quantity\\n\\n\\nclass Order:  # the Context\\n\\n    def __init__(self, customer, cart, promotion=None):\\n        self.customer = customer\\n        self.cart = list(cart)\\n        self.promotion = promotion\\n\\n    def total(self):\\n        if not hasattr(self, '__total'):\\n            self.__total = sum(item.total() for item in self.cart)\\n        return self.__total\\n\\n    def due(self):\\n        if self.promotion is None:\\n            discount = 0\\n        else:\\n            discount = self.promotion(self)\\n        return self.total() - discount\\n\\n    def __repr__(self):\\n        fmt = '<Order total: {:.2f} due: {:.2f}>'\\n        return fmt.format(self.total(), self.due())\",\n",
       "  '# BEGIN STRATEGY_BEST4\\n\\npromos = []  # <1>\\n\\ndef promotion(promo_func):  # <2>\\n    promos.append(promo_func)\\n    return promo_func\\n\\n@promotion  # <3>\\ndef fidelity(order):\\n    \"\"\"5% discount for customers with 1000 or more fidelity points\"\"\"\\n    return order.total() * .05 if order.customer.fidelity >= 1000 else 0\\n\\n@promotion\\ndef bulk_item(order):\\n    \"\"\"10% discount for each LineItem with 20 or more units\"\"\"\\n    discount = 0\\n    for item in order.cart:\\n        if item.quantity >= 20:\\n            discount += item.total() * .1\\n    return discount\\n\\n@promotion\\ndef large_order(order):\\n    \"\"\"7% discount for orders with 10 or more distinct items\"\"\"\\n    distinct_items = {item.product for item in order.cart}\\n    if len(distinct_items) >= 10:\\n        return order.total() * .07\\n    return 0\\n\\ndef best_promo(order):  # <4>\\n    \"\"\"Select best discount available\\n    \"\"\"\\n    return max(promo(order) for promo in promos)',\n",
       "  '# BEGIN STRATEGY_BEST4\\n\\npromos = []  # <1>\\n\\ndef promotion(promo_func):  # <2>\\n    promos.append(promo_func)\\n    return promo_func\\n\\n@promotion  # <3>\\ndef fidelity(order):\\n    \"\"\"5% discount for customers with 1000 or more fidelity points\"\"\"\\n    return order.total() * .05 if order.customer.fidelity >= 1000 else 0\\n\\n@promotion\\ndef bulk_item(order):\\n    \"\"\"10% discount for each LineItem with 20 or more units\"\"\"\\n    discount = 0\\n    for item in order.cart:\\n        if item.quantity >= 20:\\n            discount += item.total() * .1\\n    return discount\\n\\n@promotion\\ndef large_order(order):\\n    \"\"\"7% discount for orders with 10 or more distinct items\"\"\"\\n    distinct_items = {item.product for item in order.cart}\\n    if len(distinct_items) >= 10:\\n        return order.total() * .07\\n    return 0',\n",
       "  'def best_promo(order):  # <4>\\n    \"\"\"Select best discount available\\n    \"\"\"\\n    return max(promo(order) for promo in promos)',\n",
       "  \"joe = Customer('John Doe', 0)\\nann = Customer('Ann Smith', 1100)\",\n",
       "  \"cart = [LineItem('banana', 4, .5), \\n       LineItem('apple', 10, 1.5),\\n       LineItem('watermelon', 5, 5.0)]\",\n",
       "  'Order(joe, cart, fidelity_promo)',\n",
       "  'Order(joe, cart, fidelity())',\n",
       "  'Order(joe, cart, best_prom)',\n",
       "  \"from collections import namedtuple\\n\\nCustomer = namedtuple('Customer', 'name fidelity')\\n\\n\\nclass LineItem:\\n\\n    def __init__(self, product, quantity, price):\\n        self.product = product\\n        self.quantity = quantity\\n        self.price = price\\n\\n    def total(self):\\n        return self.price * self.quantity\\n\\n\\nclass Order:  # the Context\\n\\n    def __init__(self, customer, cart, promotion=None):\\n        self.customer = customer\\n        self.cart = list(cart)\\n        self.promotion = promotion\\n\\n    def total(self):\\n        if not hasattr(self, '__total'):\\n            self.__total = sum(item.total() for item in self.cart)\\n        return self.__total\\n\\n    def due(self):\\n        if self.promotion is None:\\n            discount = 0\\n        else:\\n            discount = self.promotion(self)\\n        return self.total() - discount\\n\\n    def __repr__(self):\\n        fmt = '<Order total: {:.2f} due: {:.2f}>'\\n        return fmt.format(self.total(), self.due())\",\n",
       "  '# BEGIN STRATEGY_BEST4\\n\\npromos = []  # <1>\\n\\n# promo_func를 promos 리스트에 추가한 후 그대로 반환.\\n# 얘가 어떻게 보면 인터페이스 역할? 관계없는 클래스들끼리 묶어주는 것처럼 할인 방식 빼먹지 않도록 얘도 묶어주는 역할..\\ndef promotion(promo_func):  # <2>\\n    promos.append(promo_func)\\n    return promo_func\\n\\n\\n@promotion  # <3>\\ndef fidelity(order):\\n    \"\"\"5% discount for customers with 1000 or more fidelity points\"\"\"\\n    return order.total() * .05 if order.customer.fidelity >= 1000 else 0\\n\\n@promotion\\ndef bulk_item(order):\\n    \"\"\"10% discount for each LineItem with 20 or more units\"\"\"\\n    discount = 0\\n    for item in order.cart:\\n        if item.quantity >= 20:\\n            discount += item.total() * .1\\n    return discount\\n\\n@promotion\\ndef large_order(order):\\n    \"\"\"7% discount for orders with 10 or more distinct items\"\"\"\\n    distinct_items = {item.product for item in order.cart}\\n    if len(distinct_items) >= 10:\\n        return order.total() * .07\\n    return 0',\n",
       "  'def best_promo(order):  # <4>\\n    \"\"\"Select best discount available\\n    \"\"\"\\n    return max(promo(order) for promo in promos)',\n",
       "  \"joe = Customer('John Doe', 0)\\nann = Customer('Ann Smith', 1100)\",\n",
       "  \"cart = [LineItem('banana', 4, .5), \\n       LineItem('apple', 10, 1.5),\\n       LineItem('watermelon', 5, 5.0)]\",\n",
       "  'Order(joe, cart, best_prom)',\n",
       "  'def best_promo(order):  # <4>\\n    \"\"\"Select best discount available\\n    \"\"\"\\n    return max(promo(order) for promo in promos)',\n",
       "  \"joe = Customer('John Doe', 0)\\nann = Customer('Ann Smith', 1100)\",\n",
       "  \"cart = [LineItem('banana', 4, .5), \\n       LineItem('apple', 10, 1.5),\\n       LineItem('watermelon', 5, 5.0)]\",\n",
       "  'Order(joe, cart, best_prom)',\n",
       "  'Order(joe, cart, best_promo)',\n",
       "  'Order(joe, cart, large_order)',\n",
       "  'Order(joe, cart, bulk_item)',\n",
       "  'Order(joe, cart, fidelity)',\n",
       "  'Order(ann, cart, fidelity)',\n",
       "  'Order(ann, cart, large_order)',\n",
       "  'Order(ann, cart, best_promo)',\n",
       "  '대부분의 데코레이터는 데코레이트된 함수를 반환한다. 즉, 내부 함수를 정의하고 그것을 반환하여 데코레이트된 함수를 대체한다.\\n내부 함수를 사용하는 코드는 제대로 작동하기 위해 거의 항상 클로저에 의존한다.\\n클로저를 이해하기 위해 먼저 파이썬에서 변수 범위의 작동 방식에 대해 자세히 살펴보자',\n",
       "  'def f1(a):\\n    print(a)',\n",
       "  'def f1(a):\\n    print(a)\\n    print(b)',\n",
       "  'f1(3)',\n",
       "  'b = 6',\n",
       "  'f1(3)',\n",
       "  'def f2(a):\\n    print(a)\\n    print(b)',\n",
       "  'def f2(a):\\n    print(a)\\n    print(b)\\n    b = 9',\n",
       "  'f2(3)',\n",
       "  'f2(3) # 관련 내용 introducing python 10. 네임스페이스와 스코프에 있음',\n",
       "  'def f3(a):\\n    global b\\n    print(a)\\n    print(b)\\n    b = 9',\n",
       "  'f3(3)',\n",
       "  'def f3(a):\\n#     global b\\n    print(a)\\n    print(b)\\n    b = 9',\n",
       "  'f3(3)',\n",
       "  'def f3(a):\\n    global b\\n    print(a)\\n    print(b)\\n    b = 9',\n",
       "  'f3(3)',\n",
       "  'b = 30',\n",
       "  'b',\n",
       "  'f3(#)',\n",
       "  'f3(1)',\n",
       "  'f3(1)',\n",
       "  'from dis import dis',\n",
       "  'dis(f1)',\n",
       "  'dis(f2)',\n",
       "  'avg(10)',\n",
       "  'class Averager():\\n\\n    def __init__(self):\\n        self.series = []\\n\\n    def __call__(self, new_value):\\n        self.series.append(new_value)\\n        total = sum(self.series)\\n        return total/len(self.series)',\n",
       "  'avg = Averager()',\n",
       "  'avg(10)',\n",
       "  'avg(11)',\n",
       "  'avg(12)',\n",
       "  'def averager(new_value):\\n    series.append(new_value)\\n    total = sum(series)\\n    \\n    return total/len(series)',\n",
       "  'def make_averager():\\n    series = []\\n\\n    def averager(new_value):\\n        series.append(new_value) # 함수 외부에 정의된 지역변수 참조\\n        total = sum(series)\\n\\n        return total/len(series)\\n    \\n    return averager',\n",
       "  'def make_averager():\\n    series = []\\n\\n    def averager(new_value): # 호출될 때마다 받은 인수를 series에 추가\\n        series.append(new_value) # 함수 외부에 정의된 지역변수 참조\\n        total = sum(series)\\n\\n        return total/len(series)\\n    \\n    return averager',\n",
       "  'avg = make_averager()',\n",
       "  'avg(10)',\n",
       "  'avg(11)',\n",
       "  'avg(12)',\n",
       "  'def make_averager():\\n    series = [] ㅏㅏ\\n\\n    def averager(new_value): # 호출될 때마다 받은 인수를 series에 추가\\n        series.append(new_value) # 함수 외부에 정의된 지역변수 참조\\n        total = sum(series)\\n\\n        return total/len(series)\\n    \\n    return averager',\n",
       "  'class Averager():\\n\\n    def __init__(self):\\n        self.series = []\\n\\n    def __call__(self, new_value):\\n        self.series.append(new_value)\\n        total = sum(self.series)\\n        return total/len(self.series)',\n",
       "  'avg = Averager()',\n",
       "  'avg(10)',\n",
       "  'avg(11)',\n",
       "  'avg(12)',\n",
       "  'def make_averager():\\n    series = [] ㅏㅏ\\n\\n    def averager(new_value): # 호출될 때마다 받은 인수를 series에 추가\\n        series.append(new_value) # 함수 외부에 정의된 지역변수 참조\\n        total = sum(series)\\n\\n        return total/len(series)\\n    \\n    return averager',\n",
       "  'avg = make_averager()',\n",
       "  'avg(10)',\n",
       "  'avg(11)',\n",
       "  'avg(12)',\n",
       "  'avg',\n",
       "  'dir(avg)',\n",
       "  'avg.__code__',\n",
       "  'avg.__code__.co_varnames',\n",
       "  'avg.__code__.co_freevars',\n",
       "  'avg.__closure__',\n",
       "  'avg.__code__.co_freevars.series',\n",
       "  'avg.__code__.co_freevars',\n",
       "  'id(avg)',\n",
       "  'def make_averager():\\n    series = []\\n\\n    def averager(new_value): # 호출될 때마다 받은 인수를 series에 추가\\n        print(hex(id(series)))\\n        series.append(new_value) # 함수 외부에 정의된 지역변수 참조\\n        total = sum(series)\\n\\n        return total/len(series)\\n    \\n    return averager',\n",
       "  'avg = make_averager()',\n",
       "  'avg(10)',\n",
       "  'avg(11)',\n",
       "  'avg(12)',\n",
       "  'avg',\n",
       "  'dir(avg)',\n",
       "  'avg.__code__',\n",
       "  'avg.__code__.co_varnames',\n",
       "  'avg.__code__.co_freevars',\n",
       "  'avg.__closure__',\n",
       "  'avg.__closure__',\n",
       "  'avg.__closure__[0]',\n",
       "  'avg.__closure__',\n",
       "  'avg.__closure__[0]',\n",
       "  'dir(avg.__closure__[0])',\n",
       "  'avg.__closure__[0].cell_contents',\n",
       "  'avg.__closure__',\n",
       "  'id(avg.__closure__)',\n",
       "  'hex(id(avg.__closure__))',\n",
       "  'def make_average():\\n    count = 0\\n    total = 0\\n    \\n    def average(new_value):\\n        count += 1\\n        total += new_value\\n        \\n        return total / count\\n    \\n    return average',\n",
       "  'avg = make_average()',\n",
       "  'avg(10)',\n",
       "  'def make_average():\\n    count = 0\\n    total = 0\\n    \\n    def average(new_value):\\n        count += 1 # 얘가 값을 변경하는 문장이기 때문에 지역 변수로 보는데 그 지역변수가 없어서 발생하는 에러... 아까 위에서 봤던 거\\n        total += new_value\\n        \\n        return total / count\\n    \\n    return average',\n",
       "  'avg = make_average()',\n",
       "  'avg(10)',\n",
       "  'def make_average():\\n    count = 0\\n    total = 0\\n    \\n    def average(new_value):\\n        nonlocal count, total\\n        \\n        count += 1 \\n        total += new_value\\n        \\n        return total / count\\n    \\n    return average',\n",
       "  'avg(10)',\n",
       "  'avg = make_average()',\n",
       "  'avg(10)',\n",
       "  'avg(10)',\n",
       "  'avg(20)',\n",
       "  \"registry = []  # <1>\\n\\ndef register(func):  # <2>\\n    print('running register(%s)' % func)  # <3>\\n    registry.append(func)  # <4>\\n    return func  # <5>\\n\\n@register  # <6>\\ndef f1():\\n    print('running f1()')\\n\\n@register\\ndef f2():\\n    print('running f2()')\\n\\ndef f3():  # <7>\\n    print('running f3()')\\n\\ndef main():  # <8>\\n    print('running main()')\\n    print('registry ->', registry)\\n    f1()\\n    f2()\\n    f3()\\n\\nif __name__=='__main__':\\n    main()  # <9>\",\n",
       "  'registry',\n",
       "  'dir(globals())',\n",
       "  '[dir(globals())]',\n",
       "  'dir(globals())',\n",
       "  'dir(globals())[0]',\n",
       "  \"[for item in dir(globals()) if item.contaions('__')]\",\n",
       "  \"[item for item in dir(globals()) if item.contaions('__')]\",\n",
       "  \"[item for item in dir(globals()) if item.contains('__')]\",\n",
       "  \"[item for item in dir(globals()) if item.contains('__')]\",\n",
       "  \"[item for item in dir(globals()) if '__' in item]\",\n",
       "  \"[item for item in dir(globals()) if 'registry' in item]\",\n",
       "  'globals()',\n",
       "  \"registry = []  # <1>\\n\\ndef register(func):  # <2>\\n    print('running register(%s)' % func)  # <3>\\n    registry.append(func)  # <4>\\n    return func  # <5>\\n\\n@register  # <6>\\ndef f1():\\n    print('running f1()')\\n\\n@register\\ndef f2():\\n    print('running f2()')\\n\\ndef f3():  # <7>\\n    print('running f3()')\\n\\ndef main():  # <8>\\n    print('running main()')\\n    print('registry ->', registry)\\n    f1()\\n    f2()\\n    f3()\\n\\nif __name__=='__main__':\\n    main()  # <9>\",\n",
       "  'registry',\n",
       "  \"[item for item in dir(globals()) if '' in item]\",\n",
       "  'globals()'],\n",
       " 'Out': {9: 8,\n",
       "  11: 8,\n",
       "  20: <function __main__.deco.<locals>.inner()>,\n",
       "  22: <function __main__.register(func)>,\n",
       "  23: [<function __main__.f1()>, <function __main__.f2()>],\n",
       "  44: <Order total: 42.00 due: 42.00>,\n",
       "  45: <Order total: 42.00 due: 42.00>,\n",
       "  46: <Order total: 42.00 due: 42.00>,\n",
       "  47: <Order total: 42.00 due: 42.00>,\n",
       "  48: <Order total: 42.00 due: 39.90>,\n",
       "  49: <Order total: 42.00 due: 42.00>,\n",
       "  50: <Order total: 42.00 due: 39.90>,\n",
       "  68: 30,\n",
       "  78: 10.0,\n",
       "  79: 10.5,\n",
       "  80: 11.0,\n",
       "  85: 10.0,\n",
       "  86: 10.5,\n",
       "  87: 11.0,\n",
       "  91: 10.0,\n",
       "  92: 10.5,\n",
       "  93: 11.0,\n",
       "  96: 10.0,\n",
       "  97: 10.5,\n",
       "  98: 11.0,\n",
       "  99: <function __main__.make_averager.<locals>.averager(new_value)>,\n",
       "  100: ['__annotations__',\n",
       "   '__builtins__',\n",
       "   '__call__',\n",
       "   '__class__',\n",
       "   '__closure__',\n",
       "   '__code__',\n",
       "   '__defaults__',\n",
       "   '__delattr__',\n",
       "   '__dict__',\n",
       "   '__dir__',\n",
       "   '__doc__',\n",
       "   '__eq__',\n",
       "   '__format__',\n",
       "   '__ge__',\n",
       "   '__get__',\n",
       "   '__getattribute__',\n",
       "   '__globals__',\n",
       "   '__gt__',\n",
       "   '__hash__',\n",
       "   '__init__',\n",
       "   '__init_subclass__',\n",
       "   '__kwdefaults__',\n",
       "   '__le__',\n",
       "   '__lt__',\n",
       "   '__module__',\n",
       "   '__name__',\n",
       "   '__ne__',\n",
       "   '__new__',\n",
       "   '__qualname__',\n",
       "   '__reduce__',\n",
       "   '__reduce_ex__',\n",
       "   '__repr__',\n",
       "   '__setattr__',\n",
       "   '__sizeof__',\n",
       "   '__str__',\n",
       "   '__subclasshook__'],\n",
       "  101: <code object averager at 0x107a800e0, file \"/var/folders/_s/0rymbx1n0m14zlxptddb3vrw0000gn/T/ipykernel_11435/1553030687.py\", line 4>,\n",
       "  102: ('new_value', 'total'),\n",
       "  103: ('series',),\n",
       "  104: (<cell at 0x107bb59c0: list object at 0x1077911c0>,),\n",
       "  106: ('series',),\n",
       "  107: 4423155520,\n",
       "  110: 10.0,\n",
       "  111: 10.5,\n",
       "  112: 11.0,\n",
       "  113: <function __main__.make_averager.<locals>.averager(new_value)>,\n",
       "  114: ['__annotations__',\n",
       "   '__builtins__',\n",
       "   '__call__',\n",
       "   '__class__',\n",
       "   '__closure__',\n",
       "   '__code__',\n",
       "   '__defaults__',\n",
       "   '__delattr__',\n",
       "   '__dict__',\n",
       "   '__dir__',\n",
       "   '__doc__',\n",
       "   '__eq__',\n",
       "   '__format__',\n",
       "   '__ge__',\n",
       "   '__get__',\n",
       "   '__getattribute__',\n",
       "   '__globals__',\n",
       "   '__gt__',\n",
       "   '__hash__',\n",
       "   '__init__',\n",
       "   '__init_subclass__',\n",
       "   '__kwdefaults__',\n",
       "   '__le__',\n",
       "   '__lt__',\n",
       "   '__module__',\n",
       "   '__name__',\n",
       "   '__ne__',\n",
       "   '__new__',\n",
       "   '__qualname__',\n",
       "   '__reduce__',\n",
       "   '__reduce_ex__',\n",
       "   '__repr__',\n",
       "   '__setattr__',\n",
       "   '__sizeof__',\n",
       "   '__str__',\n",
       "   '__subclasshook__'],\n",
       "  115: <code object averager at 0x1079ab7e0, file \"/var/folders/_s/0rymbx1n0m14zlxptddb3vrw0000gn/T/ipykernel_11435/1338861763.py\", line 4>,\n",
       "  116: ('new_value', 'total'),\n",
       "  117: ('series',),\n",
       "  118: (<cell at 0x10794fd60: list object at 0x107ceb680>,),\n",
       "  119: (<cell at 0x10794fd60: list object at 0x107ceb680>,),\n",
       "  120: <cell at 0x10794fd60: list object at 0x107ceb680>,\n",
       "  121: (<cell at 0x10794fd60: list object at 0x107ceb680>,),\n",
       "  122: <cell at 0x10794fd60: list object at 0x107ceb680>,\n",
       "  123: ['__class__',\n",
       "   '__delattr__',\n",
       "   '__dir__',\n",
       "   '__doc__',\n",
       "   '__eq__',\n",
       "   '__format__',\n",
       "   '__ge__',\n",
       "   '__getattribute__',\n",
       "   '__gt__',\n",
       "   '__hash__',\n",
       "   '__init__',\n",
       "   '__init_subclass__',\n",
       "   '__le__',\n",
       "   '__lt__',\n",
       "   '__ne__',\n",
       "   '__new__',\n",
       "   '__reduce__',\n",
       "   '__reduce_ex__',\n",
       "   '__repr__',\n",
       "   '__setattr__',\n",
       "   '__sizeof__',\n",
       "   '__str__',\n",
       "   '__subclasshook__',\n",
       "   'cell_contents'],\n",
       "  124: [10, 11, 12],\n",
       "  125: (<cell at 0x10794fd60: list object at 0x107ceb680>,),\n",
       "  126: 4421734064,\n",
       "  127: '0x1078e4eb0',\n",
       "  137: 10.0,\n",
       "  138: 10.0,\n",
       "  139: 13.333333333333334,\n",
       "  141: [<function __main__.f1()>, <function __main__.f2()>],\n",
       "  142: ['__class__',\n",
       "   '__class_getitem__',\n",
       "   '__contains__',\n",
       "   '__delattr__',\n",
       "   '__delitem__',\n",
       "   '__dir__',\n",
       "   '__doc__',\n",
       "   '__eq__',\n",
       "   '__format__',\n",
       "   '__ge__',\n",
       "   '__getattribute__',\n",
       "   '__getitem__',\n",
       "   '__gt__',\n",
       "   '__hash__',\n",
       "   '__init__',\n",
       "   '__init_subclass__',\n",
       "   '__ior__',\n",
       "   '__iter__',\n",
       "   '__le__',\n",
       "   '__len__',\n",
       "   '__lt__',\n",
       "   '__ne__',\n",
       "   '__new__',\n",
       "   '__or__',\n",
       "   '__reduce__',\n",
       "   '__reduce_ex__',\n",
       "   '__repr__',\n",
       "   '__reversed__',\n",
       "   '__ror__',\n",
       "   '__setattr__',\n",
       "   '__setitem__',\n",
       "   '__sizeof__',\n",
       "   '__str__',\n",
       "   '__subclasshook__',\n",
       "   'clear',\n",
       "   'copy',\n",
       "   'fromkeys',\n",
       "   'get',\n",
       "   'items',\n",
       "   'keys',\n",
       "   'pop',\n",
       "   'popitem',\n",
       "   'setdefault',\n",
       "   'update',\n",
       "   'values'],\n",
       "  143: [['__class__',\n",
       "    '__class_getitem__',\n",
       "    '__contains__',\n",
       "    '__delattr__',\n",
       "    '__delitem__',\n",
       "    '__dir__',\n",
       "    '__doc__',\n",
       "    '__eq__',\n",
       "    '__format__',\n",
       "    '__ge__',\n",
       "    '__getattribute__',\n",
       "    '__getitem__',\n",
       "    '__gt__',\n",
       "    '__hash__',\n",
       "    '__init__',\n",
       "    '__init_subclass__',\n",
       "    '__ior__',\n",
       "    '__iter__',\n",
       "    '__le__',\n",
       "    '__len__',\n",
       "    '__lt__',\n",
       "    '__ne__',\n",
       "    '__new__',\n",
       "    '__or__',\n",
       "    '__reduce__',\n",
       "    '__reduce_ex__',\n",
       "    '__repr__',\n",
       "    '__reversed__',\n",
       "    '__ror__',\n",
       "    '__setattr__',\n",
       "    '__setitem__',\n",
       "    '__sizeof__',\n",
       "    '__str__',\n",
       "    '__subclasshook__',\n",
       "    'clear',\n",
       "    'copy',\n",
       "    'fromkeys',\n",
       "    'get',\n",
       "    'items',\n",
       "    'keys',\n",
       "    'pop',\n",
       "    'popitem',\n",
       "    'setdefault',\n",
       "    'update',\n",
       "    'values']],\n",
       "  144: ['__class__',\n",
       "   '__class_getitem__',\n",
       "   '__contains__',\n",
       "   '__delattr__',\n",
       "   '__delitem__',\n",
       "   '__dir__',\n",
       "   '__doc__',\n",
       "   '__eq__',\n",
       "   '__format__',\n",
       "   '__ge__',\n",
       "   '__getattribute__',\n",
       "   '__getitem__',\n",
       "   '__gt__',\n",
       "   '__hash__',\n",
       "   '__init__',\n",
       "   '__init_subclass__',\n",
       "   '__ior__',\n",
       "   '__iter__',\n",
       "   '__le__',\n",
       "   '__len__',\n",
       "   '__lt__',\n",
       "   '__ne__',\n",
       "   '__new__',\n",
       "   '__or__',\n",
       "   '__reduce__',\n",
       "   '__reduce_ex__',\n",
       "   '__repr__',\n",
       "   '__reversed__',\n",
       "   '__ror__',\n",
       "   '__setattr__',\n",
       "   '__setitem__',\n",
       "   '__sizeof__',\n",
       "   '__str__',\n",
       "   '__subclasshook__',\n",
       "   'clear',\n",
       "   'copy',\n",
       "   'fromkeys',\n",
       "   'get',\n",
       "   'items',\n",
       "   'keys',\n",
       "   'pop',\n",
       "   'popitem',\n",
       "   'setdefault',\n",
       "   'update',\n",
       "   'values'],\n",
       "  145: '__class__',\n",
       "  150: ['__class__',\n",
       "   '__class_getitem__',\n",
       "   '__contains__',\n",
       "   '__delattr__',\n",
       "   '__delitem__',\n",
       "   '__dir__',\n",
       "   '__doc__',\n",
       "   '__eq__',\n",
       "   '__format__',\n",
       "   '__ge__',\n",
       "   '__getattribute__',\n",
       "   '__getitem__',\n",
       "   '__gt__',\n",
       "   '__hash__',\n",
       "   '__init__',\n",
       "   '__init_subclass__',\n",
       "   '__ior__',\n",
       "   '__iter__',\n",
       "   '__le__',\n",
       "   '__len__',\n",
       "   '__lt__',\n",
       "   '__ne__',\n",
       "   '__new__',\n",
       "   '__or__',\n",
       "   '__reduce__',\n",
       "   '__reduce_ex__',\n",
       "   '__repr__',\n",
       "   '__reversed__',\n",
       "   '__ror__',\n",
       "   '__setattr__',\n",
       "   '__setitem__',\n",
       "   '__sizeof__',\n",
       "   '__str__',\n",
       "   '__subclasshook__'],\n",
       "  151: [],\n",
       "  152: {...},\n",
       "  154: [<function __main__.f1()>, <function __main__.f2()>],\n",
       "  155: ['__class__',\n",
       "   '__class_getitem__',\n",
       "   '__contains__',\n",
       "   '__delattr__',\n",
       "   '__delitem__',\n",
       "   '__dir__',\n",
       "   '__doc__',\n",
       "   '__eq__',\n",
       "   '__format__',\n",
       "   '__ge__',\n",
       "   '__getattribute__',\n",
       "   '__getitem__',\n",
       "   '__gt__',\n",
       "   '__hash__',\n",
       "   '__init__',\n",
       "   '__init_subclass__',\n",
       "   '__ior__',\n",
       "   '__iter__',\n",
       "   '__le__',\n",
       "   '__len__',\n",
       "   '__lt__',\n",
       "   '__ne__',\n",
       "   '__new__',\n",
       "   '__or__',\n",
       "   '__reduce__',\n",
       "   '__reduce_ex__',\n",
       "   '__repr__',\n",
       "   '__reversed__',\n",
       "   '__ror__',\n",
       "   '__setattr__',\n",
       "   '__setitem__',\n",
       "   '__sizeof__',\n",
       "   '__str__',\n",
       "   '__subclasshook__',\n",
       "   'clear',\n",
       "   'copy',\n",
       "   'fromkeys',\n",
       "   'get',\n",
       "   'items',\n",
       "   'keys',\n",
       "   'pop',\n",
       "   'popitem',\n",
       "   'setdefault',\n",
       "   'update',\n",
       "   'values']},\n",
       " 'get_ipython': <bound method InteractiveShell.get_ipython of <ipykernel.zmqshell.ZMQInteractiveShell object at 0x106022f20>>,\n",
       " 'exit': <IPython.core.autocall.ZMQExitAutocall at 0x106023bb0>,\n",
       " 'quit': <IPython.core.autocall.ZMQExitAutocall at 0x106023bb0>,\n",
       " 'open': <function io.open(file, mode='r', buffering=-1, encoding=None, errors=None, newline=None, closefd=True, opener=None)>,\n",
       " '_': ['__class__',\n",
       "  '__class_getitem__',\n",
       "  '__contains__',\n",
       "  '__delattr__',\n",
       "  '__delitem__',\n",
       "  '__dir__',\n",
       "  '__doc__',\n",
       "  '__eq__',\n",
       "  '__format__',\n",
       "  '__ge__',\n",
       "  '__getattribute__',\n",
       "  '__getitem__',\n",
       "  '__gt__',\n",
       "  '__hash__',\n",
       "  '__init__',\n",
       "  '__init_subclass__',\n",
       "  '__ior__',\n",
       "  '__iter__',\n",
       "  '__le__',\n",
       "  '__len__',\n",
       "  '__lt__',\n",
       "  '__ne__',\n",
       "  '__new__',\n",
       "  '__or__',\n",
       "  '__reduce__',\n",
       "  '__reduce_ex__',\n",
       "  '__repr__',\n",
       "  '__reversed__',\n",
       "  '__ror__',\n",
       "  '__setattr__',\n",
       "  '__setitem__',\n",
       "  '__sizeof__',\n",
       "  '__str__',\n",
       "  '__subclasshook__',\n",
       "  'clear',\n",
       "  'copy',\n",
       "  'fromkeys',\n",
       "  'get',\n",
       "  'items',\n",
       "  'keys',\n",
       "  'pop',\n",
       "  'popitem',\n",
       "  'setdefault',\n",
       "  'update',\n",
       "  'values'],\n",
       " '__': [<function __main__.f1()>, <function __main__.f2()>],\n",
       " '___': {...},\n",
       " '_i': \"[item for item in dir(globals()) if '' in item]\",\n",
       " '_ii': 'registry',\n",
       " '_iii': \"registry = []  # <1>\\n\\ndef register(func):  # <2>\\n    print('running register(%s)' % func)  # <3>\\n    registry.append(func)  # <4>\\n    return func  # <5>\\n\\n@register  # <6>\\ndef f1():\\n    print('running f1()')\\n\\n@register\\ndef f2():\\n    print('running f2()')\\n\\ndef f3():  # <7>\\n    print('running f3()')\\n\\ndef main():  # <8>\\n    print('running main()')\\n    print('registry ->', registry)\\n    f1()\\n    f2()\\n    f3()\\n\\nif __name__=='__main__':\\n    main()  # <9>\",\n",
       " '_i1': \"def document_it(func):\\n    def new_function(*args, **kwargs):\\n        print('Running function:', func.__name__)\\n        print('Positional arguments:', args)\\n        print('Keyword arguments:', kwargs)\\n        result = func(*args, **kwargs)\\n        print('Result:', result)\\n        return result\\n    return new_function\",\n",
       " 'document_it': <function __main__.document_it(func)>,\n",
       " '_i2': 'cooler_add_inits = document_it(add_ints) # 데커레이터 수동 할당\\ncooler_add_inits(3, 5)\\n# Running function: add_ints\\n# Positional arguments: (3, 5) \\n# Keyword arguments: {}\\n# Result: 8\\n# 8',\n",
       " '_i3': \"def document_it(func):\\n    def new_function(*args, **kwargs):\\n        print('Running function:', func.__name__)\\n        print('Positional arguments:', args)\\n        print('Keyword arguments:', kwargs)\\n        result = func(*args, **kwargs)\\n        print('Result:', result)\\n        return result\\n    return new_function\",\n",
       " '_i4': 'cooler_add_inits = document_it(add_ints) # 데커레이터 수동 할당\\ncooler_add_inits(3, 5)\\n# Running function: add_ints\\n# Positional arguments: (3, 5) \\n# Keyword arguments: {}\\n# Result: 8\\n# 8',\n",
       " '_i5': 'def add_inits(a, b):\\n    return a + b',\n",
       " 'add_inits': <function __main__.add_inits(a, b)>,\n",
       " '_i6': 'cooler_add_inits = document_it(add_ints) # 데커레이터 수동 할당\\ncooler_add_inits(3, 5)\\n# Running function: add_ints\\n# Positional arguments: (3, 5) \\n# Keyword arguments: {}\\n# Result: 8\\n# 8',\n",
       " '_i7': \"def document_it(func):\\n    def new_function(*args, **kwargs):\\n        print('Running function:', func.__name__)\\n        print('Positional arguments:', args)\\n        print('Keyword arguments:', kwargs)\\n        result = func(*args, **kwargs)\\n        print('Result:', result)\\n        return result\\n    return new_function\",\n",
       " '_i8': 'def add_ints(a, b):\\n    return a + b',\n",
       " 'add_ints': <function __main__.document_it.<locals>.new_function(*args, **kwargs)>,\n",
       " '_i9': 'cooler_add_inits = document_it(add_ints) # 데커레이터 수동 할당\\ncooler_add_inits(3, 5)\\n# Running function: add_ints\\n# Positional arguments: (3, 5) \\n# Keyword arguments: {}\\n# Result: 8\\n# 8',\n",
       " 'cooler_add_inits': <function __main__.document_it.<locals>.new_function(*args, **kwargs)>,\n",
       " '_9': 8,\n",
       " '_i10': \"@document_it # 데코레이터를 사용하고 싶은 함수에 그냥 ''@데코레이터_이름' 추가\\ndef add_ints(a, b):\\n    return a + b\",\n",
       " '_i11': 'add_ints(3, 5)\\n# Running function: add_ints\\n# Positional arguments: (3, 5)\\n# Keyword arguments: {}\\n# Result: 8\\n# 8',\n",
       " '_11': 8,\n",
       " '_i12': 'def square_it(func):\\n    def new_function(*args, **kwargs):\\n        result = func(*args, **kwargs)\\n        return result * result\\n    return new_function\\n\\n@document_it\\n@square_it\\ndef add_ints(a,b):\\n    return a + b\\n\\n# Running function: new_function\\n# Positional arguments: (3, 5)\\n# Keyword arguments: {}\\n# Result: 64\\n# 64',\n",
       " 'square_it': <function __main__.square_it(func)>,\n",
       " '_i13': 'def square_it(func):\\n    def new_function(*args, **kwargs):\\n        result = func(*args, **kwargs)\\n        return result * result\\n    return new_function\\n\\n@document_it\\n@square_it\\ndef add_ints(a,b):\\n    return a + b\\n\\n# Running function: new_function\\n# Positional arguments: (3, 5)\\n# Keyword arguments: {}\\n# Result: 64\\n# 64',\n",
       " '_i14': '------------------------------------------------------',\n",
       " '_i15': '# ------------------------------------------------------',\n",
       " '_i16': \"@decorate\\ndef target():\\n    print('running target()')\",\n",
       " '_i17': \"def deco(func):\\n    def inner():\\n        print('running inner()')\\n    return inner\",\n",
       " 'deco': <function __main__.deco(func)>,\n",
       " '_i18': \"@deco\\ndef target():\\n    print('running target()')\",\n",
       " 'target': <function __main__.deco.<locals>.inner()>,\n",
       " '_i19': 'target()',\n",
       " '_i20': 'target',\n",
       " '_20': <function __main__.deco.<locals>.inner()>,\n",
       " '_i21': \"registry = []  # <1>\\n\\ndef register(func):  # <2>\\n    print('running register(%s)' % func)  # <3>\\n    registry.append(func)  # <4>\\n    return func  # <5>\\n\\n@register  # <6>\\ndef f1():\\n    print('running f1()')\\n\\n@register\\ndef f2():\\n    print('running f2()')\\n\\ndef f3():  # <7>\\n    print('running f3()')\\n\\ndef main():  # <8>\\n    print('running main()')\\n    print('registry ->', registry)\\n    f1()\\n    f2()\\n    f3()\\n\\nif __name__=='__main__':\\n    main()  # <9>\",\n",
       " 'registry': [<function __main__.f1()>, <function __main__.f2()>],\n",
       " 'register': <function __main__.register(func)>,\n",
       " 'f1': <function __main__.f1()>,\n",
       " 'f2': <function __main__.f2()>,\n",
       " 'f3': <function __main__.f3()>,\n",
       " 'main': <function __main__.main()>,\n",
       " '_i22': 'register',\n",
       " '_22': <function __main__.register(func)>,\n",
       " '_i23': 'registry',\n",
       " '_23': [<function __main__.f1()>, <function __main__.f2()>],\n",
       " '_i24': 'from collections import namedtuple\\n\\nCustomer = namedtuple(\\'Customer\\', \\'name fidelity\\')\\n\\n\\nclass LineItem:\\n\\n    def __init__(self, product, quantity, price):\\n        self.product = product\\n        self.quantity = quantity\\n        self.price = price\\n\\n    def total(self):\\n        return self.price * self.quantity\\n\\n\\nclass Order:  # the Context\\n\\n    def __init__(self, customer, cart, promotion=None):\\n        self.customer = customer\\n        self.cart = list(cart)\\n        self.promotion = promotion\\n\\n    def total(self):\\n        if not hasattr(self, \\'__total\\'):\\n            self.__total = sum(item.total() for item in self.cart)\\n        return self.__total\\n\\n    def due(self):\\n        if self.promotion is None:\\n            discount = 0\\n        else:\\n            discount = self.promotion(self)\\n        return self.total() - discount\\n\\n    def __repr__(self):\\n        fmt = \\'<Order total: {:.2f} due: {:.2f}>\\'\\n        return fmt.format(self.total(), self.due())\\n\\n# BEGIN STRATEGY_BEST4\\n\\npromos = []  # <1>\\n\\ndef promotion(promo_func):  # <2>\\n    promos.append(promo_func)\\n    return promo_func\\n\\n@promotion  # <3>\\ndef fidelity(order):\\n    \"\"\"5% discount for customers with 1000 or more fidelity points\"\"\"\\n    return order.total() * .05 if order.customer.fidelity >= 1000 else 0\\n\\n@promotion\\ndef bulk_item(order):\\n    \"\"\"10% discount for each LineItem with 20 or more units\"\"\"\\n    discount = 0\\n    for item in order.cart:\\n        if item.quantity >= 20:\\n            discount += item.total() * .1\\n    return discount\\n\\n@promotion\\ndef large_order(order):\\n    \"\"\"7% discount for orders with 10 or more distinct items\"\"\"\\n    distinct_items = {item.product for item in order.cart}\\n    if len(distinct_items) >= 10:\\n        return order.total() * .07\\n    return 0\\n\\ndef best_promo(order):  # <4>\\n    \"\"\"Select best discount available\\n    \"\"\"\\n    return max(promo(order) for promo in promos)',\n",
       " 'namedtuple': <function collections.namedtuple(typename, field_names, *, rename=False, defaults=None, module=None)>,\n",
       " 'Customer': __main__.Customer,\n",
       " 'LineItem': __main__.LineItem,\n",
       " 'Order': __main__.Order,\n",
       " 'promos': [<function __main__.fidelity(order)>,\n",
       "  <function __main__.bulk_item(order)>,\n",
       "  <function __main__.large_order(order)>],\n",
       " 'promotion': <function __main__.promotion(promo_func)>,\n",
       " 'fidelity': <function __main__.fidelity(order)>,\n",
       " 'bulk_item': <function __main__.bulk_item(order)>,\n",
       " 'large_order': <function __main__.large_order(order)>,\n",
       " 'best_promo': <function __main__.best_promo(order)>,\n",
       " '_i25': \"from collections import namedtuple\\n\\nCustomer = namedtuple('Customer', 'name fidelity')\\n\\n\\nclass LineItem:\\n\\n    def __init__(self, product, quantity, price):\\n        self.product = product\\n        self.quantity = quantity\\n        self.price = price\\n\\n    def total(self):\\n        return self.price * self.quantity\\n\\n\\nclass Order:  # the Context\\n\\n    def __init__(self, customer, cart, promotion=None):\\n        self.customer = customer\\n        self.cart = list(cart)\\n        self.promotion = promotion\\n\\n    def total(self):\\n        if not hasattr(self, '__total'):\\n            self.__total = sum(item.total() for item in self.cart)\\n        return self.__total\\n\\n    def due(self):\\n        if self.promotion is None:\\n            discount = 0\\n        else:\\n            discount = self.promotion(self)\\n        return self.total() - discount\\n\\n    def __repr__(self):\\n        fmt = '<Order total: {:.2f} due: {:.2f}>'\\n        return fmt.format(self.total(), self.due())\",\n",
       " '_i26': '# BEGIN STRATEGY_BEST4\\n\\npromos = []  # <1>\\n\\ndef promotion(promo_func):  # <2>\\n    promos.append(promo_func)\\n    return promo_func\\n\\n@promotion  # <3>\\ndef fidelity(order):\\n    \"\"\"5% discount for customers with 1000 or more fidelity points\"\"\"\\n    return order.total() * .05 if order.customer.fidelity >= 1000 else 0\\n\\n@promotion\\ndef bulk_item(order):\\n    \"\"\"10% discount for each LineItem with 20 or more units\"\"\"\\n    discount = 0\\n    for item in order.cart:\\n        if item.quantity >= 20:\\n            discount += item.total() * .1\\n    return discount\\n\\n@promotion\\ndef large_order(order):\\n    \"\"\"7% discount for orders with 10 or more distinct items\"\"\"\\n    distinct_items = {item.product for item in order.cart}\\n    if len(distinct_items) >= 10:\\n        return order.total() * .07\\n    return 0\\n\\ndef best_promo(order):  # <4>\\n    \"\"\"Select best discount available\\n    \"\"\"\\n    return max(promo(order) for promo in promos)',\n",
       " '_i27': '# BEGIN STRATEGY_BEST4\\n\\npromos = []  # <1>\\n\\ndef promotion(promo_func):  # <2>\\n    promos.append(promo_func)\\n    return promo_func\\n\\n@promotion  # <3>\\ndef fidelity(order):\\n    \"\"\"5% discount for customers with 1000 or more fidelity points\"\"\"\\n    return order.total() * .05 if order.customer.fidelity >= 1000 else 0\\n\\n@promotion\\ndef bulk_item(order):\\n    \"\"\"10% discount for each LineItem with 20 or more units\"\"\"\\n    discount = 0\\n    for item in order.cart:\\n        if item.quantity >= 20:\\n            discount += item.total() * .1\\n    return discount\\n\\n@promotion\\ndef large_order(order):\\n    \"\"\"7% discount for orders with 10 or more distinct items\"\"\"\\n    distinct_items = {item.product for item in order.cart}\\n    if len(distinct_items) >= 10:\\n        return order.total() * .07\\n    return 0',\n",
       " '_i28': 'def best_promo(order):  # <4>\\n    \"\"\"Select best discount available\\n    \"\"\"\\n    return max(promo(order) for promo in promos)',\n",
       " '_i29': \"joe = Customer('John Doe', 0)\\nann = Customer('Ann Smith', 1100)\",\n",
       " 'joe': Customer(name='John Doe', fidelity=0),\n",
       " 'ann': Customer(name='Ann Smith', fidelity=1100),\n",
       " '_i30': \"cart = [LineItem('banana', 4, .5), \\n       LineItem('apple', 10, 1.5),\\n       LineItem('watermelon', 5, 5.0)]\",\n",
       " 'cart': [<__main__.LineItem at 0x107ecbcd0>,\n",
       "  <__main__.LineItem at 0x107ecb340>,\n",
       "  <__main__.LineItem at 0x107ec9ba0>],\n",
       " '_i31': 'Order(joe, cart, fidelity_promo)',\n",
       " '_i32': 'Order(joe, cart, fidelity())',\n",
       " '_i33': 'Order(joe, cart, best_prom)',\n",
       " '_i34': \"from collections import namedtuple\\n\\nCustomer = namedtuple('Customer', 'name fidelity')\\n\\n\\nclass LineItem:\\n\\n    def __init__(self, product, quantity, price):\\n        self.product = product\\n        self.quantity = quantity\\n        self.price = price\\n\\n    def total(self):\\n        return self.price * self.quantity\\n\\n\\nclass Order:  # the Context\\n\\n    def __init__(self, customer, cart, promotion=None):\\n        self.customer = customer\\n        self.cart = list(cart)\\n        self.promotion = promotion\\n\\n    def total(self):\\n        if not hasattr(self, '__total'):\\n            self.__total = sum(item.total() for item in self.cart)\\n        return self.__total\\n\\n    def due(self):\\n        if self.promotion is None:\\n            discount = 0\\n        else:\\n            discount = self.promotion(self)\\n        return self.total() - discount\\n\\n    def __repr__(self):\\n        fmt = '<Order total: {:.2f} due: {:.2f}>'\\n        return fmt.format(self.total(), self.due())\",\n",
       " '_i35': '# BEGIN STRATEGY_BEST4\\n\\npromos = []  # <1>\\n\\n# promo_func를 promos 리스트에 추가한 후 그대로 반환.\\n# 얘가 어떻게 보면 인터페이스 역할? 관계없는 클래스들끼리 묶어주는 것처럼 할인 방식 빼먹지 않도록 얘도 묶어주는 역할..\\ndef promotion(promo_func):  # <2>\\n    promos.append(promo_func)\\n    return promo_func\\n\\n\\n@promotion  # <3>\\ndef fidelity(order):\\n    \"\"\"5% discount for customers with 1000 or more fidelity points\"\"\"\\n    return order.total() * .05 if order.customer.fidelity >= 1000 else 0\\n\\n@promotion\\ndef bulk_item(order):\\n    \"\"\"10% discount for each LineItem with 20 or more units\"\"\"\\n    discount = 0\\n    for item in order.cart:\\n        if item.quantity >= 20:\\n            discount += item.total() * .1\\n    return discount\\n\\n@promotion\\ndef large_order(order):\\n    \"\"\"7% discount for orders with 10 or more distinct items\"\"\"\\n    distinct_items = {item.product for item in order.cart}\\n    if len(distinct_items) >= 10:\\n        return order.total() * .07\\n    return 0',\n",
       " '_i36': 'def best_promo(order):  # <4>\\n    \"\"\"Select best discount available\\n    \"\"\"\\n    return max(promo(order) for promo in promos)',\n",
       " '_i37': \"joe = Customer('John Doe', 0)\\nann = Customer('Ann Smith', 1100)\",\n",
       " '_i38': \"cart = [LineItem('banana', 4, .5), \\n       LineItem('apple', 10, 1.5),\\n       LineItem('watermelon', 5, 5.0)]\",\n",
       " '_i39': 'Order(joe, cart, best_prom)',\n",
       " '_i40': 'def best_promo(order):  # <4>\\n    \"\"\"Select best discount available\\n    \"\"\"\\n    return max(promo(order) for promo in promos)',\n",
       " '_i41': \"joe = Customer('John Doe', 0)\\nann = Customer('Ann Smith', 1100)\",\n",
       " '_i42': \"cart = [LineItem('banana', 4, .5), \\n       LineItem('apple', 10, 1.5),\\n       LineItem('watermelon', 5, 5.0)]\",\n",
       " '_i43': 'Order(joe, cart, best_prom)',\n",
       " '_i44': 'Order(joe, cart, best_promo)',\n",
       " '_44': <Order total: 42.00 due: 42.00>,\n",
       " '_i45': 'Order(joe, cart, large_order)',\n",
       " '_45': <Order total: 42.00 due: 42.00>,\n",
       " '_i46': 'Order(joe, cart, bulk_item)',\n",
       " '_46': <Order total: 42.00 due: 42.00>,\n",
       " '_i47': 'Order(joe, cart, fidelity)',\n",
       " '_47': <Order total: 42.00 due: 42.00>,\n",
       " '_i48': 'Order(ann, cart, fidelity)',\n",
       " '_48': <Order total: 42.00 due: 39.90>,\n",
       " '_i49': 'Order(ann, cart, large_order)',\n",
       " '_49': <Order total: 42.00 due: 42.00>,\n",
       " '_i50': 'Order(ann, cart, best_promo)',\n",
       " '_50': <Order total: 42.00 due: 39.90>,\n",
       " '_i51': '대부분의 데코레이터는 데코레이트된 함수를 반환한다. 즉, 내부 함수를 정의하고 그것을 반환하여 데코레이트된 함수를 대체한다.\\n내부 함수를 사용하는 코드는 제대로 작동하기 위해 거의 항상 클로저에 의존한다.\\n클로저를 이해하기 위해 먼저 파이썬에서 변수 범위의 작동 방식에 대해 자세히 살펴보자',\n",
       " '_i52': 'def f1(a):\\n    print(a)',\n",
       " '_i53': 'def f1(a):\\n    print(a)\\n    print(b)',\n",
       " '_i54': 'f1(3)',\n",
       " '_i55': 'b = 6',\n",
       " 'b': 9,\n",
       " '_i56': 'f1(3)',\n",
       " '_i57': 'def f2(a):\\n    print(a)\\n    print(b)',\n",
       " '_i58': 'def f2(a):\\n    print(a)\\n    print(b)\\n    b = 9',\n",
       " '_i59': 'f2(3)',\n",
       " '_i60': 'f2(3) # 관련 내용 introducing python 10. 네임스페이스와 스코프에 있음',\n",
       " '_i61': 'def f3(a):\\n    global b\\n    print(a)\\n    print(b)\\n    b = 9',\n",
       " '_i62': 'f3(3)',\n",
       " '_i63': 'def f3(a):\\n#     global b\\n    print(a)\\n    print(b)\\n    b = 9',\n",
       " '_i64': 'f3(3)',\n",
       " '_i65': 'def f3(a):\\n    global b\\n    print(a)\\n    print(b)\\n    b = 9',\n",
       " '_i66': 'f3(3)',\n",
       " '_i67': 'b = 30',\n",
       " '_i68': 'b',\n",
       " '_68': 30,\n",
       " '_i69': 'f3(#)',\n",
       " '_i70': 'f3(1)',\n",
       " '_i71': 'f3(1)',\n",
       " '_i72': 'from dis import dis',\n",
       " 'dis': <function dis.dis(x=None, *, file=None, depth=None)>,\n",
       " '_i73': 'dis(f1)',\n",
       " '_i74': 'dis(f2)',\n",
       " '_i75': 'avg(10)',\n",
       " '_i76': 'class Averager():\\n\\n    def __init__(self):\\n        self.series = []\\n\\n    def __call__(self, new_value):\\n        self.series.append(new_value)\\n        total = sum(self.series)\\n        return total/len(self.series)',\n",
       " 'Averager': __main__.Averager,\n",
       " '_i77': 'avg = Averager()',\n",
       " 'avg': <function __main__.make_average.<locals>.average(new_value)>,\n",
       " '_i78': 'avg(10)',\n",
       " '_78': 10.0,\n",
       " '_i79': 'avg(11)',\n",
       " '_79': 10.5,\n",
       " '_i80': 'avg(12)',\n",
       " '_80': 11.0,\n",
       " '_i81': 'def averager(new_value):\\n    series.append(new_value)\\n    total = sum(series)\\n    \\n    return total/len(series)',\n",
       " 'averager': <function __main__.averager(new_value)>,\n",
       " '_i82': 'def make_averager():\\n    series = []\\n\\n    def averager(new_value):\\n        series.append(new_value) # 함수 외부에 정의된 지역변수 참조\\n        total = sum(series)\\n\\n        return total/len(series)\\n    \\n    return averager',\n",
       " 'make_averager': <function __main__.make_averager()>,\n",
       " '_i83': 'def make_averager():\\n    series = []\\n\\n    def averager(new_value): # 호출될 때마다 받은 인수를 series에 추가\\n        series.append(new_value) # 함수 외부에 정의된 지역변수 참조\\n        total = sum(series)\\n\\n        return total/len(series)\\n    \\n    return averager',\n",
       " '_i84': 'avg = make_averager()',\n",
       " '_i85': 'avg(10)',\n",
       " '_85': 10.0,\n",
       " '_i86': 'avg(11)',\n",
       " '_86': 10.5,\n",
       " '_i87': 'avg(12)',\n",
       " '_87': 11.0,\n",
       " '_i88': 'def make_averager():\\n    series = [] ㅏㅏ\\n\\n    def averager(new_value): # 호출될 때마다 받은 인수를 series에 추가\\n        series.append(new_value) # 함수 외부에 정의된 지역변수 참조\\n        total = sum(series)\\n\\n        return total/len(series)\\n    \\n    return averager',\n",
       " '_i89': 'class Averager():\\n\\n    def __init__(self):\\n        self.series = []\\n\\n    def __call__(self, new_value):\\n        self.series.append(new_value)\\n        total = sum(self.series)\\n        return total/len(self.series)',\n",
       " '_i90': 'avg = Averager()',\n",
       " '_i91': 'avg(10)',\n",
       " '_91': 10.0,\n",
       " '_i92': 'avg(11)',\n",
       " '_92': 10.5,\n",
       " '_i93': 'avg(12)',\n",
       " '_93': 11.0,\n",
       " '_i94': 'def make_averager():\\n    series = [] ㅏㅏ\\n\\n    def averager(new_value): # 호출될 때마다 받은 인수를 series에 추가\\n        series.append(new_value) # 함수 외부에 정의된 지역변수 참조\\n        total = sum(series)\\n\\n        return total/len(series)\\n    \\n    return averager',\n",
       " '_i95': 'avg = make_averager()',\n",
       " '_i96': 'avg(10)',\n",
       " '_96': 10.0,\n",
       " '_i97': 'avg(11)',\n",
       " '_97': 10.5,\n",
       " '_i98': 'avg(12)',\n",
       " '_98': 11.0,\n",
       " '_i99': 'avg',\n",
       " '_99': <function __main__.make_averager.<locals>.averager(new_value)>,\n",
       " '_i100': 'dir(avg)',\n",
       " '_100': ['__annotations__',\n",
       "  '__builtins__',\n",
       "  '__call__',\n",
       "  '__class__',\n",
       "  '__closure__',\n",
       "  '__code__',\n",
       "  '__defaults__',\n",
       "  '__delattr__',\n",
       "  '__dict__',\n",
       "  '__dir__',\n",
       "  '__doc__',\n",
       "  '__eq__',\n",
       "  '__format__',\n",
       "  '__ge__',\n",
       "  '__get__',\n",
       "  '__getattribute__',\n",
       "  '__globals__',\n",
       "  '__gt__',\n",
       "  '__hash__',\n",
       "  '__init__',\n",
       "  '__init_subclass__',\n",
       "  '__kwdefaults__',\n",
       "  '__le__',\n",
       "  '__lt__',\n",
       "  '__module__',\n",
       "  '__name__',\n",
       "  '__ne__',\n",
       "  '__new__',\n",
       "  '__qualname__',\n",
       "  '__reduce__',\n",
       "  '__reduce_ex__',\n",
       "  '__repr__',\n",
       "  '__setattr__',\n",
       "  '__sizeof__',\n",
       "  '__str__',\n",
       "  '__subclasshook__'],\n",
       " '_i101': 'avg.__code__',\n",
       " '_101': <code object averager at 0x107a800e0, file \"/var/folders/_s/0rymbx1n0m14zlxptddb3vrw0000gn/T/ipykernel_11435/1553030687.py\", line 4>,\n",
       " '_i102': 'avg.__code__.co_varnames',\n",
       " '_102': ('new_value', 'total'),\n",
       " '_i103': 'avg.__code__.co_freevars',\n",
       " '_103': ('series',),\n",
       " '_i104': 'avg.__closure__',\n",
       " '_104': (<cell at 0x107bb59c0: list object at 0x1077911c0>,),\n",
       " '_i105': 'avg.__code__.co_freevars.series',\n",
       " '_i106': 'avg.__code__.co_freevars',\n",
       " '_106': ('series',),\n",
       " '_i107': 'id(avg)',\n",
       " '_107': 4423155520,\n",
       " '_i108': 'def make_averager():\\n    series = []\\n\\n    def averager(new_value): # 호출될 때마다 받은 인수를 series에 추가\\n        print(hex(id(series)))\\n        series.append(new_value) # 함수 외부에 정의된 지역변수 참조\\n        total = sum(series)\\n\\n        return total/len(series)\\n    \\n    return averager',\n",
       " '_i109': 'avg = make_averager()',\n",
       " '_i110': 'avg(10)',\n",
       " '_110': 10.0,\n",
       " '_i111': 'avg(11)',\n",
       " '_111': 10.5,\n",
       " '_i112': 'avg(12)',\n",
       " '_112': 11.0,\n",
       " '_i113': 'avg',\n",
       " '_113': <function __main__.make_averager.<locals>.averager(new_value)>,\n",
       " '_i114': 'dir(avg)',\n",
       " '_114': ['__annotations__',\n",
       "  '__builtins__',\n",
       "  '__call__',\n",
       "  '__class__',\n",
       "  '__closure__',\n",
       "  '__code__',\n",
       "  '__defaults__',\n",
       "  '__delattr__',\n",
       "  '__dict__',\n",
       "  '__dir__',\n",
       "  '__doc__',\n",
       "  '__eq__',\n",
       "  '__format__',\n",
       "  '__ge__',\n",
       "  '__get__',\n",
       "  '__getattribute__',\n",
       "  '__globals__',\n",
       "  '__gt__',\n",
       "  '__hash__',\n",
       "  '__init__',\n",
       "  '__init_subclass__',\n",
       "  '__kwdefaults__',\n",
       "  '__le__',\n",
       "  '__lt__',\n",
       "  '__module__',\n",
       "  '__name__',\n",
       "  '__ne__',\n",
       "  '__new__',\n",
       "  '__qualname__',\n",
       "  '__reduce__',\n",
       "  '__reduce_ex__',\n",
       "  '__repr__',\n",
       "  '__setattr__',\n",
       "  '__sizeof__',\n",
       "  '__str__',\n",
       "  '__subclasshook__'],\n",
       " '_i115': 'avg.__code__',\n",
       " '_115': <code object averager at 0x1079ab7e0, file \"/var/folders/_s/0rymbx1n0m14zlxptddb3vrw0000gn/T/ipykernel_11435/1338861763.py\", line 4>,\n",
       " '_i116': 'avg.__code__.co_varnames',\n",
       " '_116': ('new_value', 'total'),\n",
       " '_i117': 'avg.__code__.co_freevars',\n",
       " '_117': ('series',),\n",
       " '_i118': 'avg.__closure__',\n",
       " '_118': (<cell at 0x10794fd60: list object at 0x107ceb680>,),\n",
       " '_i119': 'avg.__closure__',\n",
       " '_119': (<cell at 0x10794fd60: list object at 0x107ceb680>,),\n",
       " '_i120': 'avg.__closure__[0]',\n",
       " '_120': <cell at 0x10794fd60: list object at 0x107ceb680>,\n",
       " '_i121': 'avg.__closure__',\n",
       " '_121': (<cell at 0x10794fd60: list object at 0x107ceb680>,),\n",
       " '_i122': 'avg.__closure__[0]',\n",
       " '_122': <cell at 0x10794fd60: list object at 0x107ceb680>,\n",
       " '_i123': 'dir(avg.__closure__[0])',\n",
       " '_123': ['__class__',\n",
       "  '__delattr__',\n",
       "  '__dir__',\n",
       "  '__doc__',\n",
       "  '__eq__',\n",
       "  '__format__',\n",
       "  '__ge__',\n",
       "  '__getattribute__',\n",
       "  '__gt__',\n",
       "  '__hash__',\n",
       "  '__init__',\n",
       "  '__init_subclass__',\n",
       "  '__le__',\n",
       "  '__lt__',\n",
       "  '__ne__',\n",
       "  '__new__',\n",
       "  '__reduce__',\n",
       "  '__reduce_ex__',\n",
       "  '__repr__',\n",
       "  '__setattr__',\n",
       "  '__sizeof__',\n",
       "  '__str__',\n",
       "  '__subclasshook__',\n",
       "  'cell_contents'],\n",
       " '_i124': 'avg.__closure__[0].cell_contents',\n",
       " '_124': [10, 11, 12],\n",
       " '_i125': 'avg.__closure__',\n",
       " '_125': (<cell at 0x10794fd60: list object at 0x107ceb680>,),\n",
       " '_i126': 'id(avg.__closure__)',\n",
       " '_126': 4421734064,\n",
       " '_i127': 'hex(id(avg.__closure__))',\n",
       " '_127': '0x1078e4eb0',\n",
       " '_i128': 'def make_average():\\n    count = 0\\n    total = 0\\n    \\n    def average(new_value):\\n        count += 1\\n        total += new_value\\n        \\n        return total / count\\n    \\n    return average',\n",
       " 'make_average': <function __main__.make_average()>,\n",
       " '_i129': 'avg = make_average()',\n",
       " '_i130': 'avg(10)',\n",
       " '_i131': 'def make_average():\\n    count = 0\\n    total = 0\\n    \\n    def average(new_value):\\n        count += 1 # 얘가 값을 변경하는 문장이기 때문에 지역 변수로 보는데 그 지역변수가 없어서 발생하는 에러... 아까 위에서 봤던 거\\n        total += new_value\\n        \\n        return total / count\\n    \\n    return average',\n",
       " '_i132': 'avg = make_average()',\n",
       " '_i133': 'avg(10)',\n",
       " '_i134': 'def make_average():\\n    count = 0\\n    total = 0\\n    \\n    def average(new_value):\\n        nonlocal count, total\\n        \\n        count += 1 \\n        total += new_value\\n        \\n        return total / count\\n    \\n    return average',\n",
       " '_i135': 'avg(10)',\n",
       " '_i136': 'avg = make_average()',\n",
       " '_i137': 'avg(10)',\n",
       " '_137': 10.0,\n",
       " '_i138': 'avg(10)',\n",
       " '_138': 10.0,\n",
       " '_i139': 'avg(20)',\n",
       " '_139': 13.333333333333334,\n",
       " '_i140': \"registry = []  # <1>\\n\\ndef register(func):  # <2>\\n    print('running register(%s)' % func)  # <3>\\n    registry.append(func)  # <4>\\n    return func  # <5>\\n\\n@register  # <6>\\ndef f1():\\n    print('running f1()')\\n\\n@register\\ndef f2():\\n    print('running f2()')\\n\\ndef f3():  # <7>\\n    print('running f3()')\\n\\ndef main():  # <8>\\n    print('running main()')\\n    print('registry ->', registry)\\n    f1()\\n    f2()\\n    f3()\\n\\nif __name__=='__main__':\\n    main()  # <9>\",\n",
       " '_i141': 'registry',\n",
       " '_141': [<function __main__.f1()>, <function __main__.f2()>],\n",
       " '_i142': 'dir(globals())',\n",
       " '_142': ['__class__',\n",
       "  '__class_getitem__',\n",
       "  '__contains__',\n",
       "  '__delattr__',\n",
       "  '__delitem__',\n",
       "  '__dir__',\n",
       "  '__doc__',\n",
       "  '__eq__',\n",
       "  '__format__',\n",
       "  '__ge__',\n",
       "  '__getattribute__',\n",
       "  '__getitem__',\n",
       "  '__gt__',\n",
       "  '__hash__',\n",
       "  '__init__',\n",
       "  '__init_subclass__',\n",
       "  '__ior__',\n",
       "  '__iter__',\n",
       "  '__le__',\n",
       "  '__len__',\n",
       "  '__lt__',\n",
       "  '__ne__',\n",
       "  '__new__',\n",
       "  '__or__',\n",
       "  '__reduce__',\n",
       "  '__reduce_ex__',\n",
       "  '__repr__',\n",
       "  '__reversed__',\n",
       "  '__ror__',\n",
       "  '__setattr__',\n",
       "  '__setitem__',\n",
       "  '__sizeof__',\n",
       "  '__str__',\n",
       "  '__subclasshook__',\n",
       "  'clear',\n",
       "  'copy',\n",
       "  'fromkeys',\n",
       "  'get',\n",
       "  'items',\n",
       "  'keys',\n",
       "  'pop',\n",
       "  'popitem',\n",
       "  'setdefault',\n",
       "  'update',\n",
       "  'values'],\n",
       " '_i143': '[dir(globals())]',\n",
       " '_143': [['__class__',\n",
       "   '__class_getitem__',\n",
       "   '__contains__',\n",
       "   '__delattr__',\n",
       "   '__delitem__',\n",
       "   '__dir__',\n",
       "   '__doc__',\n",
       "   '__eq__',\n",
       "   '__format__',\n",
       "   '__ge__',\n",
       "   '__getattribute__',\n",
       "   '__getitem__',\n",
       "   '__gt__',\n",
       "   '__hash__',\n",
       "   '__init__',\n",
       "   '__init_subclass__',\n",
       "   '__ior__',\n",
       "   '__iter__',\n",
       "   '__le__',\n",
       "   '__len__',\n",
       "   '__lt__',\n",
       "   '__ne__',\n",
       "   '__new__',\n",
       "   '__or__',\n",
       "   '__reduce__',\n",
       "   '__reduce_ex__',\n",
       "   '__repr__',\n",
       "   '__reversed__',\n",
       "   '__ror__',\n",
       "   '__setattr__',\n",
       "   '__setitem__',\n",
       "   '__sizeof__',\n",
       "   '__str__',\n",
       "   '__subclasshook__',\n",
       "   'clear',\n",
       "   'copy',\n",
       "   'fromkeys',\n",
       "   'get',\n",
       "   'items',\n",
       "   'keys',\n",
       "   'pop',\n",
       "   'popitem',\n",
       "   'setdefault',\n",
       "   'update',\n",
       "   'values']],\n",
       " '_i144': 'dir(globals())',\n",
       " '_144': ['__class__',\n",
       "  '__class_getitem__',\n",
       "  '__contains__',\n",
       "  '__delattr__',\n",
       "  '__delitem__',\n",
       "  '__dir__',\n",
       "  '__doc__',\n",
       "  '__eq__',\n",
       "  '__format__',\n",
       "  '__ge__',\n",
       "  '__getattribute__',\n",
       "  '__getitem__',\n",
       "  '__gt__',\n",
       "  '__hash__',\n",
       "  '__init__',\n",
       "  '__init_subclass__',\n",
       "  '__ior__',\n",
       "  '__iter__',\n",
       "  '__le__',\n",
       "  '__len__',\n",
       "  '__lt__',\n",
       "  '__ne__',\n",
       "  '__new__',\n",
       "  '__or__',\n",
       "  '__reduce__',\n",
       "  '__reduce_ex__',\n",
       "  '__repr__',\n",
       "  '__reversed__',\n",
       "  '__ror__',\n",
       "  '__setattr__',\n",
       "  '__setitem__',\n",
       "  '__sizeof__',\n",
       "  '__str__',\n",
       "  '__subclasshook__',\n",
       "  'clear',\n",
       "  'copy',\n",
       "  'fromkeys',\n",
       "  'get',\n",
       "  'items',\n",
       "  'keys',\n",
       "  'pop',\n",
       "  'popitem',\n",
       "  'setdefault',\n",
       "  'update',\n",
       "  'values'],\n",
       " '_i145': 'dir(globals())[0]',\n",
       " '_145': '__class__',\n",
       " '_i146': \"[for item in dir(globals()) if item.contaions('__')]\",\n",
       " '_i147': \"[item for item in dir(globals()) if item.contaions('__')]\",\n",
       " '_i148': \"[item for item in dir(globals()) if item.contains('__')]\",\n",
       " '_i149': \"[item for item in dir(globals()) if item.contains('__')]\",\n",
       " '_i150': \"[item for item in dir(globals()) if '__' in item]\",\n",
       " '_150': ['__class__',\n",
       "  '__class_getitem__',\n",
       "  '__contains__',\n",
       "  '__delattr__',\n",
       "  '__delitem__',\n",
       "  '__dir__',\n",
       "  '__doc__',\n",
       "  '__eq__',\n",
       "  '__format__',\n",
       "  '__ge__',\n",
       "  '__getattribute__',\n",
       "  '__getitem__',\n",
       "  '__gt__',\n",
       "  '__hash__',\n",
       "  '__init__',\n",
       "  '__init_subclass__',\n",
       "  '__ior__',\n",
       "  '__iter__',\n",
       "  '__le__',\n",
       "  '__len__',\n",
       "  '__lt__',\n",
       "  '__ne__',\n",
       "  '__new__',\n",
       "  '__or__',\n",
       "  '__reduce__',\n",
       "  '__reduce_ex__',\n",
       "  '__repr__',\n",
       "  '__reversed__',\n",
       "  '__ror__',\n",
       "  '__setattr__',\n",
       "  '__setitem__',\n",
       "  '__sizeof__',\n",
       "  '__str__',\n",
       "  '__subclasshook__'],\n",
       " '_i151': \"[item for item in dir(globals()) if 'registry' in item]\",\n",
       " '_151': [],\n",
       " '_i152': 'globals()',\n",
       " '_152': {...},\n",
       " '_i153': \"registry = []  # <1>\\n\\ndef register(func):  # <2>\\n    print('running register(%s)' % func)  # <3>\\n    registry.append(func)  # <4>\\n    return func  # <5>\\n\\n@register  # <6>\\ndef f1():\\n    print('running f1()')\\n\\n@register\\ndef f2():\\n    print('running f2()')\\n\\ndef f3():  # <7>\\n    print('running f3()')\\n\\ndef main():  # <8>\\n    print('running main()')\\n    print('registry ->', registry)\\n    f1()\\n    f2()\\n    f3()\\n\\nif __name__=='__main__':\\n    main()  # <9>\",\n",
       " '_i154': 'registry',\n",
       " '_154': [<function __main__.f1()>, <function __main__.f2()>],\n",
       " '_i155': \"[item for item in dir(globals()) if '' in item]\",\n",
       " '_155': ['__class__',\n",
       "  '__class_getitem__',\n",
       "  '__contains__',\n",
       "  '__delattr__',\n",
       "  '__delitem__',\n",
       "  '__dir__',\n",
       "  '__doc__',\n",
       "  '__eq__',\n",
       "  '__format__',\n",
       "  '__ge__',\n",
       "  '__getattribute__',\n",
       "  '__getitem__',\n",
       "  '__gt__',\n",
       "  '__hash__',\n",
       "  '__init__',\n",
       "  '__init_subclass__',\n",
       "  '__ior__',\n",
       "  '__iter__',\n",
       "  '__le__',\n",
       "  '__len__',\n",
       "  '__lt__',\n",
       "  '__ne__',\n",
       "  '__new__',\n",
       "  '__or__',\n",
       "  '__reduce__',\n",
       "  '__reduce_ex__',\n",
       "  '__repr__',\n",
       "  '__reversed__',\n",
       "  '__ror__',\n",
       "  '__setattr__',\n",
       "  '__setitem__',\n",
       "  '__sizeof__',\n",
       "  '__str__',\n",
       "  '__subclasshook__',\n",
       "  'clear',\n",
       "  'copy',\n",
       "  'fromkeys',\n",
       "  'get',\n",
       "  'items',\n",
       "  'keys',\n",
       "  'pop',\n",
       "  'popitem',\n",
       "  'setdefault',\n",
       "  'update',\n",
       "  'values'],\n",
       " '_i156': 'globals()'}"
      ]
     },
     "execution_count": 156,
     "metadata": {},
     "output_type": "execute_result"
    }
   ],
   "source": []
  },
  {
   "cell_type": "markdown",
   "id": "5ec99517",
   "metadata": {},
   "source": [
    "# 3. 데코레이터로 개선한 전략 패턴"
   ]
  },
  {
   "cell_type": "code",
   "execution_count": 34,
   "id": "e1062579",
   "metadata": {},
   "outputs": [],
   "source": [
    "from collections import namedtuple\n",
    "\n",
    "Customer = namedtuple('Customer', 'name fidelity')\n",
    "\n",
    "\n",
    "class LineItem:\n",
    "\n",
    "    def __init__(self, product, quantity, price):\n",
    "        self.product = product\n",
    "        self.quantity = quantity\n",
    "        self.price = price\n",
    "\n",
    "    def total(self):\n",
    "        return self.price * self.quantity\n",
    "\n",
    "\n",
    "class Order:  # the Context\n",
    "\n",
    "    def __init__(self, customer, cart, promotion=None):\n",
    "        self.customer = customer\n",
    "        self.cart = list(cart)\n",
    "        self.promotion = promotion\n",
    "\n",
    "    def total(self):\n",
    "        if not hasattr(self, '__total'):\n",
    "            self.__total = sum(item.total() for item in self.cart)\n",
    "        return self.__total\n",
    "\n",
    "    def due(self):\n",
    "        if self.promotion is None:\n",
    "            discount = 0\n",
    "        else:\n",
    "            discount = self.promotion(self)\n",
    "        return self.total() - discount\n",
    "\n",
    "    def __repr__(self):\n",
    "        fmt = '<Order total: {:.2f} due: {:.2f}>'\n",
    "        return fmt.format(self.total(), self.due())"
   ]
  },
  {
   "cell_type": "code",
   "execution_count": 35,
   "id": "fe5537ca",
   "metadata": {},
   "outputs": [],
   "source": [
    "# BEGIN STRATEGY_BEST4\n",
    "\n",
    "promos = []  # <1>\n",
    "\n",
    "# promo_func를 promos 리스트에 추가한 후 그대로 반환.\n",
    "# 얘가 어떻게 보면 인터페이스 역할? 관계없는 클래스들끼리 묶어주는 것처럼 할인 방식 빼먹지 않도록 얘도 묶어주는 역할..\n",
    "def promotion(promo_func):  # <2>\n",
    "    promos.append(promo_func)\n",
    "    return promo_func\n",
    "\n",
    "\n",
    "@promotion  # <3>\n",
    "def fidelity(order):\n",
    "    \"\"\"5% discount for customers with 1000 or more fidelity points\"\"\"\n",
    "    return order.total() * .05 if order.customer.fidelity >= 1000 else 0\n",
    "\n",
    "@promotion\n",
    "def bulk_item(order):\n",
    "    \"\"\"10% discount for each LineItem with 20 or more units\"\"\"\n",
    "    discount = 0\n",
    "    for item in order.cart:\n",
    "        if item.quantity >= 20:\n",
    "            discount += item.total() * .1\n",
    "    return discount\n",
    "\n",
    "@promotion\n",
    "def large_order(order):\n",
    "    \"\"\"7% discount for orders with 10 or more distinct items\"\"\"\n",
    "    distinct_items = {item.product for item in order.cart}\n",
    "    if len(distinct_items) >= 10:\n",
    "        return order.total() * .07\n",
    "    return 0"
   ]
  },
  {
   "cell_type": "code",
   "execution_count": 40,
   "id": "057a428c",
   "metadata": {},
   "outputs": [],
   "source": [
    "def best_promo(order):  # <4>\n",
    "    \"\"\"Select best discount available\n",
    "    \"\"\"\n",
    "    return max(promo(order) for promo in promos)"
   ]
  },
  {
   "cell_type": "code",
   "execution_count": 41,
   "id": "03087602",
   "metadata": {},
   "outputs": [],
   "source": [
    "joe = Customer('John Doe', 0)\n",
    "ann = Customer('Ann Smith', 1100)"
   ]
  },
  {
   "cell_type": "code",
   "execution_count": 42,
   "id": "77add731",
   "metadata": {},
   "outputs": [],
   "source": [
    "cart = [LineItem('banana', 4, .5), \n",
    "       LineItem('apple', 10, 1.5),\n",
    "       LineItem('watermelon', 5, 5.0)]"
   ]
  },
  {
   "cell_type": "code",
   "execution_count": 50,
   "id": "fd333949",
   "metadata": {},
   "outputs": [
    {
     "data": {
      "text/plain": [
       "<Order total: 42.00 due: 39.90>"
      ]
     },
     "execution_count": 50,
     "metadata": {},
     "output_type": "execute_result"
    }
   ],
   "source": [
    "Order(ann, cart, best_promo)"
   ]
  },
  {
   "cell_type": "code",
   "execution_count": null,
   "id": "46108b9c",
   "metadata": {},
   "outputs": [],
   "source": []
  },
  {
   "cell_type": "markdown",
   "id": "11c3e0f1",
   "metadata": {},
   "source": [
    "# 4. 변수 범위 규칙"
   ]
  },
  {
   "cell_type": "markdown",
   "id": "69d1a182",
   "metadata": {},
   "source": [
    "대부분의 데코레이터는 데코레이트된 함수를 반환한다. 즉, 내부 함수를 정의하고 그것을 반환하여 데코레이트된 함수를 대체한다. <br>\n",
    "내부 함수를 사용하는 코드는 제대로 작동하기 위해 거의 항상 클로저에 의존한다. <br>\n",
    "클로저를 이해하기 위해 먼저 파이썬에서 `변수 범위의 작동 방식`에 대해 자세히 살펴보자"
   ]
  },
  {
   "cell_type": "code",
   "execution_count": 53,
   "id": "6f48da7a",
   "metadata": {},
   "outputs": [],
   "source": [
    "def f1(a):\n",
    "    print(a)\n",
    "    print(b)"
   ]
  },
  {
   "cell_type": "code",
   "execution_count": 54,
   "id": "684db0c6",
   "metadata": {},
   "outputs": [
    {
     "name": "stdout",
     "output_type": "stream",
     "text": [
      "3\n"
     ]
    },
    {
     "ename": "NameError",
     "evalue": "name 'b' is not defined",
     "output_type": "error",
     "traceback": [
      "\u001b[0;31m---------------------------------------------------------------------------\u001b[0m",
      "\u001b[0;31mNameError\u001b[0m                                 Traceback (most recent call last)",
      "Cell \u001b[0;32mIn[54], line 1\u001b[0m\n\u001b[0;32m----> 1\u001b[0m \u001b[43mf1\u001b[49m\u001b[43m(\u001b[49m\u001b[38;5;241;43m3\u001b[39;49m\u001b[43m)\u001b[49m\n",
      "Cell \u001b[0;32mIn[53], line 3\u001b[0m, in \u001b[0;36mf1\u001b[0;34m(a)\u001b[0m\n\u001b[1;32m      1\u001b[0m \u001b[38;5;28;01mdef\u001b[39;00m \u001b[38;5;21mf1\u001b[39m(a):\n\u001b[1;32m      2\u001b[0m     \u001b[38;5;28mprint\u001b[39m(a)\n\u001b[0;32m----> 3\u001b[0m     \u001b[38;5;28mprint\u001b[39m(\u001b[43mb\u001b[49m)\n",
      "\u001b[0;31mNameError\u001b[0m: name 'b' is not defined"
     ]
    }
   ],
   "source": [
    "f1(3)"
   ]
  },
  {
   "cell_type": "code",
   "execution_count": 55,
   "id": "93e111a6",
   "metadata": {},
   "outputs": [],
   "source": [
    "b = 6"
   ]
  },
  {
   "cell_type": "code",
   "execution_count": 56,
   "id": "5dcd6fdc",
   "metadata": {},
   "outputs": [
    {
     "name": "stdout",
     "output_type": "stream",
     "text": [
      "3\n",
      "6\n"
     ]
    }
   ],
   "source": [
    "f1(3)"
   ]
  },
  {
   "cell_type": "code",
   "execution_count": 58,
   "id": "f3c9121e",
   "metadata": {},
   "outputs": [],
   "source": [
    "def f2(a):\n",
    "    print(a)\n",
    "    print(b)\n",
    "    b = 9"
   ]
  },
  {
   "cell_type": "code",
   "execution_count": 60,
   "id": "d6f146ce",
   "metadata": {},
   "outputs": [
    {
     "name": "stdout",
     "output_type": "stream",
     "text": [
      "3\n"
     ]
    },
    {
     "ename": "UnboundLocalError",
     "evalue": "local variable 'b' referenced before assignment",
     "output_type": "error",
     "traceback": [
      "\u001b[0;31m---------------------------------------------------------------------------\u001b[0m",
      "\u001b[0;31mUnboundLocalError\u001b[0m                         Traceback (most recent call last)",
      "Cell \u001b[0;32mIn[60], line 1\u001b[0m\n\u001b[0;32m----> 1\u001b[0m \u001b[43mf2\u001b[49m\u001b[43m(\u001b[49m\u001b[38;5;241;43m3\u001b[39;49m\u001b[43m)\u001b[49m\n",
      "Cell \u001b[0;32mIn[58], line 3\u001b[0m, in \u001b[0;36mf2\u001b[0;34m(a)\u001b[0m\n\u001b[1;32m      1\u001b[0m \u001b[38;5;28;01mdef\u001b[39;00m \u001b[38;5;21mf2\u001b[39m(a):\n\u001b[1;32m      2\u001b[0m     \u001b[38;5;28mprint\u001b[39m(a)\n\u001b[0;32m----> 3\u001b[0m     \u001b[38;5;28mprint\u001b[39m(\u001b[43mb\u001b[49m)\n\u001b[1;32m      4\u001b[0m     b \u001b[38;5;241m=\u001b[39m \u001b[38;5;241m9\u001b[39m\n",
      "\u001b[0;31mUnboundLocalError\u001b[0m: local variable 'b' referenced before assignment"
     ]
    }
   ],
   "source": [
    "f2(3) # 관련 내용 introducing python 10. 네임스페이스와 스코프에 있음\n",
    "# 함수에서 전역 변수의 값을 1. 얻어서 2. 바꾸려고 하면 에러 발생."
   ]
  },
  {
   "cell_type": "code",
   "execution_count": null,
   "id": "b2bb120c",
   "metadata": {},
   "outputs": [],
   "source": []
  },
  {
   "cell_type": "code",
   "execution_count": 65,
   "id": "288bdfb7",
   "metadata": {},
   "outputs": [],
   "source": [
    "def f3(a):\n",
    "    global b\n",
    "    \n",
    "    print(a)\n",
    "    print(b)\n",
    "    b = 9"
   ]
  },
  {
   "cell_type": "code",
   "execution_count": 66,
   "id": "bf5f4a38",
   "metadata": {},
   "outputs": [
    {
     "name": "stdout",
     "output_type": "stream",
     "text": [
      "3\n",
      "9\n"
     ]
    }
   ],
   "source": [
    "f3(3)"
   ]
  },
  {
   "cell_type": "code",
   "execution_count": 67,
   "id": "6c28040f",
   "metadata": {},
   "outputs": [],
   "source": [
    "b = 30"
   ]
  },
  {
   "cell_type": "code",
   "execution_count": 68,
   "id": "4a08932e",
   "metadata": {},
   "outputs": [
    {
     "data": {
      "text/plain": [
       "30"
      ]
     },
     "execution_count": 68,
     "metadata": {},
     "output_type": "execute_result"
    }
   ],
   "source": [
    "b"
   ]
  },
  {
   "cell_type": "code",
   "execution_count": 70,
   "id": "c453eff2",
   "metadata": {},
   "outputs": [
    {
     "name": "stdout",
     "output_type": "stream",
     "text": [
      "1\n",
      "30\n"
     ]
    }
   ],
   "source": [
    "f3(1)"
   ]
  },
  {
   "cell_type": "code",
   "execution_count": 71,
   "id": "9c4c30f3",
   "metadata": {},
   "outputs": [
    {
     "name": "stdout",
     "output_type": "stream",
     "text": [
      "1\n",
      "9\n"
     ]
    }
   ],
   "source": [
    "f3(1)"
   ]
  },
  {
   "cell_type": "code",
   "execution_count": 72,
   "id": "1367ca78",
   "metadata": {},
   "outputs": [],
   "source": [
    "from dis import dis"
   ]
  },
  {
   "cell_type": "code",
   "execution_count": 73,
   "id": "542dd247",
   "metadata": {},
   "outputs": [
    {
     "name": "stdout",
     "output_type": "stream",
     "text": [
      "  2           0 LOAD_GLOBAL              0 (print)\n",
      "              2 LOAD_FAST                0 (a)\n",
      "              4 CALL_FUNCTION            1\n",
      "              6 POP_TOP\n",
      "\n",
      "  3           8 LOAD_GLOBAL              0 (print)\n",
      "             10 LOAD_GLOBAL              1 (b)\n",
      "             12 CALL_FUNCTION            1\n",
      "             14 POP_TOP\n",
      "             16 LOAD_CONST               0 (None)\n",
      "             18 RETURN_VALUE\n"
     ]
    }
   ],
   "source": [
    "dis(f1)"
   ]
  },
  {
   "cell_type": "code",
   "execution_count": 74,
   "id": "288d74cd",
   "metadata": {},
   "outputs": [
    {
     "name": "stdout",
     "output_type": "stream",
     "text": [
      "  2           0 LOAD_GLOBAL              0 (print)\n",
      "              2 LOAD_FAST                0 (a)\n",
      "              4 CALL_FUNCTION            1\n",
      "              6 POP_TOP\n",
      "\n",
      "  3           8 LOAD_GLOBAL              0 (print)\n",
      "             10 LOAD_FAST                1 (b)\n",
      "             12 CALL_FUNCTION            1\n",
      "             14 POP_TOP\n",
      "\n",
      "  4          16 LOAD_CONST               1 (9)\n",
      "             18 STORE_FAST               1 (b)\n",
      "             20 LOAD_CONST               0 (None)\n",
      "             22 RETURN_VALUE\n"
     ]
    }
   ],
   "source": [
    "dis(f2)"
   ]
  },
  {
   "cell_type": "code",
   "execution_count": null,
   "id": "c200b31d",
   "metadata": {},
   "outputs": [],
   "source": []
  },
  {
   "cell_type": "markdown",
   "id": "783c3ce8",
   "metadata": {},
   "source": [
    "# 5. 클로저"
   ]
  },
  {
   "cell_type": "code",
   "execution_count": null,
   "id": "06f80a00",
   "metadata": {},
   "outputs": [],
   "source": []
  },
  {
   "cell_type": "code",
   "execution_count": 89,
   "id": "e41934d3",
   "metadata": {},
   "outputs": [],
   "source": [
    "class Averager():\n",
    "\n",
    "    def __init__(self):\n",
    "        self.series = []\n",
    "\n",
    "    def __call__(self, new_value):\n",
    "        self.series.append(new_value)\n",
    "        total = sum(self.series)\n",
    "        return total/len(self.series)"
   ]
  },
  {
   "cell_type": "code",
   "execution_count": 90,
   "id": "f18aaaf2",
   "metadata": {},
   "outputs": [],
   "source": [
    "avg = Averager()"
   ]
  },
  {
   "cell_type": "code",
   "execution_count": 91,
   "id": "c1795413",
   "metadata": {},
   "outputs": [
    {
     "data": {
      "text/plain": [
       "10.0"
      ]
     },
     "execution_count": 91,
     "metadata": {},
     "output_type": "execute_result"
    }
   ],
   "source": [
    "avg(10)"
   ]
  },
  {
   "cell_type": "code",
   "execution_count": 92,
   "id": "8e106745",
   "metadata": {},
   "outputs": [
    {
     "data": {
      "text/plain": [
       "10.5"
      ]
     },
     "execution_count": 92,
     "metadata": {},
     "output_type": "execute_result"
    }
   ],
   "source": [
    "avg(11)"
   ]
  },
  {
   "cell_type": "code",
   "execution_count": 93,
   "id": "4824db65",
   "metadata": {},
   "outputs": [
    {
     "data": {
      "text/plain": [
       "11.0"
      ]
     },
     "execution_count": 93,
     "metadata": {},
     "output_type": "execute_result"
    }
   ],
   "source": [
    "avg(12)"
   ]
  },
  {
   "cell_type": "code",
   "execution_count": 108,
   "id": "23f81e6b",
   "metadata": {},
   "outputs": [],
   "source": [
    "def make_averager():\n",
    "    series = []\n",
    "\n",
    "    def averager(new_value): # 호출될 때마다 받은 인수를 series에 추가\n",
    "        print(hex(id(series)))\n",
    "        series.append(new_value) # 함수 외부에 정의된 지역변수 참조\n",
    "        total = sum(series)\n",
    "\n",
    "        return total/len(series)\n",
    "    \n",
    "    return averager"
   ]
  },
  {
   "cell_type": "code",
   "execution_count": 109,
   "id": "00aebe31",
   "metadata": {},
   "outputs": [],
   "source": [
    "avg = make_averager()"
   ]
  },
  {
   "cell_type": "code",
   "execution_count": 110,
   "id": "c01b7038",
   "metadata": {},
   "outputs": [
    {
     "name": "stdout",
     "output_type": "stream",
     "text": [
      "0x107ceb680\n"
     ]
    },
    {
     "data": {
      "text/plain": [
       "10.0"
      ]
     },
     "execution_count": 110,
     "metadata": {},
     "output_type": "execute_result"
    }
   ],
   "source": [
    "avg(10)"
   ]
  },
  {
   "cell_type": "code",
   "execution_count": 111,
   "id": "8d4d4521",
   "metadata": {},
   "outputs": [
    {
     "name": "stdout",
     "output_type": "stream",
     "text": [
      "0x107ceb680\n"
     ]
    },
    {
     "data": {
      "text/plain": [
       "10.5"
      ]
     },
     "execution_count": 111,
     "metadata": {},
     "output_type": "execute_result"
    }
   ],
   "source": [
    "avg(11)"
   ]
  },
  {
   "cell_type": "code",
   "execution_count": 112,
   "id": "9a0d76a4",
   "metadata": {},
   "outputs": [
    {
     "name": "stdout",
     "output_type": "stream",
     "text": [
      "0x107ceb680\n"
     ]
    },
    {
     "data": {
      "text/plain": [
       "11.0"
      ]
     },
     "execution_count": 112,
     "metadata": {},
     "output_type": "execute_result"
    }
   ],
   "source": [
    "avg(12)"
   ]
  },
  {
   "cell_type": "code",
   "execution_count": null,
   "id": "30fbc206",
   "metadata": {},
   "outputs": [],
   "source": []
  },
  {
   "cell_type": "code",
   "execution_count": 113,
   "id": "07d29326",
   "metadata": {},
   "outputs": [
    {
     "data": {
      "text/plain": [
       "<function __main__.make_averager.<locals>.averager(new_value)>"
      ]
     },
     "execution_count": 113,
     "metadata": {},
     "output_type": "execute_result"
    }
   ],
   "source": [
    "avg"
   ]
  },
  {
   "cell_type": "code",
   "execution_count": 114,
   "id": "73f3beeb",
   "metadata": {},
   "outputs": [
    {
     "data": {
      "text/plain": [
       "['__annotations__',\n",
       " '__builtins__',\n",
       " '__call__',\n",
       " '__class__',\n",
       " '__closure__',\n",
       " '__code__',\n",
       " '__defaults__',\n",
       " '__delattr__',\n",
       " '__dict__',\n",
       " '__dir__',\n",
       " '__doc__',\n",
       " '__eq__',\n",
       " '__format__',\n",
       " '__ge__',\n",
       " '__get__',\n",
       " '__getattribute__',\n",
       " '__globals__',\n",
       " '__gt__',\n",
       " '__hash__',\n",
       " '__init__',\n",
       " '__init_subclass__',\n",
       " '__kwdefaults__',\n",
       " '__le__',\n",
       " '__lt__',\n",
       " '__module__',\n",
       " '__name__',\n",
       " '__ne__',\n",
       " '__new__',\n",
       " '__qualname__',\n",
       " '__reduce__',\n",
       " '__reduce_ex__',\n",
       " '__repr__',\n",
       " '__setattr__',\n",
       " '__sizeof__',\n",
       " '__str__',\n",
       " '__subclasshook__']"
      ]
     },
     "execution_count": 114,
     "metadata": {},
     "output_type": "execute_result"
    }
   ],
   "source": [
    "dir(avg)"
   ]
  },
  {
   "cell_type": "code",
   "execution_count": 115,
   "id": "ac43a281",
   "metadata": {},
   "outputs": [
    {
     "data": {
      "text/plain": [
       "<code object averager at 0x1079ab7e0, file \"/var/folders/_s/0rymbx1n0m14zlxptddb3vrw0000gn/T/ipykernel_11435/1338861763.py\", line 4>"
      ]
     },
     "execution_count": 115,
     "metadata": {},
     "output_type": "execute_result"
    }
   ],
   "source": [
    "avg.__code__"
   ]
  },
  {
   "cell_type": "code",
   "execution_count": 116,
   "id": "98427891",
   "metadata": {},
   "outputs": [
    {
     "data": {
      "text/plain": [
       "('new_value', 'total')"
      ]
     },
     "execution_count": 116,
     "metadata": {},
     "output_type": "execute_result"
    }
   ],
   "source": [
    "avg.__code__.co_varnames"
   ]
  },
  {
   "cell_type": "code",
   "execution_count": 117,
   "id": "cf6bc253",
   "metadata": {},
   "outputs": [
    {
     "data": {
      "text/plain": [
       "('series',)"
      ]
     },
     "execution_count": 117,
     "metadata": {},
     "output_type": "execute_result"
    }
   ],
   "source": [
    "avg.__code__.co_freevars"
   ]
  },
  {
   "cell_type": "code",
   "execution_count": 118,
   "id": "f0b452d7",
   "metadata": {},
   "outputs": [
    {
     "data": {
      "text/plain": [
       "(<cell at 0x10794fd60: list object at 0x107ceb680>,)"
      ]
     },
     "execution_count": 118,
     "metadata": {},
     "output_type": "execute_result"
    }
   ],
   "source": [
    "avg.__closure__ # 0x107ceb680"
   ]
  },
  {
   "cell_type": "code",
   "execution_count": 123,
   "id": "1427f574",
   "metadata": {},
   "outputs": [
    {
     "data": {
      "text/plain": [
       "['__class__',\n",
       " '__delattr__',\n",
       " '__dir__',\n",
       " '__doc__',\n",
       " '__eq__',\n",
       " '__format__',\n",
       " '__ge__',\n",
       " '__getattribute__',\n",
       " '__gt__',\n",
       " '__hash__',\n",
       " '__init__',\n",
       " '__init_subclass__',\n",
       " '__le__',\n",
       " '__lt__',\n",
       " '__ne__',\n",
       " '__new__',\n",
       " '__reduce__',\n",
       " '__reduce_ex__',\n",
       " '__repr__',\n",
       " '__setattr__',\n",
       " '__sizeof__',\n",
       " '__str__',\n",
       " '__subclasshook__',\n",
       " 'cell_contents']"
      ]
     },
     "execution_count": 123,
     "metadata": {},
     "output_type": "execute_result"
    }
   ],
   "source": [
    "dir(avg.__closure__[0])"
   ]
  },
  {
   "cell_type": "code",
   "execution_count": 124,
   "id": "637e4ac1",
   "metadata": {},
   "outputs": [
    {
     "data": {
      "text/plain": [
       "[10, 11, 12]"
      ]
     },
     "execution_count": 124,
     "metadata": {},
     "output_type": "execute_result"
    }
   ],
   "source": [
    "avg.__closure__[0].cell_contents"
   ]
  },
  {
   "cell_type": "code",
   "execution_count": 127,
   "id": "15882465",
   "metadata": {},
   "outputs": [
    {
     "data": {
      "text/plain": [
       "'0x1078e4eb0'"
      ]
     },
     "execution_count": 127,
     "metadata": {},
     "output_type": "execute_result"
    }
   ],
   "source": [
    "hex(id(avg.__closure__))"
   ]
  },
  {
   "cell_type": "code",
   "execution_count": null,
   "id": "fcdf35b4",
   "metadata": {},
   "outputs": [],
   "source": []
  },
  {
   "cell_type": "markdown",
   "id": "71d50762",
   "metadata": {},
   "source": [
    "# 6. nonlocal 선언"
   ]
  },
  {
   "cell_type": "code",
   "execution_count": 131,
   "id": "44492aa4",
   "metadata": {},
   "outputs": [],
   "source": [
    "def make_average():\n",
    "    count = 0\n",
    "    total = 0\n",
    "    \n",
    "    def average(new_value):\n",
    "        count += 1 # 얘가 값을 변경하는 문장이기 때문에 지역 변수로 보는데 그 지역변수가 없어서 발생하는 에러... 아까 위에서 봤던 거\n",
    "        total += new_value\n",
    "        \n",
    "        return total / count\n",
    "    \n",
    "    return average"
   ]
  },
  {
   "cell_type": "code",
   "execution_count": 132,
   "id": "dbe76294",
   "metadata": {},
   "outputs": [],
   "source": [
    "avg = make_average()"
   ]
  },
  {
   "cell_type": "code",
   "execution_count": 133,
   "id": "780798ff",
   "metadata": {},
   "outputs": [
    {
     "ename": "UnboundLocalError",
     "evalue": "local variable 'count' referenced before assignment",
     "output_type": "error",
     "traceback": [
      "\u001b[0;31m---------------------------------------------------------------------------\u001b[0m",
      "\u001b[0;31mUnboundLocalError\u001b[0m                         Traceback (most recent call last)",
      "Cell \u001b[0;32mIn[133], line 1\u001b[0m\n\u001b[0;32m----> 1\u001b[0m \u001b[43mavg\u001b[49m\u001b[43m(\u001b[49m\u001b[38;5;241;43m10\u001b[39;49m\u001b[43m)\u001b[49m\n",
      "Cell \u001b[0;32mIn[131], line 6\u001b[0m, in \u001b[0;36mmake_average.<locals>.average\u001b[0;34m(new_value)\u001b[0m\n\u001b[1;32m      5\u001b[0m \u001b[38;5;28;01mdef\u001b[39;00m \u001b[38;5;21maverage\u001b[39m(new_value):\n\u001b[0;32m----> 6\u001b[0m     count \u001b[38;5;241m+\u001b[39m\u001b[38;5;241m=\u001b[39m \u001b[38;5;241m1\u001b[39m \u001b[38;5;66;03m# 얘가 값을 변경하는 문장이기 때문에 지역 변수로 보는데 그 지역변수가 없어서 발생하는 에러... 아까 위에서 봤던 거\u001b[39;00m\n\u001b[1;32m      7\u001b[0m     total \u001b[38;5;241m+\u001b[39m\u001b[38;5;241m=\u001b[39m new_value\n\u001b[1;32m      9\u001b[0m     \u001b[38;5;28;01mreturn\u001b[39;00m total \u001b[38;5;241m/\u001b[39m count\n",
      "\u001b[0;31mUnboundLocalError\u001b[0m: local variable 'count' referenced before assignment"
     ]
    }
   ],
   "source": [
    "avg(10)"
   ]
  },
  {
   "cell_type": "markdown",
   "id": "d55f9409",
   "metadata": {},
   "source": []
  },
  {
   "cell_type": "code",
   "execution_count": 134,
   "id": "acbe2d51",
   "metadata": {},
   "outputs": [],
   "source": [
    "def make_average():\n",
    "    count = 0\n",
    "    total = 0\n",
    "    \n",
    "    def average(new_value):\n",
    "        nonlocal count, total\n",
    "        \n",
    "        count += 1 \n",
    "        total += new_value\n",
    "        \n",
    "        return total / count\n",
    "    \n",
    "    return average"
   ]
  },
  {
   "cell_type": "code",
   "execution_count": 136,
   "id": "ff8c03be",
   "metadata": {},
   "outputs": [],
   "source": [
    "avg = make_average()"
   ]
  },
  {
   "cell_type": "code",
   "execution_count": 138,
   "id": "f6653063",
   "metadata": {},
   "outputs": [
    {
     "data": {
      "text/plain": [
       "10.0"
      ]
     },
     "execution_count": 138,
     "metadata": {},
     "output_type": "execute_result"
    }
   ],
   "source": [
    "avg(10)"
   ]
  },
  {
   "cell_type": "code",
   "execution_count": 139,
   "id": "479a3990",
   "metadata": {},
   "outputs": [
    {
     "data": {
      "text/plain": [
       "13.333333333333334"
      ]
     },
     "execution_count": 139,
     "metadata": {},
     "output_type": "execute_result"
    }
   ],
   "source": [
    "avg(20)"
   ]
  },
  {
   "cell_type": "code",
   "execution_count": null,
   "id": "52a53b82",
   "metadata": {},
   "outputs": [],
   "source": []
  },
  {
   "cell_type": "markdown",
   "id": "46247827",
   "metadata": {},
   "source": [
    "# 7. 간단한 데코레이터 구현하기"
   ]
  },
  {
   "cell_type": "code",
   "execution_count": 4,
   "id": "1aee8642",
   "metadata": {},
   "outputs": [],
   "source": [
    "import time"
   ]
  },
  {
   "cell_type": "code",
   "execution_count": 44,
   "id": "0457f953",
   "metadata": {},
   "outputs": [],
   "source": [
    "def clock(func):\n",
    "    def clocked(*args): # 위치인수 받기\n",
    "#         print('test23432423423 : ', *args)\n",
    "        \n",
    "        t0 = time.time()\n",
    "        result = func(*args)\n",
    "        elapsed = time.time() - t0\n",
    "        name = func.__name__\n",
    "        arg_str = ', '.join(repr(arg) for arg in args)\n",
    "        print('[%0.8fs] %s(%s) -> %r' % (elapsed, name, arg_str, result))\n",
    "        return result\n",
    "    return clocked"
   ]
  },
  {
   "cell_type": "code",
   "execution_count": 45,
   "id": "b17639a2",
   "metadata": {},
   "outputs": [
    {
     "name": "stdout",
     "output_type": "stream",
     "text": [
      "**************************************** Calling snooze(.123)\n",
      "[0.12804413s] snooze(0.123) -> None\n",
      "**************************************** Calling factorial(6)\n",
      "[0.00000119s] factorial(1) -> 1\n",
      "[0.00002098s] factorial(2) -> 2\n",
      "[0.00003290s] factorial(3) -> 6\n",
      "[0.00004506s] factorial(4) -> 24\n",
      "[0.00005913s] factorial(5) -> 120\n",
      "[0.00007415s] factorial(6) -> 720\n",
      "6! = 720\n"
     ]
    }
   ],
   "source": [
    "@clock\n",
    "def testFunc(numTest, hi):\n",
    "    print(numTest)\n",
    "\n",
    "@clock\n",
    "def snooze(seconds):\n",
    "    time.sleep(seconds)\n",
    "\n",
    "@clock\n",
    "def factorial(n):\n",
    "    return 1 if n < 2 else n*factorial(n-1)\n",
    "\n",
    "if __name__=='__main__':\n",
    "    print('*' * 40, 'Calling snooze(.123)')\n",
    "    snooze(.123)\n",
    "    print('*' * 40, 'Calling factorial(6)')\n",
    "    print('6! =', factorial(6))"
   ]
  },
  {
   "cell_type": "code",
   "execution_count": null,
   "id": "f3a25240",
   "metadata": {},
   "outputs": [],
   "source": []
  },
  {
   "cell_type": "code",
   "execution_count": null,
   "id": "d538a024",
   "metadata": {},
   "outputs": [],
   "source": []
  },
  {
   "cell_type": "code",
   "execution_count": null,
   "id": "3191551a",
   "metadata": {},
   "outputs": [],
   "source": []
  },
  {
   "cell_type": "code",
   "execution_count": null,
   "id": "bbdb2a21",
   "metadata": {},
   "outputs": [],
   "source": []
  },
  {
   "cell_type": "code",
   "execution_count": null,
   "id": "87686bd6",
   "metadata": {},
   "outputs": [],
   "source": []
  },
  {
   "cell_type": "code",
   "execution_count": 46,
   "id": "a60134a0",
   "metadata": {},
   "outputs": [
    {
     "name": "stdout",
     "output_type": "stream",
     "text": [
      "1\n",
      "[0.00004888s] testFunc(1, 2) -> None\n"
     ]
    }
   ],
   "source": [
    "hi = testFunc(1, 2)"
   ]
  },
  {
   "cell_type": "code",
   "execution_count": 47,
   "id": "cc170690",
   "metadata": {},
   "outputs": [
    {
     "name": "stdout",
     "output_type": "stream",
     "text": [
      "None\n"
     ]
    }
   ],
   "source": [
    "print(hi)"
   ]
  },
  {
   "cell_type": "code",
   "execution_count": 48,
   "id": "127ed6ee",
   "metadata": {},
   "outputs": [
    {
     "name": "stdout",
     "output_type": "stream",
     "text": [
      "1\n",
      "[0.00004387s] testFunc(1, 2) -> None\n"
     ]
    }
   ],
   "source": [
    "testFunc(1, 2)\n",
    "\n",
    "# 위치 인수에 저 별을 붙이는 이유가 뭐였더라......."
   ]
  },
  {
   "cell_type": "code",
   "execution_count": null,
   "id": "fd8d2532",
   "metadata": {},
   "outputs": [],
   "source": []
  },
  {
   "cell_type": "code",
   "execution_count": null,
   "id": "5404e997",
   "metadata": {},
   "outputs": [],
   "source": []
  },
  {
   "cell_type": "markdown",
   "id": "d042582b",
   "metadata": {},
   "source": [
    "## 7.1 작동 과정"
   ]
  },
  {
   "cell_type": "code",
   "execution_count": 49,
   "id": "c2f06c44",
   "metadata": {},
   "outputs": [
    {
     "data": {
      "text/plain": [
       "<function __main__.clock.<locals>.clocked(*args)>"
      ]
     },
     "execution_count": 49,
     "metadata": {},
     "output_type": "execute_result"
    }
   ],
   "source": [
    "factorial"
   ]
  },
  {
   "cell_type": "code",
   "execution_count": 50,
   "id": "b41b2798",
   "metadata": {},
   "outputs": [
    {
     "data": {
      "text/plain": [
       "'clocked'"
      ]
     },
     "execution_count": 50,
     "metadata": {},
     "output_type": "execute_result"
    }
   ],
   "source": [
    "factorial.__name__"
   ]
  },
  {
   "cell_type": "code",
   "execution_count": null,
   "id": "3c80896e",
   "metadata": {},
   "outputs": [],
   "source": []
  },
  {
   "cell_type": "markdown",
   "id": "2fd4d994",
   "metadata": {},
   "source": [
    "# 8. 표준 라이브러리에서 제공하는 데코레이터"
   ]
  },
  {
   "cell_type": "markdown",
   "id": "749774ac",
   "metadata": {},
   "source": [
    "## 8.1 functools.lru_cache()를 이용한 메모이제이션"
   ]
  },
  {
   "cell_type": "code",
   "execution_count": 51,
   "id": "313a8d1b",
   "metadata": {},
   "outputs": [],
   "source": [
    "# 스칼라 서브쿼리 느낌.."
   ]
  },
  {
   "cell_type": "code",
   "execution_count": 52,
   "id": "9fe65281",
   "metadata": {},
   "outputs": [],
   "source": [
    "@clock\n",
    "def fibonacci(n):\n",
    "    if n < 2:\n",
    "        return n\n",
    "    return "
   ]
  },
  {
   "cell_type": "code",
   "execution_count": null,
   "id": "8d7e5e38",
   "metadata": {},
   "outputs": [],
   "source": []
  },
  {
   "cell_type": "code",
   "execution_count": 53,
   "id": "5f96d9b7",
   "metadata": {},
   "outputs": [
    {
     "name": "stdout",
     "output_type": "stream",
     "text": [
      "[0.00000072s] fibonacci(0) -> 0\n",
      "[0.00000000s] fibonacci(1) -> 1\n",
      "[0.00026512s] fibonacci(2) -> 1\n",
      "[0.00000000s] fibonacci(1) -> 1\n",
      "[0.00000000s] fibonacci(0) -> 0\n",
      "[0.00000000s] fibonacci(1) -> 1\n",
      "[0.00001097s] fibonacci(2) -> 1\n",
      "[0.00002217s] fibonacci(3) -> 2\n",
      "[0.00029898s] fibonacci(4) -> 3\n",
      "[0.00000119s] fibonacci(1) -> 1\n",
      "[0.00000000s] fibonacci(0) -> 0\n",
      "[0.00000000s] fibonacci(1) -> 1\n",
      "[0.00001097s] fibonacci(2) -> 1\n",
      "[0.00002003s] fibonacci(3) -> 2\n",
      "[0.00000000s] fibonacci(0) -> 0\n",
      "[0.00000000s] fibonacci(1) -> 1\n",
      "[0.00001001s] fibonacci(2) -> 1\n",
      "[0.00000000s] fibonacci(1) -> 1\n",
      "[0.00000000s] fibonacci(0) -> 0\n",
      "[0.00000000s] fibonacci(1) -> 1\n",
      "[0.00001097s] fibonacci(2) -> 1\n",
      "[0.00002623s] fibonacci(3) -> 2\n",
      "[0.00005198s] fibonacci(4) -> 3\n",
      "[0.00008726s] fibonacci(5) -> 5\n",
      "[0.00040174s] fibonacci(6) -> 8\n",
      "8\n"
     ]
    }
   ],
   "source": [
    "@clock  # <2>\n",
    "def fibonacci(n):\n",
    "    if n < 2:\n",
    "        return n\n",
    "    return fibonacci(n-2) + fibonacci(n-1)\n",
    "\n",
    "if __name__=='__main__':\n",
    "    print(fibonacci(6))"
   ]
  },
  {
   "cell_type": "code",
   "execution_count": null,
   "id": "e2940e8a",
   "metadata": {},
   "outputs": [],
   "source": []
  },
  {
   "cell_type": "markdown",
   "id": "737b4b73",
   "metadata": {},
   "source": [
    "### 캐시를 이용한 더 빠른 구현"
   ]
  },
  {
   "cell_type": "code",
   "execution_count": null,
   "id": "b478ed54",
   "metadata": {},
   "outputs": [],
   "source": []
  },
  {
   "cell_type": "code",
   "execution_count": null,
   "id": "f463e3c2",
   "metadata": {},
   "outputs": [],
   "source": []
  },
  {
   "cell_type": "code",
   "execution_count": null,
   "id": "39a9a08b",
   "metadata": {},
   "outputs": [],
   "source": []
  },
  {
   "cell_type": "code",
   "execution_count": null,
   "id": "e7baeb75",
   "metadata": {},
   "outputs": [],
   "source": []
  },
  {
   "cell_type": "markdown",
   "id": "8c75deee",
   "metadata": {},
   "source": [
    "# 10. 매개변수화된 데코레이터"
   ]
  },
  {
   "cell_type": "markdown",
   "id": "adf78807",
   "metadata": {},
   "source": [
    "## 10.1 매개변수화된 등록 데코레이터"
   ]
  },
  {
   "cell_type": "code",
   "execution_count": 54,
   "id": "22abc482",
   "metadata": {},
   "outputs": [
    {
     "name": "stdout",
     "output_type": "stream",
     "text": [
      "running register(active=False)->decorate(<function f1 at 0x10690a290>)\n",
      "running register(active=True)->decorate(<function f2 at 0x1069081f0>)\n"
     ]
    }
   ],
   "source": [
    "registry = set()  # <1>\n",
    "\n",
    "def register(active=True):  # <2>\n",
    "    def decorate(func):  # <3>\n",
    "        print('running register(active=%s)->decorate(%s)'\n",
    "              % (active, func))\n",
    "        if active:   # <4>\n",
    "            registry.add(func)\n",
    "        else:\n",
    "            registry.discard(func)  # <5>\n",
    "\n",
    "        return func  # <6>\n",
    "    return decorate  # <7>\n",
    "\n",
    "@register(active=False)  # <8>\n",
    "def f1():\n",
    "    print('running f1()')\n",
    "\n",
    "@register()  # <9>\n",
    "def f2():\n",
    "    print('running f2()')\n",
    "\n",
    "def f3():\n",
    "    print('running f3()')"
   ]
  },
  {
   "cell_type": "code",
   "execution_count": 55,
   "id": "de4d5d61",
   "metadata": {},
   "outputs": [
    {
     "name": "stdout",
     "output_type": "stream",
     "text": [
      "running f1()\n"
     ]
    }
   ],
   "source": [
    "f1()"
   ]
  },
  {
   "cell_type": "code",
   "execution_count": 58,
   "id": "0110feaa",
   "metadata": {},
   "outputs": [
    {
     "ename": "TypeError",
     "evalue": "f2() takes 0 positional arguments but 1 was given",
     "output_type": "error",
     "traceback": [
      "\u001b[0;31m---------------------------------------------------------------------------\u001b[0m",
      "\u001b[0;31mTypeError\u001b[0m                                 Traceback (most recent call last)",
      "Cell \u001b[0;32mIn[58], line 1\u001b[0m\n\u001b[0;32m----> 1\u001b[0m \u001b[43mf2\u001b[49m\u001b[43m(\u001b[49m\u001b[38;5;241;43m3\u001b[39;49m\u001b[43m)\u001b[49m\n",
      "\u001b[0;31mTypeError\u001b[0m: f2() takes 0 positional arguments but 1 was given"
     ]
    }
   ],
   "source": [
    "f2(3)"
   ]
  },
  {
   "cell_type": "code",
   "execution_count": 59,
   "id": "e862b929",
   "metadata": {},
   "outputs": [
    {
     "data": {
      "text/plain": [
       "['In',\n",
       " 'Out',\n",
       " '_',\n",
       " '_36',\n",
       " '_37',\n",
       " '_38',\n",
       " '_39',\n",
       " '_40',\n",
       " '_41',\n",
       " '_49',\n",
       " '_50',\n",
       " '__',\n",
       " '___',\n",
       " '__builtin__',\n",
       " '__builtins__',\n",
       " '__doc__',\n",
       " '__loader__',\n",
       " '__name__',\n",
       " '__package__',\n",
       " '__spec__',\n",
       " '_dh',\n",
       " '_i',\n",
       " '_i1',\n",
       " '_i10',\n",
       " '_i11',\n",
       " '_i12',\n",
       " '_i13',\n",
       " '_i14',\n",
       " '_i15',\n",
       " '_i16',\n",
       " '_i17',\n",
       " '_i18',\n",
       " '_i19',\n",
       " '_i2',\n",
       " '_i20',\n",
       " '_i21',\n",
       " '_i22',\n",
       " '_i23',\n",
       " '_i24',\n",
       " '_i25',\n",
       " '_i26',\n",
       " '_i27',\n",
       " '_i28',\n",
       " '_i29',\n",
       " '_i3',\n",
       " '_i30',\n",
       " '_i31',\n",
       " '_i32',\n",
       " '_i33',\n",
       " '_i34',\n",
       " '_i35',\n",
       " '_i36',\n",
       " '_i37',\n",
       " '_i38',\n",
       " '_i39',\n",
       " '_i4',\n",
       " '_i40',\n",
       " '_i41',\n",
       " '_i42',\n",
       " '_i43',\n",
       " '_i44',\n",
       " '_i45',\n",
       " '_i46',\n",
       " '_i47',\n",
       " '_i48',\n",
       " '_i49',\n",
       " '_i5',\n",
       " '_i50',\n",
       " '_i51',\n",
       " '_i52',\n",
       " '_i53',\n",
       " '_i54',\n",
       " '_i55',\n",
       " '_i56',\n",
       " '_i57',\n",
       " '_i58',\n",
       " '_i59',\n",
       " '_i6',\n",
       " '_i7',\n",
       " '_i8',\n",
       " '_i9',\n",
       " '_ih',\n",
       " '_ii',\n",
       " '_iii',\n",
       " '_oh',\n",
       " 'clock',\n",
       " 'exit',\n",
       " 'f1',\n",
       " 'f2',\n",
       " 'f3',\n",
       " 'factorial',\n",
       " 'fibonacci',\n",
       " 'get_ipython',\n",
       " 'hi',\n",
       " 'open',\n",
       " 'print_args',\n",
       " 'quit',\n",
       " 'register',\n",
       " 'registry',\n",
       " 'snooze',\n",
       " 'testFunc',\n",
       " 'time']"
      ]
     },
     "execution_count": 59,
     "metadata": {},
     "output_type": "execute_result"
    }
   ],
   "source": [
    "dir()"
   ]
  },
  {
   "cell_type": "code",
   "execution_count": 60,
   "id": "4fd73b9b",
   "metadata": {},
   "outputs": [
    {
     "data": {
      "text/plain": [
       "{'__name__': '__main__',\n",
       " '__doc__': 'Automatically created module for IPython interactive environment',\n",
       " '__package__': None,\n",
       " '__loader__': None,\n",
       " '__spec__': None,\n",
       " '__builtin__': <module 'builtins' (built-in)>,\n",
       " '__builtins__': <module 'builtins' (built-in)>,\n",
       " '_ih': ['',\n",
       "  'import time',\n",
       "  \"def clock(func):\\n    def clocked(*args):\\n        t0 = time.time()\\n        result = func(*args)\\n        elapsed = time.time() - t0\\n        name = func.__name__\\n        arg_str = ', '.join(repr(arg) for arg in args)\\n        print('[%0.8fs] %s(%s) -> %r' % (elapsed, name, arg_str, result))\\n        return result\\n    return clocked\",\n",
       "  \"@clock\\ndef snooze(seconds):\\n    time.sleep(seconds)\\n\\n@clock\\ndef factorial(n):\\n    return 1 if n < 2 else n*factorial(n-1)\\n\\nif __name__=='__main__':\\n    print('*' * 40, 'Calling snooze(.123)')\\n    snooze(.123)\\n    print('*' * 40, 'Calling factorial(6)')\\n    print('6! =', factorial(6))\",\n",
       "  'import time',\n",
       "  \"def clock(func):\\n    def clocked(*args): # 위치인수 받기\\n        print('test23432423423 : ' + args)\\n        \\n        t0 = time.time()\\n        result = func(*args)\\n        elapsed = time.time() - t0\\n        name = func.__name__\\n        arg_str = ', '.join(repr(arg) for arg in args)\\n        print('[%0.8fs] %s(%s) -> %r' % (elapsed, name, arg_str, result))\\n        return result\\n    return clocked\",\n",
       "  \"@clock\\ndef snooze(seconds):\\n    time.sleep(seconds)\\n\\n@clock\\ndef factorial(n):\\n    return 1 if n < 2 else n*factorial(n-1)\\n\\nif __name__=='__main__':\\n    print('*' * 40, 'Calling snooze(.123)')\\n    snooze(.123)\\n    print('*' * 40, 'Calling factorial(6)')\\n    print('6! =', factorial(6))\",\n",
       "  \"def clock(func):\\n    def clocked(*args): # 위치인수 받기\\n        print('test23432423423 : ', args)\\n        \\n        t0 = time.time()\\n        result = func(*args)\\n        elapsed = time.time() - t0\\n        name = func.__name__\\n        arg_str = ', '.join(repr(arg) for arg in args)\\n        print('[%0.8fs] %s(%s) -> %r' % (elapsed, name, arg_str, result))\\n        return result\\n    return clocked\",\n",
       "  \"@clock\\ndef snooze(seconds):\\n    time.sleep(seconds)\\n\\n@clock\\ndef factorial(n):\\n    return 1 if n < 2 else n*factorial(n-1)\\n\\nif __name__=='__main__':\\n    print('*' * 40, 'Calling snooze(.123)')\\n    snooze(.123)\\n    print('*' * 40, 'Calling factorial(6)')\\n    print('6! =', factorial(6))\",\n",
       "  \"@clock\\ndef testFunc(numTest):\\n    print(numTest)\\n\\n@clock\\ndef snooze(seconds):\\n    time.sleep(seconds)\\n\\n@clock\\ndef factorial(n):\\n    return 1 if n < 2 else n*factorial(n-1)\\n\\nif __name__=='__main__':\\n    print('*' * 40, 'Calling snooze(.123)')\\n    snooze(.123)\\n    print('*' * 40, 'Calling factorial(6)')\\n    print('6! =', factorial(6))\",\n",
       "  \"@clock\\ndef testFunc(numTest):\\n    print(numTest)\\n\\n@clock\\ndef snooze(seconds):\\n    time.sleep(seconds)\\n\\n@clock\\ndef factorial(n):\\n    return 1 if n < 2 else n*factorial(n-1)\\n\\n# if __name__=='__main__':\\n#     print('*' * 40, 'Calling snooze(.123)')\\n#     snooze(.123)\\n#     print('*' * 40, 'Calling factorial(6)')\\n#     print('6! =', factorial(6))\",\n",
       "  'testFunc(3)',\n",
       "  \"testFunc(['hi', 'nice', 2], 10)\",\n",
       "  \"testFunc(['hi', 'nice', 2])\",\n",
       "  \"testFunc(['hi', 'nice', 2])\",\n",
       "  'testFunc(1, 2)',\n",
       "  \"def print_args(*args):\\n    print('Positional tuple:',args)\\n\\nprint_args()\\nPositional tuple: ()\\n\\nprint_args(3,2,1,'wait!','uh...') #인수를 넣어서 튜플을 출력 \\nPositional tuple: (3, 2, 1, 'wait!', 'uh...')\",\n",
       "  \"def print_args(*args):\\n    print('Positional tuple:',args)\\n\\nprint_args()\\n\\nprint_args(3,2,1,'wait!','uh...') #인수를 넣어서 튜플을 출력 \",\n",
       "  'testFunc(1, 2)',\n",
       "  \"@clock\\ndef testFunc(numTest, hi):\\n    print(numTest)\\n\\n@clock\\ndef snooze(seconds):\\n    time.sleep(seconds)\\n\\n@clock\\ndef factorial(n):\\n    return 1 if n < 2 else n*factorial(n-1)\\n\\n# if __name__=='__main__':\\n#     print('*' * 40, 'Calling snooze(.123)')\\n#     snooze(.123)\\n#     print('*' * 40, 'Calling factorial(6)')\\n#     print('6! =', factorial(6))\",\n",
       "  'testFunc(1, 2)',\n",
       "  \"def clock(func, *args):\\n    def clocked(*args): # 위치인수 받기\\n        print('test23432423423 : ', args)\\n        \\n        t0 = time.time()\\n        result = func(*args)\\n        elapsed = time.time() - t0\\n        name = func.__name__\\n        arg_str = ', '.join(repr(arg) for arg in args)\\n        print('[%0.8fs] %s(%s) -> %r' % (elapsed, name, arg_str, result))\\n        return result\\n    return clocked\",\n",
       "  \"@clock\\ndef testFunc(numTest, hi):\\n    print(numTest)\\n\\n@clock\\ndef snooze(seconds):\\n    time.sleep(seconds)\\n\\n@clock\\ndef factorial(n):\\n    return 1 if n < 2 else n*factorial(n-1)\\n\\n# if __name__=='__main__':\\n#     print('*' * 40, 'Calling snooze(.123)')\\n#     snooze(.123)\\n#     print('*' * 40, 'Calling factorial(6)')\\n#     print('6! =', factorial(6))\",\n",
       "  'testFunc(1, 2)',\n",
       "  \"def clock(func):\\n    def clocked(*args): # 위치인수 받기\\n        print('test23432423423 : ', args)\\n        \\n        t0 = time.time()\\n        result = func(*args)\\n        elapsed = time.time() - t0\\n        name = func.__name__\\n        arg_str = ', '.join(repr(arg) for arg in args)\\n        print('[%0.8fs] %s(%s) -> %r' % (elapsed, name, arg_str, result))\\n        return result\\n    return clocked\",\n",
       "  \"@clock\\ndef testFunc(numTest, hi):\\n    print(numTest)\\n\\n@clock\\ndef snooze(seconds):\\n    time.sleep(seconds)\\n\\n@clock\\ndef factorial(n):\\n    return 1 if n < 2 else n*factorial(n-1)\\n\\n# if __name__=='__main__':\\n#     print('*' * 40, 'Calling snooze(.123)')\\n#     snooze(.123)\\n#     print('*' * 40, 'Calling factorial(6)')\\n#     print('6! =', factorial(6))\",\n",
       "  'testFunc(1, 2)',\n",
       "  \"def clock(func):\\n    def clocked(*args): # 위치인수 받기\\n        print('test23432423423 : ', *args)\\n        \\n        t0 = time.time()\\n        result = func(*args)\\n        elapsed = time.time() - t0\\n        name = func.__name__\\n        arg_str = ', '.join(repr(arg) for arg in args)\\n        print('[%0.8fs] %s(%s) -> %r' % (elapsed, name, arg_str, result))\\n        return result\\n    return clocked\",\n",
       "  \"@clock\\ndef testFunc(numTest, hi):\\n    print(numTest)\\n\\n@clock\\ndef snooze(seconds):\\n    time.sleep(seconds)\\n\\n@clock\\ndef factorial(n):\\n    return 1 if n < 2 else n*factorial(n-1)\\n\\n# if __name__=='__main__':\\n#     print('*' * 40, 'Calling snooze(.123)')\\n#     snooze(.123)\\n#     print('*' * 40, 'Calling factorial(6)')\\n#     print('6! =', factorial(6))\",\n",
       "  'testFunc(1, 2)',\n",
       "  'hi = testFunc(1, 2)',\n",
       "  'hi(1, 2)',\n",
       "  'hi',\n",
       "  'print(hi)',\n",
       "  'snooze()',\n",
       "  \"@clock\\ndef testFunc(numTest, hi):\\n    print(numTest)\\n\\n@clock\\ndef snooze(seconds):\\n    time.sleep(seconds)\\n\\n@clock\\ndef factorial(n):\\n    return 1 if n < 2 else n*factorial(n-1)\\n\\nif __name__=='__main__':\\n    print('*' * 40, 'Calling snooze(.123)')\\n    snooze(.123)\\n    print('*' * 40, 'Calling factorial(6)')\\n    print('6! =', factorial(6))\",\n",
       "  'factorial',\n",
       "  'factorial.__name__',\n",
       "  'factorial',\n",
       "  'factorial.__name__',\n",
       "  'factorial',\n",
       "  'factorial.__name__',\n",
       "  '# 스칼라 서브쿼리 느낌..',\n",
       "  \"@clock  # <2>\\ndef fibonacci(n):\\n    if n < 2:\\n        return n\\n    return fibonacci(n-2) + fibonacci(n-1)\\n\\nif __name__=='__main__':\\n    print(fibonacci(6))\",\n",
       "  \"def clock(func):\\n    def clocked(*args): # 위치인수 받기\\n#         print('test23432423423 : ', *args)\\n        \\n        t0 = time.time()\\n        result = func(*args)\\n        elapsed = time.time() - t0\\n        name = func.__name__\\n        arg_str = ', '.join(repr(arg) for arg in args)\\n        print('[%0.8fs] %s(%s) -> %r' % (elapsed, name, arg_str, result))\\n        return result\\n    return clocked\",\n",
       "  \"@clock\\ndef testFunc(numTest, hi):\\n    print(numTest)\\n\\n@clock\\ndef snooze(seconds):\\n    time.sleep(seconds)\\n\\n@clock\\ndef factorial(n):\\n    return 1 if n < 2 else n*factorial(n-1)\\n\\nif __name__=='__main__':\\n    print('*' * 40, 'Calling snooze(.123)')\\n    snooze(.123)\\n    print('*' * 40, 'Calling factorial(6)')\\n    print('6! =', factorial(6))\",\n",
       "  'hi = testFunc(1, 2)',\n",
       "  'print(hi)',\n",
       "  'testFunc(1, 2)\\n\\n# 위치 인수에 저 별을 붙이는 이유가 뭐였더라.......',\n",
       "  'factorial',\n",
       "  'factorial.__name__',\n",
       "  '# 스칼라 서브쿼리 느낌..',\n",
       "  '@clock\\ndef fibonacci(n):\\n    if n < 2:\\n        return n\\n    return ',\n",
       "  \"@clock  # <2>\\ndef fibonacci(n):\\n    if n < 2:\\n        return n\\n    return fibonacci(n-2) + fibonacci(n-1)\\n\\nif __name__=='__main__':\\n    print(fibonacci(6))\",\n",
       "  \"registry = set()  # <1>\\n\\ndef register(active=True):  # <2>\\n    def decorate(func):  # <3>\\n        print('running register(active=%s)->decorate(%s)'\\n              % (active, func))\\n        if active:   # <4>\\n            registry.add(func)\\n        else:\\n            registry.discard(func)  # <5>\\n\\n        return func  # <6>\\n    return decorate  # <7>\\n\\n@register(active=False)  # <8>\\ndef f1():\\n    print('running f1()')\\n\\n@register()  # <9>\\ndef f2():\\n    print('running f2()')\\n\\ndef f3():\\n    print('running f3()')\",\n",
       "  'f1()',\n",
       "  \"f1('hi')\",\n",
       "  'f1(3)',\n",
       "  'f2(3)',\n",
       "  'dir()',\n",
       "  'globals()'],\n",
       " '_oh': {36: <function __main__.clock.<locals>.clocked(*args)>,\n",
       "  37: 'clocked',\n",
       "  38: <function __main__.clock.<locals>.clocked(*args)>,\n",
       "  39: 'clocked',\n",
       "  40: <function __main__.clock.<locals>.clocked(*args)>,\n",
       "  41: 'clocked',\n",
       "  49: <function __main__.clock.<locals>.clocked(*args)>,\n",
       "  50: 'clocked',\n",
       "  59: ['In',\n",
       "   'Out',\n",
       "   '_',\n",
       "   '_36',\n",
       "   '_37',\n",
       "   '_38',\n",
       "   '_39',\n",
       "   '_40',\n",
       "   '_41',\n",
       "   '_49',\n",
       "   '_50',\n",
       "   '__',\n",
       "   '___',\n",
       "   '__builtin__',\n",
       "   '__builtins__',\n",
       "   '__doc__',\n",
       "   '__loader__',\n",
       "   '__name__',\n",
       "   '__package__',\n",
       "   '__spec__',\n",
       "   '_dh',\n",
       "   '_i',\n",
       "   '_i1',\n",
       "   '_i10',\n",
       "   '_i11',\n",
       "   '_i12',\n",
       "   '_i13',\n",
       "   '_i14',\n",
       "   '_i15',\n",
       "   '_i16',\n",
       "   '_i17',\n",
       "   '_i18',\n",
       "   '_i19',\n",
       "   '_i2',\n",
       "   '_i20',\n",
       "   '_i21',\n",
       "   '_i22',\n",
       "   '_i23',\n",
       "   '_i24',\n",
       "   '_i25',\n",
       "   '_i26',\n",
       "   '_i27',\n",
       "   '_i28',\n",
       "   '_i29',\n",
       "   '_i3',\n",
       "   '_i30',\n",
       "   '_i31',\n",
       "   '_i32',\n",
       "   '_i33',\n",
       "   '_i34',\n",
       "   '_i35',\n",
       "   '_i36',\n",
       "   '_i37',\n",
       "   '_i38',\n",
       "   '_i39',\n",
       "   '_i4',\n",
       "   '_i40',\n",
       "   '_i41',\n",
       "   '_i42',\n",
       "   '_i43',\n",
       "   '_i44',\n",
       "   '_i45',\n",
       "   '_i46',\n",
       "   '_i47',\n",
       "   '_i48',\n",
       "   '_i49',\n",
       "   '_i5',\n",
       "   '_i50',\n",
       "   '_i51',\n",
       "   '_i52',\n",
       "   '_i53',\n",
       "   '_i54',\n",
       "   '_i55',\n",
       "   '_i56',\n",
       "   '_i57',\n",
       "   '_i58',\n",
       "   '_i59',\n",
       "   '_i6',\n",
       "   '_i7',\n",
       "   '_i8',\n",
       "   '_i9',\n",
       "   '_ih',\n",
       "   '_ii',\n",
       "   '_iii',\n",
       "   '_oh',\n",
       "   'clock',\n",
       "   'exit',\n",
       "   'f1',\n",
       "   'f2',\n",
       "   'f3',\n",
       "   'factorial',\n",
       "   'fibonacci',\n",
       "   'get_ipython',\n",
       "   'hi',\n",
       "   'open',\n",
       "   'print_args',\n",
       "   'quit',\n",
       "   'register',\n",
       "   'registry',\n",
       "   'snooze',\n",
       "   'testFunc',\n",
       "   'time']},\n",
       " '_dh': [PosixPath('/Users/coals0115/study/python/python-study/Fluent-Python')],\n",
       " 'In': ['',\n",
       "  'import time',\n",
       "  \"def clock(func):\\n    def clocked(*args):\\n        t0 = time.time()\\n        result = func(*args)\\n        elapsed = time.time() - t0\\n        name = func.__name__\\n        arg_str = ', '.join(repr(arg) for arg in args)\\n        print('[%0.8fs] %s(%s) -> %r' % (elapsed, name, arg_str, result))\\n        return result\\n    return clocked\",\n",
       "  \"@clock\\ndef snooze(seconds):\\n    time.sleep(seconds)\\n\\n@clock\\ndef factorial(n):\\n    return 1 if n < 2 else n*factorial(n-1)\\n\\nif __name__=='__main__':\\n    print('*' * 40, 'Calling snooze(.123)')\\n    snooze(.123)\\n    print('*' * 40, 'Calling factorial(6)')\\n    print('6! =', factorial(6))\",\n",
       "  'import time',\n",
       "  \"def clock(func):\\n    def clocked(*args): # 위치인수 받기\\n        print('test23432423423 : ' + args)\\n        \\n        t0 = time.time()\\n        result = func(*args)\\n        elapsed = time.time() - t0\\n        name = func.__name__\\n        arg_str = ', '.join(repr(arg) for arg in args)\\n        print('[%0.8fs] %s(%s) -> %r' % (elapsed, name, arg_str, result))\\n        return result\\n    return clocked\",\n",
       "  \"@clock\\ndef snooze(seconds):\\n    time.sleep(seconds)\\n\\n@clock\\ndef factorial(n):\\n    return 1 if n < 2 else n*factorial(n-1)\\n\\nif __name__=='__main__':\\n    print('*' * 40, 'Calling snooze(.123)')\\n    snooze(.123)\\n    print('*' * 40, 'Calling factorial(6)')\\n    print('6! =', factorial(6))\",\n",
       "  \"def clock(func):\\n    def clocked(*args): # 위치인수 받기\\n        print('test23432423423 : ', args)\\n        \\n        t0 = time.time()\\n        result = func(*args)\\n        elapsed = time.time() - t0\\n        name = func.__name__\\n        arg_str = ', '.join(repr(arg) for arg in args)\\n        print('[%0.8fs] %s(%s) -> %r' % (elapsed, name, arg_str, result))\\n        return result\\n    return clocked\",\n",
       "  \"@clock\\ndef snooze(seconds):\\n    time.sleep(seconds)\\n\\n@clock\\ndef factorial(n):\\n    return 1 if n < 2 else n*factorial(n-1)\\n\\nif __name__=='__main__':\\n    print('*' * 40, 'Calling snooze(.123)')\\n    snooze(.123)\\n    print('*' * 40, 'Calling factorial(6)')\\n    print('6! =', factorial(6))\",\n",
       "  \"@clock\\ndef testFunc(numTest):\\n    print(numTest)\\n\\n@clock\\ndef snooze(seconds):\\n    time.sleep(seconds)\\n\\n@clock\\ndef factorial(n):\\n    return 1 if n < 2 else n*factorial(n-1)\\n\\nif __name__=='__main__':\\n    print('*' * 40, 'Calling snooze(.123)')\\n    snooze(.123)\\n    print('*' * 40, 'Calling factorial(6)')\\n    print('6! =', factorial(6))\",\n",
       "  \"@clock\\ndef testFunc(numTest):\\n    print(numTest)\\n\\n@clock\\ndef snooze(seconds):\\n    time.sleep(seconds)\\n\\n@clock\\ndef factorial(n):\\n    return 1 if n < 2 else n*factorial(n-1)\\n\\n# if __name__=='__main__':\\n#     print('*' * 40, 'Calling snooze(.123)')\\n#     snooze(.123)\\n#     print('*' * 40, 'Calling factorial(6)')\\n#     print('6! =', factorial(6))\",\n",
       "  'testFunc(3)',\n",
       "  \"testFunc(['hi', 'nice', 2], 10)\",\n",
       "  \"testFunc(['hi', 'nice', 2])\",\n",
       "  \"testFunc(['hi', 'nice', 2])\",\n",
       "  'testFunc(1, 2)',\n",
       "  \"def print_args(*args):\\n    print('Positional tuple:',args)\\n\\nprint_args()\\nPositional tuple: ()\\n\\nprint_args(3,2,1,'wait!','uh...') #인수를 넣어서 튜플을 출력 \\nPositional tuple: (3, 2, 1, 'wait!', 'uh...')\",\n",
       "  \"def print_args(*args):\\n    print('Positional tuple:',args)\\n\\nprint_args()\\n\\nprint_args(3,2,1,'wait!','uh...') #인수를 넣어서 튜플을 출력 \",\n",
       "  'testFunc(1, 2)',\n",
       "  \"@clock\\ndef testFunc(numTest, hi):\\n    print(numTest)\\n\\n@clock\\ndef snooze(seconds):\\n    time.sleep(seconds)\\n\\n@clock\\ndef factorial(n):\\n    return 1 if n < 2 else n*factorial(n-1)\\n\\n# if __name__=='__main__':\\n#     print('*' * 40, 'Calling snooze(.123)')\\n#     snooze(.123)\\n#     print('*' * 40, 'Calling factorial(6)')\\n#     print('6! =', factorial(6))\",\n",
       "  'testFunc(1, 2)',\n",
       "  \"def clock(func, *args):\\n    def clocked(*args): # 위치인수 받기\\n        print('test23432423423 : ', args)\\n        \\n        t0 = time.time()\\n        result = func(*args)\\n        elapsed = time.time() - t0\\n        name = func.__name__\\n        arg_str = ', '.join(repr(arg) for arg in args)\\n        print('[%0.8fs] %s(%s) -> %r' % (elapsed, name, arg_str, result))\\n        return result\\n    return clocked\",\n",
       "  \"@clock\\ndef testFunc(numTest, hi):\\n    print(numTest)\\n\\n@clock\\ndef snooze(seconds):\\n    time.sleep(seconds)\\n\\n@clock\\ndef factorial(n):\\n    return 1 if n < 2 else n*factorial(n-1)\\n\\n# if __name__=='__main__':\\n#     print('*' * 40, 'Calling snooze(.123)')\\n#     snooze(.123)\\n#     print('*' * 40, 'Calling factorial(6)')\\n#     print('6! =', factorial(6))\",\n",
       "  'testFunc(1, 2)',\n",
       "  \"def clock(func):\\n    def clocked(*args): # 위치인수 받기\\n        print('test23432423423 : ', args)\\n        \\n        t0 = time.time()\\n        result = func(*args)\\n        elapsed = time.time() - t0\\n        name = func.__name__\\n        arg_str = ', '.join(repr(arg) for arg in args)\\n        print('[%0.8fs] %s(%s) -> %r' % (elapsed, name, arg_str, result))\\n        return result\\n    return clocked\",\n",
       "  \"@clock\\ndef testFunc(numTest, hi):\\n    print(numTest)\\n\\n@clock\\ndef snooze(seconds):\\n    time.sleep(seconds)\\n\\n@clock\\ndef factorial(n):\\n    return 1 if n < 2 else n*factorial(n-1)\\n\\n# if __name__=='__main__':\\n#     print('*' * 40, 'Calling snooze(.123)')\\n#     snooze(.123)\\n#     print('*' * 40, 'Calling factorial(6)')\\n#     print('6! =', factorial(6))\",\n",
       "  'testFunc(1, 2)',\n",
       "  \"def clock(func):\\n    def clocked(*args): # 위치인수 받기\\n        print('test23432423423 : ', *args)\\n        \\n        t0 = time.time()\\n        result = func(*args)\\n        elapsed = time.time() - t0\\n        name = func.__name__\\n        arg_str = ', '.join(repr(arg) for arg in args)\\n        print('[%0.8fs] %s(%s) -> %r' % (elapsed, name, arg_str, result))\\n        return result\\n    return clocked\",\n",
       "  \"@clock\\ndef testFunc(numTest, hi):\\n    print(numTest)\\n\\n@clock\\ndef snooze(seconds):\\n    time.sleep(seconds)\\n\\n@clock\\ndef factorial(n):\\n    return 1 if n < 2 else n*factorial(n-1)\\n\\n# if __name__=='__main__':\\n#     print('*' * 40, 'Calling snooze(.123)')\\n#     snooze(.123)\\n#     print('*' * 40, 'Calling factorial(6)')\\n#     print('6! =', factorial(6))\",\n",
       "  'testFunc(1, 2)',\n",
       "  'hi = testFunc(1, 2)',\n",
       "  'hi(1, 2)',\n",
       "  'hi',\n",
       "  'print(hi)',\n",
       "  'snooze()',\n",
       "  \"@clock\\ndef testFunc(numTest, hi):\\n    print(numTest)\\n\\n@clock\\ndef snooze(seconds):\\n    time.sleep(seconds)\\n\\n@clock\\ndef factorial(n):\\n    return 1 if n < 2 else n*factorial(n-1)\\n\\nif __name__=='__main__':\\n    print('*' * 40, 'Calling snooze(.123)')\\n    snooze(.123)\\n    print('*' * 40, 'Calling factorial(6)')\\n    print('6! =', factorial(6))\",\n",
       "  'factorial',\n",
       "  'factorial.__name__',\n",
       "  'factorial',\n",
       "  'factorial.__name__',\n",
       "  'factorial',\n",
       "  'factorial.__name__',\n",
       "  '# 스칼라 서브쿼리 느낌..',\n",
       "  \"@clock  # <2>\\ndef fibonacci(n):\\n    if n < 2:\\n        return n\\n    return fibonacci(n-2) + fibonacci(n-1)\\n\\nif __name__=='__main__':\\n    print(fibonacci(6))\",\n",
       "  \"def clock(func):\\n    def clocked(*args): # 위치인수 받기\\n#         print('test23432423423 : ', *args)\\n        \\n        t0 = time.time()\\n        result = func(*args)\\n        elapsed = time.time() - t0\\n        name = func.__name__\\n        arg_str = ', '.join(repr(arg) for arg in args)\\n        print('[%0.8fs] %s(%s) -> %r' % (elapsed, name, arg_str, result))\\n        return result\\n    return clocked\",\n",
       "  \"@clock\\ndef testFunc(numTest, hi):\\n    print(numTest)\\n\\n@clock\\ndef snooze(seconds):\\n    time.sleep(seconds)\\n\\n@clock\\ndef factorial(n):\\n    return 1 if n < 2 else n*factorial(n-1)\\n\\nif __name__=='__main__':\\n    print('*' * 40, 'Calling snooze(.123)')\\n    snooze(.123)\\n    print('*' * 40, 'Calling factorial(6)')\\n    print('6! =', factorial(6))\",\n",
       "  'hi = testFunc(1, 2)',\n",
       "  'print(hi)',\n",
       "  'testFunc(1, 2)\\n\\n# 위치 인수에 저 별을 붙이는 이유가 뭐였더라.......',\n",
       "  'factorial',\n",
       "  'factorial.__name__',\n",
       "  '# 스칼라 서브쿼리 느낌..',\n",
       "  '@clock\\ndef fibonacci(n):\\n    if n < 2:\\n        return n\\n    return ',\n",
       "  \"@clock  # <2>\\ndef fibonacci(n):\\n    if n < 2:\\n        return n\\n    return fibonacci(n-2) + fibonacci(n-1)\\n\\nif __name__=='__main__':\\n    print(fibonacci(6))\",\n",
       "  \"registry = set()  # <1>\\n\\ndef register(active=True):  # <2>\\n    def decorate(func):  # <3>\\n        print('running register(active=%s)->decorate(%s)'\\n              % (active, func))\\n        if active:   # <4>\\n            registry.add(func)\\n        else:\\n            registry.discard(func)  # <5>\\n\\n        return func  # <6>\\n    return decorate  # <7>\\n\\n@register(active=False)  # <8>\\ndef f1():\\n    print('running f1()')\\n\\n@register()  # <9>\\ndef f2():\\n    print('running f2()')\\n\\ndef f3():\\n    print('running f3()')\",\n",
       "  'f1()',\n",
       "  \"f1('hi')\",\n",
       "  'f1(3)',\n",
       "  'f2(3)',\n",
       "  'dir()',\n",
       "  'globals()'],\n",
       " 'Out': {36: <function __main__.clock.<locals>.clocked(*args)>,\n",
       "  37: 'clocked',\n",
       "  38: <function __main__.clock.<locals>.clocked(*args)>,\n",
       "  39: 'clocked',\n",
       "  40: <function __main__.clock.<locals>.clocked(*args)>,\n",
       "  41: 'clocked',\n",
       "  49: <function __main__.clock.<locals>.clocked(*args)>,\n",
       "  50: 'clocked',\n",
       "  59: ['In',\n",
       "   'Out',\n",
       "   '_',\n",
       "   '_36',\n",
       "   '_37',\n",
       "   '_38',\n",
       "   '_39',\n",
       "   '_40',\n",
       "   '_41',\n",
       "   '_49',\n",
       "   '_50',\n",
       "   '__',\n",
       "   '___',\n",
       "   '__builtin__',\n",
       "   '__builtins__',\n",
       "   '__doc__',\n",
       "   '__loader__',\n",
       "   '__name__',\n",
       "   '__package__',\n",
       "   '__spec__',\n",
       "   '_dh',\n",
       "   '_i',\n",
       "   '_i1',\n",
       "   '_i10',\n",
       "   '_i11',\n",
       "   '_i12',\n",
       "   '_i13',\n",
       "   '_i14',\n",
       "   '_i15',\n",
       "   '_i16',\n",
       "   '_i17',\n",
       "   '_i18',\n",
       "   '_i19',\n",
       "   '_i2',\n",
       "   '_i20',\n",
       "   '_i21',\n",
       "   '_i22',\n",
       "   '_i23',\n",
       "   '_i24',\n",
       "   '_i25',\n",
       "   '_i26',\n",
       "   '_i27',\n",
       "   '_i28',\n",
       "   '_i29',\n",
       "   '_i3',\n",
       "   '_i30',\n",
       "   '_i31',\n",
       "   '_i32',\n",
       "   '_i33',\n",
       "   '_i34',\n",
       "   '_i35',\n",
       "   '_i36',\n",
       "   '_i37',\n",
       "   '_i38',\n",
       "   '_i39',\n",
       "   '_i4',\n",
       "   '_i40',\n",
       "   '_i41',\n",
       "   '_i42',\n",
       "   '_i43',\n",
       "   '_i44',\n",
       "   '_i45',\n",
       "   '_i46',\n",
       "   '_i47',\n",
       "   '_i48',\n",
       "   '_i49',\n",
       "   '_i5',\n",
       "   '_i50',\n",
       "   '_i51',\n",
       "   '_i52',\n",
       "   '_i53',\n",
       "   '_i54',\n",
       "   '_i55',\n",
       "   '_i56',\n",
       "   '_i57',\n",
       "   '_i58',\n",
       "   '_i59',\n",
       "   '_i6',\n",
       "   '_i7',\n",
       "   '_i8',\n",
       "   '_i9',\n",
       "   '_ih',\n",
       "   '_ii',\n",
       "   '_iii',\n",
       "   '_oh',\n",
       "   'clock',\n",
       "   'exit',\n",
       "   'f1',\n",
       "   'f2',\n",
       "   'f3',\n",
       "   'factorial',\n",
       "   'fibonacci',\n",
       "   'get_ipython',\n",
       "   'hi',\n",
       "   'open',\n",
       "   'print_args',\n",
       "   'quit',\n",
       "   'register',\n",
       "   'registry',\n",
       "   'snooze',\n",
       "   'testFunc',\n",
       "   'time']},\n",
       " 'get_ipython': <bound method InteractiveShell.get_ipython of <ipykernel.zmqshell.ZMQInteractiveShell object at 0x104dd2f20>>,\n",
       " 'exit': <IPython.core.autocall.ZMQExitAutocall at 0x104dd3bb0>,\n",
       " 'quit': <IPython.core.autocall.ZMQExitAutocall at 0x104dd3bb0>,\n",
       " 'open': <function io.open(file, mode='r', buffering=-1, encoding=None, errors=None, newline=None, closefd=True, opener=None)>,\n",
       " '_': ['In',\n",
       "  'Out',\n",
       "  '_',\n",
       "  '_36',\n",
       "  '_37',\n",
       "  '_38',\n",
       "  '_39',\n",
       "  '_40',\n",
       "  '_41',\n",
       "  '_49',\n",
       "  '_50',\n",
       "  '__',\n",
       "  '___',\n",
       "  '__builtin__',\n",
       "  '__builtins__',\n",
       "  '__doc__',\n",
       "  '__loader__',\n",
       "  '__name__',\n",
       "  '__package__',\n",
       "  '__spec__',\n",
       "  '_dh',\n",
       "  '_i',\n",
       "  '_i1',\n",
       "  '_i10',\n",
       "  '_i11',\n",
       "  '_i12',\n",
       "  '_i13',\n",
       "  '_i14',\n",
       "  '_i15',\n",
       "  '_i16',\n",
       "  '_i17',\n",
       "  '_i18',\n",
       "  '_i19',\n",
       "  '_i2',\n",
       "  '_i20',\n",
       "  '_i21',\n",
       "  '_i22',\n",
       "  '_i23',\n",
       "  '_i24',\n",
       "  '_i25',\n",
       "  '_i26',\n",
       "  '_i27',\n",
       "  '_i28',\n",
       "  '_i29',\n",
       "  '_i3',\n",
       "  '_i30',\n",
       "  '_i31',\n",
       "  '_i32',\n",
       "  '_i33',\n",
       "  '_i34',\n",
       "  '_i35',\n",
       "  '_i36',\n",
       "  '_i37',\n",
       "  '_i38',\n",
       "  '_i39',\n",
       "  '_i4',\n",
       "  '_i40',\n",
       "  '_i41',\n",
       "  '_i42',\n",
       "  '_i43',\n",
       "  '_i44',\n",
       "  '_i45',\n",
       "  '_i46',\n",
       "  '_i47',\n",
       "  '_i48',\n",
       "  '_i49',\n",
       "  '_i5',\n",
       "  '_i50',\n",
       "  '_i51',\n",
       "  '_i52',\n",
       "  '_i53',\n",
       "  '_i54',\n",
       "  '_i55',\n",
       "  '_i56',\n",
       "  '_i57',\n",
       "  '_i58',\n",
       "  '_i59',\n",
       "  '_i6',\n",
       "  '_i7',\n",
       "  '_i8',\n",
       "  '_i9',\n",
       "  '_ih',\n",
       "  '_ii',\n",
       "  '_iii',\n",
       "  '_oh',\n",
       "  'clock',\n",
       "  'exit',\n",
       "  'f1',\n",
       "  'f2',\n",
       "  'f3',\n",
       "  'factorial',\n",
       "  'fibonacci',\n",
       "  'get_ipython',\n",
       "  'hi',\n",
       "  'open',\n",
       "  'print_args',\n",
       "  'quit',\n",
       "  'register',\n",
       "  'registry',\n",
       "  'snooze',\n",
       "  'testFunc',\n",
       "  'time'],\n",
       " '__': 'clocked',\n",
       " '___': <function __main__.clock.<locals>.clocked(*args)>,\n",
       " '_i': 'dir()',\n",
       " '_ii': 'f2(3)',\n",
       " '_iii': 'f1(3)',\n",
       " '_i1': 'import time',\n",
       " 'time': <module 'time' (built-in)>,\n",
       " '_i2': \"def clock(func):\\n    def clocked(*args):\\n        t0 = time.time()\\n        result = func(*args)\\n        elapsed = time.time() - t0\\n        name = func.__name__\\n        arg_str = ', '.join(repr(arg) for arg in args)\\n        print('[%0.8fs] %s(%s) -> %r' % (elapsed, name, arg_str, result))\\n        return result\\n    return clocked\",\n",
       " 'clock': <function __main__.clock(func)>,\n",
       " '_i3': \"@clock\\ndef snooze(seconds):\\n    time.sleep(seconds)\\n\\n@clock\\ndef factorial(n):\\n    return 1 if n < 2 else n*factorial(n-1)\\n\\nif __name__=='__main__':\\n    print('*' * 40, 'Calling snooze(.123)')\\n    snooze(.123)\\n    print('*' * 40, 'Calling factorial(6)')\\n    print('6! =', factorial(6))\",\n",
       " 'snooze': <function __main__.clock.<locals>.clocked(*args)>,\n",
       " 'factorial': <function __main__.clock.<locals>.clocked(*args)>,\n",
       " '_i4': 'import time',\n",
       " '_i5': \"def clock(func):\\n    def clocked(*args): # 위치인수 받기\\n        print('test23432423423 : ' + args)\\n        \\n        t0 = time.time()\\n        result = func(*args)\\n        elapsed = time.time() - t0\\n        name = func.__name__\\n        arg_str = ', '.join(repr(arg) for arg in args)\\n        print('[%0.8fs] %s(%s) -> %r' % (elapsed, name, arg_str, result))\\n        return result\\n    return clocked\",\n",
       " '_i6': \"@clock\\ndef snooze(seconds):\\n    time.sleep(seconds)\\n\\n@clock\\ndef factorial(n):\\n    return 1 if n < 2 else n*factorial(n-1)\\n\\nif __name__=='__main__':\\n    print('*' * 40, 'Calling snooze(.123)')\\n    snooze(.123)\\n    print('*' * 40, 'Calling factorial(6)')\\n    print('6! =', factorial(6))\",\n",
       " '_i7': \"def clock(func):\\n    def clocked(*args): # 위치인수 받기\\n        print('test23432423423 : ', args)\\n        \\n        t0 = time.time()\\n        result = func(*args)\\n        elapsed = time.time() - t0\\n        name = func.__name__\\n        arg_str = ', '.join(repr(arg) for arg in args)\\n        print('[%0.8fs] %s(%s) -> %r' % (elapsed, name, arg_str, result))\\n        return result\\n    return clocked\",\n",
       " '_i8': \"@clock\\ndef snooze(seconds):\\n    time.sleep(seconds)\\n\\n@clock\\ndef factorial(n):\\n    return 1 if n < 2 else n*factorial(n-1)\\n\\nif __name__=='__main__':\\n    print('*' * 40, 'Calling snooze(.123)')\\n    snooze(.123)\\n    print('*' * 40, 'Calling factorial(6)')\\n    print('6! =', factorial(6))\",\n",
       " '_i9': \"@clock\\ndef testFunc(numTest):\\n    print(numTest)\\n\\n@clock\\ndef snooze(seconds):\\n    time.sleep(seconds)\\n\\n@clock\\ndef factorial(n):\\n    return 1 if n < 2 else n*factorial(n-1)\\n\\nif __name__=='__main__':\\n    print('*' * 40, 'Calling snooze(.123)')\\n    snooze(.123)\\n    print('*' * 40, 'Calling factorial(6)')\\n    print('6! =', factorial(6))\",\n",
       " 'testFunc': <function __main__.clock.<locals>.clocked(*args)>,\n",
       " '_i10': \"@clock\\ndef testFunc(numTest):\\n    print(numTest)\\n\\n@clock\\ndef snooze(seconds):\\n    time.sleep(seconds)\\n\\n@clock\\ndef factorial(n):\\n    return 1 if n < 2 else n*factorial(n-1)\\n\\n# if __name__=='__main__':\\n#     print('*' * 40, 'Calling snooze(.123)')\\n#     snooze(.123)\\n#     print('*' * 40, 'Calling factorial(6)')\\n#     print('6! =', factorial(6))\",\n",
       " '_i11': 'testFunc(3)',\n",
       " '_i12': \"testFunc(['hi', 'nice', 2], 10)\",\n",
       " '_i13': \"testFunc(['hi', 'nice', 2])\",\n",
       " '_i14': \"testFunc(['hi', 'nice', 2])\",\n",
       " '_i15': 'testFunc(1, 2)',\n",
       " '_i16': \"def print_args(*args):\\n    print('Positional tuple:',args)\\n\\nprint_args()\\nPositional tuple: ()\\n\\nprint_args(3,2,1,'wait!','uh...') #인수를 넣어서 튜플을 출력 \\nPositional tuple: (3, 2, 1, 'wait!', 'uh...')\",\n",
       " '_i17': \"def print_args(*args):\\n    print('Positional tuple:',args)\\n\\nprint_args()\\n\\nprint_args(3,2,1,'wait!','uh...') #인수를 넣어서 튜플을 출력 \",\n",
       " 'print_args': <function __main__.print_args(*args)>,\n",
       " '_i18': 'testFunc(1, 2)',\n",
       " '_i19': \"@clock\\ndef testFunc(numTest, hi):\\n    print(numTest)\\n\\n@clock\\ndef snooze(seconds):\\n    time.sleep(seconds)\\n\\n@clock\\ndef factorial(n):\\n    return 1 if n < 2 else n*factorial(n-1)\\n\\n# if __name__=='__main__':\\n#     print('*' * 40, 'Calling snooze(.123)')\\n#     snooze(.123)\\n#     print('*' * 40, 'Calling factorial(6)')\\n#     print('6! =', factorial(6))\",\n",
       " '_i20': 'testFunc(1, 2)',\n",
       " '_i21': \"def clock(func, *args):\\n    def clocked(*args): # 위치인수 받기\\n        print('test23432423423 : ', args)\\n        \\n        t0 = time.time()\\n        result = func(*args)\\n        elapsed = time.time() - t0\\n        name = func.__name__\\n        arg_str = ', '.join(repr(arg) for arg in args)\\n        print('[%0.8fs] %s(%s) -> %r' % (elapsed, name, arg_str, result))\\n        return result\\n    return clocked\",\n",
       " '_i22': \"@clock\\ndef testFunc(numTest, hi):\\n    print(numTest)\\n\\n@clock\\ndef snooze(seconds):\\n    time.sleep(seconds)\\n\\n@clock\\ndef factorial(n):\\n    return 1 if n < 2 else n*factorial(n-1)\\n\\n# if __name__=='__main__':\\n#     print('*' * 40, 'Calling snooze(.123)')\\n#     snooze(.123)\\n#     print('*' * 40, 'Calling factorial(6)')\\n#     print('6! =', factorial(6))\",\n",
       " '_i23': 'testFunc(1, 2)',\n",
       " '_i24': \"def clock(func):\\n    def clocked(*args): # 위치인수 받기\\n        print('test23432423423 : ', args)\\n        \\n        t0 = time.time()\\n        result = func(*args)\\n        elapsed = time.time() - t0\\n        name = func.__name__\\n        arg_str = ', '.join(repr(arg) for arg in args)\\n        print('[%0.8fs] %s(%s) -> %r' % (elapsed, name, arg_str, result))\\n        return result\\n    return clocked\",\n",
       " '_i25': \"@clock\\ndef testFunc(numTest, hi):\\n    print(numTest)\\n\\n@clock\\ndef snooze(seconds):\\n    time.sleep(seconds)\\n\\n@clock\\ndef factorial(n):\\n    return 1 if n < 2 else n*factorial(n-1)\\n\\n# if __name__=='__main__':\\n#     print('*' * 40, 'Calling snooze(.123)')\\n#     snooze(.123)\\n#     print('*' * 40, 'Calling factorial(6)')\\n#     print('6! =', factorial(6))\",\n",
       " '_i26': 'testFunc(1, 2)',\n",
       " '_i27': \"def clock(func):\\n    def clocked(*args): # 위치인수 받기\\n        print('test23432423423 : ', *args)\\n        \\n        t0 = time.time()\\n        result = func(*args)\\n        elapsed = time.time() - t0\\n        name = func.__name__\\n        arg_str = ', '.join(repr(arg) for arg in args)\\n        print('[%0.8fs] %s(%s) -> %r' % (elapsed, name, arg_str, result))\\n        return result\\n    return clocked\",\n",
       " '_i28': \"@clock\\ndef testFunc(numTest, hi):\\n    print(numTest)\\n\\n@clock\\ndef snooze(seconds):\\n    time.sleep(seconds)\\n\\n@clock\\ndef factorial(n):\\n    return 1 if n < 2 else n*factorial(n-1)\\n\\n# if __name__=='__main__':\\n#     print('*' * 40, 'Calling snooze(.123)')\\n#     snooze(.123)\\n#     print('*' * 40, 'Calling factorial(6)')\\n#     print('6! =', factorial(6))\",\n",
       " '_i29': 'testFunc(1, 2)',\n",
       " '_i30': 'hi = testFunc(1, 2)',\n",
       " 'hi': None,\n",
       " '_i31': 'hi(1, 2)',\n",
       " '_i32': 'hi',\n",
       " '_i33': 'print(hi)',\n",
       " '_i34': 'snooze()',\n",
       " '_i35': \"@clock\\ndef testFunc(numTest, hi):\\n    print(numTest)\\n\\n@clock\\ndef snooze(seconds):\\n    time.sleep(seconds)\\n\\n@clock\\ndef factorial(n):\\n    return 1 if n < 2 else n*factorial(n-1)\\n\\nif __name__=='__main__':\\n    print('*' * 40, 'Calling snooze(.123)')\\n    snooze(.123)\\n    print('*' * 40, 'Calling factorial(6)')\\n    print('6! =', factorial(6))\",\n",
       " '_i36': 'factorial',\n",
       " '_36': <function __main__.clock.<locals>.clocked(*args)>,\n",
       " '_i37': 'factorial.__name__',\n",
       " '_37': 'clocked',\n",
       " '_i38': 'factorial',\n",
       " '_38': <function __main__.clock.<locals>.clocked(*args)>,\n",
       " '_i39': 'factorial.__name__',\n",
       " '_39': 'clocked',\n",
       " '_i40': 'factorial',\n",
       " '_40': <function __main__.clock.<locals>.clocked(*args)>,\n",
       " '_i41': 'factorial.__name__',\n",
       " '_41': 'clocked',\n",
       " '_i42': '# 스칼라 서브쿼리 느낌..',\n",
       " '_i43': \"@clock  # <2>\\ndef fibonacci(n):\\n    if n < 2:\\n        return n\\n    return fibonacci(n-2) + fibonacci(n-1)\\n\\nif __name__=='__main__':\\n    print(fibonacci(6))\",\n",
       " 'fibonacci': <function __main__.clock.<locals>.clocked(*args)>,\n",
       " '_i44': \"def clock(func):\\n    def clocked(*args): # 위치인수 받기\\n#         print('test23432423423 : ', *args)\\n        \\n        t0 = time.time()\\n        result = func(*args)\\n        elapsed = time.time() - t0\\n        name = func.__name__\\n        arg_str = ', '.join(repr(arg) for arg in args)\\n        print('[%0.8fs] %s(%s) -> %r' % (elapsed, name, arg_str, result))\\n        return result\\n    return clocked\",\n",
       " '_i45': \"@clock\\ndef testFunc(numTest, hi):\\n    print(numTest)\\n\\n@clock\\ndef snooze(seconds):\\n    time.sleep(seconds)\\n\\n@clock\\ndef factorial(n):\\n    return 1 if n < 2 else n*factorial(n-1)\\n\\nif __name__=='__main__':\\n    print('*' * 40, 'Calling snooze(.123)')\\n    snooze(.123)\\n    print('*' * 40, 'Calling factorial(6)')\\n    print('6! =', factorial(6))\",\n",
       " '_i46': 'hi = testFunc(1, 2)',\n",
       " '_i47': 'print(hi)',\n",
       " '_i48': 'testFunc(1, 2)\\n\\n# 위치 인수에 저 별을 붙이는 이유가 뭐였더라.......',\n",
       " '_i49': 'factorial',\n",
       " '_49': <function __main__.clock.<locals>.clocked(*args)>,\n",
       " '_i50': 'factorial.__name__',\n",
       " '_50': 'clocked',\n",
       " '_i51': '# 스칼라 서브쿼리 느낌..',\n",
       " '_i52': '@clock\\ndef fibonacci(n):\\n    if n < 2:\\n        return n\\n    return ',\n",
       " '_i53': \"@clock  # <2>\\ndef fibonacci(n):\\n    if n < 2:\\n        return n\\n    return fibonacci(n-2) + fibonacci(n-1)\\n\\nif __name__=='__main__':\\n    print(fibonacci(6))\",\n",
       " '_i54': \"registry = set()  # <1>\\n\\ndef register(active=True):  # <2>\\n    def decorate(func):  # <3>\\n        print('running register(active=%s)->decorate(%s)'\\n              % (active, func))\\n        if active:   # <4>\\n            registry.add(func)\\n        else:\\n            registry.discard(func)  # <5>\\n\\n        return func  # <6>\\n    return decorate  # <7>\\n\\n@register(active=False)  # <8>\\ndef f1():\\n    print('running f1()')\\n\\n@register()  # <9>\\ndef f2():\\n    print('running f2()')\\n\\ndef f3():\\n    print('running f3()')\",\n",
       " 'registry': {<function __main__.f2()>},\n",
       " 'register': <function __main__.register(active=True)>,\n",
       " 'f1': <function __main__.f1()>,\n",
       " 'f2': <function __main__.f2()>,\n",
       " 'f3': <function __main__.f3()>,\n",
       " '_i55': 'f1()',\n",
       " '_i56': \"f1('hi')\",\n",
       " '_i57': 'f1(3)',\n",
       " '_i58': 'f2(3)',\n",
       " '_i59': 'dir()',\n",
       " '_59': ['In',\n",
       "  'Out',\n",
       "  '_',\n",
       "  '_36',\n",
       "  '_37',\n",
       "  '_38',\n",
       "  '_39',\n",
       "  '_40',\n",
       "  '_41',\n",
       "  '_49',\n",
       "  '_50',\n",
       "  '__',\n",
       "  '___',\n",
       "  '__builtin__',\n",
       "  '__builtins__',\n",
       "  '__doc__',\n",
       "  '__loader__',\n",
       "  '__name__',\n",
       "  '__package__',\n",
       "  '__spec__',\n",
       "  '_dh',\n",
       "  '_i',\n",
       "  '_i1',\n",
       "  '_i10',\n",
       "  '_i11',\n",
       "  '_i12',\n",
       "  '_i13',\n",
       "  '_i14',\n",
       "  '_i15',\n",
       "  '_i16',\n",
       "  '_i17',\n",
       "  '_i18',\n",
       "  '_i19',\n",
       "  '_i2',\n",
       "  '_i20',\n",
       "  '_i21',\n",
       "  '_i22',\n",
       "  '_i23',\n",
       "  '_i24',\n",
       "  '_i25',\n",
       "  '_i26',\n",
       "  '_i27',\n",
       "  '_i28',\n",
       "  '_i29',\n",
       "  '_i3',\n",
       "  '_i30',\n",
       "  '_i31',\n",
       "  '_i32',\n",
       "  '_i33',\n",
       "  '_i34',\n",
       "  '_i35',\n",
       "  '_i36',\n",
       "  '_i37',\n",
       "  '_i38',\n",
       "  '_i39',\n",
       "  '_i4',\n",
       "  '_i40',\n",
       "  '_i41',\n",
       "  '_i42',\n",
       "  '_i43',\n",
       "  '_i44',\n",
       "  '_i45',\n",
       "  '_i46',\n",
       "  '_i47',\n",
       "  '_i48',\n",
       "  '_i49',\n",
       "  '_i5',\n",
       "  '_i50',\n",
       "  '_i51',\n",
       "  '_i52',\n",
       "  '_i53',\n",
       "  '_i54',\n",
       "  '_i55',\n",
       "  '_i56',\n",
       "  '_i57',\n",
       "  '_i58',\n",
       "  '_i59',\n",
       "  '_i6',\n",
       "  '_i7',\n",
       "  '_i8',\n",
       "  '_i9',\n",
       "  '_ih',\n",
       "  '_ii',\n",
       "  '_iii',\n",
       "  '_oh',\n",
       "  'clock',\n",
       "  'exit',\n",
       "  'f1',\n",
       "  'f2',\n",
       "  'f3',\n",
       "  'factorial',\n",
       "  'fibonacci',\n",
       "  'get_ipython',\n",
       "  'hi',\n",
       "  'open',\n",
       "  'print_args',\n",
       "  'quit',\n",
       "  'register',\n",
       "  'registry',\n",
       "  'snooze',\n",
       "  'testFunc',\n",
       "  'time'],\n",
       " '_i60': 'globals()'}"
      ]
     },
     "execution_count": 60,
     "metadata": {},
     "output_type": "execute_result"
    }
   ],
   "source": [
    "globals()"
   ]
  },
  {
   "cell_type": "code",
   "execution_count": null,
   "id": "68459b4c",
   "metadata": {},
   "outputs": [],
   "source": []
  },
  {
   "cell_type": "code",
   "execution_count": 71,
   "id": "d822209f",
   "metadata": {},
   "outputs": [],
   "source": [
    "class Gizmo:\n",
    "    def __init__(self):\n",
    "        print('Gizm')\n",
    "    \n",
    "    def __mul__(self, inta):\n",
    "#         [for i in range(10)]\n",
    "        print('test')\n",
    "        return for self Gizmo *  "
   ]
  },
  {
   "cell_type": "code",
   "execution_count": 72,
   "id": "c3d4c5ce",
   "metadata": {},
   "outputs": [
    {
     "name": "stdout",
     "output_type": "stream",
     "text": [
      "Gizm\n"
     ]
    }
   ],
   "source": [
    "x = Gizmo()"
   ]
  },
  {
   "cell_type": "code",
   "execution_count": 73,
   "id": "750800c6",
   "metadata": {},
   "outputs": [
    {
     "data": {
      "text/plain": [
       "<__main__.Gizmo at 0x105ee81c0>"
      ]
     },
     "execution_count": 73,
     "metadata": {},
     "output_type": "execute_result"
    }
   ],
   "source": [
    "x"
   ]
  },
  {
   "cell_type": "code",
   "execution_count": 74,
   "id": "f275fa12",
   "metadata": {},
   "outputs": [
    {
     "name": "stdout",
     "output_type": "stream",
     "text": [
      "Gizm\n",
      "test\n",
      "10\n"
     ]
    }
   ],
   "source": [
    "Gizmo() * 10"
   ]
  },
  {
   "cell_type": "code",
   "execution_count": 76,
   "id": "fdf7f199",
   "metadata": {},
   "outputs": [
    {
     "name": "stdout",
     "output_type": "stream",
     "text": [
      "0\n",
      "1\n",
      "2\n",
      "3\n",
      "4\n",
      "5\n",
      "6\n",
      "7\n",
      "8\n",
      "9\n"
     ]
    }
   ],
   "source": [
    "for i in range(10):\n",
    "    print(i)"
   ]
  },
  {
   "cell_type": "code",
   "execution_count": null,
   "id": "0f516ef7",
   "metadata": {},
   "outputs": [],
   "source": []
  },
  {
   "cell_type": "code",
   "execution_count": 83,
   "id": "8ba36c9c",
   "metadata": {},
   "outputs": [],
   "source": [
    "charles = {'name': 'hi', 'age': 90}"
   ]
  },
  {
   "cell_type": "code",
   "execution_count": 84,
   "id": "a5bce302",
   "metadata": {},
   "outputs": [],
   "source": [
    "alex = charles"
   ]
  },
  {
   "cell_type": "code",
   "execution_count": 85,
   "id": "d5d1b2a6",
   "metadata": {},
   "outputs": [
    {
     "data": {
      "text/plain": [
       "True"
      ]
     },
     "execution_count": 85,
     "metadata": {},
     "output_type": "execute_result"
    }
   ],
   "source": [
    "alex is charles"
   ]
  },
  {
   "cell_type": "code",
   "execution_count": 86,
   "id": "c4d129e5",
   "metadata": {},
   "outputs": [],
   "source": [
    "alex['balanc'] = 950"
   ]
  },
  {
   "cell_type": "code",
   "execution_count": 87,
   "id": "a3883d6f",
   "metadata": {},
   "outputs": [
    {
     "data": {
      "text/plain": [
       "{'name': 'hi', 'age': 90, 'balanc': 950}"
      ]
     },
     "execution_count": 87,
     "metadata": {},
     "output_type": "execute_result"
    }
   ],
   "source": [
    "alex"
   ]
  },
  {
   "cell_type": "code",
   "execution_count": 88,
   "id": "da88c9b3",
   "metadata": {},
   "outputs": [
    {
     "data": {
      "text/plain": [
       "True"
      ]
     },
     "execution_count": 88,
     "metadata": {},
     "output_type": "execute_result"
    }
   ],
   "source": [
    "alex is charles"
   ]
  },
  {
   "cell_type": "code",
   "execution_count": null,
   "id": "3770eee3",
   "metadata": {},
   "outputs": [],
   "source": []
  },
  {
   "cell_type": "code",
   "execution_count": 89,
   "id": "ca08018b",
   "metadata": {},
   "outputs": [],
   "source": [
    "a = [10, 20]"
   ]
  },
  {
   "cell_type": "code",
   "execution_count": 90,
   "id": "f0620e2e",
   "metadata": {},
   "outputs": [],
   "source": [
    "b = [a, 30]"
   ]
  },
  {
   "cell_type": "code",
   "execution_count": 91,
   "id": "3c37f246",
   "metadata": {},
   "outputs": [
    {
     "data": {
      "text/plain": [
       "[[10, 20], 30]"
      ]
     },
     "execution_count": 91,
     "metadata": {},
     "output_type": "execute_result"
    }
   ],
   "source": [
    "b"
   ]
  },
  {
   "cell_type": "code",
   "execution_count": 92,
   "id": "1f6f6d4a",
   "metadata": {},
   "outputs": [],
   "source": [
    "a.append(b)"
   ]
  },
  {
   "cell_type": "code",
   "execution_count": 93,
   "id": "4ffa848b",
   "metadata": {},
   "outputs": [
    {
     "data": {
      "text/plain": [
       "[10, 20, [[...], 30]]"
      ]
     },
     "execution_count": 93,
     "metadata": {},
     "output_type": "execute_result"
    }
   ],
   "source": [
    "a"
   ]
  },
  {
   "cell_type": "code",
   "execution_count": 94,
   "id": "d10068b7",
   "metadata": {},
   "outputs": [
    {
     "data": {
      "text/plain": [
       "int"
      ]
     },
     "execution_count": 94,
     "metadata": {},
     "output_type": "execute_result"
    }
   ],
   "source": [
    "type(1)"
   ]
  },
  {
   "cell_type": "code",
   "execution_count": 95,
   "id": "9c523826",
   "metadata": {},
   "outputs": [
    {
     "name": "stdout",
     "output_type": "stream",
     "text": [
      "4302225648\n",
      "4302225712\n"
     ]
    },
    {
     "data": {
      "text/plain": [
       "3"
      ]
     },
     "execution_count": 95,
     "metadata": {},
     "output_type": "execute_result"
    }
   ],
   "source": [
    "def f(a,b):\n",
    "    print(id(a))\n",
    "    a+=b\n",
    "    print(id(a))\n",
    "    return a\n",
    "x=1\n",
    "y=2\n",
    "f(x,y)"
   ]
  },
  {
   "cell_type": "code",
   "execution_count": 96,
   "id": "406d2fa7",
   "metadata": {},
   "outputs": [
    {
     "data": {
      "text/plain": [
       "1"
      ]
     },
     "execution_count": 96,
     "metadata": {},
     "output_type": "execute_result"
    }
   ],
   "source": [
    "x"
   ]
  },
  {
   "cell_type": "code",
   "execution_count": null,
   "id": "39bfd486",
   "metadata": {},
   "outputs": [],
   "source": []
  },
  {
   "cell_type": "code",
   "execution_count": 97,
   "id": "e29329ce",
   "metadata": {},
   "outputs": [],
   "source": [
    "class HauntedBus:\n",
    "    \"\"\"A bus model haunted by ghost passengers\"\"\"\n",
    "\n",
    "    def __init__(self, passengers=[]):  # <1>\n",
    "        self.passengers = passengers  # <2>\n",
    "\n",
    "    def pick(self, name):\n",
    "        self.passengers.append(name)  # <3>\n",
    "\n",
    "    def drop(self, name):\n",
    "        self.passengers.remove(name)"
   ]
  },
  {
   "cell_type": "code",
   "execution_count": 101,
   "id": "e088c9b8",
   "metadata": {},
   "outputs": [
    {
     "data": {
      "text/plain": [
       "range"
      ]
     },
     "execution_count": 101,
     "metadata": {},
     "output_type": "execute_result"
    }
   ],
   "source": [
    "type(range(10))"
   ]
  },
  {
   "cell_type": "code",
   "execution_count": 99,
   "id": "2bee255f",
   "metadata": {},
   "outputs": [
    {
     "data": {
      "text/plain": [
       "tuple"
      ]
     },
     "execution_count": 99,
     "metadata": {},
     "output_type": "execute_result"
    }
   ],
   "source": [
    "type(HauntedBus.__init__.__defaults__)"
   ]
  },
  {
   "cell_type": "code",
   "execution_count": 100,
   "id": "64209af8",
   "metadata": {},
   "outputs": [
    {
     "data": {
      "text/plain": [
       "[]"
      ]
     },
     "execution_count": 100,
     "metadata": {},
     "output_type": "execute_result"
    }
   ],
   "source": [
    "HauntedBus.__init__.__defaults__[0]"
   ]
  },
  {
   "cell_type": "code",
   "execution_count": null,
   "id": "5c5460f5",
   "metadata": {},
   "outputs": [],
   "source": []
  }
 ],
 "metadata": {
  "kernelspec": {
   "display_name": "Python 3 (ipykernel)",
   "language": "python",
   "name": "python3"
  },
  "language_info": {
   "codemirror_mode": {
    "name": "ipython",
    "version": 3
   },
   "file_extension": ".py",
   "mimetype": "text/x-python",
   "name": "python",
   "nbconvert_exporter": "python",
   "pygments_lexer": "ipython3",
   "version": "3.10.13"
  },
  "toc": {
   "base_numbering": 1,
   "nav_menu": {},
   "number_sections": true,
   "sideBar": true,
   "skip_h1_title": false,
   "title_cell": "Table of Contents",
   "title_sidebar": "Contents",
   "toc_cell": false,
   "toc_position": {},
   "toc_section_display": true,
   "toc_window_display": false
  }
 },
 "nbformat": 4,
 "nbformat_minor": 5
}
