{
 "cells": [
  {
   "cell_type": "markdown",
   "id": "f07493f8",
   "metadata": {},
   "source": [
    "# 객체 표현"
   ]
  },
  {
   "cell_type": "markdown",
   "id": "e2b643fb",
   "metadata": {},
   "source": [
    "# 벡터 클래스의 부활"
   ]
  },
  {
   "cell_type": "code",
   "execution_count": 8,
   "id": "d67173b9",
   "metadata": {},
   "outputs": [],
   "source": [
    "class Vector2d:\n",
    "    typecode = 'd'  # <1>\n",
    "\n",
    "    def __init__(self, x, y):\n",
    "        self.x = float(x)    # <2>\n",
    "        self.y = float(y)\n",
    "\n",
    "    def __iter__(self):\n",
    "        return (i for i in (self.x, self.y))  # <3>\n",
    "\n",
    "    def __repr__(self):\n",
    "        class_name = type(self).__name__\n",
    "        return '{}({!r}, {!r})'.format(class_name, *self)  # <4>\n",
    "\n",
    "    def __str__(self):\n",
    "        return str(tuple(self))  # <5>\n",
    "\n",
    "    def __bytes__(self):\n",
    "        return (bytes([ord(self.typecode)]) +  # <6>\n",
    "                bytes(array(self.typecode, self)))  # <7>\n",
    "\n",
    "    def __eq__(self, other):\n",
    "        return tuple(self) == tuple(other)  # <8>\n",
    "\n",
    "    def __abs__(self):\n",
    "        return math.hypot(self.x, self.y)  # <9>\n",
    "\n",
    "    def __bool__(self):\n",
    "        return bool(abs(self))  # <10>"
   ]
  },
  {
   "cell_type": "code",
   "execution_count": 2,
   "id": "98067848",
   "metadata": {},
   "outputs": [],
   "source": [
    "v1 = Vector2d(3, 4)"
   ]
  },
  {
   "cell_type": "code",
   "execution_count": 3,
   "id": "832fa8f8",
   "metadata": {},
   "outputs": [
    {
     "data": {
      "text/plain": [
       "Vector2d(3.0, 4.0)"
      ]
     },
     "execution_count": 3,
     "metadata": {},
     "output_type": "execute_result"
    }
   ],
   "source": [
    "v1"
   ]
  },
  {
   "cell_type": "code",
   "execution_count": 8,
   "id": "9cba7333",
   "metadata": {},
   "outputs": [],
   "source": [
    "x, y = v1 # 구조분해"
   ]
  },
  {
   "cell_type": "code",
   "execution_count": 9,
   "id": "d06eaecc",
   "metadata": {},
   "outputs": [
    {
     "data": {
      "text/plain": [
       "3.0"
      ]
     },
     "execution_count": 9,
     "metadata": {},
     "output_type": "execute_result"
    }
   ],
   "source": [
    "x"
   ]
  },
  {
   "cell_type": "code",
   "execution_count": 10,
   "id": "c5260057",
   "metadata": {},
   "outputs": [
    {
     "data": {
      "text/plain": [
       "4.0"
      ]
     },
     "execution_count": 10,
     "metadata": {},
     "output_type": "execute_result"
    }
   ],
   "source": [
    "y"
   ]
  },
  {
   "cell_type": "code",
   "execution_count": 11,
   "id": "c6c81764",
   "metadata": {},
   "outputs": [
    {
     "data": {
      "text/plain": [
       "Vector2d(3.0, 4.0)"
      ]
     },
     "execution_count": 11,
     "metadata": {},
     "output_type": "execute_result"
    }
   ],
   "source": [
    "v1"
   ]
  },
  {
   "cell_type": "code",
   "execution_count": 14,
   "id": "5480fd00",
   "metadata": {},
   "outputs": [
    {
     "data": {
      "text/plain": [
       "'Vector2d(3.0, 4.0)'"
      ]
     },
     "execution_count": 14,
     "metadata": {},
     "output_type": "execute_result"
    }
   ],
   "source": [
    "repr(v1)"
   ]
  },
  {
   "cell_type": "code",
   "execution_count": 15,
   "id": "88e51d7a",
   "metadata": {},
   "outputs": [
    {
     "data": {
      "text/plain": [
       "Vector2d(3.0, 4.0)"
      ]
     },
     "execution_count": 15,
     "metadata": {},
     "output_type": "execute_result"
    }
   ],
   "source": [
    "eval(repr(v1))"
   ]
  },
  {
   "cell_type": "code",
   "execution_count": null,
   "id": "b9ab2f80",
   "metadata": {},
   "outputs": [],
   "source": []
  },
  {
   "cell_type": "code",
   "execution_count": 23,
   "id": "a7066793",
   "metadata": {},
   "outputs": [
    {
     "name": "stdout",
     "output_type": "stream",
     "text": [
      "Example(42, 'hello')\n"
     ]
    }
   ],
   "source": [
    "class Example:\n",
    "    def __init__(self, x, y):\n",
    "        self.x = x\n",
    "        self.y = y\n",
    "\n",
    "    def __repr__(self):\n",
    "        class_name = type(self).__name__\n",
    "        # {!r}는 문자열 포맷팅에서 사용되는 서식 지정자로, 해당 값을 repr() 함수를 사용하여 문자열로 표현\n",
    "        return '{}({!r}, {!r})'.format(class_name, self.x, self.y)\n",
    "\n",
    "obj = Example(42, \"hello\")\n",
    "print(repr(obj))\n"
   ]
  },
  {
   "cell_type": "code",
   "execution_count": null,
   "id": "10c9fe11",
   "metadata": {},
   "outputs": [],
   "source": []
  },
  {
   "cell_type": "code",
   "execution_count": 22,
   "id": "eab1e6e7",
   "metadata": {},
   "outputs": [
    {
     "ename": "KeyError",
     "evalue": "'r'",
     "output_type": "error",
     "traceback": [
      "\u001b[0;31m---------------------------------------------------------------------------\u001b[0m",
      "\u001b[0;31mKeyError\u001b[0m                                  Traceback (most recent call last)",
      "Cell \u001b[0;32mIn[22], line 2\u001b[0m\n\u001b[1;32m      1\u001b[0m value \u001b[38;5;241m=\u001b[39m \u001b[38;5;241m42\u001b[39m\n\u001b[0;32m----> 2\u001b[0m formatted_string \u001b[38;5;241m=\u001b[39m \u001b[38;5;124;43m'\u001b[39;49m\u001b[38;5;124;43mThe value is \u001b[39;49m\u001b[38;5;132;43;01m{r}\u001b[39;49;00m\u001b[38;5;124;43m'\u001b[39;49m\u001b[38;5;241;43m.\u001b[39;49m\u001b[43mformat\u001b[49m\u001b[43m(\u001b[49m\u001b[43mvalue\u001b[49m\u001b[43m)\u001b[49m\n\u001b[1;32m      3\u001b[0m \u001b[38;5;28mprint\u001b[39m(formatted_string)\n",
      "\u001b[0;31mKeyError\u001b[0m: 'r'"
     ]
    }
   ],
   "source": [
    "value = 42\n",
    "formatted_string = 'The value is {r}'.format(value)\n",
    "print(formatted_string)\n"
   ]
  },
  {
   "cell_type": "code",
   "execution_count": null,
   "id": "ec11fddf",
   "metadata": {},
   "outputs": [],
   "source": []
  },
  {
   "cell_type": "markdown",
   "id": "6f18ef15",
   "metadata": {},
   "source": [
    "# 3. 대안 생성자"
   ]
  },
  {
   "cell_type": "code",
   "execution_count": null,
   "id": "40e7845c",
   "metadata": {},
   "outputs": [],
   "source": []
  },
  {
   "cell_type": "markdown",
   "id": "b4669f4f",
   "metadata": {},
   "source": [
    "# 4. @classmethod와 @staticmethod"
   ]
  },
  {
   "cell_type": "markdown",
   "id": "7160aac9",
   "metadata": {},
   "source": [
    "# 5. 포맷된 출력"
   ]
  },
  {
   "cell_type": "code",
   "execution_count": 1,
   "id": "f25470e5",
   "metadata": {},
   "outputs": [],
   "source": [
    "brl = 1/2.43"
   ]
  },
  {
   "cell_type": "code",
   "execution_count": 2,
   "id": "ac77b1f8",
   "metadata": {},
   "outputs": [
    {
     "data": {
      "text/plain": [
       "0.4115226337448559"
      ]
     },
     "execution_count": 2,
     "metadata": {},
     "output_type": "execute_result"
    }
   ],
   "source": [
    "brl"
   ]
  },
  {
   "cell_type": "code",
   "execution_count": 3,
   "id": "a875b695",
   "metadata": {},
   "outputs": [
    {
     "data": {
      "text/plain": [
       "'0.4115'"
      ]
     },
     "execution_count": 3,
     "metadata": {},
     "output_type": "execute_result"
    }
   ],
   "source": [
    "format(brl, '0.4f')"
   ]
  },
  {
   "cell_type": "code",
   "execution_count": 4,
   "id": "028a9fd9",
   "metadata": {},
   "outputs": [
    {
     "data": {
      "text/plain": [
       "'1 BRL = 0.41 USD'"
      ]
     },
     "execution_count": 4,
     "metadata": {},
     "output_type": "execute_result"
    }
   ],
   "source": [
    "'1 BRL = {rate:0.2f} USD'.format(rate=brl)"
   ]
  },
  {
   "cell_type": "code",
   "execution_count": null,
   "id": "0ee4ca3b",
   "metadata": {},
   "outputs": [],
   "source": []
  },
  {
   "cell_type": "code",
   "execution_count": 5,
   "id": "f9c49d57",
   "metadata": {},
   "outputs": [],
   "source": [
    "test = \"0.43457\""
   ]
  },
  {
   "cell_type": "code",
   "execution_count": 6,
   "id": "d5a69054",
   "metadata": {},
   "outputs": [
    {
     "data": {
      "text/plain": [
       "'0.43457'"
      ]
     },
     "execution_count": 6,
     "metadata": {},
     "output_type": "execute_result"
    }
   ],
   "source": [
    "test.format('0.4f')"
   ]
  },
  {
   "cell_type": "code",
   "execution_count": null,
   "id": "b5f92883",
   "metadata": {},
   "outputs": [],
   "source": []
  },
  {
   "cell_type": "markdown",
   "id": "40d2f62d",
   "metadata": {},
   "source": [
    "# 6. 해시 가능한 Vector2d"
   ]
  },
  {
   "cell_type": "code",
   "execution_count": 9,
   "id": "08f5b07e",
   "metadata": {},
   "outputs": [],
   "source": [
    "v1 = Vector2d(3, 4)"
   ]
  },
  {
   "cell_type": "code",
   "execution_count": 10,
   "id": "173e256b",
   "metadata": {},
   "outputs": [
    {
     "data": {
      "text/plain": [
       "Vector2d(3.0, 4.0)"
      ]
     },
     "execution_count": 10,
     "metadata": {},
     "output_type": "execute_result"
    }
   ],
   "source": [
    "v1"
   ]
  },
  {
   "cell_type": "code",
   "execution_count": 11,
   "id": "1320ecf4",
   "metadata": {},
   "outputs": [
    {
     "ename": "TypeError",
     "evalue": "unhashable type: 'Vector2d'",
     "output_type": "error",
     "traceback": [
      "\u001b[0;31m---------------------------------------------------------------------------\u001b[0m",
      "\u001b[0;31mTypeError\u001b[0m                                 Traceback (most recent call last)",
      "Cell \u001b[0;32mIn[11], line 1\u001b[0m\n\u001b[0;32m----> 1\u001b[0m \u001b[38;5;28;43mhash\u001b[39;49m\u001b[43m(\u001b[49m\u001b[43mv1\u001b[49m\u001b[43m)\u001b[49m\n",
      "\u001b[0;31mTypeError\u001b[0m: unhashable type: 'Vector2d'"
     ]
    }
   ],
   "source": [
    "hash(v1)"
   ]
  },
  {
   "cell_type": "code",
   "execution_count": 12,
   "id": "1d8c9283",
   "metadata": {},
   "outputs": [
    {
     "data": {
      "text/plain": [
       "{3.0, 4.0}"
      ]
     },
     "execution_count": 12,
     "metadata": {},
     "output_type": "execute_result"
    }
   ],
   "source": [
    "set(v1)"
   ]
  },
  {
   "cell_type": "code",
   "execution_count": 13,
   "id": "bf067c7f",
   "metadata": {},
   "outputs": [
    {
     "ename": "TypeError",
     "evalue": "unhashable type: 'Vector2d'",
     "output_type": "error",
     "traceback": [
      "\u001b[0;31m---------------------------------------------------------------------------\u001b[0m",
      "\u001b[0;31mTypeError\u001b[0m                                 Traceback (most recent call last)",
      "Cell \u001b[0;32mIn[13], line 1\u001b[0m\n\u001b[0;32m----> 1\u001b[0m \u001b[38;5;28;43mset\u001b[39;49m\u001b[43m(\u001b[49m\u001b[43m[\u001b[49m\u001b[43mv1\u001b[49m\u001b[43m]\u001b[49m\u001b[43m)\u001b[49m\n",
      "\u001b[0;31mTypeError\u001b[0m: unhashable type: 'Vector2d'"
     ]
    }
   ],
   "source": [
    "set([v1])"
   ]
  },
  {
   "cell_type": "code",
   "execution_count": 14,
   "id": "cea35292",
   "metadata": {},
   "outputs": [
    {
     "data": {
      "text/plain": [
       "3.0"
      ]
     },
     "execution_count": 14,
     "metadata": {},
     "output_type": "execute_result"
    }
   ],
   "source": [
    "v1.x"
   ]
  },
  {
   "cell_type": "code",
   "execution_count": 15,
   "id": "2d6b88e0",
   "metadata": {},
   "outputs": [
    {
     "data": {
      "text/plain": [
       "4.0"
      ]
     },
     "execution_count": 15,
     "metadata": {},
     "output_type": "execute_result"
    }
   ],
   "source": [
    "v1.y"
   ]
  },
  {
   "cell_type": "code",
   "execution_count": 16,
   "id": "524901e4",
   "metadata": {},
   "outputs": [],
   "source": [
    "v1.x = 7"
   ]
  },
  {
   "cell_type": "code",
   "execution_count": null,
   "id": "510127b4",
   "metadata": {},
   "outputs": [],
   "source": []
  },
  {
   "cell_type": "code",
   "execution_count": 18,
   "id": "604d1fd2",
   "metadata": {},
   "outputs": [],
   "source": [
    "# x와 y 요소를 읽기 전용 속성으로 만들기"
   ]
  },
  {
   "cell_type": "code",
   "execution_count": 19,
   "id": "d859d810",
   "metadata": {},
   "outputs": [],
   "source": [
    "class Vector2d:\n",
    "    typecode = 'd'\n",
    "\n",
    "    def __init__(self, x, y):\n",
    "        self.__x = float(x)\n",
    "        self.__y = float(y)\n",
    "\n",
    "    @property\n",
    "    def x(self):\n",
    "        return self.__x\n",
    "\n",
    "    @property\n",
    "    def y(self):\n",
    "        return self.__y\n",
    "\n",
    "    def __iter__(self):\n",
    "        return (i for i in (self.x, self.y))\n",
    "\n",
    "    def __repr__(self):\n",
    "        class_name = type(self).__name__\n",
    "        return '{}({!r}, {!r})'.format(class_name, *self)\n",
    "\n",
    "    def __str__(self):\n",
    "        return str(tuple(self))\n",
    "\n",
    "    def __bytes__(self):\n",
    "        return (bytes([ord(self.typecode)]) +\n",
    "                bytes(array(self.typecode, self)))\n",
    "\n",
    "    def __eq__(self, other):\n",
    "        return tuple(self) == tuple(other)\n",
    "\n",
    "    def __hash__(self):\n",
    "        return hash(self.x) ^ hash(self.y)\n",
    "\n",
    "    def __abs__(self):\n",
    "        return math.hypot(self.x, self.y)\n",
    "\n",
    "    def __bool__(self):\n",
    "        return bool(abs(self))\n",
    "\n",
    "    def angle(self):\n",
    "        return math.atan2(self.y, self.x)\n",
    "\n",
    "    def __format__(self, fmt_spec=''):\n",
    "        if fmt_spec.endswith('p'):\n",
    "            fmt_spec = fmt_spec[:-1]\n",
    "            coords = (abs(self), self.angle())\n",
    "            outer_fmt = '<{}, {}>'\n",
    "        else:\n",
    "            coords = self\n",
    "            outer_fmt = '({}, {})'\n",
    "        components = (format(c, fmt_spec) for c in coords)\n",
    "        return outer_fmt.format(*components)\n",
    "\n",
    "    @classmethod\n",
    "    def frombytes(cls, octets):\n",
    "        typecode = chr(octets[0])\n",
    "        memv = memoryview(octets[1:]).cast(typecode)\n",
    "        return cls(*memv)\n"
   ]
  },
  {
   "cell_type": "code",
   "execution_count": null,
   "id": "735fb2c4",
   "metadata": {},
   "outputs": [],
   "source": []
  },
  {
   "cell_type": "code",
   "execution_count": 20,
   "id": "7af7f8c6",
   "metadata": {},
   "outputs": [],
   "source": [
    "v3 = Vector2d(10, 3)"
   ]
  },
  {
   "cell_type": "code",
   "execution_count": 26,
   "id": "2656c23c",
   "metadata": {},
   "outputs": [
    {
     "data": {
      "text/plain": [
       "<generator object Vector2d.__iter__.<locals>.<genexpr> at 0x11adffb50>"
      ]
     },
     "execution_count": 26,
     "metadata": {},
     "output_type": "execute_result"
    }
   ],
   "source": [
    "v3.__iter__()"
   ]
  },
  {
   "cell_type": "code",
   "execution_count": null,
   "id": "c5f82c1c",
   "metadata": {},
   "outputs": [],
   "source": []
  },
  {
   "cell_type": "code",
   "execution_count": 31,
   "id": "fba2198b",
   "metadata": {},
   "outputs": [
    {
     "name": "stdout",
     "output_type": "stream",
     "text": [
      "True\n",
      "42\n",
      "42\n"
     ]
    }
   ],
   "source": [
    "class MyClass:\n",
    "    def __init__(self, value):\n",
    "        self.value = value\n",
    "\n",
    "    def __eq__(self, other):\n",
    "        return isinstance(other, MyClass) and self.value == other.value\n",
    "\n",
    "    def __hash__(self):\n",
    "        return hash(self.value)\n",
    "\n",
    "# 예시\n",
    "obj1 = MyClass(42)\n",
    "obj2 = MyClass(42)\n",
    "\n",
    "# 동등성 비교\n",
    "print(obj1 == obj2)  # True\n",
    "\n",
    "# 해시 값 얻기\n",
    "print(hash(obj1))\n",
    "print(hash(obj2))\n",
    "\n",
    "# set에 추가\n",
    "my_set = {obj1, obj2}\n"
   ]
  },
  {
   "cell_type": "code",
   "execution_count": 32,
   "id": "a97e4b58",
   "metadata": {},
   "outputs": [
    {
     "data": {
      "text/plain": [
       "42"
      ]
     },
     "execution_count": 32,
     "metadata": {},
     "output_type": "execute_result"
    }
   ],
   "source": [
    "obj1.value"
   ]
  },
  {
   "cell_type": "code",
   "execution_count": 33,
   "id": "4dad6ac4",
   "metadata": {},
   "outputs": [],
   "source": [
    "obj1.value = 1"
   ]
  },
  {
   "cell_type": "code",
   "execution_count": 35,
   "id": "15f14ab5",
   "metadata": {},
   "outputs": [
    {
     "data": {
      "text/plain": [
       "1"
      ]
     },
     "execution_count": 35,
     "metadata": {},
     "output_type": "execute_result"
    }
   ],
   "source": [
    "hash(obj1)"
   ]
  },
  {
   "cell_type": "code",
   "execution_count": null,
   "id": "d0ee27b8",
   "metadata": {},
   "outputs": [],
   "source": []
  },
  {
   "cell_type": "markdown",
   "id": "0ddd751f",
   "metadata": {},
   "source": [
    "# 7. 파이썬에서의 비공개 속성과 보호된 속성"
   ]
  },
  {
   "cell_type": "code",
   "execution_count": null,
   "id": "92b83ecd",
   "metadata": {},
   "outputs": [],
   "source": []
  },
  {
   "cell_type": "markdown",
   "id": "24c795ca",
   "metadata": {},
   "source": [
    "# 8. __slots__ 클래스 속성으로 공간 절약하기"
   ]
  },
  {
   "cell_type": "code",
   "execution_count": 37,
   "id": "70d1c78c",
   "metadata": {},
   "outputs": [],
   "source": [
    "class Vector2d:\n",
    "    __slots__ = ('__x', '__y')\n",
    "    \n",
    "    typecode = 'd'\n",
    "\n",
    "    def __init__(self, x, y):\n",
    "        self.__x = float(x)\n",
    "        self.__y = float(y)\n",
    "\n",
    "    @property\n",
    "    def x(self):\n",
    "        return self.__x\n",
    "\n",
    "    @property\n",
    "    def y(self):\n",
    "        return self.__y\n",
    "\n",
    "    def __iter__(self):\n",
    "        return (i for i in (self.x, self.y))\n",
    "\n",
    "    def __repr__(self):\n",
    "        class_name = type(self).__name__\n",
    "        return '{}({!r}, {!r})'.format(class_name, *self)\n",
    "\n",
    "    def __str__(self):\n",
    "        return str(tuple(self))\n",
    "\n",
    "    def __bytes__(self):\n",
    "        return (bytes([ord(self.typecode)]) +\n",
    "                bytes(array(self.typecode, self)))\n",
    "\n",
    "    def __eq__(self, other):\n",
    "        return tuple(self) == tuple(other)\n",
    "\n",
    "    def __hash__(self):\n",
    "        return hash(self.x) ^ hash(self.y)\n",
    "\n",
    "    def __abs__(self):\n",
    "        return math.hypot(self.x, self.y)\n",
    "\n",
    "    def __bool__(self):\n",
    "        return bool(abs(self))\n",
    "\n",
    "    def angle(self):\n",
    "        return math.atan2(self.y, self.x)\n",
    "\n",
    "    def __format__(self, fmt_spec=''):\n",
    "        if fmt_spec.endswith('p'):\n",
    "            fmt_spec = fmt_spec[:-1]\n",
    "            coords = (abs(self), self.angle())\n",
    "            outer_fmt = '<{}, {}>'\n",
    "        else:\n",
    "            coords = self\n",
    "            outer_fmt = '({}, {})'\n",
    "        components = (format(c, fmt_spec) for c in coords)\n",
    "        return outer_fmt.format(*components)\n",
    "\n",
    "    @classmethod\n",
    "    def frombytes(cls, octets):\n",
    "        typecode = chr(octets[0])\n",
    "        memv = memoryview(octets[1:]).cast(typecode)\n",
    "        return cls(*memv)\n"
   ]
  },
  {
   "cell_type": "code",
   "execution_count": null,
   "id": "1fb17d1a",
   "metadata": {},
   "outputs": [],
   "source": []
  },
  {
   "cell_type": "code",
   "execution_count": 43,
   "id": "30c198ee",
   "metadata": {},
   "outputs": [],
   "source": [
    "class Hi:\n",
    "    def __init__(self, x, y):\n",
    "        self.x = float(x)\n",
    "        self.y = float(y)"
   ]
  },
  {
   "cell_type": "code",
   "execution_count": 44,
   "id": "26ff718f",
   "metadata": {},
   "outputs": [],
   "source": [
    "test = Hi(1, 3)"
   ]
  },
  {
   "cell_type": "code",
   "execution_count": 46,
   "id": "0319bc48",
   "metadata": {},
   "outputs": [
    {
     "data": {
      "text/plain": [
       "1.0"
      ]
     },
     "execution_count": 46,
     "metadata": {},
     "output_type": "execute_result"
    }
   ],
   "source": [
    "test.x"
   ]
  },
  {
   "cell_type": "code",
   "execution_count": 47,
   "id": "f9029e60",
   "metadata": {},
   "outputs": [
    {
     "data": {
      "text/plain": [
       "{'x': 1.0, 'y': 3.0}"
      ]
     },
     "execution_count": 47,
     "metadata": {},
     "output_type": "execute_result"
    }
   ],
   "source": [
    "test.__dict__"
   ]
  },
  {
   "cell_type": "code",
   "execution_count": null,
   "id": "dd9498e8",
   "metadata": {},
   "outputs": [],
   "source": []
  },
  {
   "cell_type": "code",
   "execution_count": 48,
   "id": "d9a34687",
   "metadata": {},
   "outputs": [
    {
     "data": {
      "text/plain": [
       "['__class__',\n",
       " '__delattr__',\n",
       " '__dict__',\n",
       " '__dir__',\n",
       " '__doc__',\n",
       " '__eq__',\n",
       " '__format__',\n",
       " '__ge__',\n",
       " '__getattribute__',\n",
       " '__gt__',\n",
       " '__hash__',\n",
       " '__init__',\n",
       " '__init_subclass__',\n",
       " '__le__',\n",
       " '__lt__',\n",
       " '__module__',\n",
       " '__ne__',\n",
       " '__new__',\n",
       " '__reduce__',\n",
       " '__reduce_ex__',\n",
       " '__repr__',\n",
       " '__setattr__',\n",
       " '__sizeof__',\n",
       " '__str__',\n",
       " '__subclasshook__',\n",
       " '__weakref__',\n",
       " 'x',\n",
       " 'y']"
      ]
     },
     "execution_count": 48,
     "metadata": {},
     "output_type": "execute_result"
    }
   ],
   "source": [
    "dir(test)"
   ]
  },
  {
   "cell_type": "code",
   "execution_count": 49,
   "id": "c5f9fcc2",
   "metadata": {},
   "outputs": [],
   "source": [
    "test.__weakref__"
   ]
  },
  {
   "cell_type": "code",
   "execution_count": null,
   "id": "f24117fb",
   "metadata": {},
   "outputs": [],
   "source": []
  },
  {
   "cell_type": "markdown",
   "id": "c56550f9",
   "metadata": {},
   "source": [
    "## 8.1 __slots__를 사용할 때 주의할 점"
   ]
  },
  {
   "cell_type": "code",
   "execution_count": null,
   "id": "8a31d648",
   "metadata": {},
   "outputs": [],
   "source": []
  },
  {
   "cell_type": "markdown",
   "id": "792d4847",
   "metadata": {},
   "source": [
    "# 9. 클래스 속성 오버라이드"
   ]
  },
  {
   "cell_type": "code",
   "execution_count": 50,
   "id": "c0026f5d",
   "metadata": {},
   "outputs": [
    {
     "data": {
      "text/plain": [
       "__main__.Vector2d"
      ]
     },
     "execution_count": 50,
     "metadata": {},
     "output_type": "execute_result"
    }
   ],
   "source": [
    "Vector2d"
   ]
  },
  {
   "cell_type": "code",
   "execution_count": 51,
   "id": "bdd7ba29",
   "metadata": {},
   "outputs": [
    {
     "data": {
      "text/plain": [
       "'d'"
      ]
     },
     "execution_count": 51,
     "metadata": {},
     "output_type": "execute_result"
    }
   ],
   "source": [
    "Vector2d.typecode"
   ]
  },
  {
   "cell_type": "code",
   "execution_count": 52,
   "id": "003cc27c",
   "metadata": {},
   "outputs": [],
   "source": [
    "class ShortVector2d(Vector2d):\n",
    "    typecode = 'f'"
   ]
  },
  {
   "cell_type": "code",
   "execution_count": 53,
   "id": "82709456",
   "metadata": {},
   "outputs": [
    {
     "data": {
      "text/plain": [
       "'d'"
      ]
     },
     "execution_count": 53,
     "metadata": {},
     "output_type": "execute_result"
    }
   ],
   "source": [
    "Vector2d.typecode"
   ]
  },
  {
   "cell_type": "code",
   "execution_count": 54,
   "id": "24eda0df",
   "metadata": {},
   "outputs": [
    {
     "data": {
      "text/plain": [
       "'Vector2d'"
      ]
     },
     "execution_count": 54,
     "metadata": {},
     "output_type": "execute_result"
    }
   ],
   "source": [
    "Vector2d.__name__"
   ]
  },
  {
   "cell_type": "code",
   "execution_count": 55,
   "id": "f5fcdfb2",
   "metadata": {},
   "outputs": [
    {
     "data": {
      "text/plain": [
       "'ShortVector2d'"
      ]
     },
     "execution_count": 55,
     "metadata": {},
     "output_type": "execute_result"
    }
   ],
   "source": [
    "ShortVector2d.__name__"
   ]
  },
  {
   "cell_type": "code",
   "execution_count": null,
   "id": "8fa5b953",
   "metadata": {},
   "outputs": [],
   "source": []
  }
 ],
 "metadata": {
  "kernelspec": {
   "display_name": "Python 3 (ipykernel)",
   "language": "python",
   "name": "python3"
  },
  "language_info": {
   "codemirror_mode": {
    "name": "ipython",
    "version": 3
   },
   "file_extension": ".py",
   "mimetype": "text/x-python",
   "name": "python",
   "nbconvert_exporter": "python",
   "pygments_lexer": "ipython3",
   "version": "3.10.13"
  },
  "toc": {
   "base_numbering": 1,
   "nav_menu": {},
   "number_sections": true,
   "sideBar": true,
   "skip_h1_title": false,
   "title_cell": "Table of Contents",
   "title_sidebar": "Contents",
   "toc_cell": false,
   "toc_position": {},
   "toc_section_display": true,
   "toc_window_display": false
  }
 },
 "nbformat": 4,
 "nbformat_minor": 5
}
