{
 "cells": [
  {
   "cell_type": "markdown",
   "id": "9dc1e360",
   "metadata": {},
   "source": [
    "# 1. 사례: 전략 패턴의 리팩토링"
   ]
  },
  {
   "cell_type": "markdown",
   "id": "12f6e22e",
   "metadata": {},
   "source": [
    "## 1.1 고전적인 전략"
   ]
  },
  {
   "cell_type": "code",
   "execution_count": 2,
   "id": "8da352ee",
   "metadata": {},
   "outputs": [],
   "source": [
    "from abc import ABC, abstractmethod\n",
    "from collections import namedtuple\n",
    "\n",
    "Customer = namedtuple('Customer', 'name fidelity')\n",
    "\n",
    "\n",
    "class LineItem:\n",
    "\n",
    "    def __init__(self, product, quantity, price):\n",
    "        self.product = product\n",
    "        self.quantity = quantity\n",
    "        self.price = price\n",
    "\n",
    "    def total(self):\n",
    "        return self.price * self.quantity"
   ]
  },
  {
   "cell_type": "code",
   "execution_count": 3,
   "id": "214b7b18",
   "metadata": {},
   "outputs": [],
   "source": [
    "class Order:  # the Context\n",
    "\n",
    "    def __init__(self, customer, cart, promotion=None):\n",
    "        self.customer = customer\n",
    "        self.cart = list(cart)\n",
    "        self.promotion = promotion\n",
    "\n",
    "    def total(self):\n",
    "        if not hasattr(self, '__total'):\n",
    "            self.__total = sum(item.total() for item in self.cart)\n",
    "        return self.__total\n",
    "\n",
    "    def due(self):\n",
    "        if self.promotion is None:\n",
    "            discount = 0\n",
    "        else:\n",
    "            discount = self.promotion.discount(self)\n",
    "        return self.total() - discount\n",
    "\n",
    "    def __repr__(self):\n",
    "        fmt = '<Order total: {:.2f} due: {:.2f}>'\n",
    "        return fmt.format(self.total(), self.due())"
   ]
  },
  {
   "cell_type": "code",
   "execution_count": 4,
   "id": "d8c078f3",
   "metadata": {},
   "outputs": [],
   "source": [
    "class Promotion(ABC):  # the Strategy: an Abstract Base Class\n",
    "\n",
    "    @abstractmethod\n",
    "    def discount(self, order):\n",
    "        \"\"\"Return discount as a positive dollar amount\"\"\"\n",
    "\n",
    "\n",
    "class FidelityPromo(Promotion):  # first Concrete Strategy\n",
    "    \"\"\"5% discount for customers with 1000 or more fidelity points\"\"\"\n",
    "\n",
    "    def discount(self, order):\n",
    "        return order.total() * .05 if order.customer.fidelity >= 1000 else 0\n",
    "\n",
    "\n",
    "class BulkItemPromo(Promotion):  # second Concrete Strategy\n",
    "    \"\"\"10% discount for each LineItem with 20 or more units\"\"\"\n",
    "\n",
    "    def discount(self, order):\n",
    "        discount = 0\n",
    "        for item in order.cart:\n",
    "            if item.quantity >= 20:\n",
    "                discount += item.total() * .1\n",
    "        return discount\n",
    "\n",
    "\n",
    "class LargeOrderPromo(Promotion):  # third Concrete Strategy\n",
    "    \"\"\"7% discount for orders with 10 or more distinct items\"\"\"\n",
    "\n",
    "    def discount(self, order):\n",
    "        distinct_items = {item.product for item in order.cart}\n",
    "        if len(distinct_items) >= 10:\n",
    "            return order.total() * .07\n",
    "        return 0"
   ]
  },
  {
   "cell_type": "code",
   "execution_count": 8,
   "id": "189a8b31",
   "metadata": {},
   "outputs": [],
   "source": [
    "joe = Customer('John Doe', 0)\n",
    "ann = Customer('Ann Smith', 1100)"
   ]
  },
  {
   "cell_type": "code",
   "execution_count": 9,
   "id": "4dc5843f",
   "metadata": {},
   "outputs": [],
   "source": [
    "cart = [LineItem('banana', 4, .5), \n",
    "       LineItem('apple', 10, 1.5),\n",
    "       LineItem('watermelon', 5, 5.0)]"
   ]
  },
  {
   "cell_type": "code",
   "execution_count": 11,
   "id": "5ab302e1",
   "metadata": {},
   "outputs": [
    {
     "data": {
      "text/plain": [
       "<Order total: 42.00 due: 42.00>"
      ]
     },
     "execution_count": 11,
     "metadata": {},
     "output_type": "execute_result"
    }
   ],
   "source": [
    "Order(joe, cart, FidelityPromo())"
   ]
  },
  {
   "cell_type": "code",
   "execution_count": 12,
   "id": "7acae0d7",
   "metadata": {},
   "outputs": [
    {
     "data": {
      "text/plain": [
       "<Order total: 42.00 due: 39.90>"
      ]
     },
     "execution_count": 12,
     "metadata": {},
     "output_type": "execute_result"
    }
   ],
   "source": [
    "Order(ann, cart, FidelityPromo())"
   ]
  },
  {
   "cell_type": "code",
   "execution_count": null,
   "id": "b2e47b74",
   "metadata": {},
   "outputs": [],
   "source": []
  },
  {
   "cell_type": "code",
   "execution_count": 15,
   "id": "2871ed13",
   "metadata": {},
   "outputs": [],
   "source": [
    "banana_cart = [LineItem('banana', 30, .5),  # <5>\n",
    "                LineItem('apple', 10, 1.5)]"
   ]
  },
  {
   "cell_type": "code",
   "execution_count": 16,
   "id": "0f481c67",
   "metadata": {},
   "outputs": [
    {
     "data": {
      "text/plain": [
       "<Order total: 30.00 due: 28.50>"
      ]
     },
     "execution_count": 16,
     "metadata": {},
     "output_type": "execute_result"
    }
   ],
   "source": [
    "Order(joe, banana_cart, BulkItemPromo())"
   ]
  },
  {
   "cell_type": "code",
   "execution_count": 21,
   "id": "fea0997e",
   "metadata": {},
   "outputs": [],
   "source": [
    "long_order = [LineItem(str(item_code), 1, 1.0) for item_code in range(10)]"
   ]
  },
  {
   "cell_type": "code",
   "execution_count": 27,
   "id": "adfa3dca",
   "metadata": {},
   "outputs": [
    {
     "data": {
      "text/plain": [
       "<Order total: 10.00 due: 9.30>"
      ]
     },
     "execution_count": 27,
     "metadata": {},
     "output_type": "execute_result"
    }
   ],
   "source": [
    "Order(joe, long_order, LargeOrderPromo())"
   ]
  },
  {
   "cell_type": "code",
   "execution_count": 28,
   "id": "ad68ef3b",
   "metadata": {},
   "outputs": [
    {
     "data": {
      "text/plain": [
       "<Order total: 42.00 due: 42.00>"
      ]
     },
     "execution_count": 28,
     "metadata": {},
     "output_type": "execute_result"
    }
   ],
   "source": [
    "Order(joe, cart, LargeOrderPromo())"
   ]
  },
  {
   "cell_type": "code",
   "execution_count": null,
   "id": "842658a5",
   "metadata": {},
   "outputs": [],
   "source": []
  },
  {
   "cell_type": "markdown",
   "id": "338be01a",
   "metadata": {},
   "source": [
    "## 1.2 함수지향 전략"
   ]
  },
  {
   "cell_type": "code",
   "execution_count": 37,
   "id": "bafb9959",
   "metadata": {},
   "outputs": [],
   "source": [
    "from abc import ABC, abstractmethod\n",
    "from collections import namedtuple\n",
    "\n",
    "Customer = namedtuple('Customer', 'name fidelity')\n",
    "\n",
    "\n",
    "class LineItem:\n",
    "\n",
    "    def __init__(self, product, quantity, price):\n",
    "        self.product = product\n",
    "        self.quantity = quantity\n",
    "        self.price = price\n",
    "\n",
    "    def total(self):\n",
    "        return self.price * self.quantity"
   ]
  },
  {
   "cell_type": "code",
   "execution_count": 38,
   "id": "c3a1d3c1",
   "metadata": {},
   "outputs": [],
   "source": [
    "class Order:  # the Context\n",
    "\n",
    "    def __init__(self, customer, cart, promotion=None):\n",
    "        self.customer = customer\n",
    "        self.cart = list(cart)\n",
    "        self.promotion = promotion\n",
    "\n",
    "    def total(self):\n",
    "        if not hasattr(self, '__total'):\n",
    "            self.__total = sum(item.total() for item in self.cart)\n",
    "        return self.__total\n",
    "\n",
    "    def due(self):\n",
    "        if self.promotion is None:\n",
    "            discount = 0\n",
    "        else:\n",
    "            discount = self.promotion(self)\n",
    "        return self.total() - discount\n",
    "\n",
    "    def __repr__(self):\n",
    "        fmt = '<Order total: {:.2f} due: {:.2f}>'\n",
    "        return fmt.format(self.total(), self.due())"
   ]
  },
  {
   "cell_type": "code",
   "execution_count": 39,
   "id": "6d7b1145",
   "metadata": {},
   "outputs": [],
   "source": [
    "def fidelity_promo(order):\n",
    "    \"\"\"5% discount for customers with 1000 or more fidelity points\"\"\"\n",
    "    return order.total() * .05 if order.customer.fidelity >= 1000 else 0\n",
    "\n",
    "\n",
    "def bulk_item_promo(order):\n",
    "    \"\"\"10% discount for each LineItem with 20 or more units\"\"\"\n",
    "    discount = 0\n",
    "    for item in order.cart:\n",
    "        if item.quantity >= 20:\n",
    "            discount += item.total() * .1\n",
    "    return discount\n",
    "\n",
    "def large_order_promo(order):\n",
    "    \"\"\"7% discount for orders with 10 or more distinct items\"\"\"\n",
    "    distinct_items = {item.product for item in order.cart}\n",
    "    if len(distinct_items) >= 10:\n",
    "        return order.total() * .07\n",
    "    return 0"
   ]
  },
  {
   "cell_type": "code",
   "execution_count": null,
   "id": "9d42e95b",
   "metadata": {},
   "outputs": [],
   "source": []
  },
  {
   "cell_type": "code",
   "execution_count": 40,
   "id": "7d27855c",
   "metadata": {},
   "outputs": [],
   "source": [
    "joe = Customer('John Doe', 0)\n",
    "ann = Customer('Ann Smith', 1100)"
   ]
  },
  {
   "cell_type": "code",
   "execution_count": 41,
   "id": "644adb5d",
   "metadata": {},
   "outputs": [],
   "source": [
    "cart = [LineItem('banana', 4, .5), \n",
    "       LineItem('apple', 10, 1.5),\n",
    "       LineItem('watermelon', 5, 5.0)]"
   ]
  },
  {
   "cell_type": "code",
   "execution_count": 42,
   "id": "4c648bc2",
   "metadata": {},
   "outputs": [
    {
     "data": {
      "text/plain": [
       "<Order total: 42.00 due: 42.00>"
      ]
     },
     "execution_count": 42,
     "metadata": {},
     "output_type": "execute_result"
    }
   ],
   "source": [
    "Order(joe, cart, fidelity_promo)"
   ]
  },
  {
   "cell_type": "code",
   "execution_count": null,
   "id": "d3b6bedb",
   "metadata": {},
   "outputs": [],
   "source": []
  },
  {
   "cell_type": "markdown",
   "id": "8d2b1305",
   "metadata": {},
   "source": [
    "## 1.3 최선의 전략 선택하기: 단순한 접근법"
   ]
  },
  {
   "cell_type": "code",
   "execution_count": 50,
   "id": "10d744ef",
   "metadata": {},
   "outputs": [],
   "source": [
    "\n",
    "from collections import namedtuple\n",
    "\n",
    "Customer = namedtuple('Customer', 'name fidelity')\n",
    "\n",
    "\n",
    "class LineItem:\n",
    "\n",
    "    def __init__(self, product, quantity, price):\n",
    "        self.product = product\n",
    "        self.quantity = quantity\n",
    "        self.price = price\n",
    "\n",
    "    def total(self):\n",
    "        return self.price * self.quantity\n",
    "\n",
    "\n",
    "class Order:  # the Context\n",
    "\n",
    "    def __init__(self, customer, cart, promotion=None):\n",
    "        self.customer = customer\n",
    "        self.cart = list(cart)\n",
    "        self.promotion = promotion\n",
    "\n",
    "    def total(self):\n",
    "        if not hasattr(self, '__total'):\n",
    "            self.__total = sum(item.total() for item in self.cart)\n",
    "        return self.__total\n",
    "\n",
    "    def due(self):\n",
    "        if self.promotion is None:\n",
    "            discount = 0\n",
    "        else:\n",
    "            discount = self.promotion(self)\n",
    "        return self.total() - discount\n",
    "\n",
    "    def __repr__(self):\n",
    "        fmt = '<Order total: {:.2f} due: {:.2f}>'\n",
    "        return fmt.format(self.total(), self.due())\n",
    "\n",
    "\n",
    "def fidelity_promo(order):\n",
    "    \"\"\"5% discount for customers with 1000 or more fidelity points\"\"\"\n",
    "    return order.total() * .05 if order.customer.fidelity >= 1000 else 0\n",
    "\n",
    "\n",
    "def bulk_item_promo(order):\n",
    "    \"\"\"10% discount for each LineItem with 20 or more units\"\"\"\n",
    "    discount = 0\n",
    "    for item in order.cart:\n",
    "        if item.quantity >= 20:\n",
    "            discount += item.total() * .1\n",
    "    return discount\n",
    "\n",
    "\n",
    "def large_order_promo(order):\n",
    "    \"\"\"7% discount for orders with 10 or more distinct items\"\"\"\n",
    "    distinct_items = {item.product for item in order.cart}\n",
    "    if len(distinct_items) >= 10:\n",
    "        return order.total() * .07\n",
    "    return 0"
   ]
  },
  {
   "cell_type": "code",
   "execution_count": null,
   "id": "d345591f",
   "metadata": {},
   "outputs": [],
   "source": [
    "# 함수 리스트를 반복해서 최대 할인액을 찾아내는 best_promo() 함수\n",
    "promos = [fidelity_promo, bulk_item_promo, large_order_promo]  # <1>\n",
    "\n",
    "def best_promo(order):  # <2>\n",
    "    \"\"\"Select best discount available\n",
    "    \"\"\"\n",
    "    return max(promo(order) for promo in promos)  # <3>\n"
   ]
  },
  {
   "cell_type": "code",
   "execution_count": null,
   "id": "0b038f70",
   "metadata": {},
   "outputs": [],
   "source": []
  },
  {
   "cell_type": "markdown",
   "id": "2f502349",
   "metadata": {},
   "source": [
    "## 1.4 모듈에서 전략 찾기"
   ]
  },
  {
   "cell_type": "code",
   "execution_count": 59,
   "id": "ebe62cef",
   "metadata": {},
   "outputs": [],
   "source": [
    "# 6-7 모듈 전역 네임스페이스를 내부 조사해서 만든 promos 리스트\n",
    "promos = [globals()[name] for name in globals()  # <1>\n",
    "            if name.endswith('_promo')  # <2>\n",
    "            and name != 'best_promo']   # <3>\n",
    "\n",
    "def best_promo(order):\n",
    "    \"\"\"Select best discount available\n",
    "    \"\"\"\n",
    "    return max(promo(order) for promo in promos)  # <4>"
   ]
  },
  {
   "cell_type": "code",
   "execution_count": null,
   "id": "6f46af21",
   "metadata": {},
   "outputs": [],
   "source": []
  },
  {
   "cell_type": "code",
   "execution_count": 60,
   "id": "d9de9161",
   "metadata": {},
   "outputs": [
    {
     "data": {
      "text/plain": [
       "[<function __main__.fidelity_promo(order)>,\n",
       " <function __main__.bulk_item_promo(order)>,\n",
       " <function __main__.large_order_promo(order)>]"
      ]
     },
     "execution_count": 60,
     "metadata": {},
     "output_type": "execute_result"
    }
   ],
   "source": [
    "promos"
   ]
  },
  {
   "cell_type": "code",
   "execution_count": 61,
   "id": "40ce099a",
   "metadata": {},
   "outputs": [
    {
     "data": {
      "text/plain": [
       "['fidelity_promo', 'bulk_item_promo', 'large_order_promo', 'best_promo']"
      ]
     },
     "execution_count": 61,
     "metadata": {},
     "output_type": "execute_result"
    }
   ],
   "source": [
    "[name for name in globals() if name.endswith('_promo')]"
   ]
  },
  {
   "cell_type": "code",
   "execution_count": 62,
   "id": "9c4415cf",
   "metadata": {},
   "outputs": [
    {
     "data": {
      "text/plain": [
       "<function __main__.large_order_promo(order)>"
      ]
     },
     "execution_count": 62,
     "metadata": {},
     "output_type": "execute_result"
    }
   ],
   "source": [
    "globals()['large_order_promo']"
   ]
  },
  {
   "cell_type": "code",
   "execution_count": null,
   "id": "acd42d1d",
   "metadata": {},
   "outputs": [],
   "source": []
  },
  {
   "cell_type": "code",
   "execution_count": 63,
   "id": "e9dbff91",
   "metadata": {},
   "outputs": [],
   "source": [
    "# 6-8 새로운 promotions 모듈을 내부 조사해서 만든 promos 리스트"
   ]
  },
  {
   "cell_type": "code",
   "execution_count": 74,
   "id": "041b546f",
   "metadata": {},
   "outputs": [
    {
     "ename": "ModuleNotFoundError",
     "evalue": "No module named 'promotions'",
     "output_type": "error",
     "traceback": [
      "\u001b[0;31m---------------------------------------------------------------------------\u001b[0m",
      "\u001b[0;31mModuleNotFoundError\u001b[0m                       Traceback (most recent call last)",
      "Cell \u001b[0;32mIn[74], line 1\u001b[0m\n\u001b[0;32m----> 1\u001b[0m \u001b[38;5;28;01mfrom\u001b[39;00m \u001b[38;5;21;01mpromotions\u001b[39;00m \u001b[38;5;28;01mimport\u001b[39;00m \u001b[38;5;241m*\u001b[39m\n",
      "\u001b[0;31mModuleNotFoundError\u001b[0m: No module named 'promotions'"
     ]
    }
   ],
   "source": [
    "from promotions import *"
   ]
  },
  {
   "cell_type": "code",
   "execution_count": 73,
   "id": "8e687514",
   "metadata": {},
   "outputs": [
    {
     "ename": "ModuleNotFoundError",
     "evalue": "No module named 'promotions'",
     "output_type": "error",
     "traceback": [
      "\u001b[0;31m---------------------------------------------------------------------------\u001b[0m",
      "\u001b[0;31mModuleNotFoundError\u001b[0m                       Traceback (most recent call last)",
      "Cell \u001b[0;32mIn[73], line 2\u001b[0m\n\u001b[1;32m      1\u001b[0m \u001b[38;5;28;01mimport\u001b[39;00m \u001b[38;5;21;01minspect\u001b[39;00m\n\u001b[0;32m----> 2\u001b[0m \u001b[38;5;28;01mimport\u001b[39;00m \u001b[38;5;21;01mpromotions\u001b[39;00m\n\u001b[1;32m      4\u001b[0m promos \u001b[38;5;241m=\u001b[39m [func \u001b[38;5;28;01mfor\u001b[39;00m name, func \u001b[38;5;129;01min\u001b[39;00m\n\u001b[1;32m      5\u001b[0m                 inspect\u001b[38;5;241m.\u001b[39mgetmembers(promotions, inspect\u001b[38;5;241m.\u001b[39misfunction)]\n\u001b[1;32m      7\u001b[0m \u001b[38;5;28;01mdef\u001b[39;00m \u001b[38;5;21mbest_promo\u001b[39m(order):\n",
      "\u001b[0;31mModuleNotFoundError\u001b[0m: No module named 'promotions'"
     ]
    }
   ],
   "source": [
    "import inspect\n",
    "import promotions\n",
    "\n",
    "promos = [func for name, func in\n",
    "                inspect.getmembers(promotions, inspect.isfunction)]\n",
    "\n",
    "def best_promo(order):\n",
    "    \"\"\"Select best discount available\n",
    "    \"\"\"\n",
    "    return max(promo(order) for promo in promos)"
   ]
  },
  {
   "cell_type": "code",
   "execution_count": null,
   "id": "0a8ecd22",
   "metadata": {},
   "outputs": [],
   "source": []
  },
  {
   "cell_type": "markdown",
   "id": "ac203bd8",
   "metadata": {},
   "source": [
    "# 2. 명령"
   ]
  },
  {
   "cell_type": "code",
   "execution_count": 75,
   "id": "77fdc2bf",
   "metadata": {},
   "outputs": [],
   "source": [
    "class MacroCommand:\n",
    "    \"\"\"명령 리스트를 실행하는 명령\"\"\"\n",
    "    \n",
    "    def _"
   ]
  },
  {
   "cell_type": "code",
   "execution_count": null,
   "id": "ff507d1e",
   "metadata": {},
   "outputs": [],
   "source": []
  }
 ],
 "metadata": {
  "kernelspec": {
   "display_name": "Python 3 (ipykernel)",
   "language": "python",
   "name": "python3"
  },
  "language_info": {
   "codemirror_mode": {
    "name": "ipython",
    "version": 3
   },
   "file_extension": ".py",
   "mimetype": "text/x-python",
   "name": "python",
   "nbconvert_exporter": "python",
   "pygments_lexer": "ipython3",
   "version": "3.10.13"
  },
  "toc": {
   "base_numbering": 1,
   "nav_menu": {},
   "number_sections": true,
   "sideBar": true,
   "skip_h1_title": false,
   "title_cell": "Table of Contents",
   "title_sidebar": "Contents",
   "toc_cell": false,
   "toc_position": {},
   "toc_section_display": true,
   "toc_window_display": false
  }
 },
 "nbformat": 4,
 "nbformat_minor": 5
}
