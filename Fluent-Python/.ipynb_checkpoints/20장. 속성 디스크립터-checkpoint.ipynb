{
 "cells": [
  {
   "cell_type": "markdown",
   "id": "9f083fe1",
   "metadata": {},
   "source": [
    "# 1. 디스크립터 예: 속성 검증"
   ]
  },
  {
   "cell_type": "markdown",
   "id": "f4fd5582",
   "metadata": {},
   "source": [
    "## 1.1 LineItem 버전 #3: 간단한 디스크립터"
   ]
  },
  {
   "cell_type": "code",
   "execution_count": 66,
   "id": "f3923a27",
   "metadata": {},
   "outputs": [],
   "source": [
    "class Quantity:  # <1>\n",
    "\n",
    "    def __init__(self, storage_name):\n",
    "        self.storage_name = storage_name  # <2>\n",
    "\n",
    "    def __set__(self, instance, value):  # <3>\n",
    "        if value > 0:\n",
    "            instance.__dict__[self.storage_name] = value  # <4>\n",
    "        else:\n",
    "            raise ValueError('value must be > 0')"
   ]
  },
  {
   "cell_type": "code",
   "execution_count": 67,
   "id": "24183a52",
   "metadata": {},
   "outputs": [],
   "source": [
    "class LineItem:\n",
    "    weight = Quantity('weight')  # <5>\n",
    "    price = Quantity('price')  # <6>\n",
    "\n",
    "    def __init__(self, description, weight, price):  # <7>\n",
    "        self.description = description\n",
    "        self.weight = weight\n",
    "        self.price = price\n",
    "\n",
    "    def subtotal(self):\n",
    "        return self.weight * self.price"
   ]
  },
  {
   "cell_type": "code",
   "execution_count": null,
   "id": "e3cea8e3",
   "metadata": {},
   "outputs": [],
   "source": [
    "\n"
   ]
  },
  {
   "cell_type": "code",
   "execution_count": 68,
   "id": "e3c4a82f",
   "metadata": {},
   "outputs": [],
   "source": [
    "truffle = LineItem('White truffle', 100, 2)"
   ]
  },
  {
   "cell_type": "code",
   "execution_count": 69,
   "id": "cb4cacf7",
   "metadata": {},
   "outputs": [
    {
     "data": {
      "text/plain": [
       "['__class__',\n",
       " '__delattr__',\n",
       " '__dict__',\n",
       " '__dir__',\n",
       " '__doc__',\n",
       " '__eq__',\n",
       " '__format__',\n",
       " '__ge__',\n",
       " '__getattribute__',\n",
       " '__gt__',\n",
       " '__hash__',\n",
       " '__init__',\n",
       " '__init_subclass__',\n",
       " '__le__',\n",
       " '__lt__',\n",
       " '__module__',\n",
       " '__ne__',\n",
       " '__new__',\n",
       " '__reduce__',\n",
       " '__reduce_ex__',\n",
       " '__repr__',\n",
       " '__setattr__',\n",
       " '__sizeof__',\n",
       " '__str__',\n",
       " '__subclasshook__',\n",
       " '__weakref__',\n",
       " 'description',\n",
       " 'price',\n",
       " 'subtotal',\n",
       " 'weight']"
      ]
     },
     "execution_count": 69,
     "metadata": {},
     "output_type": "execute_result"
    }
   ],
   "source": [
    "dir(truffle)"
   ]
  },
  {
   "cell_type": "code",
   "execution_count": 71,
   "id": "719a3a82",
   "metadata": {},
   "outputs": [
    {
     "data": {
      "text/plain": [
       "100"
      ]
     },
     "execution_count": 71,
     "metadata": {},
     "output_type": "execute_result"
    }
   ],
   "source": [
    "truffle.weight"
   ]
  },
  {
   "cell_type": "code",
   "execution_count": null,
   "id": "de5390be",
   "metadata": {},
   "outputs": [],
   "source": [
    "# 저거 실행 시점이라고 해야 하나????? 생성되는 시점..? cv라 자바처럼 LineItem 클래스가 로딩될 때? cv라서 또 공통일 거 아님?"
   ]
  },
  {
   "cell_type": "code",
   "execution_count": 63,
   "id": "99d1a270",
   "metadata": {},
   "outputs": [],
   "source": [
    "weightQuantity = LineItem.weight"
   ]
  },
  {
   "cell_type": "code",
   "execution_count": 64,
   "id": "0a5899bf",
   "metadata": {},
   "outputs": [
    {
     "data": {
      "text/plain": [
       "'weight'"
      ]
     },
     "execution_count": 64,
     "metadata": {},
     "output_type": "execute_result"
    }
   ],
   "source": [
    "weightQuantity.storage_name"
   ]
  },
  {
   "cell_type": "code",
   "execution_count": 65,
   "id": "e08b7a57",
   "metadata": {
    "scrolled": true
   },
   "outputs": [
    {
     "data": {
      "text/plain": [
       "['__class__',\n",
       " '__delattr__',\n",
       " '__dict__',\n",
       " '__dir__',\n",
       " '__doc__',\n",
       " '__eq__',\n",
       " '__format__',\n",
       " '__ge__',\n",
       " '__getattribute__',\n",
       " '__gt__',\n",
       " '__hash__',\n",
       " '__init__',\n",
       " '__init_subclass__',\n",
       " '__le__',\n",
       " '__lt__',\n",
       " '__module__',\n",
       " '__ne__',\n",
       " '__new__',\n",
       " '__reduce__',\n",
       " '__reduce_ex__',\n",
       " '__repr__',\n",
       " '__set__',\n",
       " '__setattr__',\n",
       " '__sizeof__',\n",
       " '__str__',\n",
       " '__subclasshook__',\n",
       " '__weakref__',\n",
       " 'storage_name']"
      ]
     },
     "execution_count": 65,
     "metadata": {},
     "output_type": "execute_result"
    }
   ],
   "source": [
    "dir(weightQuantity)"
   ]
  },
  {
   "cell_type": "code",
   "execution_count": null,
   "id": "670df636",
   "metadata": {},
   "outputs": [],
   "source": []
  },
  {
   "cell_type": "code",
   "execution_count": null,
   "id": "4812a643",
   "metadata": {},
   "outputs": [],
   "source": []
  },
  {
   "cell_type": "markdown",
   "id": "7c282f58",
   "metadata": {},
   "source": [
    "## 1.2 LineItem 버전 #4: 자동 저장소 속성명"
   ]
  },
  {
   "cell_type": "code",
   "execution_count": 99,
   "id": "a909932d",
   "metadata": {},
   "outputs": [],
   "source": [
    "class Quantity:\n",
    "    __counter = 0  # <1>\n",
    "\n",
    "    def __init__(self):\n",
    "        cls = self.__class__  # <2>\n",
    "        prefix = cls.__name__\n",
    "        index = cls.__counter\n",
    "        self.storage_name = '_{}#{}'.format(prefix, index)  # <3>\n",
    "        cls.__counter += 1  # <4>\n",
    "\n",
    "    def __get__(self, instance, owner):  # <5>\n",
    "        print('__get__ 호출')\n",
    "        return getattr(instance, self.storage_name)  # <6>\n",
    "\n",
    "    def __set__(self, instance, value):\n",
    "        print('__set__ 호출')\n",
    "        if value > 0:\n",
    "            setattr(instance, self.storage_name, value)  # <7>\n",
    "        else:\n",
    "            raise ValueError('value must be > 0')"
   ]
  },
  {
   "cell_type": "code",
   "execution_count": 100,
   "id": "778867d5",
   "metadata": {},
   "outputs": [],
   "source": [
    "class LineItem:\n",
    "    weight = Quantity()  # <8>\n",
    "    price = Quantity()\n",
    "\n",
    "    def __init__(self, description, weight, price):\n",
    "        self.description = description\n",
    "        self.weight = weight\n",
    "        self.price = price\n",
    "\n",
    "    def subtotal(self):\n",
    "        return self.weight * self.price"
   ]
  },
  {
   "cell_type": "code",
   "execution_count": 101,
   "id": "8669449c",
   "metadata": {},
   "outputs": [
    {
     "name": "stdout",
     "output_type": "stream",
     "text": [
      "__set__ 호출\n",
      "__set__ 호출\n"
     ]
    }
   ],
   "source": [
    "coconuts = LineItem('Brazilian coconut', 20, 17.95)"
   ]
  },
  {
   "cell_type": "code",
   "execution_count": 102,
   "id": "3dd1ffd3",
   "metadata": {},
   "outputs": [
    {
     "name": "stdout",
     "output_type": "stream",
     "text": [
      "__get__ 호출\n"
     ]
    },
    {
     "data": {
      "text/plain": [
       "20"
      ]
     },
     "execution_count": 102,
     "metadata": {},
     "output_type": "execute_result"
    }
   ],
   "source": [
    "coconuts.weight # __get__ 주석처리 시"
   ]
  },
  {
   "cell_type": "code",
   "execution_count": 103,
   "id": "7ca1305e",
   "metadata": {},
   "outputs": [
    {
     "name": "stdout",
     "output_type": "stream",
     "text": [
      "__get__ 호출\n"
     ]
    }
   ],
   "source": [
    "test = coconuts.weight"
   ]
  },
  {
   "cell_type": "code",
   "execution_count": 104,
   "id": "e119f40c",
   "metadata": {},
   "outputs": [
    {
     "ename": "AttributeError",
     "evalue": "'int' object has no attribute 'storage_name'",
     "output_type": "error",
     "traceback": [
      "\u001b[0;31m---------------------------------------------------------------------------\u001b[0m",
      "\u001b[0;31mAttributeError\u001b[0m                            Traceback (most recent call last)",
      "Cell \u001b[0;32mIn[104], line 1\u001b[0m\n\u001b[0;32m----> 1\u001b[0m \u001b[43mtest\u001b[49m\u001b[38;5;241;43m.\u001b[39;49m\u001b[43mstorage_name\u001b[49m\n",
      "\u001b[0;31mAttributeError\u001b[0m: 'int' object has no attribute 'storage_name'"
     ]
    }
   ],
   "source": [
    "test.storage_name"
   ]
  },
  {
   "cell_type": "code",
   "execution_count": 105,
   "id": "d2f99f2a",
   "metadata": {},
   "outputs": [
    {
     "name": "stdout",
     "output_type": "stream",
     "text": [
      "__get__ 호출\n"
     ]
    },
    {
     "data": {
      "text/plain": [
       "20"
      ]
     },
     "execution_count": 105,
     "metadata": {},
     "output_type": "execute_result"
    }
   ],
   "source": [
    "coconuts.weight"
   ]
  },
  {
   "cell_type": "code",
   "execution_count": null,
   "id": "5c86b564",
   "metadata": {},
   "outputs": [],
   "source": []
  },
  {
   "cell_type": "code",
   "execution_count": 106,
   "id": "7d15b707",
   "metadata": {},
   "outputs": [
    {
     "data": {
      "text/plain": [
       "20"
      ]
     },
     "execution_count": 106,
     "metadata": {},
     "output_type": "execute_result"
    }
   ],
   "source": [
    "getattr(coconuts, '_Quantity#0')"
   ]
  },
  {
   "cell_type": "code",
   "execution_count": 107,
   "id": "bb06fc21",
   "metadata": {},
   "outputs": [
    {
     "data": {
      "text/plain": [
       "['_Quantity#0',\n",
       " '_Quantity#1',\n",
       " '__class__',\n",
       " '__delattr__',\n",
       " '__dict__',\n",
       " '__dir__',\n",
       " '__doc__',\n",
       " '__eq__',\n",
       " '__format__',\n",
       " '__ge__',\n",
       " '__getattribute__',\n",
       " '__gt__',\n",
       " '__hash__',\n",
       " '__init__',\n",
       " '__init_subclass__',\n",
       " '__le__',\n",
       " '__lt__',\n",
       " '__module__',\n",
       " '__ne__',\n",
       " '__new__',\n",
       " '__reduce__',\n",
       " '__reduce_ex__',\n",
       " '__repr__',\n",
       " '__setattr__',\n",
       " '__sizeof__',\n",
       " '__str__',\n",
       " '__subclasshook__',\n",
       " '__weakref__',\n",
       " 'description',\n",
       " 'price',\n",
       " 'subtotal',\n",
       " 'weight']"
      ]
     },
     "execution_count": 107,
     "metadata": {},
     "output_type": "execute_result"
    }
   ],
   "source": [
    "dir(coconuts)"
   ]
  },
  {
   "cell_type": "code",
   "execution_count": 111,
   "id": "4ded268e",
   "metadata": {},
   "outputs": [
    {
     "data": {
      "text/plain": [
       "{'description': 'Brazilian coconut', '_Quantity#0': 20, '_Quantity#1': 17.95}"
      ]
     },
     "execution_count": 111,
     "metadata": {},
     "output_type": "execute_result"
    }
   ],
   "source": [
    "coconuts.__dict__ # 헐.. self.weight, price는 어디감 ㅠ 이거 앞에 복습을 해야 되는 거임? 속성 가려지는 거 어쩌구???? 아;;;"
   ]
  },
  {
   "cell_type": "code",
   "execution_count": 109,
   "id": "fd4ef891",
   "metadata": {},
   "outputs": [
    {
     "ename": "KeyError",
     "evalue": "'weight'",
     "output_type": "error",
     "traceback": [
      "\u001b[0;31m---------------------------------------------------------------------------\u001b[0m",
      "\u001b[0;31mKeyError\u001b[0m                                  Traceback (most recent call last)",
      "Cell \u001b[0;32mIn[109], line 1\u001b[0m\n\u001b[0;32m----> 1\u001b[0m \u001b[43mcoconuts\u001b[49m\u001b[38;5;241;43m.\u001b[39;49m\u001b[38;5;18;43m__dict__\u001b[39;49m\u001b[43m[\u001b[49m\u001b[38;5;124;43m'\u001b[39;49m\u001b[38;5;124;43mweight\u001b[39;49m\u001b[38;5;124;43m'\u001b[39;49m\u001b[43m]\u001b[49m\n",
      "\u001b[0;31mKeyError\u001b[0m: 'weight'"
     ]
    }
   ],
   "source": [
    "coconuts.__dict__['weight']"
   ]
  },
  {
   "cell_type": "code",
   "execution_count": null,
   "id": "115b3ed0",
   "metadata": {},
   "outputs": [],
   "source": [
    "# 그러니까 지금 위의 상황은 디스크립터가 객체 속성을 가리는 거 같은데..?"
   ]
  },
  {
   "cell_type": "code",
   "execution_count": 112,
   "id": "9b9e38c4",
   "metadata": {},
   "outputs": [],
   "source": [
    "class Class:\n",
    "    data = 'the class data attr'\n",
    "    \n",
    "    @property\n",
    "    def prop(self):\n",
    "        return 'the prop value'"
   ]
  },
  {
   "cell_type": "code",
   "execution_count": 113,
   "id": "5d8b4c73",
   "metadata": {},
   "outputs": [],
   "source": [
    "obj = Class()"
   ]
  },
  {
   "cell_type": "code",
   "execution_count": 114,
   "id": "f2c779fc",
   "metadata": {},
   "outputs": [
    {
     "data": {
      "text/plain": [
       "{}"
      ]
     },
     "execution_count": 114,
     "metadata": {},
     "output_type": "execute_result"
    }
   ],
   "source": [
    "obj.__dict__"
   ]
  },
  {
   "cell_type": "code",
   "execution_count": 115,
   "id": "6d66965a",
   "metadata": {},
   "outputs": [
    {
     "data": {
      "text/plain": [
       "'the class data attr'"
      ]
     },
     "execution_count": 115,
     "metadata": {},
     "output_type": "execute_result"
    }
   ],
   "source": [
    "obj.data"
   ]
  },
  {
   "cell_type": "code",
   "execution_count": 116,
   "id": "039938ba",
   "metadata": {},
   "outputs": [],
   "source": [
    "obj.data = 'bar'"
   ]
  },
  {
   "cell_type": "code",
   "execution_count": 117,
   "id": "0978abbc",
   "metadata": {},
   "outputs": [
    {
     "data": {
      "text/plain": [
       "{'data': 'bar'}"
      ]
     },
     "execution_count": 117,
     "metadata": {},
     "output_type": "execute_result"
    }
   ],
   "source": [
    "obj.__dict__"
   ]
  },
  {
   "cell_type": "code",
   "execution_count": 118,
   "id": "2e21785e",
   "metadata": {},
   "outputs": [
    {
     "data": {
      "text/plain": [
       "'bar'"
      ]
     },
     "execution_count": 118,
     "metadata": {},
     "output_type": "execute_result"
    }
   ],
   "source": [
    "obj.data"
   ]
  },
  {
   "cell_type": "code",
   "execution_count": 119,
   "id": "fbc9747b",
   "metadata": {},
   "outputs": [
    {
     "data": {
      "text/plain": [
       "'the class data attr'"
      ]
     },
     "execution_count": 119,
     "metadata": {},
     "output_type": "execute_result"
    }
   ],
   "source": [
    "Class.data"
   ]
  },
  {
   "cell_type": "code",
   "execution_count": null,
   "id": "94ce4ff8",
   "metadata": {},
   "outputs": [],
   "source": [
    "# 위 예제랑 똑같은 상황 만들려면 어케해야되지,,"
   ]
  }
 ],
 "metadata": {
  "kernelspec": {
   "display_name": "Python 3 (ipykernel)",
   "language": "python",
   "name": "python3"
  },
  "language_info": {
   "codemirror_mode": {
    "name": "ipython",
    "version": 3
   },
   "file_extension": ".py",
   "mimetype": "text/x-python",
   "name": "python",
   "nbconvert_exporter": "python",
   "pygments_lexer": "ipython3",
   "version": "3.10.13"
  },
  "toc": {
   "base_numbering": 1,
   "nav_menu": {},
   "number_sections": true,
   "sideBar": true,
   "skip_h1_title": false,
   "title_cell": "Table of Contents",
   "title_sidebar": "Contents",
   "toc_cell": false,
   "toc_position": {},
   "toc_section_display": true,
   "toc_window_display": false
  }
 },
 "nbformat": 4,
 "nbformat_minor": 5
}
