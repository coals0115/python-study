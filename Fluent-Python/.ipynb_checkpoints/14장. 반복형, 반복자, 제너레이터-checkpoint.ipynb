{
 "cells": [
  {
   "cell_type": "code",
   "execution_count": 3,
   "id": "a5a5c454",
   "metadata": {},
   "outputs": [],
   "source": [
    "test = range(100)"
   ]
  },
  {
   "cell_type": "code",
   "execution_count": 4,
   "id": "e90878dc",
   "metadata": {},
   "outputs": [
    {
     "data": {
      "text/plain": [
       "['__bool__',\n",
       " '__class__',\n",
       " '__contains__',\n",
       " '__delattr__',\n",
       " '__dir__',\n",
       " '__doc__',\n",
       " '__eq__',\n",
       " '__format__',\n",
       " '__ge__',\n",
       " '__getattribute__',\n",
       " '__getitem__',\n",
       " '__gt__',\n",
       " '__hash__',\n",
       " '__init__',\n",
       " '__init_subclass__',\n",
       " '__iter__',\n",
       " '__le__',\n",
       " '__len__',\n",
       " '__lt__',\n",
       " '__ne__',\n",
       " '__new__',\n",
       " '__reduce__',\n",
       " '__reduce_ex__',\n",
       " '__repr__',\n",
       " '__reversed__',\n",
       " '__setattr__',\n",
       " '__sizeof__',\n",
       " '__str__',\n",
       " '__subclasshook__',\n",
       " 'count',\n",
       " 'index',\n",
       " 'start',\n",
       " 'step',\n",
       " 'stop']"
      ]
     },
     "execution_count": 4,
     "metadata": {},
     "output_type": "execute_result"
    }
   ],
   "source": [
    "dir(range(100))"
   ]
  },
  {
   "cell_type": "code",
   "execution_count": 5,
   "id": "ffc38570",
   "metadata": {},
   "outputs": [
    {
     "data": {
      "text/plain": [
       "<method-wrapper '__iter__' of range object at 0x107c3e940>"
      ]
     },
     "execution_count": 5,
     "metadata": {},
     "output_type": "execute_result"
    }
   ],
   "source": [
    "test.__iter__"
   ]
  },
  {
   "cell_type": "code",
   "execution_count": 7,
   "id": "731de975",
   "metadata": {},
   "outputs": [],
   "source": [
    "hi = test.__iter__()"
   ]
  },
  {
   "cell_type": "code",
   "execution_count": 8,
   "id": "e710b71a",
   "metadata": {},
   "outputs": [
    {
     "data": {
      "text/plain": [
       "['__class__',\n",
       " '__delattr__',\n",
       " '__dir__',\n",
       " '__doc__',\n",
       " '__eq__',\n",
       " '__format__',\n",
       " '__ge__',\n",
       " '__getattribute__',\n",
       " '__gt__',\n",
       " '__hash__',\n",
       " '__init__',\n",
       " '__init_subclass__',\n",
       " '__iter__',\n",
       " '__le__',\n",
       " '__length_hint__',\n",
       " '__lt__',\n",
       " '__ne__',\n",
       " '__new__',\n",
       " '__next__',\n",
       " '__reduce__',\n",
       " '__reduce_ex__',\n",
       " '__repr__',\n",
       " '__setattr__',\n",
       " '__setstate__',\n",
       " '__sizeof__',\n",
       " '__str__',\n",
       " '__subclasshook__']"
      ]
     },
     "execution_count": 8,
     "metadata": {},
     "output_type": "execute_result"
    }
   ],
   "source": [
    "dir(hi)"
   ]
  },
  {
   "cell_type": "code",
   "execution_count": 23,
   "id": "463f5d28",
   "metadata": {},
   "outputs": [
    {
     "data": {
      "text/plain": [
       "13"
      ]
     },
     "execution_count": 23,
     "metadata": {},
     "output_type": "execute_result"
    }
   ],
   "source": [
    "hi.__next__()"
   ]
  },
  {
   "cell_type": "markdown",
   "id": "28641a9f",
   "metadata": {},
   "source": [
    "# 1. Sentence 버전 #1: 단어 시퀀스"
   ]
  },
  {
   "cell_type": "code",
   "execution_count": 73,
   "id": "22adefb2",
   "metadata": {},
   "outputs": [],
   "source": [
    "import re\n",
    "import reprlib\n",
    "\n",
    "RE_WORD = re.compile('\\w+')\n",
    "\n",
    "\n",
    "class Sentence:\n",
    "\n",
    "    def __init__(self, text):\n",
    "        self.text = text\n",
    "        self.words = RE_WORD.findall(text)  # <1>\n",
    "\n",
    "    def __getitem__(self, index):\n",
    "        return self.words[index]  # <2>\n",
    "\n",
    "    def __len__(self, index):  # <3>\n",
    "        return len(self.words)\n",
    "\n",
    "    def __repr__(self):\n",
    "        return 'Sentence(%s)' % reprlib.repr(self.text)  # <4>\n",
    "#     def __iter__():\n",
    "#         pass"
   ]
  },
  {
   "cell_type": "code",
   "execution_count": 74,
   "id": "91899efd",
   "metadata": {},
   "outputs": [
    {
     "data": {
      "text/plain": [
       "False"
      ]
     },
     "execution_count": 74,
     "metadata": {},
     "output_type": "execute_result"
    }
   ],
   "source": [
    "issubclass(Sentence, abc.Iterable)"
   ]
  },
  {
   "cell_type": "code",
   "execution_count": null,
   "id": "59a5bfbb",
   "metadata": {},
   "outputs": [],
   "source": []
  },
  {
   "cell_type": "code",
   "execution_count": 31,
   "id": "c977903a",
   "metadata": {},
   "outputs": [
    {
     "data": {
      "text/plain": [
       "['hi', 'nice', 'dda', 'adfad', 'a', 'd', 'df', 'ad', 'f', 'f']"
      ]
     },
     "execution_count": 31,
     "metadata": {},
     "output_type": "execute_result"
    }
   ],
   "source": [
    "RE_WORD.findall('hi nice .dda adfad. a,d,df,ad,f,f')"
   ]
  },
  {
   "cell_type": "code",
   "execution_count": null,
   "id": "e63c6b1e",
   "metadata": {},
   "outputs": [],
   "source": []
  },
  {
   "cell_type": "code",
   "execution_count": 25,
   "id": "6ef3cd04",
   "metadata": {},
   "outputs": [],
   "source": [
    "s = Sentence('\"The time has come,\" the Walrus said,')"
   ]
  },
  {
   "cell_type": "code",
   "execution_count": 26,
   "id": "afe4a068",
   "metadata": {},
   "outputs": [
    {
     "data": {
      "text/plain": [
       "Sentence('\"The time ha... Walrus said,')"
      ]
     },
     "execution_count": 26,
     "metadata": {},
     "output_type": "execute_result"
    }
   ],
   "source": [
    "s"
   ]
  },
  {
   "cell_type": "code",
   "execution_count": 27,
   "id": "c7ceda4d",
   "metadata": {},
   "outputs": [
    {
     "name": "stdout",
     "output_type": "stream",
     "text": [
      "The\n",
      "time\n",
      "has\n",
      "come\n",
      "the\n",
      "Walrus\n",
      "said\n"
     ]
    }
   ],
   "source": [
    "for word in s:\n",
    "    print(word)"
   ]
  },
  {
   "cell_type": "code",
   "execution_count": 28,
   "id": "3f8cbb68",
   "metadata": {},
   "outputs": [
    {
     "data": {
      "text/plain": [
       "['The', 'time', 'has', 'come', 'the', 'Walrus', 'said']"
      ]
     },
     "execution_count": 28,
     "metadata": {},
     "output_type": "execute_result"
    }
   ],
   "source": [
    "list(s)"
   ]
  },
  {
   "cell_type": "code",
   "execution_count": null,
   "id": "bec660cf",
   "metadata": {},
   "outputs": [],
   "source": []
  },
  {
   "cell_type": "markdown",
   "id": "ed549787",
   "metadata": {},
   "source": [
    "## 1.1 Sequence가 반복 가능한 이유: iter() 함수"
   ]
  },
  {
   "cell_type": "code",
   "execution_count": 32,
   "id": "e1a79c50",
   "metadata": {},
   "outputs": [],
   "source": [
    "class Test:\n",
    "    pass"
   ]
  },
  {
   "cell_type": "code",
   "execution_count": 33,
   "id": "1dfe314e",
   "metadata": {},
   "outputs": [],
   "source": [
    "hi = Test()"
   ]
  },
  {
   "cell_type": "code",
   "execution_count": 34,
   "id": "f9de38c6",
   "metadata": {},
   "outputs": [
    {
     "ename": "TypeError",
     "evalue": "'Test' object is not iterable",
     "output_type": "error",
     "traceback": [
      "\u001b[0;31m---------------------------------------------------------------------------\u001b[0m",
      "\u001b[0;31mTypeError\u001b[0m                                 Traceback (most recent call last)",
      "Cell \u001b[0;32mIn[34], line 1\u001b[0m\n\u001b[0;32m----> 1\u001b[0m \u001b[38;5;28;01mfor\u001b[39;00m x \u001b[38;5;129;01min\u001b[39;00m hi:\n\u001b[1;32m      2\u001b[0m     \u001b[38;5;28mprint\u001b[39m(x)\n",
      "\u001b[0;31mTypeError\u001b[0m: 'Test' object is not iterable"
     ]
    }
   ],
   "source": [
    "for x in hi:\n",
    "    print(x)"
   ]
  },
  {
   "cell_type": "code",
   "execution_count": 38,
   "id": "aa4b1aee",
   "metadata": {},
   "outputs": [],
   "source": [
    "from collections import abc"
   ]
  },
  {
   "cell_type": "code",
   "execution_count": 40,
   "id": "caf90a9c",
   "metadata": {},
   "outputs": [
    {
     "data": {
      "text/plain": [
       "['AsyncGenerator',\n",
       " 'AsyncIterable',\n",
       " 'AsyncIterator',\n",
       " 'Awaitable',\n",
       " 'ByteString',\n",
       " 'Callable',\n",
       " 'Collection',\n",
       " 'Container',\n",
       " 'Coroutine',\n",
       " 'Generator',\n",
       " 'Hashable',\n",
       " 'ItemsView',\n",
       " 'Iterable',\n",
       " 'Iterator',\n",
       " 'KeysView',\n",
       " 'Mapping',\n",
       " 'MappingView',\n",
       " 'MutableMapping',\n",
       " 'MutableSequence',\n",
       " 'MutableSet',\n",
       " 'Reversible',\n",
       " 'Sequence',\n",
       " 'Set',\n",
       " 'Sized',\n",
       " 'ValuesView',\n",
       " '_CallableGenericAlias',\n",
       " '__all__',\n",
       " '__builtins__',\n",
       " '__cached__',\n",
       " '__doc__',\n",
       " '__file__',\n",
       " '__loader__',\n",
       " '__name__',\n",
       " '__package__',\n",
       " '__spec__']"
      ]
     },
     "execution_count": 40,
     "metadata": {},
     "output_type": "execute_result"
    }
   ],
   "source": [
    "dir(abc)"
   ]
  },
  {
   "cell_type": "code",
   "execution_count": null,
   "id": "0fb4735d",
   "metadata": {},
   "outputs": [],
   "source": []
  },
  {
   "cell_type": "markdown",
   "id": "29f4c0ef",
   "metadata": {},
   "source": [
    "# 2. 반복형과 반복자"
   ]
  },
  {
   "cell_type": "code",
   "execution_count": 41,
   "id": "5f61e690",
   "metadata": {},
   "outputs": [],
   "source": [
    "s = 'ABC'"
   ]
  },
  {
   "cell_type": "code",
   "execution_count": 42,
   "id": "a2e0568b",
   "metadata": {},
   "outputs": [
    {
     "name": "stdout",
     "output_type": "stream",
     "text": [
      "A\n",
      "B\n",
      "C\n"
     ]
    }
   ],
   "source": [
    "for char in s:\n",
    "    print(char)"
   ]
  },
  {
   "cell_type": "code",
   "execution_count": 44,
   "id": "e8f3eceb",
   "metadata": {},
   "outputs": [
    {
     "data": {
      "text/plain": [
       "True"
      ]
     },
     "execution_count": 44,
     "metadata": {},
     "output_type": "execute_result"
    }
   ],
   "source": [
    "isinstance(s, abc.Iterable)"
   ]
  },
  {
   "cell_type": "code",
   "execution_count": 45,
   "id": "0bcca8d3",
   "metadata": {},
   "outputs": [
    {
     "data": {
      "text/plain": [
       "False"
      ]
     },
     "execution_count": 45,
     "metadata": {},
     "output_type": "execute_result"
    }
   ],
   "source": [
    "isinstance(s, abc.Iterator)"
   ]
  },
  {
   "cell_type": "code",
   "execution_count": 46,
   "id": "f934a87f",
   "metadata": {},
   "outputs": [],
   "source": [
    "# dir(s)"
   ]
  },
  {
   "cell_type": "code",
   "execution_count": 50,
   "id": "6e3131ad",
   "metadata": {},
   "outputs": [],
   "source": [
    "it = iter(s)"
   ]
  },
  {
   "cell_type": "code",
   "execution_count": 55,
   "id": "444232ab",
   "metadata": {},
   "outputs": [
    {
     "data": {
      "text/plain": [
       "str_iterator"
      ]
     },
     "execution_count": 55,
     "metadata": {},
     "output_type": "execute_result"
    }
   ],
   "source": [
    "type(it)"
   ]
  },
  {
   "cell_type": "code",
   "execution_count": 49,
   "id": "409f9d5d",
   "metadata": {},
   "outputs": [
    {
     "name": "stdout",
     "output_type": "stream",
     "text": [
      "A\n",
      "B\n",
      "C\n"
     ]
    }
   ],
   "source": [
    "while True:\n",
    "    try:\n",
    "        print(next(it))\n",
    "    except StopIteration:\n",
    "        del it\n",
    "        break"
   ]
  },
  {
   "cell_type": "code",
   "execution_count": 54,
   "id": "b3f4b982",
   "metadata": {},
   "outputs": [
    {
     "ename": "StopIteration",
     "evalue": "",
     "output_type": "error",
     "traceback": [
      "\u001b[0;31m---------------------------------------------------------------------------\u001b[0m",
      "\u001b[0;31mStopIteration\u001b[0m                             Traceback (most recent call last)",
      "Cell \u001b[0;32mIn[54], line 1\u001b[0m\n\u001b[0;32m----> 1\u001b[0m \u001b[38;5;28;43mnext\u001b[39;49m\u001b[43m(\u001b[49m\u001b[43mit\u001b[49m\u001b[43m)\u001b[49m\n",
      "\u001b[0;31mStopIteration\u001b[0m: "
     ]
    }
   ],
   "source": [
    "next(it)"
   ]
  },
  {
   "cell_type": "code",
   "execution_count": 56,
   "id": "f194a070",
   "metadata": {},
   "outputs": [
    {
     "data": {
      "text/plain": [
       "['__add__',\n",
       " '__class__',\n",
       " '__contains__',\n",
       " '__delattr__',\n",
       " '__dir__',\n",
       " '__doc__',\n",
       " '__eq__',\n",
       " '__format__',\n",
       " '__ge__',\n",
       " '__getattribute__',\n",
       " '__getitem__',\n",
       " '__getnewargs__',\n",
       " '__gt__',\n",
       " '__hash__',\n",
       " '__init__',\n",
       " '__init_subclass__',\n",
       " '__iter__',\n",
       " '__le__',\n",
       " '__len__',\n",
       " '__lt__',\n",
       " '__mod__',\n",
       " '__mul__',\n",
       " '__ne__',\n",
       " '__new__',\n",
       " '__reduce__',\n",
       " '__reduce_ex__',\n",
       " '__repr__',\n",
       " '__rmod__',\n",
       " '__rmul__',\n",
       " '__setattr__',\n",
       " '__sizeof__',\n",
       " '__str__',\n",
       " '__subclasshook__',\n",
       " 'capitalize',\n",
       " 'casefold',\n",
       " 'center',\n",
       " 'count',\n",
       " 'encode',\n",
       " 'endswith',\n",
       " 'expandtabs',\n",
       " 'find',\n",
       " 'format',\n",
       " 'format_map',\n",
       " 'index',\n",
       " 'isalnum',\n",
       " 'isalpha',\n",
       " 'isascii',\n",
       " 'isdecimal',\n",
       " 'isdigit',\n",
       " 'isidentifier',\n",
       " 'islower',\n",
       " 'isnumeric',\n",
       " 'isprintable',\n",
       " 'isspace',\n",
       " 'istitle',\n",
       " 'isupper',\n",
       " 'join',\n",
       " 'ljust',\n",
       " 'lower',\n",
       " 'lstrip',\n",
       " 'maketrans',\n",
       " 'partition',\n",
       " 'removeprefix',\n",
       " 'removesuffix',\n",
       " 'replace',\n",
       " 'rfind',\n",
       " 'rindex',\n",
       " 'rjust',\n",
       " 'rpartition',\n",
       " 'rsplit',\n",
       " 'rstrip',\n",
       " 'split',\n",
       " 'splitlines',\n",
       " 'startswith',\n",
       " 'strip',\n",
       " 'swapcase',\n",
       " 'title',\n",
       " 'translate',\n",
       " 'upper',\n",
       " 'zfill']"
      ]
     },
     "execution_count": 56,
     "metadata": {},
     "output_type": "execute_result"
    }
   ],
   "source": [
    "dir(s)"
   ]
  },
  {
   "cell_type": "code",
   "execution_count": 57,
   "id": "b00c1e4d",
   "metadata": {},
   "outputs": [],
   "source": [
    "class Test:\n",
    "    def __iter__():\n",
    "        pass\n",
    "    def __next__():\n",
    "        pass"
   ]
  },
  {
   "cell_type": "code",
   "execution_count": 58,
   "id": "7de4e175",
   "metadata": {},
   "outputs": [
    {
     "data": {
      "text/plain": [
       "True"
      ]
     },
     "execution_count": 58,
     "metadata": {},
     "output_type": "execute_result"
    }
   ],
   "source": [
    "issubclass(Test, abc.Iterator)"
   ]
  },
  {
   "cell_type": "code",
   "execution_count": 59,
   "id": "91ed517e",
   "metadata": {},
   "outputs": [
    {
     "data": {
      "text/plain": [
       "True"
      ]
     },
     "execution_count": 59,
     "metadata": {},
     "output_type": "execute_result"
    }
   ],
   "source": [
    "issubclass(Test, abc.Iterable)"
   ]
  },
  {
   "cell_type": "code",
   "execution_count": 61,
   "id": "71f09a47",
   "metadata": {},
   "outputs": [],
   "source": [
    "s3 = Sentence('Pig and Pepper')"
   ]
  },
  {
   "cell_type": "code",
   "execution_count": 62,
   "id": "08d424b4",
   "metadata": {},
   "outputs": [],
   "source": [
    "it = iter(s3)"
   ]
  },
  {
   "cell_type": "code",
   "execution_count": 63,
   "id": "58a552a8",
   "metadata": {},
   "outputs": [
    {
     "data": {
      "text/plain": [
       "<iterator at 0x1081a9090>"
      ]
     },
     "execution_count": 63,
     "metadata": {},
     "output_type": "execute_result"
    }
   ],
   "source": [
    "it # doctest: +ELLIPSIS"
   ]
  },
  {
   "cell_type": "code",
   "execution_count": 64,
   "id": "36ec31c1",
   "metadata": {},
   "outputs": [
    {
     "data": {
      "text/plain": [
       "'Pig'"
      ]
     },
     "execution_count": 64,
     "metadata": {},
     "output_type": "execute_result"
    }
   ],
   "source": [
    "next(it)"
   ]
  },
  {
   "cell_type": "code",
   "execution_count": null,
   "id": "c95e6663",
   "metadata": {},
   "outputs": [],
   "source": []
  },
  {
   "cell_type": "markdown",
   "id": "831c4117",
   "metadata": {},
   "source": [
    "# 3. Sentence 버전 #2: 고전적인 반복자"
   ]
  },
  {
   "cell_type": "code",
   "execution_count": 67,
   "id": "f079c6ec",
   "metadata": {},
   "outputs": [],
   "source": [
    "import re\n",
    "import reprlib\n",
    "\n",
    "RE_WORD = re.compile('\\w+')\n",
    "\n",
    "\n",
    "class Sentence:\n",
    "\n",
    "    def __init__(self, text):\n",
    "        self.text = text\n",
    "        self.words = RE_WORD.findall(text)\n",
    "\n",
    "    def __repr__(self):\n",
    "        return 'Sentence(%s)' % reprlib.repr(self.text)\n",
    "\n",
    "    def __iter__(self):  # <1>\n",
    "        return SentenceIterator(self.words)  # <2>\n",
    "\n",
    "\n",
    "class SentenceIterator:\n",
    "\n",
    "    def __init__(self, words):\n",
    "        self.words = words  # <3>\n",
    "        self.index = 0  # <4>\n",
    "\n",
    "    def __next__(self):\n",
    "        try:\n",
    "            word = self.words[self.index]  # <5>\n",
    "        except IndexError:\n",
    "            raise StopIteration()  # <6>\n",
    "        self.index += 1  # <7>\n",
    "        return word  # <8>\n",
    "\n",
    "    def __iter__(self):  # <9>\n",
    "        return self\n",
    "# END SENTENCE_ITER"
   ]
  },
  {
   "cell_type": "code",
   "execution_count": null,
   "id": "0f496b0f",
   "metadata": {},
   "outputs": [],
   "source": []
  },
  {
   "cell_type": "markdown",
   "id": "f6e78730",
   "metadata": {},
   "source": [
    "## 3.1 Sentence를 반복자로 만들기: 좋지 않은 생각"
   ]
  },
  {
   "cell_type": "code",
   "execution_count": null,
   "id": "30c69a33",
   "metadata": {},
   "outputs": [],
   "source": []
  },
  {
   "cell_type": "markdown",
   "id": "a8aa1547",
   "metadata": {},
   "source": [
    "# 4. Sentence 버전 #3: 제너레이터 함수"
   ]
  },
  {
   "cell_type": "code",
   "execution_count": 75,
   "id": "16a2f47f",
   "metadata": {},
   "outputs": [],
   "source": [
    "import re\n",
    "import reprlib\n",
    "\n",
    "RE_WORD = re.compile('\\w+')"
   ]
  },
  {
   "cell_type": "code",
   "execution_count": 76,
   "id": "048b104c",
   "metadata": {},
   "outputs": [],
   "source": [
    "class Sentence:\n",
    "\n",
    "    def __init__(self, text):\n",
    "        self.text = text\n",
    "        self.words = RE_WORD.findall(text)\n",
    "\n",
    "    def __repr__(self):\n",
    "        return 'Sentence(%s)' % reprlib.repr(self.text)\n",
    "\n",
    "    def __iter__(self):\n",
    "        for word in self.words:  # <1>\n",
    "            yield word  # <2>\n",
    "        return  # <3>"
   ]
  },
  {
   "cell_type": "code",
   "execution_count": null,
   "id": "1e4a4774",
   "metadata": {},
   "outputs": [],
   "source": []
  },
  {
   "cell_type": "markdown",
   "id": "575d060a",
   "metadata": {},
   "source": [
    "## 4.1 제너레이터 함수의 작동 방식"
   ]
  },
  {
   "cell_type": "code",
   "execution_count": 77,
   "id": "3da3a678",
   "metadata": {},
   "outputs": [],
   "source": [
    "def gen_123(): # 1\n",
    "    yield 1 # 2\n",
    "    yield 2\n",
    "    yield 3"
   ]
  },
  {
   "cell_type": "code",
   "execution_count": 78,
   "id": "780692e4",
   "metadata": {},
   "outputs": [
    {
     "data": {
      "text/plain": [
       "<function __main__.gen_123()>"
      ]
     },
     "execution_count": 78,
     "metadata": {},
     "output_type": "execute_result"
    }
   ],
   "source": [
    "gen_123 # 3"
   ]
  },
  {
   "cell_type": "code",
   "execution_count": 79,
   "id": "c279bacb",
   "metadata": {},
   "outputs": [
    {
     "data": {
      "text/plain": [
       "<generator object gen_123 at 0x109cdd230>"
      ]
     },
     "execution_count": 79,
     "metadata": {},
     "output_type": "execute_result"
    }
   ],
   "source": [
    "gen_123() # 4"
   ]
  },
  {
   "cell_type": "code",
   "execution_count": 80,
   "id": "175e08e0",
   "metadata": {},
   "outputs": [
    {
     "name": "stdout",
     "output_type": "stream",
     "text": [
      "1\n",
      "2\n",
      "3\n"
     ]
    }
   ],
   "source": [
    "for i in gen_123(): # 5\n",
    "    print(i)"
   ]
  },
  {
   "cell_type": "code",
   "execution_count": 81,
   "id": "f0ea19f2",
   "metadata": {},
   "outputs": [],
   "source": [
    "g = gen_123() # 6"
   ]
  },
  {
   "cell_type": "code",
   "execution_count": 82,
   "id": "2d9cf36a",
   "metadata": {},
   "outputs": [
    {
     "data": {
      "text/plain": [
       "1"
      ]
     },
     "execution_count": 82,
     "metadata": {},
     "output_type": "execute_result"
    }
   ],
   "source": [
    "next(g) # 7"
   ]
  },
  {
   "cell_type": "code",
   "execution_count": 83,
   "id": "dbd79505",
   "metadata": {},
   "outputs": [
    {
     "data": {
      "text/plain": [
       "2"
      ]
     },
     "execution_count": 83,
     "metadata": {},
     "output_type": "execute_result"
    }
   ],
   "source": [
    "next(g)"
   ]
  },
  {
   "cell_type": "code",
   "execution_count": 84,
   "id": "ed55cb52",
   "metadata": {},
   "outputs": [
    {
     "data": {
      "text/plain": [
       "3"
      ]
     },
     "execution_count": 84,
     "metadata": {},
     "output_type": "execute_result"
    }
   ],
   "source": [
    "next(g)"
   ]
  },
  {
   "cell_type": "code",
   "execution_count": 85,
   "id": "066bb6b7",
   "metadata": {},
   "outputs": [
    {
     "ename": "StopIteration",
     "evalue": "",
     "output_type": "error",
     "traceback": [
      "\u001b[0;31m---------------------------------------------------------------------------\u001b[0m",
      "\u001b[0;31mStopIteration\u001b[0m                             Traceback (most recent call last)",
      "Cell \u001b[0;32mIn[85], line 1\u001b[0m\n\u001b[0;32m----> 1\u001b[0m \u001b[38;5;28;43mnext\u001b[39;49m\u001b[43m(\u001b[49m\u001b[43mg\u001b[49m\u001b[43m)\u001b[49m\n",
      "\u001b[0;31mStopIteration\u001b[0m: "
     ]
    }
   ],
   "source": [
    "next(g)"
   ]
  },
  {
   "cell_type": "code",
   "execution_count": null,
   "id": "87514a35",
   "metadata": {},
   "outputs": [],
   "source": []
  },
  {
   "cell_type": "markdown",
   "id": "16b67409",
   "metadata": {},
   "source": [
    "# 5. Sentence 버전 #4: 느긋한 구현"
   ]
  },
  {
   "cell_type": "code",
   "execution_count": 87,
   "id": "691c351c",
   "metadata": {},
   "outputs": [],
   "source": [
    "import re\n",
    "import reprlib\n",
    "\n",
    "RE_WORD = re.compile('\\w+')"
   ]
  },
  {
   "cell_type": "code",
   "execution_count": 90,
   "id": "532c4941",
   "metadata": {},
   "outputs": [],
   "source": [
    "class Sentence_bak:\n",
    "\n",
    "    def __init__(self, text):\n",
    "        self.text = text\n",
    "        self.words = RE_WORD.findall(text)\n",
    "\n",
    "    def __repr__(self):\n",
    "        return 'Sentence(%s)' % reprlib.repr(self.text)\n",
    "\n",
    "    def __iter__(self):\n",
    "        for word in self.words:  # <1>\n",
    "            yield word  # <2>\n",
    "        return  # <3>"
   ]
  },
  {
   "cell_type": "code",
   "execution_count": 91,
   "id": "b623b5a3",
   "metadata": {},
   "outputs": [],
   "source": [
    "class Sentence:\n",
    "\n",
    "    def __init__(self, text):\n",
    "        self.text = text  # <1>\n",
    "\n",
    "    def __repr__(self):\n",
    "        return 'Sentence(%s)' % reprlib.repr(self.text)\n",
    "\n",
    "    def __iter__(self):\n",
    "        for match in RE_WORD.finditer(self.text):  # <2>\n",
    "            yield match.group()  # <3>"
   ]
  },
  {
   "cell_type": "code",
   "execution_count": null,
   "id": "e14f5349",
   "metadata": {},
   "outputs": [],
   "source": []
  },
  {
   "cell_type": "markdown",
   "id": "dc5bf1d8",
   "metadata": {},
   "source": [
    "# 6. Sentence 버전 #5: 제너레이터 표현식"
   ]
  },
  {
   "cell_type": "code",
   "execution_count": 93,
   "id": "4cc8be06",
   "metadata": {},
   "outputs": [],
   "source": [
    "def gen_AB():\n",
    "    print('start')\n",
    "    yield 'A'\n",
    "    print('continue')\n",
    "    yield 'B'\n",
    "    print('end.')"
   ]
  },
  {
   "cell_type": "code",
   "execution_count": 99,
   "id": "21cb160c",
   "metadata": {},
   "outputs": [
    {
     "name": "stdout",
     "output_type": "stream",
     "text": [
      "start\n",
      "continue\n",
      "end.\n"
     ]
    }
   ],
   "source": [
    "res1 = [x * 3 for x in gen_AB()] # 리스트 컴프리헨션"
   ]
  },
  {
   "cell_type": "code",
   "execution_count": 97,
   "id": "347450e0",
   "metadata": {},
   "outputs": [
    {
     "name": "stdout",
     "output_type": "stream",
     "text": [
      "--> AAA\n",
      "--> BBB\n"
     ]
    }
   ],
   "source": [
    "for i in res1: \n",
    "    print('-->', i) # ???????????????????"
   ]
  },
  {
   "cell_type": "code",
   "execution_count": 102,
   "id": "e9594a69",
   "metadata": {},
   "outputs": [
    {
     "name": "stdout",
     "output_type": "stream",
     "text": [
      "start\n",
      "AAA\n",
      "continue\n",
      "BBB\n",
      "end.\n"
     ]
    }
   ],
   "source": [
    "for x in gen_AB(): # start, continue는 먼가 곁다리 느낌\n",
    "    print(x * 3)"
   ]
  },
  {
   "cell_type": "code",
   "execution_count": 103,
   "id": "4c2a9ddf",
   "metadata": {},
   "outputs": [],
   "source": [
    "res2 = (x * 3 for x in gen_AB())"
   ]
  },
  {
   "cell_type": "code",
   "execution_count": 104,
   "id": "dda0805f",
   "metadata": {},
   "outputs": [
    {
     "data": {
      "text/plain": [
       "<generator object <genexpr> at 0x109cde260>"
      ]
     },
     "execution_count": 104,
     "metadata": {},
     "output_type": "execute_result"
    }
   ],
   "source": [
    "res2"
   ]
  },
  {
   "cell_type": "code",
   "execution_count": 105,
   "id": "2a4b4aae",
   "metadata": {},
   "outputs": [
    {
     "name": "stdout",
     "output_type": "stream",
     "text": [
      "start\n",
      "--> AAA\n",
      "continue\n",
      "--> BBB\n",
      "end.\n"
     ]
    }
   ],
   "source": [
    "for i in res2:\n",
    "    print('-->', i)"
   ]
  },
  {
   "cell_type": "code",
   "execution_count": null,
   "id": "7082f111",
   "metadata": {},
   "outputs": [],
   "source": []
  },
  {
   "cell_type": "code",
   "execution_count": 106,
   "id": "6d79f36c",
   "metadata": {},
   "outputs": [],
   "source": [
    "import re\n",
    "import reprlib\n",
    "\n",
    "RE_WORD = re.compile('\\w+')"
   ]
  },
  {
   "cell_type": "code",
   "execution_count": 108,
   "id": "e3965971",
   "metadata": {},
   "outputs": [],
   "source": [
    "class Sentence:\n",
    "\n",
    "    def __init__(self, text):\n",
    "        self.text = text\n",
    "\n",
    "    def __repr__(self):\n",
    "        return 'Sentence(%s)' % reprlib.repr(self.text)\n",
    "\n",
    "#     def __iter__(self):\n",
    "#         for match in RE_WORD.finditer(self.text):  # <2>\n",
    "#             yield match.group()  # <3>\n",
    "    \n",
    "    def __iter__(self):\n",
    "        return (match.group() for match in RE_WORD.finditer(self.text)) # 제너레이터 표현식"
   ]
  },
  {
   "cell_type": "code",
   "execution_count": null,
   "id": "db71ed1a",
   "metadata": {},
   "outputs": [],
   "source": []
  },
  {
   "cell_type": "markdown",
   "id": "57130ff9",
   "metadata": {},
   "source": [
    "# 7. 제너레이터 표현식: 언제 사용하나? "
   ]
  },
  {
   "cell_type": "code",
   "execution_count": null,
   "id": "fd1e7a4d",
   "metadata": {},
   "outputs": [],
   "source": []
  },
  {
   "cell_type": "markdown",
   "id": "8003de52",
   "metadata": {},
   "source": [
    "# 8. 또 다른 예제: 등차수열 제너레이터"
   ]
  },
  {
   "cell_type": "code",
   "execution_count": null,
   "id": "a3462afc",
   "metadata": {},
   "outputs": [],
   "source": []
  },
  {
   "cell_type": "markdown",
   "id": "4c7291cb",
   "metadata": {},
   "source": [
    "# 9. 표준 라이브러리의 제너레이터 함수"
   ]
  },
  {
   "cell_type": "code",
   "execution_count": 109,
   "id": "e936a0b3",
   "metadata": {},
   "outputs": [],
   "source": [
    "def vowel(c):\n",
    "    return c.lower() in 'aeiou'"
   ]
  },
  {
   "cell_type": "code",
   "execution_count": 112,
   "id": "d1a5aa53",
   "metadata": {},
   "outputs": [
    {
     "data": {
      "text/plain": [
       "['A', 'a', 'a']"
      ]
     },
     "execution_count": 112,
     "metadata": {},
     "output_type": "execute_result"
    }
   ],
   "source": [
    "list(filter(vowel, 'Aardvark'))"
   ]
  },
  {
   "cell_type": "code",
   "execution_count": 113,
   "id": "fd2ccac4",
   "metadata": {},
   "outputs": [],
   "source": [
    "import itertools"
   ]
  },
  {
   "cell_type": "code",
   "execution_count": 114,
   "id": "079049d4",
   "metadata": {},
   "outputs": [
    {
     "data": {
      "text/plain": [
       "['r', 'd', 'v', 'r', 'k']"
      ]
     },
     "execution_count": 114,
     "metadata": {},
     "output_type": "execute_result"
    }
   ],
   "source": [
    "list(itertools.filterfalse(vowel, 'Aardvark'))"
   ]
  },
  {
   "cell_type": "code",
   "execution_count": 119,
   "id": "7b106495",
   "metadata": {},
   "outputs": [
    {
     "data": {
      "text/plain": [
       "['k']"
      ]
     },
     "execution_count": 119,
     "metadata": {},
     "output_type": "execute_result"
    }
   ],
   "source": [
    "list(itertools.dropwhile(vowel, 'AAaAak'))"
   ]
  },
  {
   "cell_type": "code",
   "execution_count": 120,
   "id": "fdc89940",
   "metadata": {},
   "outputs": [
    {
     "data": {
      "text/plain": [
       "['r', 'd', 'v', 'a', 'r', 'k']"
      ]
     },
     "execution_count": 120,
     "metadata": {},
     "output_type": "execute_result"
    }
   ],
   "source": [
    "list(itertools.dropwhile(vowel, 'Aardvark'))"
   ]
  },
  {
   "cell_type": "code",
   "execution_count": 121,
   "id": "34eb0a96",
   "metadata": {},
   "outputs": [
    {
     "data": {
      "text/plain": [
       "['__doc__',\n",
       " '__loader__',\n",
       " '__name__',\n",
       " '__package__',\n",
       " '__spec__',\n",
       " '_grouper',\n",
       " '_tee',\n",
       " '_tee_dataobject',\n",
       " 'accumulate',\n",
       " 'chain',\n",
       " 'combinations',\n",
       " 'combinations_with_replacement',\n",
       " 'compress',\n",
       " 'count',\n",
       " 'cycle',\n",
       " 'dropwhile',\n",
       " 'filterfalse',\n",
       " 'groupby',\n",
       " 'islice',\n",
       " 'pairwise',\n",
       " 'permutations',\n",
       " 'product',\n",
       " 'repeat',\n",
       " 'starmap',\n",
       " 'takewhile',\n",
       " 'tee',\n",
       " 'zip_longest']"
      ]
     },
     "execution_count": 121,
     "metadata": {},
     "output_type": "execute_result"
    }
   ],
   "source": [
    "dir(itertools)"
   ]
  },
  {
   "cell_type": "code",
   "execution_count": null,
   "id": "0ea8bc1e",
   "metadata": {},
   "outputs": [],
   "source": []
  },
  {
   "cell_type": "code",
   "execution_count": 125,
   "id": "20005e89",
   "metadata": {},
   "outputs": [
    {
     "data": {
      "text/plain": [
       "['A', 'B', 'C', 0, 1, 2, 3, 4]"
      ]
     },
     "execution_count": 125,
     "metadata": {},
     "output_type": "execute_result"
    }
   ],
   "source": [
    "list(itertools.chain('ABC', range(5)))"
   ]
  },
  {
   "cell_type": "code",
   "execution_count": null,
   "id": "067bface",
   "metadata": {},
   "outputs": [],
   "source": []
  },
  {
   "cell_type": "code",
   "execution_count": 136,
   "id": "c3988aff",
   "metadata": {},
   "outputs": [],
   "source": [
    "def chain(*iterables):\n",
    "    print('iterables : ', iterables)\n",
    "    for it in iterables:\n",
    "        print(it)\n",
    "        for i in it:\n",
    "            yield i"
   ]
  },
  {
   "cell_type": "code",
   "execution_count": 137,
   "id": "82f3843b",
   "metadata": {},
   "outputs": [],
   "source": [
    "s = 'ABC'"
   ]
  },
  {
   "cell_type": "code",
   "execution_count": 138,
   "id": "f4ac67bf",
   "metadata": {},
   "outputs": [],
   "source": [
    "t = tuple(range(3))"
   ]
  },
  {
   "cell_type": "code",
   "execution_count": 139,
   "id": "b53aaf06",
   "metadata": {},
   "outputs": [
    {
     "name": "stdout",
     "output_type": "stream",
     "text": [
      "iterables :  ('ABC', (0, 1, 2))\n",
      "ABC\n",
      "(0, 1, 2)\n"
     ]
    },
    {
     "data": {
      "text/plain": [
       "['A', 'B', 'C', 0, 1, 2]"
      ]
     },
     "execution_count": 139,
     "metadata": {},
     "output_type": "execute_result"
    }
   ],
   "source": [
    "list(chain(s, t))"
   ]
  },
  {
   "cell_type": "code",
   "execution_count": null,
   "id": "17c3e7a9",
   "metadata": {},
   "outputs": [],
   "source": []
  },
  {
   "cell_type": "code",
   "execution_count": 140,
   "id": "7987559a",
   "metadata": {},
   "outputs": [],
   "source": [
    "def chain(*iterables):\n",
    "    for i in iterables:\n",
    "        yield from i"
   ]
  },
  {
   "cell_type": "code",
   "execution_count": 141,
   "id": "432ebc2c",
   "metadata": {},
   "outputs": [
    {
     "data": {
      "text/plain": [
       "['A', 'B', 'C', 0, 1, 2]"
      ]
     },
     "execution_count": 141,
     "metadata": {},
     "output_type": "execute_result"
    }
   ],
   "source": [
    "list(chain(s, t))"
   ]
  },
  {
   "cell_type": "code",
   "execution_count": null,
   "id": "29a22a69",
   "metadata": {},
   "outputs": [],
   "source": []
  },
  {
   "cell_type": "markdown",
   "id": "8bad281c",
   "metadata": {},
   "source": [
    "# 11. 반복형을 리듀스하는 함수"
   ]
  },
  {
   "cell_type": "code",
   "execution_count": 142,
   "id": "049c9286",
   "metadata": {},
   "outputs": [
    {
     "data": {
      "text/plain": [
       "True"
      ]
     },
     "execution_count": 142,
     "metadata": {},
     "output_type": "execute_result"
    }
   ],
   "source": [
    "all([1, 2, 3])"
   ]
  },
  {
   "cell_type": "code",
   "execution_count": 144,
   "id": "19ce4b9c",
   "metadata": {},
   "outputs": [
    {
     "data": {
      "text/plain": [
       "False"
      ]
     },
     "execution_count": 144,
     "metadata": {},
     "output_type": "execute_result"
    }
   ],
   "source": [
    "all([1, 0, 3])"
   ]
  },
  {
   "cell_type": "code",
   "execution_count": 145,
   "id": "effbff59",
   "metadata": {},
   "outputs": [
    {
     "data": {
      "text/plain": [
       "True"
      ]
     },
     "execution_count": 145,
     "metadata": {},
     "output_type": "execute_result"
    }
   ],
   "source": [
    "all([])"
   ]
  },
  {
   "cell_type": "code",
   "execution_count": 146,
   "id": "52ac3893",
   "metadata": {},
   "outputs": [
    {
     "data": {
      "text/plain": [
       "True"
      ]
     },
     "execution_count": 146,
     "metadata": {},
     "output_type": "execute_result"
    }
   ],
   "source": [
    "all([1, 2, 3])"
   ]
  },
  {
   "cell_type": "code",
   "execution_count": 147,
   "id": "d065356c",
   "metadata": {},
   "outputs": [
    {
     "data": {
      "text/plain": [
       "True"
      ]
     },
     "execution_count": 147,
     "metadata": {},
     "output_type": "execute_result"
    }
   ],
   "source": [
    "any([1, 0, 3])"
   ]
  },
  {
   "cell_type": "code",
   "execution_count": 148,
   "id": "348f5e91",
   "metadata": {},
   "outputs": [
    {
     "data": {
      "text/plain": [
       "False"
      ]
     },
     "execution_count": 148,
     "metadata": {},
     "output_type": "execute_result"
    }
   ],
   "source": [
    "any([0, 0.0])"
   ]
  },
  {
   "cell_type": "code",
   "execution_count": 149,
   "id": "4aab1f2e",
   "metadata": {},
   "outputs": [
    {
     "data": {
      "text/plain": [
       "False"
      ]
     },
     "execution_count": 149,
     "metadata": {},
     "output_type": "execute_result"
    }
   ],
   "source": [
    "any([])"
   ]
  },
  {
   "cell_type": "code",
   "execution_count": 150,
   "id": "55884b48",
   "metadata": {},
   "outputs": [],
   "source": [
    "g = (n for n in [0, 0.0, 7, 8])"
   ]
  },
  {
   "cell_type": "code",
   "execution_count": 151,
   "id": "7235c0a5",
   "metadata": {},
   "outputs": [
    {
     "data": {
      "text/plain": [
       "True"
      ]
     },
     "execution_count": 151,
     "metadata": {},
     "output_type": "execute_result"
    }
   ],
   "source": [
    "any(g)"
   ]
  },
  {
   "cell_type": "code",
   "execution_count": 152,
   "id": "8e6ab38d",
   "metadata": {},
   "outputs": [
    {
     "data": {
      "text/plain": [
       "8"
      ]
     },
     "execution_count": 152,
     "metadata": {},
     "output_type": "execute_result"
    }
   ],
   "source": [
    "next(g)"
   ]
  },
  {
   "cell_type": "code",
   "execution_count": null,
   "id": "9ad50361",
   "metadata": {},
   "outputs": [],
   "source": []
  },
  {
   "cell_type": "markdown",
   "id": "733b27f5",
   "metadata": {},
   "source": [
    "# 12. iter() 함수 들여다보기"
   ]
  },
  {
   "cell_type": "code",
   "execution_count": 153,
   "id": "a31a5882",
   "metadata": {},
   "outputs": [],
   "source": [
    "def d6():\n",
    "    return randint(1, 6)"
   ]
  },
  {
   "cell_type": "code",
   "execution_count": 160,
   "id": "c6bc4dc0",
   "metadata": {},
   "outputs": [],
   "source": [
    "d6_iter = iter(d6, 1)"
   ]
  },
  {
   "cell_type": "code",
   "execution_count": null,
   "id": "93422459",
   "metadata": {},
   "outputs": [],
   "source": []
  },
  {
   "cell_type": "code",
   "execution_count": 161,
   "id": "959a07c4",
   "metadata": {},
   "outputs": [
    {
     "data": {
      "text/plain": [
       "<callable_iterator at 0x109ddf850>"
      ]
     },
     "execution_count": 161,
     "metadata": {},
     "output_type": "execute_result"
    }
   ],
   "source": [
    "d6_iter"
   ]
  },
  {
   "cell_type": "code",
   "execution_count": 162,
   "id": "7c08f974",
   "metadata": {},
   "outputs": [
    {
     "ename": "NameError",
     "evalue": "name 'randint' is not defined",
     "output_type": "error",
     "traceback": [
      "\u001b[0;31m---------------------------------------------------------------------------\u001b[0m",
      "\u001b[0;31mNameError\u001b[0m                                 Traceback (most recent call last)",
      "Cell \u001b[0;32mIn[162], line 1\u001b[0m\n\u001b[0;32m----> 1\u001b[0m \u001b[38;5;28;01mfor\u001b[39;00m roll \u001b[38;5;129;01min\u001b[39;00m d6_iter:\n\u001b[1;32m      2\u001b[0m     prnit(roll)\n",
      "Cell \u001b[0;32mIn[153], line 2\u001b[0m, in \u001b[0;36md6\u001b[0;34m()\u001b[0m\n\u001b[1;32m      1\u001b[0m \u001b[38;5;28;01mdef\u001b[39;00m \u001b[38;5;21md6\u001b[39m():\n\u001b[0;32m----> 2\u001b[0m     \u001b[38;5;28;01mreturn\u001b[39;00m \u001b[43mrandint\u001b[49m(\u001b[38;5;241m1\u001b[39m, \u001b[38;5;241m6\u001b[39m)\n",
      "\u001b[0;31mNameError\u001b[0m: name 'randint' is not defined"
     ]
    }
   ],
   "source": [
    "for roll in d6_iter:\n",
    "    prnit(roll)"
   ]
  },
  {
   "cell_type": "code",
   "execution_count": null,
   "id": "5be339cf",
   "metadata": {},
   "outputs": [],
   "source": []
  },
  {
   "cell_type": "code",
   "execution_count": null,
   "id": "2ac5b8e3",
   "metadata": {},
   "outputs": [],
   "source": []
  },
  {
   "cell_type": "code",
   "execution_count": 1,
   "id": "5db5f1ff",
   "metadata": {},
   "outputs": [
    {
     "data": {
      "text/plain": [
       "int"
      ]
     },
     "execution_count": 1,
     "metadata": {},
     "output_type": "execute_result"
    }
   ],
   "source": [
    "type(1 + 2)"
   ]
  },
  {
   "cell_type": "code",
   "execution_count": 6,
   "id": "72cb9107",
   "metadata": {},
   "outputs": [
    {
     "data": {
      "text/plain": [
       "3"
      ]
     },
     "execution_count": 6,
     "metadata": {},
     "output_type": "execute_result"
    }
   ],
   "source": [
    "type(1 + 2)(3.323434)"
   ]
  },
  {
   "cell_type": "code",
   "execution_count": 5,
   "id": "3238f853",
   "metadata": {},
   "outputs": [
    {
     "data": {
      "text/plain": [
       "3"
      ]
     },
     "execution_count": 5,
     "metadata": {},
     "output_type": "execute_result"
    }
   ],
   "source": [
    "int(3.3433)"
   ]
  },
  {
   "cell_type": "code",
   "execution_count": 11,
   "id": "e0bd5bd6",
   "metadata": {},
   "outputs": [
    {
     "ename": "TypeError",
     "evalue": "type.__new__() argument 1 must be str, not int",
     "output_type": "error",
     "traceback": [
      "\u001b[0;31m---------------------------------------------------------------------------\u001b[0m",
      "\u001b[0;31mTypeError\u001b[0m                                 Traceback (most recent call last)",
      "Cell \u001b[0;32mIn[11], line 1\u001b[0m\n\u001b[0;32m----> 1\u001b[0m \u001b[38;5;28;43mtype\u001b[39;49m\u001b[43m(\u001b[49m\u001b[38;5;241;43m1\u001b[39;49m\u001b[38;5;241;43m+\u001b[39;49m\u001b[38;5;241;43m2\u001b[39;49m\u001b[43m,\u001b[49m\u001b[38;5;124;43m'\u001b[39;49m\u001b[38;5;124;43m1\u001b[39;49m\u001b[38;5;124;43m'\u001b[39;49m\u001b[43m,\u001b[49m\u001b[38;5;124;43m'\u001b[39;49m\u001b[38;5;124;43m1\u001b[39;49m\u001b[38;5;124;43m'\u001b[39;49m\u001b[43m)\u001b[49m\n",
      "\u001b[0;31mTypeError\u001b[0m: type.__new__() argument 1 must be str, not int"
     ]
    }
   ],
   "source": [
    "type(1+2,'1','1')"
   ]
  },
  {
   "cell_type": "code",
   "execution_count": 12,
   "id": "2f539887",
   "metadata": {},
   "outputs": [
    {
     "data": {
      "text/plain": [
       "type"
      ]
     },
     "execution_count": 12,
     "metadata": {},
     "output_type": "execute_result"
    }
   ],
   "source": [
    "type(type(1+3))"
   ]
  },
  {
   "cell_type": "code",
   "execution_count": 13,
   "id": "23099fea",
   "metadata": {},
   "outputs": [
    {
     "data": {
      "text/plain": [
       "type"
      ]
     },
     "execution_count": 13,
     "metadata": {},
     "output_type": "execute_result"
    }
   ],
   "source": [
    "type(int)"
   ]
  },
  {
   "cell_type": "code",
   "execution_count": null,
   "id": "f3cd5ed2",
   "metadata": {},
   "outputs": [],
   "source": []
  },
  {
   "cell_type": "code",
   "execution_count": 14,
   "id": "b2b97912",
   "metadata": {},
   "outputs": [],
   "source": [
    "test = range(10)"
   ]
  },
  {
   "cell_type": "code",
   "execution_count": 15,
   "id": "c519332a",
   "metadata": {},
   "outputs": [
    {
     "data": {
      "text/plain": [
       "['__bool__',\n",
       " '__class__',\n",
       " '__contains__',\n",
       " '__delattr__',\n",
       " '__dir__',\n",
       " '__doc__',\n",
       " '__eq__',\n",
       " '__format__',\n",
       " '__ge__',\n",
       " '__getattribute__',\n",
       " '__getitem__',\n",
       " '__gt__',\n",
       " '__hash__',\n",
       " '__init__',\n",
       " '__init_subclass__',\n",
       " '__iter__',\n",
       " '__le__',\n",
       " '__len__',\n",
       " '__lt__',\n",
       " '__ne__',\n",
       " '__new__',\n",
       " '__reduce__',\n",
       " '__reduce_ex__',\n",
       " '__repr__',\n",
       " '__reversed__',\n",
       " '__setattr__',\n",
       " '__sizeof__',\n",
       " '__str__',\n",
       " '__subclasshook__',\n",
       " 'count',\n",
       " 'index',\n",
       " 'start',\n",
       " 'step',\n",
       " 'stop']"
      ]
     },
     "execution_count": 15,
     "metadata": {},
     "output_type": "execute_result"
    }
   ],
   "source": [
    "dir(test)"
   ]
  },
  {
   "cell_type": "code",
   "execution_count": 16,
   "id": "a664f460",
   "metadata": {},
   "outputs": [
    {
     "data": {
      "text/plain": [
       "<method-wrapper '__iter__' of range object at 0x106cd7510>"
      ]
     },
     "execution_count": 16,
     "metadata": {},
     "output_type": "execute_result"
    }
   ],
   "source": [
    "test.__iter__"
   ]
  },
  {
   "cell_type": "code",
   "execution_count": 19,
   "id": "39a5e514",
   "metadata": {},
   "outputs": [],
   "source": [
    "test2 = test.__iter__()"
   ]
  },
  {
   "cell_type": "code",
   "execution_count": 20,
   "id": "aa9d9a40",
   "metadata": {},
   "outputs": [
    {
     "data": {
      "text/plain": [
       "['__class__',\n",
       " '__delattr__',\n",
       " '__dir__',\n",
       " '__doc__',\n",
       " '__eq__',\n",
       " '__format__',\n",
       " '__ge__',\n",
       " '__getattribute__',\n",
       " '__gt__',\n",
       " '__hash__',\n",
       " '__init__',\n",
       " '__init_subclass__',\n",
       " '__iter__',\n",
       " '__le__',\n",
       " '__length_hint__',\n",
       " '__lt__',\n",
       " '__ne__',\n",
       " '__new__',\n",
       " '__next__',\n",
       " '__reduce__',\n",
       " '__reduce_ex__',\n",
       " '__repr__',\n",
       " '__setattr__',\n",
       " '__setstate__',\n",
       " '__sizeof__',\n",
       " '__str__',\n",
       " '__subclasshook__']"
      ]
     },
     "execution_count": 20,
     "metadata": {},
     "output_type": "execute_result"
    }
   ],
   "source": [
    "dir(test2)"
   ]
  },
  {
   "cell_type": "code",
   "execution_count": 23,
   "id": "0c658df6",
   "metadata": {},
   "outputs": [
    {
     "data": {
      "text/plain": [
       "0"
      ]
     },
     "execution_count": 23,
     "metadata": {},
     "output_type": "execute_result"
    }
   ],
   "source": [
    "test2.__next__()"
   ]
  },
  {
   "cell_type": "code",
   "execution_count": 26,
   "id": "d8659def",
   "metadata": {},
   "outputs": [
    {
     "data": {
      "text/plain": [
       "2"
      ]
     },
     "execution_count": 26,
     "metadata": {},
     "output_type": "execute_result"
    }
   ],
   "source": [
    "test2.__next__()"
   ]
  },
  {
   "cell_type": "code",
   "execution_count": 30,
   "id": "a3817481",
   "metadata": {},
   "outputs": [],
   "source": [
    "test = \"aBcDe\""
   ]
  },
  {
   "cell_type": "code",
   "execution_count": 31,
   "id": "ebaddb0e",
   "metadata": {},
   "outputs": [
    {
     "data": {
      "text/plain": [
       "'aBcD'"
      ]
     },
     "execution_count": 31,
     "metadata": {},
     "output_type": "execute_result"
    }
   ],
   "source": [
    "test[:-1]"
   ]
  },
  {
   "cell_type": "code",
   "execution_count": null,
   "id": "6c7e5cfa",
   "metadata": {},
   "outputs": [],
   "source": []
  },
  {
   "cell_type": "code",
   "execution_count": null,
   "id": "e650664d",
   "metadata": {},
   "outputs": [],
   "source": []
  },
  {
   "cell_type": "code",
   "execution_count": 33,
   "id": "1e5f450c",
   "metadata": {},
   "outputs": [],
   "source": [
    "class Test:\n",
    "    price = 1000"
   ]
  },
  {
   "cell_type": "code",
   "execution_count": null,
   "id": "1fd77778",
   "metadata": {},
   "outputs": [],
   "source": []
  }
 ],
 "metadata": {
  "kernelspec": {
   "display_name": "Python 3 (ipykernel)",
   "language": "python",
   "name": "python3"
  },
  "language_info": {
   "codemirror_mode": {
    "name": "ipython",
    "version": 3
   },
   "file_extension": ".py",
   "mimetype": "text/x-python",
   "name": "python",
   "nbconvert_exporter": "python",
   "pygments_lexer": "ipython3",
   "version": "3.10.13"
  },
  "toc": {
   "base_numbering": 1,
   "nav_menu": {},
   "number_sections": true,
   "sideBar": true,
   "skip_h1_title": false,
   "title_cell": "Table of Contents",
   "title_sidebar": "Contents",
   "toc_cell": false,
   "toc_position": {},
   "toc_section_display": true,
   "toc_window_display": false
  }
 },
 "nbformat": 4,
 "nbformat_minor": 5
}
