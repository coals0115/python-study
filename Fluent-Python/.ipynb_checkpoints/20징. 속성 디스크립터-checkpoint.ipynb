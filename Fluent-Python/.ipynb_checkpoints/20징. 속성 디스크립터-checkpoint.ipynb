{
 "cells": [
  {
   "cell_type": "code",
   "execution_count": 36,
   "id": "a159cb2d",
   "metadata": {},
   "outputs": [],
   "source": [
    "class Quantity:  # <1>\n",
    "\n",
    "    def __init__(self, storage_name):\n",
    "        self.storage_name = storage_name  # <2>\n",
    "\n",
    "    def __set__(self, instance, value):  # <3>\n",
    "        if value > 0:\n",
    "            instance.__dict__[self.storage_name] = value  # <4>\n",
    "        else:\n",
    "            raise ValueError('value must be > 0')\n",
    "#     def __getattribute__(self, instance):\n",
    "    def __get__(self, instance, value):\n",
    "        print('getattribute')\n",
    "#         return 0\n",
    "        return self.__dict__[instance]"
   ]
  },
  {
   "cell_type": "code",
   "execution_count": 37,
   "id": "1d6b5750",
   "metadata": {},
   "outputs": [],
   "source": [
    "class LineItem:\n",
    "    weight = Quantity('weight')  # <5>\n",
    "    price = Quantity('price')  # <6>\n",
    "\n",
    "    def __init__(self, description, weight, price):  # <7>\n",
    "        self.description = description\n",
    "        self.weight = weight\n",
    "        self.price = price\n",
    "\n",
    "    def subtotal(self):\n",
    "        return self.weight * self.price"
   ]
  },
  {
   "cell_type": "code",
   "execution_count": 38,
   "id": "1967f519",
   "metadata": {},
   "outputs": [
    {
     "data": {
      "text/plain": [
       "['__class__',\n",
       " '__delattr__',\n",
       " '__dict__',\n",
       " '__dir__',\n",
       " '__doc__',\n",
       " '__eq__',\n",
       " '__format__',\n",
       " '__ge__',\n",
       " '__getattribute__',\n",
       " '__gt__',\n",
       " '__hash__',\n",
       " '__init__',\n",
       " '__init_subclass__',\n",
       " '__le__',\n",
       " '__lt__',\n",
       " '__module__',\n",
       " '__ne__',\n",
       " '__new__',\n",
       " '__reduce__',\n",
       " '__reduce_ex__',\n",
       " '__repr__',\n",
       " '__setattr__',\n",
       " '__sizeof__',\n",
       " '__str__',\n",
       " '__subclasshook__',\n",
       " '__weakref__',\n",
       " 'price',\n",
       " 'subtotal',\n",
       " 'weight']"
      ]
     },
     "execution_count": 38,
     "metadata": {},
     "output_type": "execute_result"
    }
   ],
   "source": [
    "dir(LineItem)"
   ]
  },
  {
   "cell_type": "code",
   "execution_count": 39,
   "id": "2683759e",
   "metadata": {},
   "outputs": [],
   "source": [
    "test = LineItem('White truffle', 100, 2)"
   ]
  },
  {
   "cell_type": "code",
   "execution_count": 40,
   "id": "a692d052",
   "metadata": {},
   "outputs": [
    {
     "name": "stdout",
     "output_type": "stream",
     "text": [
      "getattribute\n"
     ]
    },
    {
     "data": {
      "text/plain": [
       "0"
      ]
     },
     "execution_count": 40,
     "metadata": {},
     "output_type": "execute_result"
    }
   ],
   "source": [
    "test.price"
   ]
  },
  {
   "cell_type": "code",
   "execution_count": null,
   "id": "fac2a8f5",
   "metadata": {},
   "outputs": [],
   "source": []
  },
  {
   "cell_type": "code",
   "execution_count": null,
   "id": "b660614c",
   "metadata": {},
   "outputs": [],
   "source": []
  }
 ],
 "metadata": {
  "kernelspec": {
   "display_name": "Python 3 (ipykernel)",
   "language": "python",
   "name": "python3"
  },
  "language_info": {
   "codemirror_mode": {
    "name": "ipython",
    "version": 3
   },
   "file_extension": ".py",
   "mimetype": "text/x-python",
   "name": "python",
   "nbconvert_exporter": "python",
   "pygments_lexer": "ipython3",
   "version": "3.10.13"
  },
  "toc": {
   "base_numbering": 1,
   "nav_menu": {},
   "number_sections": true,
   "sideBar": true,
   "skip_h1_title": false,
   "title_cell": "Table of Contents",
   "title_sidebar": "Contents",
   "toc_cell": false,
   "toc_position": {},
   "toc_section_display": true,
   "toc_window_display": false
  }
 },
 "nbformat": 4,
 "nbformat_minor": 5
}
