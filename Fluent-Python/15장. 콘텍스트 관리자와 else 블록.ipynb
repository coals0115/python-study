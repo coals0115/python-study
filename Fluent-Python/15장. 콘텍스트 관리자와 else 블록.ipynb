{
 "cells": [
  {
   "cell_type": "markdown",
   "id": "71eb7237",
   "metadata": {},
   "source": [
    "# 1. 이것 다음에 저것: if 문 이외에서의 else 블록"
   ]
  },
  {
   "cell_type": "code",
   "execution_count": 26,
   "id": "98c01703",
   "metadata": {},
   "outputs": [],
   "source": [
    "class Item:\n",
    "    def __init__(self, flavor):\n",
    "        self.flavor = flavor\n",
    "\n",
    "# my_list 생성\n",
    "my_list = [\n",
    "    Item('apple'),\n",
    "    Item('orange'),\n",
    "#     Item('banana'),\n",
    "    Item('grape'),\n",
    "]"
   ]
  },
  {
   "cell_type": "code",
   "execution_count": 27,
   "id": "c2f0704f",
   "metadata": {},
   "outputs": [
    {
     "ename": "ValueError",
     "evalue": "No banana flavor found!",
     "output_type": "error",
     "traceback": [
      "\u001b[0;31m---------------------------------------------------------------------------\u001b[0m",
      "\u001b[0;31mValueError\u001b[0m                                Traceback (most recent call last)",
      "Cell \u001b[0;32mIn[27], line 5\u001b[0m\n\u001b[1;32m      3\u001b[0m         \u001b[38;5;28;01mbreak\u001b[39;00m\n\u001b[1;32m      4\u001b[0m \u001b[38;5;28;01melse\u001b[39;00m:\n\u001b[0;32m----> 5\u001b[0m     \u001b[38;5;28;01mraise\u001b[39;00m \u001b[38;5;167;01mValueError\u001b[39;00m(\u001b[38;5;124m'\u001b[39m\u001b[38;5;124mNo banana flavor found!\u001b[39m\u001b[38;5;124m'\u001b[39m)\n",
      "\u001b[0;31mValueError\u001b[0m: No banana flavor found!"
     ]
    }
   ],
   "source": [
    "for item in my_list:\n",
    "    if item.flavor == 'banana':\n",
    "        break\n",
    "else:\n",
    "    raise ValueError('No banana flavor found!')"
   ]
  },
  {
   "cell_type": "code",
   "execution_count": null,
   "id": "1c55f929",
   "metadata": {},
   "outputs": [],
   "source": []
  },
  {
   "cell_type": "markdown",
   "id": "63c927b5",
   "metadata": {},
   "source": [
    "# 2. 콘텍스트 관리자와 with 블록"
   ]
  },
  {
   "cell_type": "code",
   "execution_count": 29,
   "id": "c62f269f",
   "metadata": {},
   "outputs": [],
   "source": [
    "with open('/Users/coals0115/Downloads/test.txt') as fp:\n",
    "    src = fp.read(60)"
   ]
  },
  {
   "cell_type": "code",
   "execution_count": 30,
   "id": "3e8f0096",
   "metadata": {},
   "outputs": [
    {
     "data": {
      "text/plain": [
       "3"
      ]
     },
     "execution_count": 30,
     "metadata": {},
     "output_type": "execute_result"
    }
   ],
   "source": [
    "len(src)"
   ]
  },
  {
   "cell_type": "code",
   "execution_count": 31,
   "id": "834eb37f",
   "metadata": {},
   "outputs": [
    {
     "data": {
      "text/plain": [
       "<_io.TextIOWrapper name='/Users/coals0115/Downloads/test.txt' mode='r' encoding='UTF-8'>"
      ]
     },
     "execution_count": 31,
     "metadata": {},
     "output_type": "execute_result"
    }
   ],
   "source": [
    "fp"
   ]
  },
  {
   "cell_type": "code",
   "execution_count": 32,
   "id": "43e7d84e",
   "metadata": {},
   "outputs": [
    {
     "ename": "ValueError",
     "evalue": "I/O operation on closed file.",
     "output_type": "error",
     "traceback": [
      "\u001b[0;31m---------------------------------------------------------------------------\u001b[0m",
      "\u001b[0;31mValueError\u001b[0m                                Traceback (most recent call last)",
      "Cell \u001b[0;32mIn[32], line 1\u001b[0m\n\u001b[0;32m----> 1\u001b[0m \u001b[43mfp\u001b[49m\u001b[38;5;241;43m.\u001b[39;49m\u001b[43mread\u001b[49m\u001b[43m(\u001b[49m\u001b[38;5;241;43m60\u001b[39;49m\u001b[43m)\u001b[49m\n",
      "\u001b[0;31mValueError\u001b[0m: I/O operation on closed file."
     ]
    }
   ],
   "source": [
    "fp.read(60)"
   ]
  },
  {
   "cell_type": "code",
   "execution_count": 33,
   "id": "3f0b1d9a",
   "metadata": {},
   "outputs": [
    {
     "data": {
      "text/plain": [
       "True"
      ]
     },
     "execution_count": 33,
     "metadata": {},
     "output_type": "execute_result"
    }
   ],
   "source": [
    "fp.closed"
   ]
  },
  {
   "cell_type": "code",
   "execution_count": 34,
   "id": "a84746fd",
   "metadata": {},
   "outputs": [
    {
     "data": {
      "text/plain": [
       "'UTF-8'"
      ]
     },
     "execution_count": 34,
     "metadata": {},
     "output_type": "execute_result"
    }
   ],
   "source": [
    "fp.encoding"
   ]
  },
  {
   "cell_type": "code",
   "execution_count": null,
   "id": "5c617448",
   "metadata": {},
   "outputs": [],
   "source": []
  },
  {
   "cell_type": "code",
   "execution_count": 35,
   "id": "332bd185",
   "metadata": {},
   "outputs": [],
   "source": [
    "class LookingGlass:\n",
    "\n",
    "    def __enter__(self):  # <1>\n",
    "        import sys\n",
    "        self.original_write = sys.stdout.write  # <2>\n",
    "        sys.stdout.write = self.reverse_write  # <3>\n",
    "        return 'JABBERWOCKY'  # <4>\n",
    "\n",
    "    def reverse_write(self, text):  # <5>\n",
    "        self.original_write(text[::-1])\n",
    "\n",
    "    def __exit__(self, exc_type, exc_value, traceback):  # <6>\n",
    "        import sys  # <7>\n",
    "        sys.stdout.write = self.original_write  # <8>\n",
    "        if exc_type is ZeroDivisionError:  # <9>\n",
    "            print('Please DO NOT divide by zero!')\n",
    "            return True  # <10>\n",
    "        # <11>"
   ]
  },
  {
   "cell_type": "code",
   "execution_count": 36,
   "id": "55ad58ee",
   "metadata": {},
   "outputs": [
    {
     "name": "stdout",
     "output_type": "stream",
     "text": [
      "pordwonS dna yttik ,ecilA\n"
     ]
    }
   ],
   "source": [
    "with LookingGlass() as what:\n",
    "    print('Alice, kitty and Snowdrop')"
   ]
  },
  {
   "cell_type": "code",
   "execution_count": 37,
   "id": "fdc4dfa7",
   "metadata": {},
   "outputs": [
    {
     "name": "stdout",
     "output_type": "stream",
     "text": [
      "JABBERWOCKY\n"
     ]
    }
   ],
   "source": [
    "print(what)"
   ]
  },
  {
   "cell_type": "code",
   "execution_count": null,
   "id": "608af908",
   "metadata": {},
   "outputs": [],
   "source": []
  },
  {
   "cell_type": "code",
   "execution_count": 38,
   "id": "aeb6db96",
   "metadata": {},
   "outputs": [],
   "source": [
    "manager = LookingGlass()"
   ]
  },
  {
   "cell_type": "code",
   "execution_count": 39,
   "id": "c744172c",
   "metadata": {},
   "outputs": [
    {
     "data": {
      "text/plain": [
       "<__main__.LookingGlass at 0x1098ea8c0>"
      ]
     },
     "execution_count": 39,
     "metadata": {},
     "output_type": "execute_result"
    }
   ],
   "source": [
    "manager"
   ]
  },
  {
   "cell_type": "code",
   "execution_count": 40,
   "id": "93edc55e",
   "metadata": {},
   "outputs": [],
   "source": [
    "monster = manager.__enter__()"
   ]
  },
  {
   "cell_type": "code",
   "execution_count": 41,
   "id": "491df72e",
   "metadata": {},
   "outputs": [
    {
     "data": {
      "text/plain": [
       "True"
      ]
     },
     "execution_count": 41,
     "metadata": {},
     "output_type": "execute_result"
    }
   ],
   "source": [
    "monster == 'JABBERWOCKY'"
   ]
  },
  {
   "cell_type": "code",
   "execution_count": 42,
   "id": "abc7fdee",
   "metadata": {},
   "outputs": [
    {
     "data": {
      "text/plain": [
       "'JABBERWOCKY'"
      ]
     },
     "execution_count": 42,
     "metadata": {},
     "output_type": "execute_result"
    }
   ],
   "source": [
    "monster"
   ]
  },
  {
   "cell_type": "code",
   "execution_count": null,
   "id": "3a85d176",
   "metadata": {},
   "outputs": [],
   "source": []
  },
  {
   "cell_type": "markdown",
   "id": "2d9a88fb",
   "metadata": {},
   "source": [
    "# 3. contextlib 유틸리티"
   ]
  },
  {
   "cell_type": "code",
   "execution_count": 43,
   "id": "3f6c9fba",
   "metadata": {},
   "outputs": [],
   "source": [
    "import contextlib"
   ]
  },
  {
   "cell_type": "code",
   "execution_count": 44,
   "id": "9d14bf5b",
   "metadata": {
    "scrolled": true
   },
   "outputs": [
    {
     "data": {
      "text/plain": [
       "['AbstractAsyncContextManager',\n",
       " 'AbstractContextManager',\n",
       " 'AsyncContextDecorator',\n",
       " 'AsyncExitStack',\n",
       " 'ContextDecorator',\n",
       " 'ExitStack',\n",
       " 'GenericAlias',\n",
       " 'MethodType',\n",
       " '_AsyncGeneratorContextManager',\n",
       " '_BaseExitStack',\n",
       " '_GeneratorContextManager',\n",
       " '_GeneratorContextManagerBase',\n",
       " '_RedirectStream',\n",
       " '__all__',\n",
       " '__builtins__',\n",
       " '__cached__',\n",
       " '__doc__',\n",
       " '__file__',\n",
       " '__loader__',\n",
       " '__name__',\n",
       " '__package__',\n",
       " '__spec__',\n",
       " '_collections_abc',\n",
       " 'abc',\n",
       " 'aclosing',\n",
       " 'asynccontextmanager',\n",
       " 'closing',\n",
       " 'contextmanager',\n",
       " 'deque',\n",
       " 'nullcontext',\n",
       " 'redirect_stderr',\n",
       " 'redirect_stdout',\n",
       " 'suppress',\n",
       " 'sys',\n",
       " 'wraps']"
      ]
     },
     "execution_count": 44,
     "metadata": {},
     "output_type": "execute_result"
    }
   ],
   "source": [
    "dir(contextlib)"
   ]
  },
  {
   "cell_type": "code",
   "execution_count": null,
   "id": "ff4a1797",
   "metadata": {},
   "outputs": [],
   "source": []
  },
  {
   "cell_type": "markdown",
   "id": "7a427987",
   "metadata": {},
   "source": [
    "# 4. @contextmanager 사용하기"
   ]
  },
  {
   "cell_type": "code",
   "execution_count": 52,
   "id": "bd0d6186",
   "metadata": {},
   "outputs": [],
   "source": [
    "class LookingGlass_bak:\n",
    "\n",
    "    def __enter__(self):  # <1>\n",
    "        import sys\n",
    "        self.original_write = sys.stdout.write  # <2>\n",
    "        sys.stdout.write = self.reverse_write  # <3>\n",
    "        return 'JABBERWOCKY'  # <4>\n",
    "\n",
    "    def reverse_write(self, text):  # <5>\n",
    "        self.original_write(text[::-1])\n",
    "\n",
    "    def __exit__(self, exc_type, exc_value, traceback):  # <6>\n",
    "        import sys  # <7>\n",
    "        sys.stdout.write = self.original_write  # <8>\n",
    "        if exc_type is ZeroDivisionError:  # <9>\n",
    "            print('Please DO NOT divide by zero!')\n",
    "            return True  # <10>\n",
    "        # <11>"
   ]
  },
  {
   "cell_type": "code",
   "execution_count": 53,
   "id": "a4c2108f",
   "metadata": {},
   "outputs": [],
   "source": [
    "import contextlib\n",
    "\n",
    "\n",
    "@contextlib.contextmanager  # <1>\n",
    "def looking_glass():\n",
    "    import sys\n",
    "    original_write = sys.stdout.write  # <2>\n",
    "\n",
    "    def reverse_write(text):  # <3>\n",
    "        original_write(text[::-1])\n",
    "\n",
    "    sys.stdout.write = reverse_write  # <4>\n",
    "    yield 'JABBERWOCKY'  # <5>\n",
    "    sys.stdout.write = original_write  # <6>"
   ]
  },
  {
   "cell_type": "code",
   "execution_count": null,
   "id": "a7f17590",
   "metadata": {},
   "outputs": [],
   "source": []
  },
  {
   "cell_type": "code",
   "execution_count": 54,
   "id": "01d4ac81",
   "metadata": {},
   "outputs": [
    {
     "name": "stdout",
     "output_type": "stream",
     "text": [
      "Alice, Kitty and Snowdrop\n",
      "JABBERWOCKY\n"
     ]
    }
   ],
   "source": [
    "with looking_glass() as what:\n",
    "    print('Alice, Kitty and Snowdrop')\n",
    "    print(what)"
   ]
  },
  {
   "cell_type": "code",
   "execution_count": 51,
   "id": "915c2f3d",
   "metadata": {},
   "outputs": [
    {
     "data": {
      "text/plain": [
       "'JABBERWOCKY'"
      ]
     },
     "execution_count": 51,
     "metadata": {},
     "output_type": "execute_result"
    }
   ],
   "source": [
    " what"
   ]
  },
  {
   "cell_type": "code",
   "execution_count": null,
   "id": "3c217336",
   "metadata": {},
   "outputs": [],
   "source": []
  },
  {
   "cell_type": "code",
   "execution_count": 55,
   "id": "8b988986",
   "metadata": {},
   "outputs": [],
   "source": [
    "import contextlib\n",
    "\n",
    "\n",
    "@contextlib.contextmanager\n",
    "def looking_glass():\n",
    "    import sys\n",
    "    original_write = sys.stdout.write\n",
    "\n",
    "    def reverse_write(text):\n",
    "        original_write(text[::-1])\n",
    "\n",
    "    sys.stdout.write = reverse_write\n",
    "    msg = ''  # <1>\n",
    "    try:\n",
    "        yield 'JABBERWOCKY'\n",
    "    except ZeroDivisionError:  # <2>\n",
    "        msg = 'Please DO NOT divide by zero!'\n",
    "    finally:\n",
    "        sys.stdout.write = original_write  # <3>\n",
    "        if msg:\n",
    "            print(msg)  # <4>"
   ]
  },
  {
   "cell_type": "code",
   "execution_count": null,
   "id": "ce079528",
   "metadata": {},
   "outputs": [],
   "source": []
  },
  {
   "cell_type": "code",
   "execution_count": null,
   "id": "60eed9aa",
   "metadata": {},
   "outputs": [],
   "source": []
  }
 ],
 "metadata": {
  "kernelspec": {
   "display_name": "Python 3 (ipykernel)",
   "language": "python",
   "name": "python3"
  },
  "language_info": {
   "codemirror_mode": {
    "name": "ipython",
    "version": 3
   },
   "file_extension": ".py",
   "mimetype": "text/x-python",
   "name": "python",
   "nbconvert_exporter": "python",
   "pygments_lexer": "ipython3",
   "version": "3.10.13"
  },
  "toc": {
   "base_numbering": 1,
   "nav_menu": {},
   "number_sections": true,
   "sideBar": true,
   "skip_h1_title": false,
   "title_cell": "Table of Contents",
   "title_sidebar": "Contents",
   "toc_cell": false,
   "toc_position": {},
   "toc_section_display": true,
   "toc_window_display": false
  }
 },
 "nbformat": 4,
 "nbformat_minor": 5
}
